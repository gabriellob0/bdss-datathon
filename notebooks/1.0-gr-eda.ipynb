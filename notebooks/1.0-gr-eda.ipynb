{
 "cells": [
  {
   "cell_type": "code",
   "execution_count": 1,
   "metadata": {},
   "outputs": [],
   "source": [
    "import numpy as np\n",
    "import polars as pl\n",
    "import matplotlib.pyplot as plt\n",
    "import seaborn as sns"
   ]
  },
  {
   "cell_type": "code",
   "execution_count": 2,
   "metadata": {},
   "outputs": [],
   "source": [
    "data_1 = pl.read_csv(\"/Users/govindniravrao/Documents/Coding/bdss-datathon/data/raw/train_data_1.csv\")\n",
    "data_2 = pl.read_csv(\"/Users/govindniravrao/Documents/Coding/bdss-datathon/data/raw/train_data_2.csv\")\n",
    "data_3 = pl.read_csv(\"/Users/govindniravrao/Documents/Coding/bdss-datathon/data/raw/train_data_3.csv\")\n",
    "data_4 = pl.read_csv(\"/Users/govindniravrao/Documents/Coding/bdss-datathon/data/raw/train_data_4.csv\")\n",
    "data_5 = pl.read_csv(\"/Users/govindniravrao/Documents/Coding/bdss-datathon/data/raw/train_data_5.csv\")\n",
    "data_6 = pl.read_csv(\"/Users/govindniravrao/Documents/Coding/bdss-datathon/data/raw/train_data_6.csv\")\n",
    "data_7 = pl.read_csv(\"/Users/govindniravrao/Documents/Coding/bdss-datathon/data/raw/train_data_7.csv\")\n",
    "data_8 = pl.read_csv(\"/Users/govindniravrao/Documents/Coding/bdss-datathon/data/raw/train_data_8.csv\")\n",
    "data_9 = pl.read_csv(\"/Users/govindniravrao/Documents/Coding/bdss-datathon/data/raw/train_data_9.csv\")\n",
    "data_10 = pl.read_csv(\"/Users/govindniravrao/Documents/Coding/bdss-datathon/data/raw/train_data_10.csv\")"
   ]
  },
  {
   "cell_type": "code",
   "execution_count": 3,
   "metadata": {},
   "outputs": [],
   "source": [
    "combined_indep = pl.concat([data_1, data_2, data_3, data_4, data_5, data_6, data_7, data_8, data_9, data_10], how=\"vertical\")"
   ]
  },
  {
   "cell_type": "code",
   "execution_count": 4,
   "metadata": {},
   "outputs": [],
   "source": [
    "dep = pl.read_csv(\"/Users/govindniravrao/Documents/Coding/bdss-datathon/data/raw/train_target.csv\")"
   ]
  },
  {
   "cell_type": "code",
   "execution_count": 5,
   "metadata": {},
   "outputs": [
    {
     "data": {
      "text/html": [
       "<div><style>\n",
       ".dataframe > thead > tr,\n",
       ".dataframe > tbody > tr {\n",
       "  text-align: right;\n",
       "  white-space: pre-wrap;\n",
       "}\n",
       "</style>\n",
       "<small>shape: (5, 61)</small><table border=\"1\" class=\"dataframe\"><thead><tr><th>id</th><th>rn</th><th>pre_since_opened</th><th>pre_since_confirmed</th><th>pre_pterm</th><th>pre_fterm</th><th>pre_till_pclose</th><th>pre_till_fclose</th><th>pre_loans_credit_limit</th><th>pre_loans_next_pay_summ</th><th>pre_loans_outstanding</th><th>pre_loans_total_overdue</th><th>pre_loans_max_overdue_sum</th><th>pre_loans_credit_cost_rate</th><th>pre_loans5</th><th>pre_loans530</th><th>pre_loans3060</th><th>pre_loans6090</th><th>pre_loans90</th><th>is_zero_loans5</th><th>is_zero_loans530</th><th>is_zero_loans3060</th><th>is_zero_loans6090</th><th>is_zero_loans90</th><th>pre_util</th><th>pre_over2limit</th><th>pre_maxover2limit</th><th>is_zero_util</th><th>is_zero_over2limit</th><th>is_zero_maxover2limit</th><th>enc_paym_0</th><th>enc_paym_1</th><th>enc_paym_2</th><th>enc_paym_3</th><th>enc_paym_4</th><th>enc_paym_5</th><th>enc_paym_6</th><th>enc_paym_7</th><th>enc_paym_8</th><th>enc_paym_9</th><th>enc_paym_10</th><th>enc_paym_11</th><th>enc_paym_12</th><th>enc_paym_13</th><th>enc_paym_14</th><th>enc_paym_15</th><th>enc_paym_16</th><th>enc_paym_17</th><th>enc_paym_18</th><th>enc_paym_19</th><th>enc_paym_20</th><th>enc_paym_21</th><th>enc_paym_22</th><th>enc_paym_23</th><th>enc_paym_24</th><th>enc_loans_account_holder_type</th><th>enc_loans_credit_status</th><th>enc_loans_credit_type</th><th>enc_loans_account_cur</th><th>pclose_flag</th><th>fclose_flag</th></tr><tr><td>i64</td><td>i64</td><td>i64</td><td>i64</td><td>i64</td><td>i64</td><td>i64</td><td>i64</td><td>i64</td><td>i64</td><td>i64</td><td>i64</td><td>i64</td><td>i64</td><td>i64</td><td>i64</td><td>i64</td><td>i64</td><td>i64</td><td>i64</td><td>i64</td><td>i64</td><td>i64</td><td>i64</td><td>i64</td><td>i64</td><td>i64</td><td>i64</td><td>i64</td><td>i64</td><td>i64</td><td>i64</td><td>i64</td><td>i64</td><td>i64</td><td>i64</td><td>i64</td><td>i64</td><td>i64</td><td>i64</td><td>i64</td><td>i64</td><td>i64</td><td>i64</td><td>i64</td><td>i64</td><td>i64</td><td>i64</td><td>i64</td><td>i64</td><td>i64</td><td>i64</td><td>i64</td><td>i64</td><td>i64</td><td>i64</td><td>i64</td><td>i64</td><td>i64</td><td>i64</td><td>i64</td></tr></thead><tbody><tr><td>250000</td><td>1</td><td>8</td><td>7</td><td>7</td><td>2</td><td>4</td><td>9</td><td>5</td><td>2</td><td>3</td><td>0</td><td>3</td><td>4</td><td>6</td><td>16</td><td>5</td><td>4</td><td>8</td><td>1</td><td>0</td><td>1</td><td>0</td><td>0</td><td>16</td><td>2</td><td>8</td><td>1</td><td>1</td><td>0</td><td>3</td><td>3</td><td>3</td><td>2</td><td>1</td><td>1</td><td>0</td><td>0</td><td>0</td><td>3</td><td>3</td><td>4</td><td>3</td><td>3</td><td>3</td><td>3</td><td>3</td><td>3</td><td>3</td><td>3</td><td>4</td><td>3</td><td>3</td><td>3</td><td>4</td><td>1</td><td>3</td><td>4</td><td>1</td><td>0</td><td>0</td></tr><tr><td>250000</td><td>2</td><td>14</td><td>8</td><td>12</td><td>10</td><td>6</td><td>3</td><td>12</td><td>6</td><td>3</td><td>0</td><td>2</td><td>4</td><td>6</td><td>16</td><td>5</td><td>4</td><td>8</td><td>1</td><td>1</td><td>0</td><td>0</td><td>1</td><td>16</td><td>2</td><td>17</td><td>1</td><td>1</td><td>1</td><td>3</td><td>2</td><td>0</td><td>0</td><td>0</td><td>0</td><td>0</td><td>0</td><td>0</td><td>0</td><td>0</td><td>1</td><td>0</td><td>0</td><td>0</td><td>0</td><td>0</td><td>0</td><td>0</td><td>3</td><td>4</td><td>3</td><td>3</td><td>3</td><td>4</td><td>1</td><td>3</td><td>4</td><td>1</td><td>0</td><td>0</td></tr><tr><td>250000</td><td>3</td><td>10</td><td>4</td><td>8</td><td>11</td><td>6</td><td>13</td><td>5</td><td>2</td><td>3</td><td>0</td><td>2</td><td>4</td><td>6</td><td>16</td><td>5</td><td>4</td><td>8</td><td>1</td><td>0</td><td>0</td><td>1</td><td>1</td><td>16</td><td>2</td><td>17</td><td>1</td><td>1</td><td>1</td><td>0</td><td>2</td><td>1</td><td>0</td><td>0</td><td>0</td><td>3</td><td>3</td><td>3</td><td>3</td><td>3</td><td>4</td><td>3</td><td>3</td><td>3</td><td>3</td><td>3</td><td>3</td><td>3</td><td>3</td><td>4</td><td>3</td><td>3</td><td>3</td><td>4</td><td>1</td><td>3</td><td>4</td><td>1</td><td>0</td><td>0</td></tr><tr><td>250000</td><td>4</td><td>13</td><td>12</td><td>8</td><td>6</td><td>13</td><td>5</td><td>12</td><td>2</td><td>3</td><td>0</td><td>2</td><td>10</td><td>6</td><td>16</td><td>5</td><td>4</td><td>8</td><td>1</td><td>0</td><td>0</td><td>0</td><td>0</td><td>16</td><td>2</td><td>17</td><td>1</td><td>1</td><td>1</td><td>0</td><td>3</td><td>3</td><td>3</td><td>3</td><td>3</td><td>3</td><td>3</td><td>3</td><td>3</td><td>3</td><td>4</td><td>3</td><td>3</td><td>3</td><td>3</td><td>3</td><td>3</td><td>3</td><td>3</td><td>4</td><td>3</td><td>3</td><td>3</td><td>4</td><td>1</td><td>3</td><td>4</td><td>1</td><td>0</td><td>0</td></tr><tr><td>250000</td><td>5</td><td>6</td><td>12</td><td>4</td><td>14</td><td>1</td><td>7</td><td>4</td><td>2</td><td>3</td><td>0</td><td>2</td><td>4</td><td>6</td><td>16</td><td>5</td><td>4</td><td>8</td><td>1</td><td>1</td><td>1</td><td>1</td><td>0</td><td>9</td><td>5</td><td>4</td><td>0</td><td>0</td><td>0</td><td>0</td><td>3</td><td>3</td><td>3</td><td>3</td><td>3</td><td>3</td><td>3</td><td>3</td><td>3</td><td>3</td><td>4</td><td>3</td><td>3</td><td>3</td><td>3</td><td>3</td><td>3</td><td>3</td><td>3</td><td>4</td><td>3</td><td>3</td><td>3</td><td>4</td><td>1</td><td>3</td><td>1</td><td>1</td><td>1</td><td>0</td></tr></tbody></table></div>"
      ],
      "text/plain": [
       "shape: (5, 61)\n",
       "┌────────┬─────┬─────────────┬─────────────┬───┬────────────┬────────────┬────────────┬────────────┐\n",
       "│ id     ┆ rn  ┆ pre_since_o ┆ pre_since_c ┆ … ┆ enc_loans_ ┆ enc_loans_ ┆ pclose_fla ┆ fclose_fla │\n",
       "│ ---    ┆ --- ┆ pened       ┆ onfirmed    ┆   ┆ credit_typ ┆ account_cu ┆ g          ┆ g          │\n",
       "│ i64    ┆ i64 ┆ ---         ┆ ---         ┆   ┆ e          ┆ r          ┆ ---        ┆ ---        │\n",
       "│        ┆     ┆ i64         ┆ i64         ┆   ┆ ---        ┆ ---        ┆ i64        ┆ i64        │\n",
       "│        ┆     ┆             ┆             ┆   ┆ i64        ┆ i64        ┆            ┆            │\n",
       "╞════════╪═════╪═════════════╪═════════════╪═══╪════════════╪════════════╪════════════╪════════════╡\n",
       "│ 250000 ┆ 1   ┆ 8           ┆ 7           ┆ … ┆ 4          ┆ 1          ┆ 0          ┆ 0          │\n",
       "│ 250000 ┆ 2   ┆ 14          ┆ 8           ┆ … ┆ 4          ┆ 1          ┆ 0          ┆ 0          │\n",
       "│ 250000 ┆ 3   ┆ 10          ┆ 4           ┆ … ┆ 4          ┆ 1          ┆ 0          ┆ 0          │\n",
       "│ 250000 ┆ 4   ┆ 13          ┆ 12          ┆ … ┆ 4          ┆ 1          ┆ 0          ┆ 0          │\n",
       "│ 250000 ┆ 5   ┆ 6           ┆ 12          ┆ … ┆ 1          ┆ 1          ┆ 1          ┆ 0          │\n",
       "└────────┴─────┴─────────────┴─────────────┴───┴────────────┴────────────┴────────────┴────────────┘"
      ]
     },
     "execution_count": 5,
     "metadata": {},
     "output_type": "execute_result"
    }
   ],
   "source": [
    "combined_indep.head()"
   ]
  },
  {
   "cell_type": "code",
   "execution_count": 33,
   "metadata": {},
   "outputs": [
    {
     "data": {
      "text/plain": [
       "['id',\n",
       " 'rn',\n",
       " 'pre_since_opened',\n",
       " 'pre_since_confirmed',\n",
       " 'pre_pterm',\n",
       " 'pre_fterm',\n",
       " 'pre_till_pclose',\n",
       " 'pre_till_fclose',\n",
       " 'pre_loans_credit_limit',\n",
       " 'pre_loans_next_pay_summ',\n",
       " 'pre_loans_outstanding',\n",
       " 'pre_loans_total_overdue',\n",
       " 'pre_loans_max_overdue_sum',\n",
       " 'pre_loans_credit_cost_rate',\n",
       " 'pre_loans5',\n",
       " 'pre_loans530',\n",
       " 'pre_loans3060',\n",
       " 'pre_loans6090',\n",
       " 'pre_loans90',\n",
       " 'is_zero_loans5',\n",
       " 'is_zero_loans530',\n",
       " 'is_zero_loans3060',\n",
       " 'is_zero_loans6090',\n",
       " 'is_zero_loans90',\n",
       " 'pre_util',\n",
       " 'pre_over2limit',\n",
       " 'pre_maxover2limit',\n",
       " 'is_zero_util',\n",
       " 'is_zero_over2limit',\n",
       " 'is_zero_maxover2limit',\n",
       " 'enc_paym_0',\n",
       " 'enc_paym_1',\n",
       " 'enc_paym_2',\n",
       " 'enc_paym_3',\n",
       " 'enc_paym_4',\n",
       " 'enc_paym_5',\n",
       " 'enc_paym_6',\n",
       " 'enc_paym_7',\n",
       " 'enc_paym_8',\n",
       " 'enc_paym_9',\n",
       " 'enc_paym_10',\n",
       " 'enc_paym_11',\n",
       " 'enc_paym_12',\n",
       " 'enc_paym_13',\n",
       " 'enc_paym_14',\n",
       " 'enc_paym_15',\n",
       " 'enc_paym_16',\n",
       " 'enc_paym_17',\n",
       " 'enc_paym_18',\n",
       " 'enc_paym_19',\n",
       " 'enc_paym_20',\n",
       " 'enc_paym_21',\n",
       " 'enc_paym_22',\n",
       " 'enc_paym_23',\n",
       " 'enc_paym_24',\n",
       " 'enc_loans_account_holder_type',\n",
       " 'enc_loans_credit_status',\n",
       " 'enc_loans_credit_type',\n",
       " 'enc_loans_account_cur',\n",
       " 'pclose_flag',\n",
       " 'fclose_flag']"
      ]
     },
     "execution_count": 33,
     "metadata": {},
     "output_type": "execute_result"
    }
   ],
   "source": [
    "combined_indep.columns"
   ]
  },
  {
   "cell_type": "code",
   "execution_count": 34,
   "metadata": {},
   "outputs": [
    {
     "data": {
      "text/plain": [
       "(21737363, 61)"
      ]
     },
     "execution_count": 34,
     "metadata": {},
     "output_type": "execute_result"
    }
   ],
   "source": [
    "combined_indep.shape   # Get the number of rows and columns"
   ]
  },
  {
   "cell_type": "code",
   "execution_count": 35,
   "metadata": {},
   "outputs": [
    {
     "data": {
      "text/plain": [
       "(2750000, 2)"
      ]
     },
     "execution_count": 35,
     "metadata": {},
     "output_type": "execute_result"
    }
   ],
   "source": [
    "dep.shape   # Get the number of rows and columns"
   ]
  },
  {
   "cell_type": "code",
   "execution_count": 37,
   "metadata": {},
   "outputs": [
    {
     "data": {
      "text/html": [
       "<div><style>\n",
       ".dataframe > thead > tr,\n",
       ".dataframe > tbody > tr {\n",
       "  text-align: right;\n",
       "  white-space: pre-wrap;\n",
       "}\n",
       "</style>\n",
       "<small>shape: (9, 62)</small><table border=\"1\" class=\"dataframe\"><thead><tr><th>statistic</th><th>id</th><th>rn</th><th>pre_since_opened</th><th>pre_since_confirmed</th><th>pre_pterm</th><th>pre_fterm</th><th>pre_till_pclose</th><th>pre_till_fclose</th><th>pre_loans_credit_limit</th><th>pre_loans_next_pay_summ</th><th>pre_loans_outstanding</th><th>pre_loans_total_overdue</th><th>pre_loans_max_overdue_sum</th><th>pre_loans_credit_cost_rate</th><th>pre_loans5</th><th>pre_loans530</th><th>pre_loans3060</th><th>pre_loans6090</th><th>pre_loans90</th><th>is_zero_loans5</th><th>is_zero_loans530</th><th>is_zero_loans3060</th><th>is_zero_loans6090</th><th>is_zero_loans90</th><th>pre_util</th><th>pre_over2limit</th><th>pre_maxover2limit</th><th>is_zero_util</th><th>is_zero_over2limit</th><th>is_zero_maxover2limit</th><th>enc_paym_0</th><th>enc_paym_1</th><th>enc_paym_2</th><th>enc_paym_3</th><th>enc_paym_4</th><th>enc_paym_5</th><th>enc_paym_6</th><th>enc_paym_7</th><th>enc_paym_8</th><th>enc_paym_9</th><th>enc_paym_10</th><th>enc_paym_11</th><th>enc_paym_12</th><th>enc_paym_13</th><th>enc_paym_14</th><th>enc_paym_15</th><th>enc_paym_16</th><th>enc_paym_17</th><th>enc_paym_18</th><th>enc_paym_19</th><th>enc_paym_20</th><th>enc_paym_21</th><th>enc_paym_22</th><th>enc_paym_23</th><th>enc_paym_24</th><th>enc_loans_account_holder_type</th><th>enc_loans_credit_status</th><th>enc_loans_credit_type</th><th>enc_loans_account_cur</th><th>pclose_flag</th><th>fclose_flag</th></tr><tr><td>str</td><td>f64</td><td>f64</td><td>f64</td><td>f64</td><td>f64</td><td>f64</td><td>f64</td><td>f64</td><td>f64</td><td>f64</td><td>f64</td><td>f64</td><td>f64</td><td>f64</td><td>f64</td><td>f64</td><td>f64</td><td>f64</td><td>f64</td><td>f64</td><td>f64</td><td>f64</td><td>f64</td><td>f64</td><td>f64</td><td>f64</td><td>f64</td><td>f64</td><td>f64</td><td>f64</td><td>f64</td><td>f64</td><td>f64</td><td>f64</td><td>f64</td><td>f64</td><td>f64</td><td>f64</td><td>f64</td><td>f64</td><td>f64</td><td>f64</td><td>f64</td><td>f64</td><td>f64</td><td>f64</td><td>f64</td><td>f64</td><td>f64</td><td>f64</td><td>f64</td><td>f64</td><td>f64</td><td>f64</td><td>f64</td><td>f64</td><td>f64</td><td>f64</td><td>f64</td><td>f64</td><td>f64</td></tr></thead><tbody><tr><td>&quot;count&quot;</td><td>2.1737363e7</td><td>2.1737363e7</td><td>2.1737363e7</td><td>2.1737363e7</td><td>2.1737363e7</td><td>2.1737363e7</td><td>2.1737363e7</td><td>2.1737363e7</td><td>2.1737363e7</td><td>2.1737363e7</td><td>2.1737363e7</td><td>2.1737363e7</td><td>2.1737363e7</td><td>2.1737363e7</td><td>2.1737363e7</td><td>2.1737363e7</td><td>2.1737363e7</td><td>2.1737363e7</td><td>2.1737363e7</td><td>2.1737363e7</td><td>2.1737363e7</td><td>2.1737363e7</td><td>2.1737363e7</td><td>2.1737363e7</td><td>2.1737363e7</td><td>2.1737363e7</td><td>2.1737363e7</td><td>2.1737363e7</td><td>2.1737363e7</td><td>2.1737363e7</td><td>2.1737363e7</td><td>2.1737363e7</td><td>2.1737363e7</td><td>2.1737363e7</td><td>2.1737363e7</td><td>2.1737363e7</td><td>2.1737363e7</td><td>2.1737363e7</td><td>2.1737363e7</td><td>2.1737363e7</td><td>2.1737363e7</td><td>2.1737363e7</td><td>2.1737363e7</td><td>2.1737363e7</td><td>2.1737363e7</td><td>2.1737363e7</td><td>2.1737363e7</td><td>2.1737363e7</td><td>2.1737363e7</td><td>2.1737363e7</td><td>2.1737363e7</td><td>2.1737363e7</td><td>2.1737363e7</td><td>2.1737363e7</td><td>2.1737363e7</td><td>2.1737363e7</td><td>2.1737363e7</td><td>2.1737363e7</td><td>2.1737363e7</td><td>2.1737363e7</td><td>2.1737363e7</td></tr><tr><td>&quot;null_count&quot;</td><td>0.0</td><td>0.0</td><td>0.0</td><td>0.0</td><td>0.0</td><td>0.0</td><td>0.0</td><td>0.0</td><td>0.0</td><td>0.0</td><td>0.0</td><td>0.0</td><td>0.0</td><td>0.0</td><td>0.0</td><td>0.0</td><td>0.0</td><td>0.0</td><td>0.0</td><td>0.0</td><td>0.0</td><td>0.0</td><td>0.0</td><td>0.0</td><td>0.0</td><td>0.0</td><td>0.0</td><td>0.0</td><td>0.0</td><td>0.0</td><td>0.0</td><td>0.0</td><td>0.0</td><td>0.0</td><td>0.0</td><td>0.0</td><td>0.0</td><td>0.0</td><td>0.0</td><td>0.0</td><td>0.0</td><td>0.0</td><td>0.0</td><td>0.0</td><td>0.0</td><td>0.0</td><td>0.0</td><td>0.0</td><td>0.0</td><td>0.0</td><td>0.0</td><td>0.0</td><td>0.0</td><td>0.0</td><td>0.0</td><td>0.0</td><td>0.0</td><td>0.0</td><td>0.0</td><td>0.0</td><td>0.0</td></tr><tr><td>&quot;mean&quot;</td><td>1.5249e6</td><td>7.038678</td><td>9.354337</td><td>8.146537</td><td>8.376522</td><td>8.33127</td><td>7.168511</td><td>8.368086</td><td>9.687476</td><td>2.360909</td><td>2.996501</td><td>4.6004e-8</td><td>2.004888</td><td>4.585244</td><td>5.974021</td><td>15.871657</td><td>5.00133</td><td>3.999847</td><td>8.003467</td><td>0.919045</td><td>0.832162</td><td>0.956903</td><td>0.975044</td><td>0.975603</td><td>13.82128</td><td>2.212993</td><td>15.695309</td><td>0.697007</td><td>0.929893</td><td>0.857728</td><td>0.164764</td><td>0.38454</td><td>0.525384</td><td>0.65504</td><td>0.787443</td><td>0.919689</td><td>1.078998</td><td>1.23401</td><td>1.34712</td><td>1.455551</td><td>1.582719</td><td>2.71382</td><td>1.847166</td><td>1.970466</td><td>2.034014</td><td>2.083303</td><td>2.127751</td><td>2.169455</td><td>2.213549</td><td>2.253654</td><td>3.28793</td><td>2.319725</td><td>2.351136</td><td>2.384458</td><td>3.528222</td><td>1.034377</td><td>2.693328</td><td>3.52058</td><td>1.001708</td><td>0.145067</td><td>0.23069</td></tr><tr><td>&quot;std&quot;</td><td>723549.688774</td><td>5.394833</td><td>5.769142</td><td>4.710982</td><td>5.333958</td><td>4.473746</td><td>5.148049</td><td>4.220082</td><td>5.827218</td><td>1.305871</td><td>0.710425</td><td>0.000214</td><td>0.278894</td><td>3.293656</td><td>0.393584</td><td>1.180054</td><td>0.074198</td><td>0.021244</td><td>0.151633</td><td>0.272766</td><td>0.373722</td><td>0.203075</td><td>0.155992</td><td>0.154277</td><td>4.392667</td><td>0.864126</td><td>3.968884</td><td>0.459552</td><td>0.255328</td><td>0.349329</td><td>0.630771</td><td>0.938109</td><td>1.089719</td><td>1.195525</td><td>1.281468</td><td>1.349198</td><td>1.409847</td><td>1.449275</td><td>1.467515</td><td>1.476748</td><td>1.477289</td><td>1.466012</td><td>1.442255</td><td>1.408024</td><td>1.38591</td><td>1.366623</td><td>1.347435</td><td>1.327925</td><td>1.305464</td><td>1.28337</td><td>1.263199</td><td>1.243401</td><td>1.222774</td><td>1.199663</td><td>1.08224</td><td>0.306032</td><td>0.50171</td><td>1.034013</td><td>0.048468</td><td>0.352168</td><td>0.421274</td></tr><tr><td>&quot;min&quot;</td><td>250000.0</td><td>1.0</td><td>0.0</td><td>0.0</td><td>0.0</td><td>0.0</td><td>0.0</td><td>0.0</td><td>0.0</td><td>0.0</td><td>1.0</td><td>0.0</td><td>0.0</td><td>0.0</td><td>0.0</td><td>0.0</td><td>0.0</td><td>0.0</td><td>2.0</td><td>0.0</td><td>0.0</td><td>0.0</td><td>0.0</td><td>0.0</td><td>0.0</td><td>0.0</td><td>0.0</td><td>0.0</td><td>0.0</td><td>0.0</td><td>0.0</td><td>0.0</td><td>0.0</td><td>0.0</td><td>0.0</td><td>0.0</td><td>0.0</td><td>0.0</td><td>0.0</td><td>0.0</td><td>0.0</td><td>1.0</td><td>0.0</td><td>0.0</td><td>0.0</td><td>0.0</td><td>0.0</td><td>0.0</td><td>0.0</td><td>0.0</td><td>1.0</td><td>0.0</td><td>0.0</td><td>0.0</td><td>1.0</td><td>0.0</td><td>0.0</td><td>0.0</td><td>0.0</td><td>0.0</td><td>0.0</td></tr><tr><td>&quot;25%&quot;</td><td>897476.0</td><td>3.0</td><td>4.0</td><td>4.0</td><td>4.0</td><td>6.0</td><td>2.0</td><td>5.0</td><td>5.0</td><td>2.0</td><td>3.0</td><td>0.0</td><td>2.0</td><td>2.0</td><td>6.0</td><td>16.0</td><td>5.0</td><td>4.0</td><td>8.0</td><td>1.0</td><td>1.0</td><td>1.0</td><td>1.0</td><td>1.0</td><td>15.0</td><td>2.0</td><td>17.0</td><td>0.0</td><td>1.0</td><td>1.0</td><td>0.0</td><td>0.0</td><td>0.0</td><td>0.0</td><td>0.0</td><td>0.0</td><td>0.0</td><td>0.0</td><td>0.0</td><td>0.0</td><td>0.0</td><td>1.0</td><td>0.0</td><td>0.0</td><td>0.0</td><td>0.0</td><td>0.0</td><td>0.0</td><td>0.0</td><td>1.0</td><td>4.0</td><td>3.0</td><td>3.0</td><td>3.0</td><td>4.0</td><td>1.0</td><td>2.0</td><td>3.0</td><td>1.0</td><td>0.0</td><td>0.0</td></tr><tr><td>&quot;50%&quot;</td><td>1.540965e6</td><td>6.0</td><td>9.0</td><td>9.0</td><td>8.0</td><td>8.0</td><td>7.0</td><td>10.0</td><td>10.0</td><td>2.0</td><td>3.0</td><td>0.0</td><td>2.0</td><td>4.0</td><td>6.0</td><td>16.0</td><td>5.0</td><td>4.0</td><td>8.0</td><td>1.0</td><td>1.0</td><td>1.0</td><td>1.0</td><td>1.0</td><td>16.0</td><td>2.0</td><td>17.0</td><td>1.0</td><td>1.0</td><td>1.0</td><td>0.0</td><td>0.0</td><td>0.0</td><td>0.0</td><td>0.0</td><td>0.0</td><td>0.0</td><td>0.0</td><td>0.0</td><td>1.0</td><td>3.0</td><td>4.0</td><td>3.0</td><td>3.0</td><td>3.0</td><td>3.0</td><td>3.0</td><td>3.0</td><td>3.0</td><td>3.0</td><td>4.0</td><td>3.0</td><td>3.0</td><td>3.0</td><td>4.0</td><td>1.0</td><td>3.0</td><td>4.0</td><td>1.0</td><td>0.0</td><td>0.0</td></tr><tr><td>&quot;75%&quot;</td><td>2.154297e6</td><td>10.0</td><td>14.0</td><td>11.0</td><td>14.0</td><td>12.0</td><td>12.0</td><td>11.0</td><td>15.0</td><td>2.0</td><td>3.0</td><td>0.0</td><td>2.0</td><td>6.0</td><td>6.0</td><td>16.0</td><td>5.0</td><td>4.0</td><td>8.0</td><td>1.0</td><td>1.0</td><td>1.0</td><td>1.0</td><td>1.0</td><td>16.0</td><td>2.0</td><td>17.0</td><td>1.0</td><td>1.0</td><td>1.0</td><td>0.0</td><td>0.0</td><td>0.0</td><td>1.0</td><td>1.0</td><td>3.0</td><td>3.0</td><td>3.0</td><td>3.0</td><td>3.0</td><td>3.0</td><td>4.0</td><td>3.0</td><td>3.0</td><td>3.0</td><td>3.0</td><td>3.0</td><td>3.0</td><td>3.0</td><td>3.0</td><td>4.0</td><td>3.0</td><td>3.0</td><td>3.0</td><td>4.0</td><td>1.0</td><td>3.0</td><td>4.0</td><td>1.0</td><td>0.0</td><td>0.0</td></tr><tr><td>&quot;max&quot;</td><td>2.749999e6</td><td>55.0</td><td>19.0</td><td>17.0</td><td>17.0</td><td>16.0</td><td>16.0</td><td>15.0</td><td>19.0</td><td>6.0</td><td>5.0</td><td>1.0</td><td>3.0</td><td>13.0</td><td>16.0</td><td>19.0</td><td>9.0</td><td>4.0</td><td>19.0</td><td>1.0</td><td>1.0</td><td>1.0</td><td>1.0</td><td>1.0</td><td>19.0</td><td>19.0</td><td>19.0</td><td>1.0</td><td>1.0</td><td>1.0</td><td>3.0</td><td>3.0</td><td>3.0</td><td>3.0</td><td>3.0</td><td>3.0</td><td>3.0</td><td>3.0</td><td>3.0</td><td>3.0</td><td>3.0</td><td>4.0</td><td>3.0</td><td>3.0</td><td>3.0</td><td>3.0</td><td>3.0</td><td>3.0</td><td>3.0</td><td>3.0</td><td>4.0</td><td>3.0</td><td>3.0</td><td>3.0</td><td>4.0</td><td>6.0</td><td>6.0</td><td>7.0</td><td>3.0</td><td>1.0</td><td>1.0</td></tr></tbody></table></div>"
      ],
      "text/plain": [
       "shape: (9, 62)\n",
       "┌───────────┬───────────┬───────────┬───────────┬───┬───────────┬───────────┬───────────┬──────────┐\n",
       "│ statistic ┆ id        ┆ rn        ┆ pre_since ┆ … ┆ enc_loans ┆ enc_loans ┆ pclose_fl ┆ fclose_f │\n",
       "│ ---       ┆ ---       ┆ ---       ┆ _opened   ┆   ┆ _credit_t ┆ _account_ ┆ ag        ┆ lag      │\n",
       "│ str       ┆ f64       ┆ f64       ┆ ---       ┆   ┆ ype       ┆ cur       ┆ ---       ┆ ---      │\n",
       "│           ┆           ┆           ┆ f64       ┆   ┆ ---       ┆ ---       ┆ f64       ┆ f64      │\n",
       "│           ┆           ┆           ┆           ┆   ┆ f64       ┆ f64       ┆           ┆          │\n",
       "╞═══════════╪═══════════╪═══════════╪═══════════╪═══╪═══════════╪═══════════╪═══════════╪══════════╡\n",
       "│ count     ┆ 2.1737363 ┆ 2.1737363 ┆ 2.1737363 ┆ … ┆ 2.1737363 ┆ 2.1737363 ┆ 2.1737363 ┆ 2.173736 │\n",
       "│           ┆ e7        ┆ e7        ┆ e7        ┆   ┆ e7        ┆ e7        ┆ e7        ┆ 3e7      │\n",
       "│ null_coun ┆ 0.0       ┆ 0.0       ┆ 0.0       ┆ … ┆ 0.0       ┆ 0.0       ┆ 0.0       ┆ 0.0      │\n",
       "│ t         ┆           ┆           ┆           ┆   ┆           ┆           ┆           ┆          │\n",
       "│ mean      ┆ 1.5249e6  ┆ 7.038678  ┆ 9.354337  ┆ … ┆ 3.52058   ┆ 1.001708  ┆ 0.145067  ┆ 0.23069  │\n",
       "│ std       ┆ 723549.68 ┆ 5.394833  ┆ 5.769142  ┆ … ┆ 1.034013  ┆ 0.048468  ┆ 0.352168  ┆ 0.421274 │\n",
       "│           ┆ 8774      ┆           ┆           ┆   ┆           ┆           ┆           ┆          │\n",
       "│ min       ┆ 250000.0  ┆ 1.0       ┆ 0.0       ┆ … ┆ 0.0       ┆ 0.0       ┆ 0.0       ┆ 0.0      │\n",
       "│ 25%       ┆ 897476.0  ┆ 3.0       ┆ 4.0       ┆ … ┆ 3.0       ┆ 1.0       ┆ 0.0       ┆ 0.0      │\n",
       "│ 50%       ┆ 1.540965e ┆ 6.0       ┆ 9.0       ┆ … ┆ 4.0       ┆ 1.0       ┆ 0.0       ┆ 0.0      │\n",
       "│           ┆ 6         ┆           ┆           ┆   ┆           ┆           ┆           ┆          │\n",
       "│ 75%       ┆ 2.154297e ┆ 10.0      ┆ 14.0      ┆ … ┆ 4.0       ┆ 1.0       ┆ 0.0       ┆ 0.0      │\n",
       "│           ┆ 6         ┆           ┆           ┆   ┆           ┆           ┆           ┆          │\n",
       "│ max       ┆ 2.749999e ┆ 55.0      ┆ 19.0      ┆ … ┆ 7.0       ┆ 3.0       ┆ 1.0       ┆ 1.0      │\n",
       "│           ┆ 6         ┆           ┆           ┆   ┆           ┆           ┆           ┆          │\n",
       "└───────────┴───────────┴───────────┴───────────┴───┴───────────┴───────────┴───────────┴──────────┘"
      ]
     },
     "execution_count": 37,
     "metadata": {},
     "output_type": "execute_result"
    }
   ],
   "source": [
    "combined_indep.describe()  # Sum stats"
   ]
  },
  {
   "cell_type": "code",
   "execution_count": 38,
   "metadata": {},
   "outputs": [
    {
     "data": {
      "text/html": [
       "<div><style>\n",
       ".dataframe > thead > tr,\n",
       ".dataframe > tbody > tr {\n",
       "  text-align: right;\n",
       "  white-space: pre-wrap;\n",
       "}\n",
       "</style>\n",
       "<small>shape: (9, 3)</small><table border=\"1\" class=\"dataframe\"><thead><tr><th>statistic</th><th>id</th><th>flag</th></tr><tr><td>str</td><td>f64</td><td>f64</td></tr></thead><tbody><tr><td>&quot;count&quot;</td><td>2.75e6</td><td>2.75e6</td></tr><tr><td>&quot;null_count&quot;</td><td>0.0</td><td>0.0</td></tr><tr><td>&quot;mean&quot;</td><td>1374999.5</td><td>0.035807</td></tr><tr><td>&quot;std&quot;</td><td>793856.764473</td><td>0.185808</td></tr><tr><td>&quot;min&quot;</td><td>0.0</td><td>0.0</td></tr><tr><td>&quot;25%&quot;</td><td>687500.0</td><td>0.0</td></tr><tr><td>&quot;50%&quot;</td><td>1.375e6</td><td>0.0</td></tr><tr><td>&quot;75%&quot;</td><td>2.062499e6</td><td>0.0</td></tr><tr><td>&quot;max&quot;</td><td>2.749999e6</td><td>1.0</td></tr></tbody></table></div>"
      ],
      "text/plain": [
       "shape: (9, 3)\n",
       "┌────────────┬───────────────┬──────────┐\n",
       "│ statistic  ┆ id            ┆ flag     │\n",
       "│ ---        ┆ ---           ┆ ---      │\n",
       "│ str        ┆ f64           ┆ f64      │\n",
       "╞════════════╪═══════════════╪══════════╡\n",
       "│ count      ┆ 2.75e6        ┆ 2.75e6   │\n",
       "│ null_count ┆ 0.0           ┆ 0.0      │\n",
       "│ mean       ┆ 1374999.5     ┆ 0.035807 │\n",
       "│ std        ┆ 793856.764473 ┆ 0.185808 │\n",
       "│ min        ┆ 0.0           ┆ 0.0      │\n",
       "│ 25%        ┆ 687500.0      ┆ 0.0      │\n",
       "│ 50%        ┆ 1.375e6       ┆ 0.0      │\n",
       "│ 75%        ┆ 2.062499e6    ┆ 0.0      │\n",
       "│ max        ┆ 2.749999e6    ┆ 1.0      │\n",
       "└────────────┴───────────────┴──────────┘"
      ]
     },
     "execution_count": 38,
     "metadata": {},
     "output_type": "execute_result"
    }
   ],
   "source": [
    "dep.describe()  # Summary statistics for numerical columns"
   ]
  },
  {
   "cell_type": "code",
   "execution_count": 39,
   "metadata": {},
   "outputs": [
    {
     "data": {
      "text/html": [
       "<div><style>\n",
       ".dataframe > thead > tr,\n",
       ".dataframe > tbody > tr {\n",
       "  text-align: right;\n",
       "  white-space: pre-wrap;\n",
       "}\n",
       "</style>\n",
       "<small>shape: (1, 61)</small><table border=\"1\" class=\"dataframe\"><thead><tr><th>id</th><th>rn</th><th>pre_since_opened</th><th>pre_since_confirmed</th><th>pre_pterm</th><th>pre_fterm</th><th>pre_till_pclose</th><th>pre_till_fclose</th><th>pre_loans_credit_limit</th><th>pre_loans_next_pay_summ</th><th>pre_loans_outstanding</th><th>pre_loans_total_overdue</th><th>pre_loans_max_overdue_sum</th><th>pre_loans_credit_cost_rate</th><th>pre_loans5</th><th>pre_loans530</th><th>pre_loans3060</th><th>pre_loans6090</th><th>pre_loans90</th><th>is_zero_loans5</th><th>is_zero_loans530</th><th>is_zero_loans3060</th><th>is_zero_loans6090</th><th>is_zero_loans90</th><th>pre_util</th><th>pre_over2limit</th><th>pre_maxover2limit</th><th>is_zero_util</th><th>is_zero_over2limit</th><th>is_zero_maxover2limit</th><th>enc_paym_0</th><th>enc_paym_1</th><th>enc_paym_2</th><th>enc_paym_3</th><th>enc_paym_4</th><th>enc_paym_5</th><th>enc_paym_6</th><th>enc_paym_7</th><th>enc_paym_8</th><th>enc_paym_9</th><th>enc_paym_10</th><th>enc_paym_11</th><th>enc_paym_12</th><th>enc_paym_13</th><th>enc_paym_14</th><th>enc_paym_15</th><th>enc_paym_16</th><th>enc_paym_17</th><th>enc_paym_18</th><th>enc_paym_19</th><th>enc_paym_20</th><th>enc_paym_21</th><th>enc_paym_22</th><th>enc_paym_23</th><th>enc_paym_24</th><th>enc_loans_account_holder_type</th><th>enc_loans_credit_status</th><th>enc_loans_credit_type</th><th>enc_loans_account_cur</th><th>pclose_flag</th><th>fclose_flag</th></tr><tr><td>u32</td><td>u32</td><td>u32</td><td>u32</td><td>u32</td><td>u32</td><td>u32</td><td>u32</td><td>u32</td><td>u32</td><td>u32</td><td>u32</td><td>u32</td><td>u32</td><td>u32</td><td>u32</td><td>u32</td><td>u32</td><td>u32</td><td>u32</td><td>u32</td><td>u32</td><td>u32</td><td>u32</td><td>u32</td><td>u32</td><td>u32</td><td>u32</td><td>u32</td><td>u32</td><td>u32</td><td>u32</td><td>u32</td><td>u32</td><td>u32</td><td>u32</td><td>u32</td><td>u32</td><td>u32</td><td>u32</td><td>u32</td><td>u32</td><td>u32</td><td>u32</td><td>u32</td><td>u32</td><td>u32</td><td>u32</td><td>u32</td><td>u32</td><td>u32</td><td>u32</td><td>u32</td><td>u32</td><td>u32</td><td>u32</td><td>u32</td><td>u32</td><td>u32</td><td>u32</td><td>u32</td></tr></thead><tbody><tr><td>0</td><td>0</td><td>0</td><td>0</td><td>0</td><td>0</td><td>0</td><td>0</td><td>0</td><td>0</td><td>0</td><td>0</td><td>0</td><td>0</td><td>0</td><td>0</td><td>0</td><td>0</td><td>0</td><td>0</td><td>0</td><td>0</td><td>0</td><td>0</td><td>0</td><td>0</td><td>0</td><td>0</td><td>0</td><td>0</td><td>0</td><td>0</td><td>0</td><td>0</td><td>0</td><td>0</td><td>0</td><td>0</td><td>0</td><td>0</td><td>0</td><td>0</td><td>0</td><td>0</td><td>0</td><td>0</td><td>0</td><td>0</td><td>0</td><td>0</td><td>0</td><td>0</td><td>0</td><td>0</td><td>0</td><td>0</td><td>0</td><td>0</td><td>0</td><td>0</td><td>0</td></tr></tbody></table></div>"
      ],
      "text/plain": [
       "shape: (1, 61)\n",
       "┌─────┬─────┬─────────────┬─────────────┬───┬─────────────┬─────────────┬─────────────┬────────────┐\n",
       "│ id  ┆ rn  ┆ pre_since_o ┆ pre_since_c ┆ … ┆ enc_loans_c ┆ enc_loans_a ┆ pclose_flag ┆ fclose_fla │\n",
       "│ --- ┆ --- ┆ pened       ┆ onfirmed    ┆   ┆ redit_type  ┆ ccount_cur  ┆ ---         ┆ g          │\n",
       "│ u32 ┆ u32 ┆ ---         ┆ ---         ┆   ┆ ---         ┆ ---         ┆ u32         ┆ ---        │\n",
       "│     ┆     ┆ u32         ┆ u32         ┆   ┆ u32         ┆ u32         ┆             ┆ u32        │\n",
       "╞═════╪═════╪═════════════╪═════════════╪═══╪═════════════╪═════════════╪═════════════╪════════════╡\n",
       "│ 0   ┆ 0   ┆ 0           ┆ 0           ┆ … ┆ 0           ┆ 0           ┆ 0           ┆ 0          │\n",
       "└─────┴─────┴─────────────┴─────────────┴───┴─────────────┴─────────────┴─────────────┴────────────┘"
      ]
     },
     "execution_count": 39,
     "metadata": {},
     "output_type": "execute_result"
    }
   ],
   "source": [
    "combined_indep.null_count()\n",
    "# No missing values"
   ]
  },
  {
   "cell_type": "code",
   "execution_count": 40,
   "metadata": {},
   "outputs": [
    {
     "data": {
      "text/html": [
       "<div><style>\n",
       ".dataframe > thead > tr,\n",
       ".dataframe > tbody > tr {\n",
       "  text-align: right;\n",
       "  white-space: pre-wrap;\n",
       "}\n",
       "</style>\n",
       "<small>shape: (1, 2)</small><table border=\"1\" class=\"dataframe\"><thead><tr><th>id</th><th>flag</th></tr><tr><td>u32</td><td>u32</td></tr></thead><tbody><tr><td>0</td><td>0</td></tr></tbody></table></div>"
      ],
      "text/plain": [
       "shape: (1, 2)\n",
       "┌─────┬──────┐\n",
       "│ id  ┆ flag │\n",
       "│ --- ┆ ---  │\n",
       "│ u32 ┆ u32  │\n",
       "╞═════╪══════╡\n",
       "│ 0   ┆ 0    │\n",
       "└─────┴──────┘"
      ]
     },
     "execution_count": 40,
     "metadata": {},
     "output_type": "execute_result"
    }
   ],
   "source": [
    "dep.null_count()\n",
    "# No missing values"
   ]
  },
  {
   "cell_type": "code",
   "execution_count": 48,
   "metadata": {},
   "outputs": [
    {
     "name": "stdout",
     "output_type": "stream",
     "text": [
      "shape: (2_500_000, 2)\n",
      "┌─────────┬───────┐\n",
      "│ id      ┆ count │\n",
      "│ ---     ┆ ---   │\n",
      "│ i64     ┆ u32   │\n",
      "╞═════════╪═══════╡\n",
      "│ 2000615 ┆ 4     │\n",
      "│ 1684062 ┆ 1     │\n",
      "│ 2395307 ┆ 4     │\n",
      "│ 2463877 ┆ 1     │\n",
      "│ 857669  ┆ 3     │\n",
      "│ …       ┆ …     │\n",
      "│ 380105  ┆ 3     │\n",
      "│ 2685861 ┆ 4     │\n",
      "│ 1429242 ┆ 6     │\n",
      "│ 1672335 ┆ 20    │\n",
      "│ 2199888 ┆ 4     │\n",
      "└─────────┴───────┘\n"
     ]
    }
   ],
   "source": [
    "# Assuming combined_train_data is a pandas DataFrame with the ID column\n",
    "# Count occurrences of each unique ID\n",
    "id_counts = combined_indep['id'].value_counts()\n",
    "\n",
    "# Display the count of occurrences for each ID\n",
    "print(id_counts)"
   ]
  },
  {
   "cell_type": "code",
   "execution_count": 5,
   "metadata": {},
   "outputs": [],
   "source": [
    "# Trying to merge dep with combined_indep using id as idnetifier\n",
    "merged_raw = dep.join(combined_indep, on='id', how='inner')"
   ]
  },
  {
   "cell_type": "code",
   "execution_count": 7,
   "metadata": {},
   "outputs": [
    {
     "data": {
      "text/html": [
       "<div><style>\n",
       ".dataframe > thead > tr,\n",
       ".dataframe > tbody > tr {\n",
       "  text-align: right;\n",
       "  white-space: pre-wrap;\n",
       "}\n",
       "</style>\n",
       "<small>shape: (5, 62)</small><table border=\"1\" class=\"dataframe\"><thead><tr><th>id</th><th>flag</th><th>rn</th><th>pre_since_opened</th><th>pre_since_confirmed</th><th>pre_pterm</th><th>pre_fterm</th><th>pre_till_pclose</th><th>pre_till_fclose</th><th>pre_loans_credit_limit</th><th>pre_loans_next_pay_summ</th><th>pre_loans_outstanding</th><th>pre_loans_total_overdue</th><th>pre_loans_max_overdue_sum</th><th>pre_loans_credit_cost_rate</th><th>pre_loans5</th><th>pre_loans530</th><th>pre_loans3060</th><th>pre_loans6090</th><th>pre_loans90</th><th>is_zero_loans5</th><th>is_zero_loans530</th><th>is_zero_loans3060</th><th>is_zero_loans6090</th><th>is_zero_loans90</th><th>pre_util</th><th>pre_over2limit</th><th>pre_maxover2limit</th><th>is_zero_util</th><th>is_zero_over2limit</th><th>is_zero_maxover2limit</th><th>enc_paym_0</th><th>enc_paym_1</th><th>enc_paym_2</th><th>enc_paym_3</th><th>enc_paym_4</th><th>enc_paym_5</th><th>enc_paym_6</th><th>enc_paym_7</th><th>enc_paym_8</th><th>enc_paym_9</th><th>enc_paym_10</th><th>enc_paym_11</th><th>enc_paym_12</th><th>enc_paym_13</th><th>enc_paym_14</th><th>enc_paym_15</th><th>enc_paym_16</th><th>enc_paym_17</th><th>enc_paym_18</th><th>enc_paym_19</th><th>enc_paym_20</th><th>enc_paym_21</th><th>enc_paym_22</th><th>enc_paym_23</th><th>enc_paym_24</th><th>enc_loans_account_holder_type</th><th>enc_loans_credit_status</th><th>enc_loans_credit_type</th><th>enc_loans_account_cur</th><th>pclose_flag</th><th>fclose_flag</th></tr><tr><td>i64</td><td>i64</td><td>i64</td><td>i64</td><td>i64</td><td>i64</td><td>i64</td><td>i64</td><td>i64</td><td>i64</td><td>i64</td><td>i64</td><td>i64</td><td>i64</td><td>i64</td><td>i64</td><td>i64</td><td>i64</td><td>i64</td><td>i64</td><td>i64</td><td>i64</td><td>i64</td><td>i64</td><td>i64</td><td>i64</td><td>i64</td><td>i64</td><td>i64</td><td>i64</td><td>i64</td><td>i64</td><td>i64</td><td>i64</td><td>i64</td><td>i64</td><td>i64</td><td>i64</td><td>i64</td><td>i64</td><td>i64</td><td>i64</td><td>i64</td><td>i64</td><td>i64</td><td>i64</td><td>i64</td><td>i64</td><td>i64</td><td>i64</td><td>i64</td><td>i64</td><td>i64</td><td>i64</td><td>i64</td><td>i64</td><td>i64</td><td>i64</td><td>i64</td><td>i64</td><td>i64</td><td>i64</td></tr></thead><tbody><tr><td>250000</td><td>0</td><td>1</td><td>8</td><td>7</td><td>7</td><td>2</td><td>4</td><td>9</td><td>5</td><td>2</td><td>3</td><td>0</td><td>3</td><td>4</td><td>6</td><td>16</td><td>5</td><td>4</td><td>8</td><td>1</td><td>0</td><td>1</td><td>0</td><td>0</td><td>16</td><td>2</td><td>8</td><td>1</td><td>1</td><td>0</td><td>3</td><td>3</td><td>3</td><td>2</td><td>1</td><td>1</td><td>0</td><td>0</td><td>0</td><td>3</td><td>3</td><td>4</td><td>3</td><td>3</td><td>3</td><td>3</td><td>3</td><td>3</td><td>3</td><td>3</td><td>4</td><td>3</td><td>3</td><td>3</td><td>4</td><td>1</td><td>3</td><td>4</td><td>1</td><td>0</td><td>0</td></tr><tr><td>250000</td><td>0</td><td>2</td><td>14</td><td>8</td><td>12</td><td>10</td><td>6</td><td>3</td><td>12</td><td>6</td><td>3</td><td>0</td><td>2</td><td>4</td><td>6</td><td>16</td><td>5</td><td>4</td><td>8</td><td>1</td><td>1</td><td>0</td><td>0</td><td>1</td><td>16</td><td>2</td><td>17</td><td>1</td><td>1</td><td>1</td><td>3</td><td>2</td><td>0</td><td>0</td><td>0</td><td>0</td><td>0</td><td>0</td><td>0</td><td>0</td><td>0</td><td>1</td><td>0</td><td>0</td><td>0</td><td>0</td><td>0</td><td>0</td><td>0</td><td>3</td><td>4</td><td>3</td><td>3</td><td>3</td><td>4</td><td>1</td><td>3</td><td>4</td><td>1</td><td>0</td><td>0</td></tr><tr><td>250000</td><td>0</td><td>3</td><td>10</td><td>4</td><td>8</td><td>11</td><td>6</td><td>13</td><td>5</td><td>2</td><td>3</td><td>0</td><td>2</td><td>4</td><td>6</td><td>16</td><td>5</td><td>4</td><td>8</td><td>1</td><td>0</td><td>0</td><td>1</td><td>1</td><td>16</td><td>2</td><td>17</td><td>1</td><td>1</td><td>1</td><td>0</td><td>2</td><td>1</td><td>0</td><td>0</td><td>0</td><td>3</td><td>3</td><td>3</td><td>3</td><td>3</td><td>4</td><td>3</td><td>3</td><td>3</td><td>3</td><td>3</td><td>3</td><td>3</td><td>3</td><td>4</td><td>3</td><td>3</td><td>3</td><td>4</td><td>1</td><td>3</td><td>4</td><td>1</td><td>0</td><td>0</td></tr><tr><td>250000</td><td>0</td><td>4</td><td>13</td><td>12</td><td>8</td><td>6</td><td>13</td><td>5</td><td>12</td><td>2</td><td>3</td><td>0</td><td>2</td><td>10</td><td>6</td><td>16</td><td>5</td><td>4</td><td>8</td><td>1</td><td>0</td><td>0</td><td>0</td><td>0</td><td>16</td><td>2</td><td>17</td><td>1</td><td>1</td><td>1</td><td>0</td><td>3</td><td>3</td><td>3</td><td>3</td><td>3</td><td>3</td><td>3</td><td>3</td><td>3</td><td>3</td><td>4</td><td>3</td><td>3</td><td>3</td><td>3</td><td>3</td><td>3</td><td>3</td><td>3</td><td>4</td><td>3</td><td>3</td><td>3</td><td>4</td><td>1</td><td>3</td><td>4</td><td>1</td><td>0</td><td>0</td></tr><tr><td>250000</td><td>0</td><td>5</td><td>6</td><td>12</td><td>4</td><td>14</td><td>1</td><td>7</td><td>4</td><td>2</td><td>3</td><td>0</td><td>2</td><td>4</td><td>6</td><td>16</td><td>5</td><td>4</td><td>8</td><td>1</td><td>1</td><td>1</td><td>1</td><td>0</td><td>9</td><td>5</td><td>4</td><td>0</td><td>0</td><td>0</td><td>0</td><td>3</td><td>3</td><td>3</td><td>3</td><td>3</td><td>3</td><td>3</td><td>3</td><td>3</td><td>3</td><td>4</td><td>3</td><td>3</td><td>3</td><td>3</td><td>3</td><td>3</td><td>3</td><td>3</td><td>4</td><td>3</td><td>3</td><td>3</td><td>4</td><td>1</td><td>3</td><td>1</td><td>1</td><td>1</td><td>0</td></tr></tbody></table></div>"
      ],
      "text/plain": [
       "shape: (5, 62)\n",
       "┌────────┬──────┬─────┬──────────────┬───┬──────────────┬──────────────┬─────────────┬─────────────┐\n",
       "│ id     ┆ flag ┆ rn  ┆ pre_since_op ┆ … ┆ enc_loans_cr ┆ enc_loans_ac ┆ pclose_flag ┆ fclose_flag │\n",
       "│ ---    ┆ ---  ┆ --- ┆ ened         ┆   ┆ edit_type    ┆ count_cur    ┆ ---         ┆ ---         │\n",
       "│ i64    ┆ i64  ┆ i64 ┆ ---          ┆   ┆ ---          ┆ ---          ┆ i64         ┆ i64         │\n",
       "│        ┆      ┆     ┆ i64          ┆   ┆ i64          ┆ i64          ┆             ┆             │\n",
       "╞════════╪══════╪═════╪══════════════╪═══╪══════════════╪══════════════╪═════════════╪═════════════╡\n",
       "│ 250000 ┆ 0    ┆ 1   ┆ 8            ┆ … ┆ 4            ┆ 1            ┆ 0           ┆ 0           │\n",
       "│ 250000 ┆ 0    ┆ 2   ┆ 14           ┆ … ┆ 4            ┆ 1            ┆ 0           ┆ 0           │\n",
       "│ 250000 ┆ 0    ┆ 3   ┆ 10           ┆ … ┆ 4            ┆ 1            ┆ 0           ┆ 0           │\n",
       "│ 250000 ┆ 0    ┆ 4   ┆ 13           ┆ … ┆ 4            ┆ 1            ┆ 0           ┆ 0           │\n",
       "│ 250000 ┆ 0    ┆ 5   ┆ 6            ┆ … ┆ 1            ┆ 1            ┆ 1           ┆ 0           │\n",
       "└────────┴──────┴─────┴──────────────┴───┴──────────────┴──────────────┴─────────────┴─────────────┘"
      ]
     },
     "execution_count": 7,
     "metadata": {},
     "output_type": "execute_result"
    }
   ],
   "source": [
    "merged_raw.head()"
   ]
  },
  {
   "cell_type": "code",
   "execution_count": 8,
   "metadata": {},
   "outputs": [
    {
     "data": {
      "text/plain": [
       "(21737363, 62)"
      ]
     },
     "execution_count": 8,
     "metadata": {},
     "output_type": "execute_result"
    }
   ],
   "source": [
    "merged_raw.shape"
   ]
  },
  {
   "cell_type": "code",
   "execution_count": 9,
   "metadata": {},
   "outputs": [
    {
     "data": {
      "text/html": [
       "<div><style>\n",
       ".dataframe > thead > tr,\n",
       ".dataframe > tbody > tr {\n",
       "  text-align: right;\n",
       "  white-space: pre-wrap;\n",
       "}\n",
       "</style>\n",
       "<small>shape: (1, 62)</small><table border=\"1\" class=\"dataframe\"><thead><tr><th>id</th><th>flag</th><th>rn</th><th>pre_since_opened</th><th>pre_since_confirmed</th><th>pre_pterm</th><th>pre_fterm</th><th>pre_till_pclose</th><th>pre_till_fclose</th><th>pre_loans_credit_limit</th><th>pre_loans_next_pay_summ</th><th>pre_loans_outstanding</th><th>pre_loans_total_overdue</th><th>pre_loans_max_overdue_sum</th><th>pre_loans_credit_cost_rate</th><th>pre_loans5</th><th>pre_loans530</th><th>pre_loans3060</th><th>pre_loans6090</th><th>pre_loans90</th><th>is_zero_loans5</th><th>is_zero_loans530</th><th>is_zero_loans3060</th><th>is_zero_loans6090</th><th>is_zero_loans90</th><th>pre_util</th><th>pre_over2limit</th><th>pre_maxover2limit</th><th>is_zero_util</th><th>is_zero_over2limit</th><th>is_zero_maxover2limit</th><th>enc_paym_0</th><th>enc_paym_1</th><th>enc_paym_2</th><th>enc_paym_3</th><th>enc_paym_4</th><th>enc_paym_5</th><th>enc_paym_6</th><th>enc_paym_7</th><th>enc_paym_8</th><th>enc_paym_9</th><th>enc_paym_10</th><th>enc_paym_11</th><th>enc_paym_12</th><th>enc_paym_13</th><th>enc_paym_14</th><th>enc_paym_15</th><th>enc_paym_16</th><th>enc_paym_17</th><th>enc_paym_18</th><th>enc_paym_19</th><th>enc_paym_20</th><th>enc_paym_21</th><th>enc_paym_22</th><th>enc_paym_23</th><th>enc_paym_24</th><th>enc_loans_account_holder_type</th><th>enc_loans_credit_status</th><th>enc_loans_credit_type</th><th>enc_loans_account_cur</th><th>pclose_flag</th><th>fclose_flag</th></tr><tr><td>u32</td><td>u32</td><td>u32</td><td>u32</td><td>u32</td><td>u32</td><td>u32</td><td>u32</td><td>u32</td><td>u32</td><td>u32</td><td>u32</td><td>u32</td><td>u32</td><td>u32</td><td>u32</td><td>u32</td><td>u32</td><td>u32</td><td>u32</td><td>u32</td><td>u32</td><td>u32</td><td>u32</td><td>u32</td><td>u32</td><td>u32</td><td>u32</td><td>u32</td><td>u32</td><td>u32</td><td>u32</td><td>u32</td><td>u32</td><td>u32</td><td>u32</td><td>u32</td><td>u32</td><td>u32</td><td>u32</td><td>u32</td><td>u32</td><td>u32</td><td>u32</td><td>u32</td><td>u32</td><td>u32</td><td>u32</td><td>u32</td><td>u32</td><td>u32</td><td>u32</td><td>u32</td><td>u32</td><td>u32</td><td>u32</td><td>u32</td><td>u32</td><td>u32</td><td>u32</td><td>u32</td><td>u32</td></tr></thead><tbody><tr><td>0</td><td>0</td><td>0</td><td>0</td><td>0</td><td>0</td><td>0</td><td>0</td><td>0</td><td>0</td><td>0</td><td>0</td><td>0</td><td>0</td><td>0</td><td>0</td><td>0</td><td>0</td><td>0</td><td>0</td><td>0</td><td>0</td><td>0</td><td>0</td><td>0</td><td>0</td><td>0</td><td>0</td><td>0</td><td>0</td><td>0</td><td>0</td><td>0</td><td>0</td><td>0</td><td>0</td><td>0</td><td>0</td><td>0</td><td>0</td><td>0</td><td>0</td><td>0</td><td>0</td><td>0</td><td>0</td><td>0</td><td>0</td><td>0</td><td>0</td><td>0</td><td>0</td><td>0</td><td>0</td><td>0</td><td>0</td><td>0</td><td>0</td><td>0</td><td>0</td><td>0</td><td>0</td></tr></tbody></table></div>"
      ],
      "text/plain": [
       "shape: (1, 62)\n",
       "┌─────┬──────┬─────┬───────────────┬───┬───────────────┬───────────────┬─────────────┬─────────────┐\n",
       "│ id  ┆ flag ┆ rn  ┆ pre_since_ope ┆ … ┆ enc_loans_cre ┆ enc_loans_acc ┆ pclose_flag ┆ fclose_flag │\n",
       "│ --- ┆ ---  ┆ --- ┆ ned           ┆   ┆ dit_type      ┆ ount_cur      ┆ ---         ┆ ---         │\n",
       "│ u32 ┆ u32  ┆ u32 ┆ ---           ┆   ┆ ---           ┆ ---           ┆ u32         ┆ u32         │\n",
       "│     ┆      ┆     ┆ u32           ┆   ┆ u32           ┆ u32           ┆             ┆             │\n",
       "╞═════╪══════╪═════╪═══════════════╪═══╪═══════════════╪═══════════════╪═════════════╪═════════════╡\n",
       "│ 0   ┆ 0    ┆ 0   ┆ 0             ┆ … ┆ 0             ┆ 0             ┆ 0           ┆ 0           │\n",
       "└─────┴──────┴─────┴───────────────┴───┴───────────────┴───────────────┴─────────────┴─────────────┘"
      ]
     },
     "execution_count": 9,
     "metadata": {},
     "output_type": "execute_result"
    }
   ],
   "source": [
    "merged_raw.null_count()\n",
    "# Still no missing values :) slay"
   ]
  },
  {
   "cell_type": "code",
   "execution_count": 10,
   "metadata": {},
   "outputs": [
    {
     "data": {
      "text/html": [
       "<div><style>\n",
       ".dataframe > thead > tr,\n",
       ".dataframe > tbody > tr {\n",
       "  text-align: right;\n",
       "  white-space: pre-wrap;\n",
       "}\n",
       "</style>\n",
       "<small>shape: (2_500_000, 2)</small><table border=\"1\" class=\"dataframe\"><thead><tr><th>id</th><th>count</th></tr><tr><td>i64</td><td>u32</td></tr></thead><tbody><tr><td>327867</td><td>4</td></tr><tr><td>498407</td><td>5</td></tr><tr><td>866788</td><td>7</td></tr><tr><td>2252483</td><td>15</td></tr><tr><td>1494342</td><td>2</td></tr><tr><td>&hellip;</td><td>&hellip;</td></tr><tr><td>1873534</td><td>3</td></tr><tr><td>346798</td><td>3</td></tr><tr><td>546261</td><td>8</td></tr><tr><td>2015078</td><td>3</td></tr><tr><td>430745</td><td>7</td></tr></tbody></table></div>"
      ],
      "text/plain": [
       "shape: (2_500_000, 2)\n",
       "┌─────────┬───────┐\n",
       "│ id      ┆ count │\n",
       "│ ---     ┆ ---   │\n",
       "│ i64     ┆ u32   │\n",
       "╞═════════╪═══════╡\n",
       "│ 327867  ┆ 4     │\n",
       "│ 498407  ┆ 5     │\n",
       "│ 866788  ┆ 7     │\n",
       "│ 2252483 ┆ 15    │\n",
       "│ 1494342 ┆ 2     │\n",
       "│ …       ┆ …     │\n",
       "│ 1873534 ┆ 3     │\n",
       "│ 346798  ┆ 3     │\n",
       "│ 546261  ┆ 8     │\n",
       "│ 2015078 ┆ 3     │\n",
       "│ 430745  ┆ 7     │\n",
       "└─────────┴───────┘"
      ]
     },
     "execution_count": 10,
     "metadata": {},
     "output_type": "execute_result"
    }
   ],
   "source": [
    "merged_raw['id'].value_counts()\n",
    "# Consistent with dep"
   ]
  },
  {
   "cell_type": "code",
   "execution_count": 11,
   "metadata": {},
   "outputs": [
    {
     "data": {
      "text/html": [
       "<div><style>\n",
       ".dataframe > thead > tr,\n",
       ".dataframe > tbody > tr {\n",
       "  text-align: right;\n",
       "  white-space: pre-wrap;\n",
       "}\n",
       "</style>\n",
       "<small>shape: (9, 63)</small><table border=\"1\" class=\"dataframe\"><thead><tr><th>statistic</th><th>id</th><th>flag</th><th>rn</th><th>pre_since_opened</th><th>pre_since_confirmed</th><th>pre_pterm</th><th>pre_fterm</th><th>pre_till_pclose</th><th>pre_till_fclose</th><th>pre_loans_credit_limit</th><th>pre_loans_next_pay_summ</th><th>pre_loans_outstanding</th><th>pre_loans_total_overdue</th><th>pre_loans_max_overdue_sum</th><th>pre_loans_credit_cost_rate</th><th>pre_loans5</th><th>pre_loans530</th><th>pre_loans3060</th><th>pre_loans6090</th><th>pre_loans90</th><th>is_zero_loans5</th><th>is_zero_loans530</th><th>is_zero_loans3060</th><th>is_zero_loans6090</th><th>is_zero_loans90</th><th>pre_util</th><th>pre_over2limit</th><th>pre_maxover2limit</th><th>is_zero_util</th><th>is_zero_over2limit</th><th>is_zero_maxover2limit</th><th>enc_paym_0</th><th>enc_paym_1</th><th>enc_paym_2</th><th>enc_paym_3</th><th>enc_paym_4</th><th>enc_paym_5</th><th>enc_paym_6</th><th>enc_paym_7</th><th>enc_paym_8</th><th>enc_paym_9</th><th>enc_paym_10</th><th>enc_paym_11</th><th>enc_paym_12</th><th>enc_paym_13</th><th>enc_paym_14</th><th>enc_paym_15</th><th>enc_paym_16</th><th>enc_paym_17</th><th>enc_paym_18</th><th>enc_paym_19</th><th>enc_paym_20</th><th>enc_paym_21</th><th>enc_paym_22</th><th>enc_paym_23</th><th>enc_paym_24</th><th>enc_loans_account_holder_type</th><th>enc_loans_credit_status</th><th>enc_loans_credit_type</th><th>enc_loans_account_cur</th><th>pclose_flag</th><th>fclose_flag</th></tr><tr><td>str</td><td>f64</td><td>f64</td><td>f64</td><td>f64</td><td>f64</td><td>f64</td><td>f64</td><td>f64</td><td>f64</td><td>f64</td><td>f64</td><td>f64</td><td>f64</td><td>f64</td><td>f64</td><td>f64</td><td>f64</td><td>f64</td><td>f64</td><td>f64</td><td>f64</td><td>f64</td><td>f64</td><td>f64</td><td>f64</td><td>f64</td><td>f64</td><td>f64</td><td>f64</td><td>f64</td><td>f64</td><td>f64</td><td>f64</td><td>f64</td><td>f64</td><td>f64</td><td>f64</td><td>f64</td><td>f64</td><td>f64</td><td>f64</td><td>f64</td><td>f64</td><td>f64</td><td>f64</td><td>f64</td><td>f64</td><td>f64</td><td>f64</td><td>f64</td><td>f64</td><td>f64</td><td>f64</td><td>f64</td><td>f64</td><td>f64</td><td>f64</td><td>f64</td><td>f64</td><td>f64</td><td>f64</td><td>f64</td></tr></thead><tbody><tr><td>&quot;count&quot;</td><td>2.1737363e7</td><td>2.1737363e7</td><td>2.1737363e7</td><td>2.1737363e7</td><td>2.1737363e7</td><td>2.1737363e7</td><td>2.1737363e7</td><td>2.1737363e7</td><td>2.1737363e7</td><td>2.1737363e7</td><td>2.1737363e7</td><td>2.1737363e7</td><td>2.1737363e7</td><td>2.1737363e7</td><td>2.1737363e7</td><td>2.1737363e7</td><td>2.1737363e7</td><td>2.1737363e7</td><td>2.1737363e7</td><td>2.1737363e7</td><td>2.1737363e7</td><td>2.1737363e7</td><td>2.1737363e7</td><td>2.1737363e7</td><td>2.1737363e7</td><td>2.1737363e7</td><td>2.1737363e7</td><td>2.1737363e7</td><td>2.1737363e7</td><td>2.1737363e7</td><td>2.1737363e7</td><td>2.1737363e7</td><td>2.1737363e7</td><td>2.1737363e7</td><td>2.1737363e7</td><td>2.1737363e7</td><td>2.1737363e7</td><td>2.1737363e7</td><td>2.1737363e7</td><td>2.1737363e7</td><td>2.1737363e7</td><td>2.1737363e7</td><td>2.1737363e7</td><td>2.1737363e7</td><td>2.1737363e7</td><td>2.1737363e7</td><td>2.1737363e7</td><td>2.1737363e7</td><td>2.1737363e7</td><td>2.1737363e7</td><td>2.1737363e7</td><td>2.1737363e7</td><td>2.1737363e7</td><td>2.1737363e7</td><td>2.1737363e7</td><td>2.1737363e7</td><td>2.1737363e7</td><td>2.1737363e7</td><td>2.1737363e7</td><td>2.1737363e7</td><td>2.1737363e7</td><td>2.1737363e7</td></tr><tr><td>&quot;null_count&quot;</td><td>0.0</td><td>0.0</td><td>0.0</td><td>0.0</td><td>0.0</td><td>0.0</td><td>0.0</td><td>0.0</td><td>0.0</td><td>0.0</td><td>0.0</td><td>0.0</td><td>0.0</td><td>0.0</td><td>0.0</td><td>0.0</td><td>0.0</td><td>0.0</td><td>0.0</td><td>0.0</td><td>0.0</td><td>0.0</td><td>0.0</td><td>0.0</td><td>0.0</td><td>0.0</td><td>0.0</td><td>0.0</td><td>0.0</td><td>0.0</td><td>0.0</td><td>0.0</td><td>0.0</td><td>0.0</td><td>0.0</td><td>0.0</td><td>0.0</td><td>0.0</td><td>0.0</td><td>0.0</td><td>0.0</td><td>0.0</td><td>0.0</td><td>0.0</td><td>0.0</td><td>0.0</td><td>0.0</td><td>0.0</td><td>0.0</td><td>0.0</td><td>0.0</td><td>0.0</td><td>0.0</td><td>0.0</td><td>0.0</td><td>0.0</td><td>0.0</td><td>0.0</td><td>0.0</td><td>0.0</td><td>0.0</td><td>0.0</td></tr><tr><td>&quot;mean&quot;</td><td>1.5249e6</td><td>0.034282</td><td>7.038678</td><td>9.354337</td><td>8.146537</td><td>8.376522</td><td>8.33127</td><td>7.168511</td><td>8.368086</td><td>9.687476</td><td>2.360909</td><td>2.996501</td><td>4.6004e-8</td><td>2.004888</td><td>4.585244</td><td>5.974021</td><td>15.871657</td><td>5.00133</td><td>3.999847</td><td>8.003467</td><td>0.919045</td><td>0.832162</td><td>0.956903</td><td>0.975044</td><td>0.975603</td><td>13.82128</td><td>2.212993</td><td>15.695309</td><td>0.697007</td><td>0.929893</td><td>0.857728</td><td>0.164764</td><td>0.38454</td><td>0.525384</td><td>0.65504</td><td>0.787443</td><td>0.919689</td><td>1.078998</td><td>1.23401</td><td>1.34712</td><td>1.455551</td><td>1.582719</td><td>2.71382</td><td>1.847166</td><td>1.970466</td><td>2.034014</td><td>2.083303</td><td>2.127751</td><td>2.169455</td><td>2.213549</td><td>2.253654</td><td>3.28793</td><td>2.319725</td><td>2.351136</td><td>2.384458</td><td>3.528222</td><td>1.034377</td><td>2.693328</td><td>3.52058</td><td>1.001708</td><td>0.145067</td><td>0.23069</td></tr><tr><td>&quot;std&quot;</td><td>723549.688774</td><td>0.181953</td><td>5.394833</td><td>5.769142</td><td>4.710982</td><td>5.333958</td><td>4.473746</td><td>5.148049</td><td>4.220082</td><td>5.827218</td><td>1.305871</td><td>0.710425</td><td>0.000214</td><td>0.278894</td><td>3.293656</td><td>0.393584</td><td>1.180054</td><td>0.074198</td><td>0.021244</td><td>0.151633</td><td>0.272766</td><td>0.373722</td><td>0.203075</td><td>0.155992</td><td>0.154277</td><td>4.392667</td><td>0.864126</td><td>3.968884</td><td>0.459552</td><td>0.255328</td><td>0.349329</td><td>0.630771</td><td>0.938109</td><td>1.089719</td><td>1.195525</td><td>1.281468</td><td>1.349198</td><td>1.409847</td><td>1.449275</td><td>1.467515</td><td>1.476748</td><td>1.477289</td><td>1.466012</td><td>1.442255</td><td>1.408024</td><td>1.38591</td><td>1.366623</td><td>1.347435</td><td>1.327925</td><td>1.305464</td><td>1.28337</td><td>1.263199</td><td>1.243401</td><td>1.222774</td><td>1.199663</td><td>1.08224</td><td>0.306032</td><td>0.50171</td><td>1.034013</td><td>0.048468</td><td>0.352168</td><td>0.421274</td></tr><tr><td>&quot;min&quot;</td><td>250000.0</td><td>0.0</td><td>1.0</td><td>0.0</td><td>0.0</td><td>0.0</td><td>0.0</td><td>0.0</td><td>0.0</td><td>0.0</td><td>0.0</td><td>1.0</td><td>0.0</td><td>0.0</td><td>0.0</td><td>0.0</td><td>0.0</td><td>0.0</td><td>0.0</td><td>2.0</td><td>0.0</td><td>0.0</td><td>0.0</td><td>0.0</td><td>0.0</td><td>0.0</td><td>0.0</td><td>0.0</td><td>0.0</td><td>0.0</td><td>0.0</td><td>0.0</td><td>0.0</td><td>0.0</td><td>0.0</td><td>0.0</td><td>0.0</td><td>0.0</td><td>0.0</td><td>0.0</td><td>0.0</td><td>0.0</td><td>1.0</td><td>0.0</td><td>0.0</td><td>0.0</td><td>0.0</td><td>0.0</td><td>0.0</td><td>0.0</td><td>0.0</td><td>1.0</td><td>0.0</td><td>0.0</td><td>0.0</td><td>1.0</td><td>0.0</td><td>0.0</td><td>0.0</td><td>0.0</td><td>0.0</td><td>0.0</td></tr><tr><td>&quot;25%&quot;</td><td>897476.0</td><td>0.0</td><td>3.0</td><td>4.0</td><td>4.0</td><td>4.0</td><td>6.0</td><td>2.0</td><td>5.0</td><td>5.0</td><td>2.0</td><td>3.0</td><td>0.0</td><td>2.0</td><td>2.0</td><td>6.0</td><td>16.0</td><td>5.0</td><td>4.0</td><td>8.0</td><td>1.0</td><td>1.0</td><td>1.0</td><td>1.0</td><td>1.0</td><td>15.0</td><td>2.0</td><td>17.0</td><td>0.0</td><td>1.0</td><td>1.0</td><td>0.0</td><td>0.0</td><td>0.0</td><td>0.0</td><td>0.0</td><td>0.0</td><td>0.0</td><td>0.0</td><td>0.0</td><td>0.0</td><td>0.0</td><td>1.0</td><td>0.0</td><td>0.0</td><td>0.0</td><td>0.0</td><td>0.0</td><td>0.0</td><td>0.0</td><td>1.0</td><td>4.0</td><td>3.0</td><td>3.0</td><td>3.0</td><td>4.0</td><td>1.0</td><td>2.0</td><td>3.0</td><td>1.0</td><td>0.0</td><td>0.0</td></tr><tr><td>&quot;50%&quot;</td><td>1.540965e6</td><td>0.0</td><td>6.0</td><td>9.0</td><td>9.0</td><td>8.0</td><td>8.0</td><td>7.0</td><td>10.0</td><td>10.0</td><td>2.0</td><td>3.0</td><td>0.0</td><td>2.0</td><td>4.0</td><td>6.0</td><td>16.0</td><td>5.0</td><td>4.0</td><td>8.0</td><td>1.0</td><td>1.0</td><td>1.0</td><td>1.0</td><td>1.0</td><td>16.0</td><td>2.0</td><td>17.0</td><td>1.0</td><td>1.0</td><td>1.0</td><td>0.0</td><td>0.0</td><td>0.0</td><td>0.0</td><td>0.0</td><td>0.0</td><td>0.0</td><td>0.0</td><td>0.0</td><td>1.0</td><td>3.0</td><td>4.0</td><td>3.0</td><td>3.0</td><td>3.0</td><td>3.0</td><td>3.0</td><td>3.0</td><td>3.0</td><td>3.0</td><td>4.0</td><td>3.0</td><td>3.0</td><td>3.0</td><td>4.0</td><td>1.0</td><td>3.0</td><td>4.0</td><td>1.0</td><td>0.0</td><td>0.0</td></tr><tr><td>&quot;75%&quot;</td><td>2.154297e6</td><td>0.0</td><td>10.0</td><td>14.0</td><td>11.0</td><td>14.0</td><td>12.0</td><td>12.0</td><td>11.0</td><td>15.0</td><td>2.0</td><td>3.0</td><td>0.0</td><td>2.0</td><td>6.0</td><td>6.0</td><td>16.0</td><td>5.0</td><td>4.0</td><td>8.0</td><td>1.0</td><td>1.0</td><td>1.0</td><td>1.0</td><td>1.0</td><td>16.0</td><td>2.0</td><td>17.0</td><td>1.0</td><td>1.0</td><td>1.0</td><td>0.0</td><td>0.0</td><td>0.0</td><td>1.0</td><td>1.0</td><td>3.0</td><td>3.0</td><td>3.0</td><td>3.0</td><td>3.0</td><td>3.0</td><td>4.0</td><td>3.0</td><td>3.0</td><td>3.0</td><td>3.0</td><td>3.0</td><td>3.0</td><td>3.0</td><td>3.0</td><td>4.0</td><td>3.0</td><td>3.0</td><td>3.0</td><td>4.0</td><td>1.0</td><td>3.0</td><td>4.0</td><td>1.0</td><td>0.0</td><td>0.0</td></tr><tr><td>&quot;max&quot;</td><td>2.749999e6</td><td>1.0</td><td>55.0</td><td>19.0</td><td>17.0</td><td>17.0</td><td>16.0</td><td>16.0</td><td>15.0</td><td>19.0</td><td>6.0</td><td>5.0</td><td>1.0</td><td>3.0</td><td>13.0</td><td>16.0</td><td>19.0</td><td>9.0</td><td>4.0</td><td>19.0</td><td>1.0</td><td>1.0</td><td>1.0</td><td>1.0</td><td>1.0</td><td>19.0</td><td>19.0</td><td>19.0</td><td>1.0</td><td>1.0</td><td>1.0</td><td>3.0</td><td>3.0</td><td>3.0</td><td>3.0</td><td>3.0</td><td>3.0</td><td>3.0</td><td>3.0</td><td>3.0</td><td>3.0</td><td>3.0</td><td>4.0</td><td>3.0</td><td>3.0</td><td>3.0</td><td>3.0</td><td>3.0</td><td>3.0</td><td>3.0</td><td>3.0</td><td>4.0</td><td>3.0</td><td>3.0</td><td>3.0</td><td>4.0</td><td>6.0</td><td>6.0</td><td>7.0</td><td>3.0</td><td>1.0</td><td>1.0</td></tr></tbody></table></div>"
      ],
      "text/plain": [
       "shape: (9, 63)\n",
       "┌───────────┬───────────┬───────────┬───────────┬───┬───────────┬───────────┬───────────┬──────────┐\n",
       "│ statistic ┆ id        ┆ flag      ┆ rn        ┆ … ┆ enc_loans ┆ enc_loans ┆ pclose_fl ┆ fclose_f │\n",
       "│ ---       ┆ ---       ┆ ---       ┆ ---       ┆   ┆ _credit_t ┆ _account_ ┆ ag        ┆ lag      │\n",
       "│ str       ┆ f64       ┆ f64       ┆ f64       ┆   ┆ ype       ┆ cur       ┆ ---       ┆ ---      │\n",
       "│           ┆           ┆           ┆           ┆   ┆ ---       ┆ ---       ┆ f64       ┆ f64      │\n",
       "│           ┆           ┆           ┆           ┆   ┆ f64       ┆ f64       ┆           ┆          │\n",
       "╞═══════════╪═══════════╪═══════════╪═══════════╪═══╪═══════════╪═══════════╪═══════════╪══════════╡\n",
       "│ count     ┆ 2.1737363 ┆ 2.1737363 ┆ 2.1737363 ┆ … ┆ 2.1737363 ┆ 2.1737363 ┆ 2.1737363 ┆ 2.173736 │\n",
       "│           ┆ e7        ┆ e7        ┆ e7        ┆   ┆ e7        ┆ e7        ┆ e7        ┆ 3e7      │\n",
       "│ null_coun ┆ 0.0       ┆ 0.0       ┆ 0.0       ┆ … ┆ 0.0       ┆ 0.0       ┆ 0.0       ┆ 0.0      │\n",
       "│ t         ┆           ┆           ┆           ┆   ┆           ┆           ┆           ┆          │\n",
       "│ mean      ┆ 1.5249e6  ┆ 0.034282  ┆ 7.038678  ┆ … ┆ 3.52058   ┆ 1.001708  ┆ 0.145067  ┆ 0.23069  │\n",
       "│ std       ┆ 723549.68 ┆ 0.181953  ┆ 5.394833  ┆ … ┆ 1.034013  ┆ 0.048468  ┆ 0.352168  ┆ 0.421274 │\n",
       "│           ┆ 8774      ┆           ┆           ┆   ┆           ┆           ┆           ┆          │\n",
       "│ min       ┆ 250000.0  ┆ 0.0       ┆ 1.0       ┆ … ┆ 0.0       ┆ 0.0       ┆ 0.0       ┆ 0.0      │\n",
       "│ 25%       ┆ 897476.0  ┆ 0.0       ┆ 3.0       ┆ … ┆ 3.0       ┆ 1.0       ┆ 0.0       ┆ 0.0      │\n",
       "│ 50%       ┆ 1.540965e ┆ 0.0       ┆ 6.0       ┆ … ┆ 4.0       ┆ 1.0       ┆ 0.0       ┆ 0.0      │\n",
       "│           ┆ 6         ┆           ┆           ┆   ┆           ┆           ┆           ┆          │\n",
       "│ 75%       ┆ 2.154297e ┆ 0.0       ┆ 10.0      ┆ … ┆ 4.0       ┆ 1.0       ┆ 0.0       ┆ 0.0      │\n",
       "│           ┆ 6         ┆           ┆           ┆   ┆           ┆           ┆           ┆          │\n",
       "│ max       ┆ 2.749999e ┆ 1.0       ┆ 55.0      ┆ … ┆ 7.0       ┆ 3.0       ┆ 1.0       ┆ 1.0      │\n",
       "│           ┆ 6         ┆           ┆           ┆   ┆           ┆           ┆           ┆          │\n",
       "└───────────┴───────────┴───────────┴───────────┴───┴───────────┴───────────┴───────────┴──────────┘"
      ]
     },
     "execution_count": 11,
     "metadata": {},
     "output_type": "execute_result"
    }
   ],
   "source": [
    "merged_raw.describe()"
   ]
  },
  {
   "cell_type": "code",
   "execution_count": 30,
   "metadata": {},
   "outputs": [
    {
     "name": "stderr",
     "output_type": "stream",
     "text": [
      "/var/folders/xq/s8yyn3z940xby0rrk387nvvm0000gn/T/ipykernel_4680/3281852681.py:17: DeprecationWarning: `groupby` is deprecated. It has been renamed to `group_by`.\n",
      "  pivot_result = pivot_result.select(pl.col(\"*\")).groupby('id').agg(pl.first(value_column))  # specify the aggregation function, e.g., pl.first, pl.sum, pl.mean, etc.\n"
     ]
    },
    {
     "ename": "DuplicateError",
     "evalue": "column with name 'id' has more than one occurrences\n\nError originated just after this operation:\nDF [\"id\", \"1\", \"2\", \"3\"]; PROJECT */56 COLUMNS; SELECTION: \"None\"",
     "output_type": "error",
     "traceback": [
      "\u001b[0;31m---------------------------------------------------------------------------\u001b[0m",
      "\u001b[0;31mDuplicateError\u001b[0m                            Traceback (most recent call last)",
      "Cell \u001b[0;32mIn[30], line 17\u001b[0m\n\u001b[1;32m      7\u001b[0m pivot_result \u001b[38;5;241m=\u001b[39m (\n\u001b[1;32m      8\u001b[0m     merged_raw\n\u001b[1;32m      9\u001b[0m     \u001b[38;5;241m.\u001b[39mpivot(\n\u001b[0;32m   (...)\u001b[0m\n\u001b[1;32m     13\u001b[0m     )\n\u001b[1;32m     14\u001b[0m )\n\u001b[1;32m     16\u001b[0m \u001b[38;5;66;03m# Apply aggregation function to the pivoted result\u001b[39;00m\n\u001b[0;32m---> 17\u001b[0m pivot_result \u001b[38;5;241m=\u001b[39m \u001b[43mpivot_result\u001b[49m\u001b[38;5;241;43m.\u001b[39;49m\u001b[43mselect\u001b[49m\u001b[43m(\u001b[49m\u001b[43mpl\u001b[49m\u001b[38;5;241;43m.\u001b[39;49m\u001b[43mcol\u001b[49m\u001b[43m(\u001b[49m\u001b[38;5;124;43m\"\u001b[39;49m\u001b[38;5;124;43m*\u001b[39;49m\u001b[38;5;124;43m\"\u001b[39;49m\u001b[43m)\u001b[49m\u001b[43m)\u001b[49m\u001b[38;5;241;43m.\u001b[39;49m\u001b[43mgroupby\u001b[49m\u001b[43m(\u001b[49m\u001b[38;5;124;43m'\u001b[39;49m\u001b[38;5;124;43mid\u001b[39;49m\u001b[38;5;124;43m'\u001b[39;49m\u001b[43m)\u001b[49m\u001b[38;5;241;43m.\u001b[39;49m\u001b[43magg\u001b[49m\u001b[43m(\u001b[49m\u001b[43mpl\u001b[49m\u001b[38;5;241;43m.\u001b[39;49m\u001b[43mfirst\u001b[49m\u001b[43m(\u001b[49m\u001b[43mvalue_column\u001b[49m\u001b[43m)\u001b[49m\u001b[43m)\u001b[49m  \u001b[38;5;66;03m# specify the aggregation function, e.g., pl.first, pl.sum, pl.mean, etc.\u001b[39;00m\n\u001b[1;32m     19\u001b[0m \u001b[38;5;66;03m# Append the pivoted result to the list\u001b[39;00m\n\u001b[1;32m     20\u001b[0m pivot_results\u001b[38;5;241m.\u001b[39mappend(pivot_result)\n",
      "File \u001b[0;32m~/Documents/Coding/bdss-datathon/venv/lib/python3.12/site-packages/polars/dataframe/group_by.py:250\u001b[0m, in \u001b[0;36mGroupBy.agg\u001b[0;34m(self, *aggs, **named_aggs)\u001b[0m\n\u001b[1;32m    141\u001b[0m \u001b[38;5;28;01mdef\u001b[39;00m \u001b[38;5;21magg\u001b[39m(\n\u001b[1;32m    142\u001b[0m     \u001b[38;5;28mself\u001b[39m,\n\u001b[1;32m    143\u001b[0m     \u001b[38;5;241m*\u001b[39maggs: IntoExpr \u001b[38;5;241m|\u001b[39m Iterable[IntoExpr],\n\u001b[1;32m    144\u001b[0m     \u001b[38;5;241m*\u001b[39m\u001b[38;5;241m*\u001b[39mnamed_aggs: IntoExpr,\n\u001b[1;32m    145\u001b[0m ) \u001b[38;5;241m-\u001b[39m\u001b[38;5;241m>\u001b[39m DataFrame:\n\u001b[1;32m    146\u001b[0m \u001b[38;5;250m    \u001b[39m\u001b[38;5;124;03m\"\"\"\u001b[39;00m\n\u001b[1;32m    147\u001b[0m \u001b[38;5;124;03m    Compute aggregations for each group of a group by operation.\u001b[39;00m\n\u001b[1;32m    148\u001b[0m \n\u001b[0;32m   (...)\u001b[0m\n\u001b[1;32m    244\u001b[0m \u001b[38;5;124;03m    └─────┴───────┴────────────────┘\u001b[39;00m\n\u001b[1;32m    245\u001b[0m \u001b[38;5;124;03m    \"\"\"\u001b[39;00m\n\u001b[1;32m    246\u001b[0m     \u001b[38;5;28;01mreturn\u001b[39;00m (\n\u001b[1;32m    247\u001b[0m         \u001b[38;5;28;43mself\u001b[39;49m\u001b[38;5;241;43m.\u001b[39;49m\u001b[43mdf\u001b[49m\u001b[38;5;241;43m.\u001b[39;49m\u001b[43mlazy\u001b[49m\u001b[43m(\u001b[49m\u001b[43m)\u001b[49m\n\u001b[1;32m    248\u001b[0m \u001b[43m        \u001b[49m\u001b[38;5;241;43m.\u001b[39;49m\u001b[43mgroup_by\u001b[49m\u001b[43m(\u001b[49m\u001b[38;5;241;43m*\u001b[39;49m\u001b[38;5;28;43mself\u001b[39;49m\u001b[38;5;241;43m.\u001b[39;49m\u001b[43mby\u001b[49m\u001b[43m,\u001b[49m\u001b[43m \u001b[49m\u001b[38;5;241;43m*\u001b[39;49m\u001b[38;5;241;43m*\u001b[39;49m\u001b[38;5;28;43mself\u001b[39;49m\u001b[38;5;241;43m.\u001b[39;49m\u001b[43mnamed_by\u001b[49m\u001b[43m,\u001b[49m\u001b[43m \u001b[49m\u001b[43mmaintain_order\u001b[49m\u001b[38;5;241;43m=\u001b[39;49m\u001b[38;5;28;43mself\u001b[39;49m\u001b[38;5;241;43m.\u001b[39;49m\u001b[43mmaintain_order\u001b[49m\u001b[43m)\u001b[49m\n\u001b[1;32m    249\u001b[0m \u001b[43m        \u001b[49m\u001b[38;5;241;43m.\u001b[39;49m\u001b[43magg\u001b[49m\u001b[43m(\u001b[49m\u001b[38;5;241;43m*\u001b[39;49m\u001b[43maggs\u001b[49m\u001b[43m,\u001b[49m\u001b[43m \u001b[49m\u001b[38;5;241;43m*\u001b[39;49m\u001b[38;5;241;43m*\u001b[39;49m\u001b[43mnamed_aggs\u001b[49m\u001b[43m)\u001b[49m\n\u001b[0;32m--> 250\u001b[0m \u001b[43m        \u001b[49m\u001b[38;5;241;43m.\u001b[39;49m\u001b[43mcollect\u001b[49m\u001b[43m(\u001b[49m\u001b[43mno_optimization\u001b[49m\u001b[38;5;241;43m=\u001b[39;49m\u001b[38;5;28;43;01mTrue\u001b[39;49;00m\u001b[43m)\u001b[49m\n\u001b[1;32m    251\u001b[0m     )\n",
      "File \u001b[0;32m~/Documents/Coding/bdss-datathon/venv/lib/python3.12/site-packages/polars/lazyframe/frame.py:1708\u001b[0m, in \u001b[0;36mLazyFrame.collect\u001b[0;34m(self, type_coercion, predicate_pushdown, projection_pushdown, simplify_expression, slice_pushdown, comm_subplan_elim, comm_subexpr_elim, no_optimization, streaming, background, _eager)\u001b[0m\n\u001b[1;32m   1705\u001b[0m \u001b[38;5;28;01mif\u001b[39;00m background:\n\u001b[1;32m   1706\u001b[0m     \u001b[38;5;28;01mreturn\u001b[39;00m InProcessQuery(ldf\u001b[38;5;241m.\u001b[39mcollect_concurrently())\n\u001b[0;32m-> 1708\u001b[0m \u001b[38;5;28;01mreturn\u001b[39;00m wrap_df(\u001b[43mldf\u001b[49m\u001b[38;5;241;43m.\u001b[39;49m\u001b[43mcollect\u001b[49m\u001b[43m(\u001b[49m\u001b[43m)\u001b[49m)\n",
      "\u001b[0;31mDuplicateError\u001b[0m: column with name 'id' has more than one occurrences\n\nError originated just after this operation:\nDF [\"id\", \"1\", \"2\", \"3\"]; PROJECT */56 COLUMNS; SELECTION: \"None\""
     ]
    }
   ],
   "source": [
    "## Failed pivot\n",
    "# Assuming values_list is a list of columns for values\n",
    "values_list = merged_raw.columns\n",
    "\n",
    "# Pivot each value column individually and store the results in a list\n",
    "pivot_results = []\n",
    "for value_column in values_list:\n",
    "    pivot_result = (\n",
    "        merged_raw\n",
    "        .pivot(\n",
    "            index='id',\n",
    "            values=value_column,\n",
    "            columns='rn'\n",
    "        )\n",
    "    )\n",
    "    \n",
    "    # Apply aggregation function to the pivoted result\n",
    "    pivot_result = pivot_result.select(pl.col(\"*\")).groupby('id').agg(pl.first(value_column))  # specify the aggregation function, e.g., pl.first, pl.sum, pl.mean, etc.\n",
    "    \n",
    "    # Append the pivoted result to the list\n",
    "    pivot_results.append(pivot_result)\n",
    "\n",
    "# Concatenate the pivoted results along the columns axis\n",
    "final_result = pl.concat_columns(pivot_results)\n",
    "\n",
    "# Reset the index to make 'id' a regular column again\n",
    "final_result = final_result.reset_index(drop=False)"
   ]
  },
  {
   "cell_type": "code",
   "execution_count": 17,
   "metadata": {},
   "outputs": [
    {
     "data": {
      "text/html": [
       "<div><style>\n",
       ".dataframe > thead > tr,\n",
       ".dataframe > tbody > tr {\n",
       "  text-align: right;\n",
       "  white-space: pre-wrap;\n",
       "}\n",
       "</style>\n",
       "<small>shape: (21_737_363, 62)</small><table border=\"1\" class=\"dataframe\"><thead><tr><th>id</th><th>flag</th><th>rn</th><th>pre_since_opened</th><th>pre_since_confirmed</th><th>pre_pterm</th><th>pre_fterm</th><th>pre_till_pclose</th><th>pre_till_fclose</th><th>pre_loans_credit_limit</th><th>pre_loans_next_pay_summ</th><th>pre_loans_outstanding</th><th>pre_loans_total_overdue</th><th>pre_loans_max_overdue_sum</th><th>pre_loans_credit_cost_rate</th><th>pre_loans5</th><th>pre_loans530</th><th>pre_loans3060</th><th>pre_loans6090</th><th>pre_loans90</th><th>is_zero_loans5</th><th>is_zero_loans530</th><th>is_zero_loans3060</th><th>is_zero_loans6090</th><th>is_zero_loans90</th><th>pre_util</th><th>pre_over2limit</th><th>pre_maxover2limit</th><th>is_zero_util</th><th>is_zero_over2limit</th><th>is_zero_maxover2limit</th><th>enc_paym_0</th><th>enc_paym_1</th><th>enc_paym_2</th><th>enc_paym_3</th><th>enc_paym_4</th><th>enc_paym_5</th><th>enc_paym_6</th><th>enc_paym_7</th><th>enc_paym_8</th><th>enc_paym_9</th><th>enc_paym_10</th><th>enc_paym_11</th><th>enc_paym_12</th><th>enc_paym_13</th><th>enc_paym_14</th><th>enc_paym_15</th><th>enc_paym_16</th><th>enc_paym_17</th><th>enc_paym_18</th><th>enc_paym_19</th><th>enc_paym_20</th><th>enc_paym_21</th><th>enc_paym_22</th><th>enc_paym_23</th><th>enc_paym_24</th><th>enc_loans_account_holder_type</th><th>enc_loans_credit_status</th><th>enc_loans_credit_type</th><th>enc_loans_account_cur</th><th>pclose_flag</th><th>fclose_flag</th></tr><tr><td>i64</td><td>i64</td><td>i64</td><td>i64</td><td>i64</td><td>i64</td><td>i64</td><td>i64</td><td>i64</td><td>i64</td><td>i64</td><td>i64</td><td>i64</td><td>i64</td><td>i64</td><td>i64</td><td>i64</td><td>i64</td><td>i64</td><td>i64</td><td>i64</td><td>i64</td><td>i64</td><td>i64</td><td>i64</td><td>i64</td><td>i64</td><td>i64</td><td>i64</td><td>i64</td><td>i64</td><td>i64</td><td>i64</td><td>i64</td><td>i64</td><td>i64</td><td>i64</td><td>i64</td><td>i64</td><td>i64</td><td>i64</td><td>i64</td><td>i64</td><td>i64</td><td>i64</td><td>i64</td><td>i64</td><td>i64</td><td>i64</td><td>i64</td><td>i64</td><td>i64</td><td>i64</td><td>i64</td><td>i64</td><td>i64</td><td>i64</td><td>i64</td><td>i64</td><td>i64</td><td>i64</td><td>i64</td></tr></thead><tbody><tr><td>250000</td><td>0</td><td>1</td><td>8</td><td>7</td><td>7</td><td>2</td><td>4</td><td>9</td><td>5</td><td>2</td><td>3</td><td>0</td><td>3</td><td>4</td><td>6</td><td>16</td><td>5</td><td>4</td><td>8</td><td>1</td><td>0</td><td>1</td><td>0</td><td>0</td><td>16</td><td>2</td><td>8</td><td>1</td><td>1</td><td>0</td><td>3</td><td>3</td><td>3</td><td>2</td><td>1</td><td>1</td><td>0</td><td>0</td><td>0</td><td>3</td><td>3</td><td>4</td><td>3</td><td>3</td><td>3</td><td>3</td><td>3</td><td>3</td><td>3</td><td>3</td><td>4</td><td>3</td><td>3</td><td>3</td><td>4</td><td>1</td><td>3</td><td>4</td><td>1</td><td>0</td><td>0</td></tr><tr><td>250000</td><td>0</td><td>2</td><td>14</td><td>8</td><td>12</td><td>10</td><td>6</td><td>3</td><td>12</td><td>6</td><td>3</td><td>0</td><td>2</td><td>4</td><td>6</td><td>16</td><td>5</td><td>4</td><td>8</td><td>1</td><td>1</td><td>0</td><td>0</td><td>1</td><td>16</td><td>2</td><td>17</td><td>1</td><td>1</td><td>1</td><td>3</td><td>2</td><td>0</td><td>0</td><td>0</td><td>0</td><td>0</td><td>0</td><td>0</td><td>0</td><td>0</td><td>1</td><td>0</td><td>0</td><td>0</td><td>0</td><td>0</td><td>0</td><td>0</td><td>3</td><td>4</td><td>3</td><td>3</td><td>3</td><td>4</td><td>1</td><td>3</td><td>4</td><td>1</td><td>0</td><td>0</td></tr><tr><td>250000</td><td>0</td><td>3</td><td>10</td><td>4</td><td>8</td><td>11</td><td>6</td><td>13</td><td>5</td><td>2</td><td>3</td><td>0</td><td>2</td><td>4</td><td>6</td><td>16</td><td>5</td><td>4</td><td>8</td><td>1</td><td>0</td><td>0</td><td>1</td><td>1</td><td>16</td><td>2</td><td>17</td><td>1</td><td>1</td><td>1</td><td>0</td><td>2</td><td>1</td><td>0</td><td>0</td><td>0</td><td>3</td><td>3</td><td>3</td><td>3</td><td>3</td><td>4</td><td>3</td><td>3</td><td>3</td><td>3</td><td>3</td><td>3</td><td>3</td><td>3</td><td>4</td><td>3</td><td>3</td><td>3</td><td>4</td><td>1</td><td>3</td><td>4</td><td>1</td><td>0</td><td>0</td></tr><tr><td>250000</td><td>0</td><td>4</td><td>13</td><td>12</td><td>8</td><td>6</td><td>13</td><td>5</td><td>12</td><td>2</td><td>3</td><td>0</td><td>2</td><td>10</td><td>6</td><td>16</td><td>5</td><td>4</td><td>8</td><td>1</td><td>0</td><td>0</td><td>0</td><td>0</td><td>16</td><td>2</td><td>17</td><td>1</td><td>1</td><td>1</td><td>0</td><td>3</td><td>3</td><td>3</td><td>3</td><td>3</td><td>3</td><td>3</td><td>3</td><td>3</td><td>3</td><td>4</td><td>3</td><td>3</td><td>3</td><td>3</td><td>3</td><td>3</td><td>3</td><td>3</td><td>4</td><td>3</td><td>3</td><td>3</td><td>4</td><td>1</td><td>3</td><td>4</td><td>1</td><td>0</td><td>0</td></tr><tr><td>250000</td><td>0</td><td>5</td><td>6</td><td>12</td><td>4</td><td>14</td><td>1</td><td>7</td><td>4</td><td>2</td><td>3</td><td>0</td><td>2</td><td>4</td><td>6</td><td>16</td><td>5</td><td>4</td><td>8</td><td>1</td><td>1</td><td>1</td><td>1</td><td>0</td><td>9</td><td>5</td><td>4</td><td>0</td><td>0</td><td>0</td><td>0</td><td>3</td><td>3</td><td>3</td><td>3</td><td>3</td><td>3</td><td>3</td><td>3</td><td>3</td><td>3</td><td>4</td><td>3</td><td>3</td><td>3</td><td>3</td><td>3</td><td>3</td><td>3</td><td>3</td><td>4</td><td>3</td><td>3</td><td>3</td><td>4</td><td>1</td><td>3</td><td>1</td><td>1</td><td>1</td><td>0</td></tr><tr><td>&hellip;</td><td>&hellip;</td><td>&hellip;</td><td>&hellip;</td><td>&hellip;</td><td>&hellip;</td><td>&hellip;</td><td>&hellip;</td><td>&hellip;</td><td>&hellip;</td><td>&hellip;</td><td>&hellip;</td><td>&hellip;</td><td>&hellip;</td><td>&hellip;</td><td>&hellip;</td><td>&hellip;</td><td>&hellip;</td><td>&hellip;</td><td>&hellip;</td><td>&hellip;</td><td>&hellip;</td><td>&hellip;</td><td>&hellip;</td><td>&hellip;</td><td>&hellip;</td><td>&hellip;</td><td>&hellip;</td><td>&hellip;</td><td>&hellip;</td><td>&hellip;</td><td>&hellip;</td><td>&hellip;</td><td>&hellip;</td><td>&hellip;</td><td>&hellip;</td><td>&hellip;</td><td>&hellip;</td><td>&hellip;</td><td>&hellip;</td><td>&hellip;</td><td>&hellip;</td><td>&hellip;</td><td>&hellip;</td><td>&hellip;</td><td>&hellip;</td><td>&hellip;</td><td>&hellip;</td><td>&hellip;</td><td>&hellip;</td><td>&hellip;</td><td>&hellip;</td><td>&hellip;</td><td>&hellip;</td><td>&hellip;</td><td>&hellip;</td><td>&hellip;</td><td>&hellip;</td><td>&hellip;</td><td>&hellip;</td><td>&hellip;</td><td>&hellip;</td></tr><tr><td>2749999</td><td>0</td><td>14</td><td>3</td><td>5</td><td>1</td><td>10</td><td>12</td><td>15</td><td>16</td><td>2</td><td>3</td><td>0</td><td>2</td><td>4</td><td>6</td><td>16</td><td>5</td><td>4</td><td>8</td><td>1</td><td>1</td><td>1</td><td>1</td><td>1</td><td>16</td><td>2</td><td>17</td><td>1</td><td>1</td><td>1</td><td>0</td><td>0</td><td>0</td><td>0</td><td>0</td><td>0</td><td>0</td><td>0</td><td>0</td><td>0</td><td>0</td><td>1</td><td>0</td><td>0</td><td>0</td><td>0</td><td>0</td><td>0</td><td>0</td><td>0</td><td>4</td><td>3</td><td>3</td><td>3</td><td>4</td><td>1</td><td>3</td><td>4</td><td>1</td><td>0</td><td>0</td></tr><tr><td>2749999</td><td>0</td><td>15</td><td>11</td><td>9</td><td>4</td><td>8</td><td>1</td><td>11</td><td>8</td><td>3</td><td>3</td><td>0</td><td>2</td><td>9</td><td>6</td><td>16</td><td>5</td><td>4</td><td>8</td><td>1</td><td>1</td><td>1</td><td>1</td><td>1</td><td>16</td><td>2</td><td>17</td><td>1</td><td>1</td><td>1</td><td>0</td><td>0</td><td>0</td><td>0</td><td>0</td><td>0</td><td>0</td><td>0</td><td>0</td><td>0</td><td>0</td><td>1</td><td>0</td><td>0</td><td>0</td><td>0</td><td>0</td><td>0</td><td>0</td><td>0</td><td>1</td><td>3</td><td>3</td><td>3</td><td>4</td><td>1</td><td>2</td><td>3</td><td>1</td><td>1</td><td>1</td></tr><tr><td>2749999</td><td>0</td><td>16</td><td>11</td><td>3</td><td>2</td><td>8</td><td>1</td><td>11</td><td>4</td><td>2</td><td>3</td><td>0</td><td>2</td><td>3</td><td>6</td><td>16</td><td>5</td><td>4</td><td>8</td><td>1</td><td>1</td><td>1</td><td>1</td><td>1</td><td>16</td><td>2</td><td>17</td><td>1</td><td>1</td><td>1</td><td>0</td><td>0</td><td>3</td><td>3</td><td>3</td><td>3</td><td>3</td><td>3</td><td>3</td><td>3</td><td>3</td><td>4</td><td>3</td><td>3</td><td>3</td><td>3</td><td>3</td><td>3</td><td>3</td><td>3</td><td>4</td><td>3</td><td>3</td><td>3</td><td>4</td><td>1</td><td>3</td><td>3</td><td>1</td><td>0</td><td>1</td></tr><tr><td>2749999</td><td>0</td><td>17</td><td>2</td><td>3</td><td>2</td><td>8</td><td>12</td><td>11</td><td>1</td><td>2</td><td>3</td><td>0</td><td>2</td><td>8</td><td>6</td><td>16</td><td>5</td><td>4</td><td>8</td><td>1</td><td>1</td><td>1</td><td>1</td><td>1</td><td>16</td><td>2</td><td>17</td><td>1</td><td>1</td><td>1</td><td>0</td><td>0</td><td>3</td><td>3</td><td>3</td><td>3</td><td>3</td><td>3</td><td>3</td><td>3</td><td>3</td><td>4</td><td>3</td><td>3</td><td>3</td><td>3</td><td>3</td><td>3</td><td>3</td><td>3</td><td>4</td><td>3</td><td>3</td><td>3</td><td>4</td><td>1</td><td>3</td><td>3</td><td>1</td><td>0</td><td>1</td></tr><tr><td>2749999</td><td>0</td><td>18</td><td>19</td><td>5</td><td>14</td><td>8</td><td>10</td><td>11</td><td>14</td><td>3</td><td>1</td><td>0</td><td>2</td><td>4</td><td>6</td><td>16</td><td>5</td><td>4</td><td>8</td><td>1</td><td>1</td><td>1</td><td>1</td><td>1</td><td>3</td><td>2</td><td>17</td><td>0</td><td>1</td><td>1</td><td>0</td><td>3</td><td>3</td><td>3</td><td>3</td><td>3</td><td>3</td><td>3</td><td>3</td><td>3</td><td>3</td><td>4</td><td>3</td><td>3</td><td>3</td><td>3</td><td>3</td><td>3</td><td>3</td><td>3</td><td>4</td><td>3</td><td>3</td><td>3</td><td>4</td><td>1</td><td>2</td><td>4</td><td>1</td><td>0</td><td>1</td></tr></tbody></table></div>"
      ],
      "text/plain": [
       "shape: (21_737_363, 62)\n",
       "┌─────────┬──────┬─────┬──────────────┬───┬──────────────┬─────────────┬─────────────┬─────────────┐\n",
       "│ id      ┆ flag ┆ rn  ┆ pre_since_op ┆ … ┆ enc_loans_cr ┆ enc_loans_a ┆ pclose_flag ┆ fclose_flag │\n",
       "│ ---     ┆ ---  ┆ --- ┆ ened         ┆   ┆ edit_type    ┆ ccount_cur  ┆ ---         ┆ ---         │\n",
       "│ i64     ┆ i64  ┆ i64 ┆ ---          ┆   ┆ ---          ┆ ---         ┆ i64         ┆ i64         │\n",
       "│         ┆      ┆     ┆ i64          ┆   ┆ i64          ┆ i64         ┆             ┆             │\n",
       "╞═════════╪══════╪═════╪══════════════╪═══╪══════════════╪═════════════╪═════════════╪═════════════╡\n",
       "│ 250000  ┆ 0    ┆ 1   ┆ 8            ┆ … ┆ 4            ┆ 1           ┆ 0           ┆ 0           │\n",
       "│ 250000  ┆ 0    ┆ 2   ┆ 14           ┆ … ┆ 4            ┆ 1           ┆ 0           ┆ 0           │\n",
       "│ 250000  ┆ 0    ┆ 3   ┆ 10           ┆ … ┆ 4            ┆ 1           ┆ 0           ┆ 0           │\n",
       "│ 250000  ┆ 0    ┆ 4   ┆ 13           ┆ … ┆ 4            ┆ 1           ┆ 0           ┆ 0           │\n",
       "│ 250000  ┆ 0    ┆ 5   ┆ 6            ┆ … ┆ 1            ┆ 1           ┆ 1           ┆ 0           │\n",
       "│ …       ┆ …    ┆ …   ┆ …            ┆ … ┆ …            ┆ …           ┆ …           ┆ …           │\n",
       "│ 2749999 ┆ 0    ┆ 14  ┆ 3            ┆ … ┆ 4            ┆ 1           ┆ 0           ┆ 0           │\n",
       "│ 2749999 ┆ 0    ┆ 15  ┆ 11           ┆ … ┆ 3            ┆ 1           ┆ 1           ┆ 1           │\n",
       "│ 2749999 ┆ 0    ┆ 16  ┆ 11           ┆ … ┆ 3            ┆ 1           ┆ 0           ┆ 1           │\n",
       "│ 2749999 ┆ 0    ┆ 17  ┆ 2            ┆ … ┆ 3            ┆ 1           ┆ 0           ┆ 1           │\n",
       "│ 2749999 ┆ 0    ┆ 18  ┆ 19           ┆ … ┆ 4            ┆ 1           ┆ 0           ┆ 1           │\n",
       "└─────────┴──────┴─────┴──────────────┴───┴──────────────┴─────────────┴─────────────┴─────────────┘"
      ]
     },
     "execution_count": 17,
     "metadata": {},
     "output_type": "execute_result"
    }
   ],
   "source": [
    "# Visualisation with merged_raw"
   ]
  }
 ],
 "metadata": {
  "kernelspec": {
   "display_name": "venv",
   "language": "python",
   "name": "python3"
  },
  "language_info": {
   "codemirror_mode": {
    "name": "ipython",
    "version": 3
   },
   "file_extension": ".py",
   "mimetype": "text/x-python",
   "name": "python",
   "nbconvert_exporter": "python",
   "pygments_lexer": "ipython3",
   "version": "3.12.3"
  }
 },
 "nbformat": 4,
 "nbformat_minor": 2
}
