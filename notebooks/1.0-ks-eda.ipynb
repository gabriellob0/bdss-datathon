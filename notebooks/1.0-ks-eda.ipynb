{
 "cells": [
  {
   "cell_type": "code",
   "execution_count": 3,
   "metadata": {},
   "outputs": [],
   "source": [
    "import pandas as pd\n",
    "import numpy as np\n",
    "import polars as pl"
   ]
  },
  {
   "cell_type": "code",
   "execution_count": 4,
   "metadata": {},
   "outputs": [],
   "source": [
    "train_data_0=pd.read_csv(\"C:/Users/notei/OneDrive/Рабочий стол/uni/Year 3/Datathon/bdss-datathon/data/raw/train_data_0.csv\")\n",
    "train_data_1=pd.read_csv(\"C:/Users/notei/OneDrive/Рабочий стол/uni/Year 3/Datathon/bdss-datathon/data/raw/train_data_1.csv\")\n",
    "train_data_2=pd.read_csv(\"C:/Users/notei/OneDrive/Рабочий стол/uni/Year 3/Datathon/bdss-datathon/data/raw/train_data_2.csv\")\n",
    "train_data_3=pd.read_csv(\"C:/Users/notei/OneDrive/Рабочий стол/uni/Year 3/Datathon/bdss-datathon/data/raw/train_data_3.csv\")\n",
    "train_data_4=pd.read_csv(\"C:/Users/notei/OneDrive/Рабочий стол/uni/Year 3/Datathon/bdss-datathon/data/raw/train_data_4.csv\")\n",
    "train_data_5=pd.read_csv(\"C:/Users/notei/OneDrive/Рабочий стол/uni/Year 3/Datathon/bdss-datathon/data/raw/train_data_5.csv\")\n",
    "train_data_6=pd.read_csv(\"C:/Users/notei/OneDrive/Рабочий стол/uni/Year 3/Datathon/bdss-datathon/data/raw/train_data_6.csv\")\n",
    "train_data_7=pd.read_csv(\"C:/Users/notei/OneDrive/Рабочий стол/uni/Year 3/Datathon/bdss-datathon/data/raw/train_data_7.csv\")\n",
    "train_data_8=pd.read_csv(\"C:/Users/notei/OneDrive/Рабочий стол/uni/Year 3/Datathon/bdss-datathon/data/raw/train_data_8.csv\")\n",
    "train_data_9=pd.read_csv(\"C:/Users/notei/OneDrive/Рабочий стол/uni/Year 3/Datathon/bdss-datathon/data/raw/train_data_9.csv\")\n",
    "train_data_10=pd.read_csv(\"C:/Users/notei/OneDrive/Рабочий стол/uni/Year 3/Datathon/bdss-datathon/data/raw/train_data_10.csv\")"
   ]
  },
  {
   "cell_type": "code",
   "execution_count": 5,
   "metadata": {},
   "outputs": [],
   "source": [
    "combined_train_data = pd.concat([train_data_1, train_data_2, train_data_3, train_data_4, train_data_5, train_data_6, train_data_7, train_data_8, train_data_9, train_data_10], ignore_index=True)"
   ]
  },
  {
   "cell_type": "code",
   "execution_count": 42,
   "metadata": {},
   "outputs": [
    {
     "name": "stderr",
     "output_type": "stream",
     "text": [
      "C:\\Users\\notei\\AppData\\Local\\Temp\\ipykernel_13048\\455669115.py:3: DeprecationWarning: `groupby` is deprecated. It has been renamed to `group_by`.\n",
      "  max_rn_per_id = df.groupby('id').agg(pl.col('rn').max().alias('max_rn_per_id'))\n"
     ]
    }
   ],
   "source": [
    "df=pl.from_pandas(combined_train_data)\n",
    "\n",
    "max_rn_per_id = df.groupby('id').agg(pl.col('rn').max().alias('max_rn_per_id'))\n",
    "df = df.join(max_rn_per_id, on='id')"
   ]
  },
  {
   "cell_type": "code",
   "execution_count": 45,
   "metadata": {},
   "outputs": [
    {
     "name": "stderr",
     "output_type": "stream",
     "text": [
      "C:\\Users\\notei\\AppData\\Local\\Temp\\ipykernel_13048\\2577819993.py:5: DeprecationWarning: `groupby` is deprecated. It has been renamed to `group_by`.\n",
      "  filtered_ids_data = df.groupby('id').count().filter(pl.col(\"count\") <= 3)\n",
      "C:\\Users\\notei\\AppData\\Local\\Temp\\ipykernel_13048\\2577819993.py:5: DeprecationWarning: `count` is deprecated. It has been renamed to `len`.\n",
      "  filtered_ids_data = df.groupby('id').count().filter(pl.col(\"count\") <= 3)\n"
     ]
    }
   ],
   "source": [
    "#could to include more than 3 obs per customer\n",
    "\n",
    "\n",
    "# Group by the 'id' column, count occurrences, and filter to keep only those with count <= 3\n",
    "filtered_ids_data = df.groupby('id').count().filter(pl.col(\"count\") <= 3)\n",
    "\n",
    "# Join the filtered DataFrame with the original DataFrame on the 'id' column\n",
    "filtered_ids = df.join(filtered_ids_data, on='id', how='inner')"
   ]
  },
  {
   "cell_type": "code",
   "execution_count": 46,
   "metadata": {},
   "outputs": [],
   "source": [
    "filtered_ids=filtered_ids.drop('count')"
   ]
  },
  {
   "cell_type": "code",
   "execution_count": 55,
   "metadata": {},
   "outputs": [],
   "source": [
    "pivoted_df=filtered_ids.pivot(index=['id', 'max_rn_per_id'], values=None, columns='rn', aggregate_function=None)"
   ]
  },
  {
   "cell_type": "code",
   "execution_count": 56,
   "metadata": {},
   "outputs": [
    {
     "data": {
      "text/html": [
       "<div><style>\n",
       ".dataframe > thead > tr,\n",
       ".dataframe > tbody > tr {\n",
       "  text-align: right;\n",
       "  white-space: pre-wrap;\n",
       "}\n",
       "</style>\n",
       "<small>shape: (5, 179)</small><table border=\"1\" class=\"dataframe\"><thead><tr><th>id</th><th>max_rn_per_id</th><th>pre_since_opened_rn_1</th><th>pre_since_opened_rn_2</th><th>pre_since_opened_rn_3</th><th>pre_since_confirmed_rn_1</th><th>pre_since_confirmed_rn_2</th><th>pre_since_confirmed_rn_3</th><th>pre_pterm_rn_1</th><th>pre_pterm_rn_2</th><th>pre_pterm_rn_3</th><th>pre_fterm_rn_1</th><th>pre_fterm_rn_2</th><th>pre_fterm_rn_3</th><th>pre_till_pclose_rn_1</th><th>pre_till_pclose_rn_2</th><th>pre_till_pclose_rn_3</th><th>pre_till_fclose_rn_1</th><th>pre_till_fclose_rn_2</th><th>pre_till_fclose_rn_3</th><th>pre_loans_credit_limit_rn_1</th><th>pre_loans_credit_limit_rn_2</th><th>pre_loans_credit_limit_rn_3</th><th>pre_loans_next_pay_summ_rn_1</th><th>pre_loans_next_pay_summ_rn_2</th><th>pre_loans_next_pay_summ_rn_3</th><th>pre_loans_outstanding_rn_1</th><th>pre_loans_outstanding_rn_2</th><th>pre_loans_outstanding_rn_3</th><th>pre_loans_total_overdue_rn_1</th><th>pre_loans_total_overdue_rn_2</th><th>pre_loans_total_overdue_rn_3</th><th>pre_loans_max_overdue_sum_rn_1</th><th>pre_loans_max_overdue_sum_rn_2</th><th>pre_loans_max_overdue_sum_rn_3</th><th>pre_loans_credit_cost_rate_rn_1</th><th>pre_loans_credit_cost_rate_rn_2</th><th>&hellip;</th><th>enc_paym_18_rn_3</th><th>enc_paym_19_rn_1</th><th>enc_paym_19_rn_2</th><th>enc_paym_19_rn_3</th><th>enc_paym_20_rn_1</th><th>enc_paym_20_rn_2</th><th>enc_paym_20_rn_3</th><th>enc_paym_21_rn_1</th><th>enc_paym_21_rn_2</th><th>enc_paym_21_rn_3</th><th>enc_paym_22_rn_1</th><th>enc_paym_22_rn_2</th><th>enc_paym_22_rn_3</th><th>enc_paym_23_rn_1</th><th>enc_paym_23_rn_2</th><th>enc_paym_23_rn_3</th><th>enc_paym_24_rn_1</th><th>enc_paym_24_rn_2</th><th>enc_paym_24_rn_3</th><th>enc_loans_account_holder_type_rn_1</th><th>enc_loans_account_holder_type_rn_2</th><th>enc_loans_account_holder_type_rn_3</th><th>enc_loans_credit_status_rn_1</th><th>enc_loans_credit_status_rn_2</th><th>enc_loans_credit_status_rn_3</th><th>enc_loans_credit_type_rn_1</th><th>enc_loans_credit_type_rn_2</th><th>enc_loans_credit_type_rn_3</th><th>enc_loans_account_cur_rn_1</th><th>enc_loans_account_cur_rn_2</th><th>enc_loans_account_cur_rn_3</th><th>pclose_flag_rn_1</th><th>pclose_flag_rn_2</th><th>pclose_flag_rn_3</th><th>fclose_flag_rn_1</th><th>fclose_flag_rn_2</th><th>fclose_flag_rn_3</th></tr><tr><td>i64</td><td>i64</td><td>i64</td><td>i64</td><td>i64</td><td>i64</td><td>i64</td><td>i64</td><td>i64</td><td>i64</td><td>i64</td><td>i64</td><td>i64</td><td>i64</td><td>i64</td><td>i64</td><td>i64</td><td>i64</td><td>i64</td><td>i64</td><td>i64</td><td>i64</td><td>i64</td><td>i64</td><td>i64</td><td>i64</td><td>i64</td><td>i64</td><td>i64</td><td>i64</td><td>i64</td><td>i64</td><td>i64</td><td>i64</td><td>i64</td><td>i64</td><td>i64</td><td>&hellip;</td><td>i64</td><td>i64</td><td>i64</td><td>i64</td><td>i64</td><td>i64</td><td>i64</td><td>i64</td><td>i64</td><td>i64</td><td>i64</td><td>i64</td><td>i64</td><td>i64</td><td>i64</td><td>i64</td><td>i64</td><td>i64</td><td>i64</td><td>i64</td><td>i64</td><td>i64</td><td>i64</td><td>i64</td><td>i64</td><td>i64</td><td>i64</td><td>i64</td><td>i64</td><td>i64</td><td>i64</td><td>i64</td><td>i64</td><td>i64</td><td>i64</td><td>i64</td><td>i64</td></tr></thead><tbody><tr><td>250002</td><td>3</td><td>15</td><td>0</td><td>9</td><td>1</td><td>5</td><td>6</td><td>9</td><td>0</td><td>4</td><td>9</td><td>7</td><td>8</td><td>9</td><td>2</td><td>1</td><td>1</td><td>6</td><td>11</td><td>19</td><td>14</td><td>1</td><td>2</td><td>2</td><td>1</td><td>3</td><td>3</td><td>4</td><td>0</td><td>0</td><td>0</td><td>2</td><td>2</td><td>2</td><td>2</td><td>2</td><td>&hellip;</td><td>3</td><td>3</td><td>0</td><td>3</td><td>4</td><td>1</td><td>4</td><td>3</td><td>0</td><td>3</td><td>3</td><td>0</td><td>3</td><td>3</td><td>0</td><td>3</td><td>4</td><td>1</td><td>4</td><td>1</td><td>1</td><td>1</td><td>3</td><td>3</td><td>2</td><td>1</td><td>3</td><td>3</td><td>1</td><td>1</td><td>1</td><td>0</td><td>0</td><td>1</td><td>0</td><td>0</td><td>1</td></tr><tr><td>250003</td><td>2</td><td>8</td><td>10</td><td>null</td><td>6</td><td>12</td><td>null</td><td>6</td><td>4</td><td>null</td><td>1</td><td>13</td><td>null</td><td>8</td><td>1</td><td>null</td><td>8</td><td>7</td><td>null</td><td>15</td><td>14</td><td>null</td><td>3</td><td>2</td><td>null</td><td>1</td><td>3</td><td>null</td><td>0</td><td>0</td><td>null</td><td>2</td><td>2</td><td>null</td><td>2</td><td>2</td><td>&hellip;</td><td>null</td><td>0</td><td>3</td><td>null</td><td>1</td><td>4</td><td>null</td><td>0</td><td>3</td><td>null</td><td>0</td><td>3</td><td>null</td><td>0</td><td>3</td><td>null</td><td>1</td><td>4</td><td>null</td><td>1</td><td>1</td><td>null</td><td>2</td><td>3</td><td>null</td><td>3</td><td>1</td><td>null</td><td>1</td><td>1</td><td>null</td><td>0</td><td>1</td><td>null</td><td>0</td><td>0</td><td>null</td></tr><tr><td>250004</td><td>2</td><td>4</td><td>19</td><td>null</td><td>8</td><td>0</td><td>null</td><td>15</td><td>1</td><td>null</td><td>9</td><td>8</td><td>null</td><td>5</td><td>14</td><td>null</td><td>7</td><td>11</td><td>null</td><td>19</td><td>8</td><td>null</td><td>2</td><td>2</td><td>null</td><td>3</td><td>5</td><td>null</td><td>0</td><td>0</td><td>null</td><td>2</td><td>2</td><td>null</td><td>10</td><td>0</td><td>&hellip;</td><td>null</td><td>3</td><td>3</td><td>null</td><td>4</td><td>4</td><td>null</td><td>3</td><td>3</td><td>null</td><td>3</td><td>3</td><td>null</td><td>3</td><td>3</td><td>null</td><td>4</td><td>4</td><td>null</td><td>1</td><td>1</td><td>null</td><td>3</td><td>2</td><td>null</td><td>4</td><td>4</td><td>null</td><td>1</td><td>1</td><td>null</td><td>0</td><td>0</td><td>null</td><td>0</td><td>1</td><td>null</td></tr><tr><td>250006</td><td>1</td><td>3</td><td>null</td><td>null</td><td>10</td><td>null</td><td>null</td><td>6</td><td>null</td><td>null</td><td>8</td><td>null</td><td>null</td><td>0</td><td>null</td><td>null</td><td>11</td><td>null</td><td>null</td><td>2</td><td>null</td><td>null</td><td>5</td><td>null</td><td>null</td><td>1</td><td>null</td><td>null</td><td>0</td><td>null</td><td>null</td><td>2</td><td>null</td><td>null</td><td>4</td><td>null</td><td>&hellip;</td><td>null</td><td>3</td><td>null</td><td>null</td><td>4</td><td>null</td><td>null</td><td>3</td><td>null</td><td>null</td><td>3</td><td>null</td><td>null</td><td>3</td><td>null</td><td>null</td><td>4</td><td>null</td><td>null</td><td>1</td><td>null</td><td>null</td><td>2</td><td>null</td><td>null</td><td>0</td><td>null</td><td>null</td><td>1</td><td>null</td><td>null</td><td>0</td><td>null</td><td>null</td><td>1</td><td>null</td><td>null</td></tr><tr><td>250007</td><td>1</td><td>7</td><td>null</td><td>null</td><td>9</td><td>null</td><td>null</td><td>4</td><td>null</td><td>null</td><td>8</td><td>null</td><td>null</td><td>1</td><td>null</td><td>null</td><td>11</td><td>null</td><td>null</td><td>1</td><td>null</td><td>null</td><td>6</td><td>null</td><td>null</td><td>4</td><td>null</td><td>null</td><td>0</td><td>null</td><td>null</td><td>2</td><td>null</td><td>null</td><td>7</td><td>null</td><td>&hellip;</td><td>null</td><td>3</td><td>null</td><td>null</td><td>4</td><td>null</td><td>null</td><td>3</td><td>null</td><td>null</td><td>3</td><td>null</td><td>null</td><td>3</td><td>null</td><td>null</td><td>4</td><td>null</td><td>null</td><td>1</td><td>null</td><td>null</td><td>2</td><td>null</td><td>null</td><td>4</td><td>null</td><td>null</td><td>1</td><td>null</td><td>null</td><td>1</td><td>null</td><td>null</td><td>1</td><td>null</td><td>null</td></tr></tbody></table></div>"
      ],
      "text/plain": [
       "shape: (5, 179)\n",
       "┌────────┬────────────┬────────────┬───────────┬───┬───────────┬───────────┬───────────┬───────────┐\n",
       "│ id     ┆ max_rn_per ┆ pre_since_ ┆ pre_since ┆ … ┆ pclose_fl ┆ fclose_fl ┆ fclose_fl ┆ fclose_fl │\n",
       "│ ---    ┆ _id        ┆ opened_rn_ ┆ _opened_r ┆   ┆ ag_rn_3   ┆ ag_rn_1   ┆ ag_rn_2   ┆ ag_rn_3   │\n",
       "│ i64    ┆ ---        ┆ 1          ┆ n_2       ┆   ┆ ---       ┆ ---       ┆ ---       ┆ ---       │\n",
       "│        ┆ i64        ┆ ---        ┆ ---       ┆   ┆ i64       ┆ i64       ┆ i64       ┆ i64       │\n",
       "│        ┆            ┆ i64        ┆ i64       ┆   ┆           ┆           ┆           ┆           │\n",
       "╞════════╪════════════╪════════════╪═══════════╪═══╪═══════════╪═══════════╪═══════════╪═══════════╡\n",
       "│ 250002 ┆ 3          ┆ 15         ┆ 0         ┆ … ┆ 1         ┆ 0         ┆ 0         ┆ 1         │\n",
       "│ 250003 ┆ 2          ┆ 8          ┆ 10        ┆ … ┆ null      ┆ 0         ┆ 0         ┆ null      │\n",
       "│ 250004 ┆ 2          ┆ 4          ┆ 19        ┆ … ┆ null      ┆ 0         ┆ 1         ┆ null      │\n",
       "│ 250006 ┆ 1          ┆ 3          ┆ null      ┆ … ┆ null      ┆ 1         ┆ null      ┆ null      │\n",
       "│ 250007 ┆ 1          ┆ 7          ┆ null      ┆ … ┆ null      ┆ 1         ┆ null      ┆ null      │\n",
       "└────────┴────────────┴────────────┴───────────┴───┴───────────┴───────────┴───────────┴───────────┘"
      ]
     },
     "execution_count": 56,
     "metadata": {},
     "output_type": "execute_result"
    }
   ],
   "source": [
    "pivoted_df.head()"
   ]
  },
  {
   "cell_type": "code",
   "execution_count": 16,
   "metadata": {},
   "outputs": [],
   "source": [
    "train_target=pl.read_csv(\"C:/Users/notei/OneDrive/Рабочий стол/uni/Year 3/Datathon/bdss-datathon/data/raw/train_target.csv\")"
   ]
  },
  {
   "cell_type": "code",
   "execution_count": 17,
   "metadata": {},
   "outputs": [],
   "source": [
    "merged_df = train_target.join(pivoted_df, on='id', how='inner')"
   ]
  },
  {
   "cell_type": "code",
   "execution_count": 18,
   "metadata": {},
   "outputs": [
    {
     "data": {
      "text/html": [
       "<div><style>\n",
       ".dataframe > thead > tr,\n",
       ".dataframe > tbody > tr {\n",
       "  text-align: right;\n",
       "  white-space: pre-wrap;\n",
       "}\n",
       "</style>\n",
       "<small>shape: (5, 179)</small><table border=\"1\" class=\"dataframe\"><thead><tr><th>id</th><th>flag</th><th>pre_since_opened_rn_1</th><th>pre_since_opened_rn_2</th><th>pre_since_opened_rn_3</th><th>pre_since_confirmed_rn_1</th><th>pre_since_confirmed_rn_2</th><th>pre_since_confirmed_rn_3</th><th>pre_pterm_rn_1</th><th>pre_pterm_rn_2</th><th>pre_pterm_rn_3</th><th>pre_fterm_rn_1</th><th>pre_fterm_rn_2</th><th>pre_fterm_rn_3</th><th>pre_till_pclose_rn_1</th><th>pre_till_pclose_rn_2</th><th>pre_till_pclose_rn_3</th><th>pre_till_fclose_rn_1</th><th>pre_till_fclose_rn_2</th><th>pre_till_fclose_rn_3</th><th>pre_loans_credit_limit_rn_1</th><th>pre_loans_credit_limit_rn_2</th><th>pre_loans_credit_limit_rn_3</th><th>pre_loans_next_pay_summ_rn_1</th><th>pre_loans_next_pay_summ_rn_2</th><th>pre_loans_next_pay_summ_rn_3</th><th>pre_loans_outstanding_rn_1</th><th>pre_loans_outstanding_rn_2</th><th>pre_loans_outstanding_rn_3</th><th>pre_loans_total_overdue_rn_1</th><th>pre_loans_total_overdue_rn_2</th><th>pre_loans_total_overdue_rn_3</th><th>pre_loans_max_overdue_sum_rn_1</th><th>pre_loans_max_overdue_sum_rn_2</th><th>pre_loans_max_overdue_sum_rn_3</th><th>pre_loans_credit_cost_rate_rn_1</th><th>pre_loans_credit_cost_rate_rn_2</th><th>&hellip;</th><th>enc_paym_18_rn_3</th><th>enc_paym_19_rn_1</th><th>enc_paym_19_rn_2</th><th>enc_paym_19_rn_3</th><th>enc_paym_20_rn_1</th><th>enc_paym_20_rn_2</th><th>enc_paym_20_rn_3</th><th>enc_paym_21_rn_1</th><th>enc_paym_21_rn_2</th><th>enc_paym_21_rn_3</th><th>enc_paym_22_rn_1</th><th>enc_paym_22_rn_2</th><th>enc_paym_22_rn_3</th><th>enc_paym_23_rn_1</th><th>enc_paym_23_rn_2</th><th>enc_paym_23_rn_3</th><th>enc_paym_24_rn_1</th><th>enc_paym_24_rn_2</th><th>enc_paym_24_rn_3</th><th>enc_loans_account_holder_type_rn_1</th><th>enc_loans_account_holder_type_rn_2</th><th>enc_loans_account_holder_type_rn_3</th><th>enc_loans_credit_status_rn_1</th><th>enc_loans_credit_status_rn_2</th><th>enc_loans_credit_status_rn_3</th><th>enc_loans_credit_type_rn_1</th><th>enc_loans_credit_type_rn_2</th><th>enc_loans_credit_type_rn_3</th><th>enc_loans_account_cur_rn_1</th><th>enc_loans_account_cur_rn_2</th><th>enc_loans_account_cur_rn_3</th><th>pclose_flag_rn_1</th><th>pclose_flag_rn_2</th><th>pclose_flag_rn_3</th><th>fclose_flag_rn_1</th><th>fclose_flag_rn_2</th><th>fclose_flag_rn_3</th></tr><tr><td>i64</td><td>i64</td><td>i64</td><td>i64</td><td>i64</td><td>i64</td><td>i64</td><td>i64</td><td>i64</td><td>i64</td><td>i64</td><td>i64</td><td>i64</td><td>i64</td><td>i64</td><td>i64</td><td>i64</td><td>i64</td><td>i64</td><td>i64</td><td>i64</td><td>i64</td><td>i64</td><td>i64</td><td>i64</td><td>i64</td><td>i64</td><td>i64</td><td>i64</td><td>i64</td><td>i64</td><td>i64</td><td>i64</td><td>i64</td><td>i64</td><td>i64</td><td>i64</td><td>&hellip;</td><td>i64</td><td>i64</td><td>i64</td><td>i64</td><td>i64</td><td>i64</td><td>i64</td><td>i64</td><td>i64</td><td>i64</td><td>i64</td><td>i64</td><td>i64</td><td>i64</td><td>i64</td><td>i64</td><td>i64</td><td>i64</td><td>i64</td><td>i64</td><td>i64</td><td>i64</td><td>i64</td><td>i64</td><td>i64</td><td>i64</td><td>i64</td><td>i64</td><td>i64</td><td>i64</td><td>i64</td><td>i64</td><td>i64</td><td>i64</td><td>i64</td><td>i64</td><td>i64</td></tr></thead><tbody><tr><td>250002</td><td>0</td><td>15</td><td>0</td><td>9</td><td>1</td><td>5</td><td>6</td><td>9</td><td>0</td><td>4</td><td>9</td><td>7</td><td>8</td><td>9</td><td>2</td><td>1</td><td>1</td><td>6</td><td>11</td><td>19</td><td>14</td><td>1</td><td>2</td><td>2</td><td>1</td><td>3</td><td>3</td><td>4</td><td>0</td><td>0</td><td>0</td><td>2</td><td>2</td><td>2</td><td>2</td><td>2</td><td>&hellip;</td><td>3</td><td>3</td><td>0</td><td>3</td><td>4</td><td>1</td><td>4</td><td>3</td><td>0</td><td>3</td><td>3</td><td>0</td><td>3</td><td>3</td><td>0</td><td>3</td><td>4</td><td>1</td><td>4</td><td>1</td><td>1</td><td>1</td><td>3</td><td>3</td><td>2</td><td>1</td><td>3</td><td>3</td><td>1</td><td>1</td><td>1</td><td>0</td><td>0</td><td>1</td><td>0</td><td>0</td><td>1</td></tr><tr><td>250003</td><td>0</td><td>8</td><td>10</td><td>null</td><td>6</td><td>12</td><td>null</td><td>6</td><td>4</td><td>null</td><td>1</td><td>13</td><td>null</td><td>8</td><td>1</td><td>null</td><td>8</td><td>7</td><td>null</td><td>15</td><td>14</td><td>null</td><td>3</td><td>2</td><td>null</td><td>1</td><td>3</td><td>null</td><td>0</td><td>0</td><td>null</td><td>2</td><td>2</td><td>null</td><td>2</td><td>2</td><td>&hellip;</td><td>null</td><td>0</td><td>3</td><td>null</td><td>1</td><td>4</td><td>null</td><td>0</td><td>3</td><td>null</td><td>0</td><td>3</td><td>null</td><td>0</td><td>3</td><td>null</td><td>1</td><td>4</td><td>null</td><td>1</td><td>1</td><td>null</td><td>2</td><td>3</td><td>null</td><td>3</td><td>1</td><td>null</td><td>1</td><td>1</td><td>null</td><td>0</td><td>1</td><td>null</td><td>0</td><td>0</td><td>null</td></tr><tr><td>250004</td><td>0</td><td>4</td><td>19</td><td>null</td><td>8</td><td>0</td><td>null</td><td>15</td><td>1</td><td>null</td><td>9</td><td>8</td><td>null</td><td>5</td><td>14</td><td>null</td><td>7</td><td>11</td><td>null</td><td>19</td><td>8</td><td>null</td><td>2</td><td>2</td><td>null</td><td>3</td><td>5</td><td>null</td><td>0</td><td>0</td><td>null</td><td>2</td><td>2</td><td>null</td><td>10</td><td>0</td><td>&hellip;</td><td>null</td><td>3</td><td>3</td><td>null</td><td>4</td><td>4</td><td>null</td><td>3</td><td>3</td><td>null</td><td>3</td><td>3</td><td>null</td><td>3</td><td>3</td><td>null</td><td>4</td><td>4</td><td>null</td><td>1</td><td>1</td><td>null</td><td>3</td><td>2</td><td>null</td><td>4</td><td>4</td><td>null</td><td>1</td><td>1</td><td>null</td><td>0</td><td>0</td><td>null</td><td>0</td><td>1</td><td>null</td></tr><tr><td>250006</td><td>0</td><td>3</td><td>null</td><td>null</td><td>10</td><td>null</td><td>null</td><td>6</td><td>null</td><td>null</td><td>8</td><td>null</td><td>null</td><td>0</td><td>null</td><td>null</td><td>11</td><td>null</td><td>null</td><td>2</td><td>null</td><td>null</td><td>5</td><td>null</td><td>null</td><td>1</td><td>null</td><td>null</td><td>0</td><td>null</td><td>null</td><td>2</td><td>null</td><td>null</td><td>4</td><td>null</td><td>&hellip;</td><td>null</td><td>3</td><td>null</td><td>null</td><td>4</td><td>null</td><td>null</td><td>3</td><td>null</td><td>null</td><td>3</td><td>null</td><td>null</td><td>3</td><td>null</td><td>null</td><td>4</td><td>null</td><td>null</td><td>1</td><td>null</td><td>null</td><td>2</td><td>null</td><td>null</td><td>0</td><td>null</td><td>null</td><td>1</td><td>null</td><td>null</td><td>0</td><td>null</td><td>null</td><td>1</td><td>null</td><td>null</td></tr><tr><td>250007</td><td>0</td><td>7</td><td>null</td><td>null</td><td>9</td><td>null</td><td>null</td><td>4</td><td>null</td><td>null</td><td>8</td><td>null</td><td>null</td><td>1</td><td>null</td><td>null</td><td>11</td><td>null</td><td>null</td><td>1</td><td>null</td><td>null</td><td>6</td><td>null</td><td>null</td><td>4</td><td>null</td><td>null</td><td>0</td><td>null</td><td>null</td><td>2</td><td>null</td><td>null</td><td>7</td><td>null</td><td>&hellip;</td><td>null</td><td>3</td><td>null</td><td>null</td><td>4</td><td>null</td><td>null</td><td>3</td><td>null</td><td>null</td><td>3</td><td>null</td><td>null</td><td>3</td><td>null</td><td>null</td><td>4</td><td>null</td><td>null</td><td>1</td><td>null</td><td>null</td><td>2</td><td>null</td><td>null</td><td>4</td><td>null</td><td>null</td><td>1</td><td>null</td><td>null</td><td>1</td><td>null</td><td>null</td><td>1</td><td>null</td><td>null</td></tr></tbody></table></div>"
      ],
      "text/plain": [
       "shape: (5, 179)\n",
       "┌────────┬──────┬─────────────┬────────────┬───┬────────────┬────────────┬────────────┬────────────┐\n",
       "│ id     ┆ flag ┆ pre_since_o ┆ pre_since_ ┆ … ┆ pclose_fla ┆ fclose_fla ┆ fclose_fla ┆ fclose_fla │\n",
       "│ ---    ┆ ---  ┆ pened_rn_1  ┆ opened_rn_ ┆   ┆ g_rn_3     ┆ g_rn_1     ┆ g_rn_2     ┆ g_rn_3     │\n",
       "│ i64    ┆ i64  ┆ ---         ┆ 2          ┆   ┆ ---        ┆ ---        ┆ ---        ┆ ---        │\n",
       "│        ┆      ┆ i64         ┆ ---        ┆   ┆ i64        ┆ i64        ┆ i64        ┆ i64        │\n",
       "│        ┆      ┆             ┆ i64        ┆   ┆            ┆            ┆            ┆            │\n",
       "╞════════╪══════╪═════════════╪════════════╪═══╪════════════╪════════════╪════════════╪════════════╡\n",
       "│ 250002 ┆ 0    ┆ 15          ┆ 0          ┆ … ┆ 1          ┆ 0          ┆ 0          ┆ 1          │\n",
       "│ 250003 ┆ 0    ┆ 8           ┆ 10         ┆ … ┆ null       ┆ 0          ┆ 0          ┆ null       │\n",
       "│ 250004 ┆ 0    ┆ 4           ┆ 19         ┆ … ┆ null       ┆ 0          ┆ 1          ┆ null       │\n",
       "│ 250006 ┆ 0    ┆ 3           ┆ null       ┆ … ┆ null       ┆ 1          ┆ null       ┆ null       │\n",
       "│ 250007 ┆ 0    ┆ 7           ┆ null       ┆ … ┆ null       ┆ 1          ┆ null       ┆ null       │\n",
       "└────────┴──────┴─────────────┴────────────┴───┴────────────┴────────────┴────────────┴────────────┘"
      ]
     },
     "execution_count": 18,
     "metadata": {},
     "output_type": "execute_result"
    }
   ],
   "source": [
    "merged_df.head()"
   ]
  },
  {
   "cell_type": "code",
   "execution_count": 19,
   "metadata": {},
   "outputs": [
    {
     "data": {
      "text/plain": [
       "['id',\n",
       " 'flag',\n",
       " 'pre_since_opened_rn_1',\n",
       " 'pre_since_opened_rn_2',\n",
       " 'pre_since_opened_rn_3',\n",
       " 'pre_since_confirmed_rn_1',\n",
       " 'pre_since_confirmed_rn_2',\n",
       " 'pre_since_confirmed_rn_3',\n",
       " 'pre_pterm_rn_1',\n",
       " 'pre_pterm_rn_2',\n",
       " 'pre_pterm_rn_3',\n",
       " 'pre_fterm_rn_1',\n",
       " 'pre_fterm_rn_2',\n",
       " 'pre_fterm_rn_3',\n",
       " 'pre_till_pclose_rn_1',\n",
       " 'pre_till_pclose_rn_2',\n",
       " 'pre_till_pclose_rn_3',\n",
       " 'pre_till_fclose_rn_1',\n",
       " 'pre_till_fclose_rn_2',\n",
       " 'pre_till_fclose_rn_3',\n",
       " 'pre_loans_credit_limit_rn_1',\n",
       " 'pre_loans_credit_limit_rn_2',\n",
       " 'pre_loans_credit_limit_rn_3',\n",
       " 'pre_loans_next_pay_summ_rn_1',\n",
       " 'pre_loans_next_pay_summ_rn_2',\n",
       " 'pre_loans_next_pay_summ_rn_3',\n",
       " 'pre_loans_outstanding_rn_1',\n",
       " 'pre_loans_outstanding_rn_2',\n",
       " 'pre_loans_outstanding_rn_3',\n",
       " 'pre_loans_total_overdue_rn_1',\n",
       " 'pre_loans_total_overdue_rn_2',\n",
       " 'pre_loans_total_overdue_rn_3',\n",
       " 'pre_loans_max_overdue_sum_rn_1',\n",
       " 'pre_loans_max_overdue_sum_rn_2',\n",
       " 'pre_loans_max_overdue_sum_rn_3',\n",
       " 'pre_loans_credit_cost_rate_rn_1',\n",
       " 'pre_loans_credit_cost_rate_rn_2',\n",
       " 'pre_loans_credit_cost_rate_rn_3',\n",
       " 'pre_loans5_rn_1',\n",
       " 'pre_loans5_rn_2',\n",
       " 'pre_loans5_rn_3',\n",
       " 'pre_loans530_rn_1',\n",
       " 'pre_loans530_rn_2',\n",
       " 'pre_loans530_rn_3',\n",
       " 'pre_loans3060_rn_1',\n",
       " 'pre_loans3060_rn_2',\n",
       " 'pre_loans3060_rn_3',\n",
       " 'pre_loans6090_rn_1',\n",
       " 'pre_loans6090_rn_2',\n",
       " 'pre_loans6090_rn_3',\n",
       " 'pre_loans90_rn_1',\n",
       " 'pre_loans90_rn_2',\n",
       " 'pre_loans90_rn_3',\n",
       " 'is_zero_loans5_rn_1',\n",
       " 'is_zero_loans5_rn_2',\n",
       " 'is_zero_loans5_rn_3',\n",
       " 'is_zero_loans530_rn_1',\n",
       " 'is_zero_loans530_rn_2',\n",
       " 'is_zero_loans530_rn_3',\n",
       " 'is_zero_loans3060_rn_1',\n",
       " 'is_zero_loans3060_rn_2',\n",
       " 'is_zero_loans3060_rn_3',\n",
       " 'is_zero_loans6090_rn_1',\n",
       " 'is_zero_loans6090_rn_2',\n",
       " 'is_zero_loans6090_rn_3',\n",
       " 'is_zero_loans90_rn_1',\n",
       " 'is_zero_loans90_rn_2',\n",
       " 'is_zero_loans90_rn_3',\n",
       " 'pre_util_rn_1',\n",
       " 'pre_util_rn_2',\n",
       " 'pre_util_rn_3',\n",
       " 'pre_over2limit_rn_1',\n",
       " 'pre_over2limit_rn_2',\n",
       " 'pre_over2limit_rn_3',\n",
       " 'pre_maxover2limit_rn_1',\n",
       " 'pre_maxover2limit_rn_2',\n",
       " 'pre_maxover2limit_rn_3',\n",
       " 'is_zero_util_rn_1',\n",
       " 'is_zero_util_rn_2',\n",
       " 'is_zero_util_rn_3',\n",
       " 'is_zero_over2limit_rn_1',\n",
       " 'is_zero_over2limit_rn_2',\n",
       " 'is_zero_over2limit_rn_3',\n",
       " 'is_zero_maxover2limit_rn_1',\n",
       " 'is_zero_maxover2limit_rn_2',\n",
       " 'is_zero_maxover2limit_rn_3',\n",
       " 'enc_paym_0_rn_1',\n",
       " 'enc_paym_0_rn_2',\n",
       " 'enc_paym_0_rn_3',\n",
       " 'enc_paym_1_rn_1',\n",
       " 'enc_paym_1_rn_2',\n",
       " 'enc_paym_1_rn_3',\n",
       " 'enc_paym_2_rn_1',\n",
       " 'enc_paym_2_rn_2',\n",
       " 'enc_paym_2_rn_3',\n",
       " 'enc_paym_3_rn_1',\n",
       " 'enc_paym_3_rn_2',\n",
       " 'enc_paym_3_rn_3',\n",
       " 'enc_paym_4_rn_1',\n",
       " 'enc_paym_4_rn_2',\n",
       " 'enc_paym_4_rn_3',\n",
       " 'enc_paym_5_rn_1',\n",
       " 'enc_paym_5_rn_2',\n",
       " 'enc_paym_5_rn_3',\n",
       " 'enc_paym_6_rn_1',\n",
       " 'enc_paym_6_rn_2',\n",
       " 'enc_paym_6_rn_3',\n",
       " 'enc_paym_7_rn_1',\n",
       " 'enc_paym_7_rn_2',\n",
       " 'enc_paym_7_rn_3',\n",
       " 'enc_paym_8_rn_1',\n",
       " 'enc_paym_8_rn_2',\n",
       " 'enc_paym_8_rn_3',\n",
       " 'enc_paym_9_rn_1',\n",
       " 'enc_paym_9_rn_2',\n",
       " 'enc_paym_9_rn_3',\n",
       " 'enc_paym_10_rn_1',\n",
       " 'enc_paym_10_rn_2',\n",
       " 'enc_paym_10_rn_3',\n",
       " 'enc_paym_11_rn_1',\n",
       " 'enc_paym_11_rn_2',\n",
       " 'enc_paym_11_rn_3',\n",
       " 'enc_paym_12_rn_1',\n",
       " 'enc_paym_12_rn_2',\n",
       " 'enc_paym_12_rn_3',\n",
       " 'enc_paym_13_rn_1',\n",
       " 'enc_paym_13_rn_2',\n",
       " 'enc_paym_13_rn_3',\n",
       " 'enc_paym_14_rn_1',\n",
       " 'enc_paym_14_rn_2',\n",
       " 'enc_paym_14_rn_3',\n",
       " 'enc_paym_15_rn_1',\n",
       " 'enc_paym_15_rn_2',\n",
       " 'enc_paym_15_rn_3',\n",
       " 'enc_paym_16_rn_1',\n",
       " 'enc_paym_16_rn_2',\n",
       " 'enc_paym_16_rn_3',\n",
       " 'enc_paym_17_rn_1',\n",
       " 'enc_paym_17_rn_2',\n",
       " 'enc_paym_17_rn_3',\n",
       " 'enc_paym_18_rn_1',\n",
       " 'enc_paym_18_rn_2',\n",
       " 'enc_paym_18_rn_3',\n",
       " 'enc_paym_19_rn_1',\n",
       " 'enc_paym_19_rn_2',\n",
       " 'enc_paym_19_rn_3',\n",
       " 'enc_paym_20_rn_1',\n",
       " 'enc_paym_20_rn_2',\n",
       " 'enc_paym_20_rn_3',\n",
       " 'enc_paym_21_rn_1',\n",
       " 'enc_paym_21_rn_2',\n",
       " 'enc_paym_21_rn_3',\n",
       " 'enc_paym_22_rn_1',\n",
       " 'enc_paym_22_rn_2',\n",
       " 'enc_paym_22_rn_3',\n",
       " 'enc_paym_23_rn_1',\n",
       " 'enc_paym_23_rn_2',\n",
       " 'enc_paym_23_rn_3',\n",
       " 'enc_paym_24_rn_1',\n",
       " 'enc_paym_24_rn_2',\n",
       " 'enc_paym_24_rn_3',\n",
       " 'enc_loans_account_holder_type_rn_1',\n",
       " 'enc_loans_account_holder_type_rn_2',\n",
       " 'enc_loans_account_holder_type_rn_3',\n",
       " 'enc_loans_credit_status_rn_1',\n",
       " 'enc_loans_credit_status_rn_2',\n",
       " 'enc_loans_credit_status_rn_3',\n",
       " 'enc_loans_credit_type_rn_1',\n",
       " 'enc_loans_credit_type_rn_2',\n",
       " 'enc_loans_credit_type_rn_3',\n",
       " 'enc_loans_account_cur_rn_1',\n",
       " 'enc_loans_account_cur_rn_2',\n",
       " 'enc_loans_account_cur_rn_3',\n",
       " 'pclose_flag_rn_1',\n",
       " 'pclose_flag_rn_2',\n",
       " 'pclose_flag_rn_3',\n",
       " 'fclose_flag_rn_1',\n",
       " 'fclose_flag_rn_2',\n",
       " 'fclose_flag_rn_3']"
      ]
     },
     "execution_count": 19,
     "metadata": {},
     "output_type": "execute_result"
    }
   ],
   "source": [
    "merged_df.columns"
   ]
  },
  {
   "cell_type": "code",
   "execution_count": 20,
   "metadata": {},
   "outputs": [],
   "source": [
    "merged_df=merged_df.fill_null(0)"
   ]
  },
  {
   "cell_type": "code",
   "execution_count": 21,
   "metadata": {},
   "outputs": [
    {
     "name": "stderr",
     "output_type": "stream",
     "text": [
      "c:\\Users\\notei\\OneDrive\\Рабочий стол\\uni\\Year 3\\Datathon\\bdss-datathon\\.venv\\Lib\\site-packages\\sklearn\\base.py:1474: UserWarning: With alpha=0, this algorithm does not converge well. You are advised to use the LinearRegression estimator\n",
      "  return fit_method(estimator, *args, **kwargs)\n",
      "c:\\Users\\notei\\OneDrive\\Рабочий стол\\uni\\Year 3\\Datathon\\bdss-datathon\\.venv\\Lib\\site-packages\\sklearn\\linear_model\\_coordinate_descent.py:678: UserWarning: Coordinate descent with no regularization may lead to unexpected results and is discouraged.\n",
      "  model = cd_fast.enet_coordinate_descent(\n"
     ]
    },
    {
     "name": "stdout",
     "output_type": "stream",
     "text": [
      "Mean Squared Error: 0.04255693451859437\n"
     ]
    },
    {
     "name": "stderr",
     "output_type": "stream",
     "text": [
      "c:\\Users\\notei\\OneDrive\\Рабочий стол\\uni\\Year 3\\Datathon\\bdss-datathon\\.venv\\Lib\\site-packages\\sklearn\\linear_model\\_coordinate_descent.py:678: ConvergenceWarning: Objective did not converge. You might want to increase the number of iterations, check the scale of the features or consider increasing regularisation. Duality gap: 9.773e+03, tolerance: 1.998e+00 Linear regression models with null weight for the l1 regularization term are more efficiently fitted using one of the solvers implemented in sklearn.linear_model.Ridge/RidgeCV instead.\n",
      "  model = cd_fast.enet_coordinate_descent(\n"
     ]
    }
   ],
   "source": [
    "from sklearn.model_selection import train_test_split\n",
    "from sklearn.linear_model import Lasso\n",
    "from sklearn.preprocessing import StandardScaler\n",
    "from sklearn.metrics import mean_squared_error\n",
    "\n",
    "\n",
    "# Drop 'id' and 'flag' columns from X\n",
    "X = merged_df.drop(['id', 'flag'])\n",
    "\n",
    "# Convert 'flag' column to numpy array\n",
    "y = merged_df['flag'].to_numpy()\n",
    "\n",
    "# Split the data into training and testing sets\n",
    "X_train, X_test, y_train, y_test = train_test_split(X, y, test_size=0.2, random_state=42)\n",
    "\n",
    "# Convert Polars DataFrames to numpy arrays\n",
    "X_train_np = X_train.to_numpy()\n",
    "X_test_np = X_test.to_numpy()\n",
    "\n",
    "# Standardize features\n",
    "scaler = StandardScaler()\n",
    "X_train_scaled = scaler.fit_transform(X_train_np)\n",
    "X_test_scaled = scaler.transform(X_test_np)\n",
    "\n",
    "# Create and fit Lasso regression model\n",
    "lasso = Lasso(alpha=0)  # You can adjust the alpha parameter for regularization strength\n",
    "lasso.fit(X_train_scaled, y_train)\n",
    "\n",
    "# Predict on the testing set\n",
    "y_pred = lasso.predict(X_test_scaled)\n",
    "\n",
    "# Calculate mean squared error\n",
    "mse = mean_squared_error(y_test, y_pred)\n",
    "print(\"Mean Squared Error:\", mse)\n"
   ]
  },
  {
   "cell_type": "code",
   "execution_count": 23,
   "metadata": {},
   "outputs": [
    {
     "name": "stdout",
     "output_type": "stream",
     "text": [
      "Variable Coefficients: [ 1.16917631e-03  1.91968373e-03  9.38143941e-05 -6.40100244e-04\n",
      "  1.36091842e-04  1.82012963e-04 -5.41901195e-04 -1.84375805e-04\n",
      " -1.02265069e-03 -4.95781432e-04 -4.75172636e-04  2.09291877e-03\n",
      " -4.52589134e-04  1.58281560e-04  4.17247918e-04 -1.47586778e-03\n",
      " -2.40526825e-03 -4.79197152e-03  1.11536186e-03  9.49161207e-04\n",
      "  1.67701834e-03  4.62854968e-06 -5.88956187e-05 -1.59444368e-05\n",
      "  3.03554638e-03  3.26312666e-03  2.11012930e-03  1.45070425e-03\n",
      "  0.00000000e+00  0.00000000e+00 -4.81085535e-04 -1.38062435e-03\n",
      " -3.11435718e-03  1.49002262e-04  3.41758100e-04 -6.20843204e-06\n",
      " -9.46178735e-04  1.82275341e-03  9.38653270e-03  7.01216207e-04\n",
      "  9.78213815e-03  1.53596044e-02  3.58689429e-04  9.09613237e-04\n",
      "  4.15457495e-03  4.96290729e-04 -2.50007201e-02 -1.93654864e-02\n",
      "  4.83853088e-04  1.13003080e-02 -1.05006498e-02 -2.96466343e-03\n",
      " -7.01882027e-03 -7.43776847e-03 -6.11656822e-03 -1.09503734e-02\n",
      " -6.29530398e-03 -2.72849484e-03 -8.90393506e-03 -8.68170818e-03\n",
      " -7.70437191e-04 -7.96504988e-05 -9.99494801e-03 -2.52246209e-03\n",
      " -3.97653108e-03 -2.04212827e-03 -2.22128865e-03 -3.16970632e-03\n",
      " -2.88754993e-03  2.41543971e-03  4.17240627e-03  1.31558002e-03\n",
      " -2.32465124e-03 -3.74182419e-03 -3.74522429e-04 -6.25837611e-03\n",
      " -5.97544167e-03 -4.21232224e-03  5.45870227e-03  1.04462592e-02\n",
      "  5.79964917e-03  2.74895916e-04  7.92820881e-04 -2.60777948e-03\n",
      "  1.86017164e-03  2.50260600e-03  1.29274244e-03  4.60571812e-03\n",
      "  1.03103545e-03  2.29272224e-03  3.89599969e-04  2.82805026e-03\n",
      "  6.47538302e-04  3.37365847e-03  3.51818610e-04  7.57948016e-04\n",
      "  2.13090693e-03  1.82276883e-03  1.05253592e-03  1.65247653e-04\n",
      "  7.80125243e-05 -4.68108235e-04  2.82741539e-04  1.60185653e-04\n",
      "  1.31876666e-03  3.90406056e-04  1.40238143e-03  1.41559079e-04\n",
      "  1.28588474e-03 -1.95217992e-04  9.16613266e-04  6.16816166e-04\n",
      "  1.71881887e-03  8.24137130e-04  8.18203100e-05 -1.01159645e-04\n",
      " -1.73567819e-03  1.37962474e-04 -1.66252775e-03  1.80231536e-03\n",
      " -8.90279272e-04  2.45759296e-04  6.23542118e-04  1.80199671e-03\n",
      "  2.47366775e-04 -6.00186467e-04  6.94934245e-04  9.61332616e-04\n",
      "  2.64156637e-03 -4.83272954e-04 -8.84479279e-05 -1.89483356e-03\n",
      "  1.34851742e-03  1.37428190e-03 -1.54872625e-03 -1.18114117e-03\n",
      "  3.49676094e-04  5.62565740e-03  1.38287414e-03  2.04568162e-04\n",
      " -2.24587018e-03  7.27627478e-04  1.58335627e-03 -1.18113568e-03\n",
      "  1.18402716e-03 -2.09861537e-03 -2.35733781e-04 -6.40512182e-04\n",
      " -1.22154824e-04  1.64772381e-03 -1.63464777e-04  2.03726643e-04\n",
      " -1.48668320e-03  1.87997307e-03  3.72263919e-03  2.15120159e-03\n",
      " -1.04644242e-03 -3.75434476e-03  2.33754326e-03 -1.22059526e-03\n",
      " -2.49524275e-03 -2.33315616e-03  4.19212717e-05  4.14906380e-03\n",
      "  5.91318973e-03  4.31038093e-03  5.32226017e-03  2.92375712e-03\n",
      " -4.35873145e-04  8.58300336e-03  2.21410594e-02 -7.63370860e-04\n",
      "  5.33032999e-04 -9.85589632e-05  9.33077863e-04  1.80223276e-03\n",
      "  1.09203733e-03]\n"
     ]
    }
   ],
   "source": [
    "coefficients = lasso.coef_\n",
    "print(\"Variable Coefficients:\", coefficients)"
   ]
  },
  {
   "cell_type": "code",
   "execution_count": 135,
   "metadata": {},
   "outputs": [
    {
     "ename": "TypeError",
     "evalue": "GridSearchCV.__init__() got an unexpected keyword argument 'prefer'",
     "output_type": "error",
     "traceback": [
      "\u001b[1;31m---------------------------------------------------------------------------\u001b[0m",
      "\u001b[1;31mTypeError\u001b[0m                                 Traceback (most recent call last)",
      "Cell \u001b[1;32mIn[135], line 18\u001b[0m\n\u001b[0;32m     16\u001b[0m grid[\u001b[38;5;124m'\u001b[39m\u001b[38;5;124malpha\u001b[39m\u001b[38;5;124m'\u001b[39m] \u001b[38;5;241m=\u001b[39m np\u001b[38;5;241m.\u001b[39marange(\u001b[38;5;241m0\u001b[39m, \u001b[38;5;241m1\u001b[39m, \u001b[38;5;241m0.01\u001b[39m)\n\u001b[0;32m     17\u001b[0m \u001b[38;5;66;03m# define search\u001b[39;00m\n\u001b[1;32m---> 18\u001b[0m search \u001b[38;5;241m=\u001b[39m \u001b[43mGridSearchCV\u001b[49m\u001b[43m(\u001b[49m\u001b[43mmodel\u001b[49m\u001b[43m,\u001b[49m\u001b[43m \u001b[49m\u001b[43mgrid\u001b[49m\u001b[43m,\u001b[49m\u001b[43m \u001b[49m\u001b[43mscoring\u001b[49m\u001b[38;5;241;43m=\u001b[39;49m\u001b[38;5;124;43m'\u001b[39;49m\u001b[38;5;124;43mneg_mean_absolute_error\u001b[39;49m\u001b[38;5;124;43m'\u001b[39;49m\u001b[43m,\u001b[49m\u001b[43m \u001b[49m\u001b[43mcv\u001b[49m\u001b[38;5;241;43m=\u001b[39;49m\u001b[43mcv\u001b[49m\u001b[43m,\u001b[49m\u001b[43m \u001b[49m\u001b[43mn_jobs\u001b[49m\u001b[38;5;241;43m=\u001b[39;49m\u001b[38;5;241;43m-\u001b[39;49m\u001b[38;5;241;43m1\u001b[39;49m\u001b[43m,\u001b[49m\u001b[43m \u001b[49m\u001b[43mprefer\u001b[49m\u001b[38;5;241;43m=\u001b[39;49m\u001b[38;5;124;43m'\u001b[39;49m\u001b[38;5;124;43mthreads\u001b[39;49m\u001b[38;5;124;43m'\u001b[39;49m\u001b[43m)\u001b[49m\n\u001b[0;32m     19\u001b[0m \u001b[38;5;66;03m# perform the search\u001b[39;00m\n\u001b[0;32m     20\u001b[0m results \u001b[38;5;241m=\u001b[39m search\u001b[38;5;241m.\u001b[39mfit(X, Y)\n",
      "\u001b[1;31mTypeError\u001b[0m: GridSearchCV.__init__() got an unexpected keyword argument 'prefer'"
     ]
    }
   ],
   "source": [
    "# grid search hyperparameters for lasso regression\n",
    "from sklearn.model_selection import GridSearchCV\n",
    "from sklearn.model_selection import RepeatedKFold\n",
    "from sklearn.linear_model import Lasso\n",
    "\n",
    "# load the dataset\n",
    "X = merged_df.drop(['id', 'flag'])\n",
    "Y = merged_df['flag'].to_numpy()\n",
    "\n",
    "# define model\n",
    "model = Lasso()\n",
    "# define model evaluation method\n",
    "cv = RepeatedKFold(n_splits=10, n_repeats=3, random_state=1)\n",
    "# define grid\n",
    "grid = dict()\n",
    "grid['alpha'] = np.arange(0, 1, 0.01)\n",
    "# define search\n",
    "search = GridSearchCV(model, grid, scoring='neg_mean_absolute_error', cv=cv, n_jobs=-1)\n",
    "# perform the search\n",
    "results = search.fit(X, Y)\n",
    "# summarize\n",
    "print('MAE: %.3f' % results.best_score_)\n",
    "print('Config: %s' % results.best_params_)"
   ]
  },
  {
   "cell_type": "markdown",
   "metadata": {},
   "source": [
    "CV LASSO"
   ]
  },
  {
   "cell_type": "code",
   "execution_count": 26,
   "metadata": {},
   "outputs": [
    {
     "name": "stdout",
     "output_type": "stream",
     "text": [
      "Lasso: -0.0004644861624051977\n"
     ]
    }
   ],
   "source": [
    "from sklearn.model_selection import cross_val_score\n",
    "from sklearn.linear_model import Lasso\n",
    "\n",
    "# Drop 'id' and 'flag' columns from X\n",
    "X = merged_df.drop(['id', 'flag'])\n",
    "\n",
    "# Convert 'flag' column to numpy array\n",
    "y = merged_df['flag'].to_numpy()\n",
    "\n",
    "from sklearn.model_selection import cross_val_score\n",
    "from sklearn.linear_model import Ridge, Lasso\n",
    "\n",
    "#Need to remove for\n",
    "for Model in [Lasso]:\n",
    "    model = Model()\n",
    "    print('%s: %s' % (Model.__name__,\n",
    "                      cross_val_score(model, X, y).mean()))\n"
   ]
  },
  {
   "cell_type": "code",
   "execution_count": 28,
   "metadata": {},
   "outputs": [
    {
     "ename": "KeyboardInterrupt",
     "evalue": "",
     "output_type": "error",
     "traceback": [
      "\u001b[1;31m---------------------------------------------------------------------------\u001b[0m",
      "\u001b[1;31mKeyboardInterrupt\u001b[0m                         Traceback (most recent call last)",
      "Cell \u001b[1;32mIn[28], line 8\u001b[0m\n\u001b[0;32m      5\u001b[0m plt\u001b[38;5;241m.\u001b[39mfigure(figsize\u001b[38;5;241m=\u001b[39m(\u001b[38;5;241m5\u001b[39m, \u001b[38;5;241m3\u001b[39m))\n\u001b[0;32m      7\u001b[0m \u001b[38;5;28;01mfor\u001b[39;00m Model \u001b[38;5;129;01min\u001b[39;00m [Lasso]:\n\u001b[1;32m----> 8\u001b[0m     scores \u001b[38;5;241m=\u001b[39m [\u001b[43mcross_val_score\u001b[49m\u001b[43m(\u001b[49m\u001b[43mModel\u001b[49m\u001b[43m(\u001b[49m\u001b[43malpha\u001b[49m\u001b[43m)\u001b[49m\u001b[43m,\u001b[49m\u001b[43m \u001b[49m\u001b[43mX\u001b[49m\u001b[43m,\u001b[49m\u001b[43m \u001b[49m\u001b[43my\u001b[49m\u001b[43m,\u001b[49m\u001b[43m \u001b[49m\u001b[43mcv\u001b[49m\u001b[38;5;241;43m=\u001b[39;49m\u001b[38;5;241;43m3\u001b[39;49m\u001b[43m)\u001b[49m\u001b[38;5;241m.\u001b[39mmean()\n\u001b[0;32m      9\u001b[0m             \u001b[38;5;28;01mfor\u001b[39;00m alpha \u001b[38;5;129;01min\u001b[39;00m alphas]\n\u001b[0;32m     10\u001b[0m     plt\u001b[38;5;241m.\u001b[39mplot(alphas, scores, label\u001b[38;5;241m=\u001b[39mModel\u001b[38;5;241m.\u001b[39m\u001b[38;5;18m__name__\u001b[39m)\n\u001b[0;32m     12\u001b[0m plt\u001b[38;5;241m.\u001b[39mlegend(loc\u001b[38;5;241m=\u001b[39m\u001b[38;5;124m'\u001b[39m\u001b[38;5;124mlower left\u001b[39m\u001b[38;5;124m'\u001b[39m)\n",
      "File \u001b[1;32mc:\\Users\\notei\\OneDrive\\Рабочий стол\\uni\\Year 3\\Datathon\\bdss-datathon\\.venv\\Lib\\site-packages\\sklearn\\utils\\_param_validation.py:213\u001b[0m, in \u001b[0;36mvalidate_params.<locals>.decorator.<locals>.wrapper\u001b[1;34m(*args, **kwargs)\u001b[0m\n\u001b[0;32m    207\u001b[0m \u001b[38;5;28;01mtry\u001b[39;00m:\n\u001b[0;32m    208\u001b[0m     \u001b[38;5;28;01mwith\u001b[39;00m config_context(\n\u001b[0;32m    209\u001b[0m         skip_parameter_validation\u001b[38;5;241m=\u001b[39m(\n\u001b[0;32m    210\u001b[0m             prefer_skip_nested_validation \u001b[38;5;129;01mor\u001b[39;00m global_skip_validation\n\u001b[0;32m    211\u001b[0m         )\n\u001b[0;32m    212\u001b[0m     ):\n\u001b[1;32m--> 213\u001b[0m         \u001b[38;5;28;01mreturn\u001b[39;00m \u001b[43mfunc\u001b[49m\u001b[43m(\u001b[49m\u001b[38;5;241;43m*\u001b[39;49m\u001b[43margs\u001b[49m\u001b[43m,\u001b[49m\u001b[43m \u001b[49m\u001b[38;5;241;43m*\u001b[39;49m\u001b[38;5;241;43m*\u001b[39;49m\u001b[43mkwargs\u001b[49m\u001b[43m)\u001b[49m\n\u001b[0;32m    214\u001b[0m \u001b[38;5;28;01mexcept\u001b[39;00m InvalidParameterError \u001b[38;5;28;01mas\u001b[39;00m e:\n\u001b[0;32m    215\u001b[0m     \u001b[38;5;66;03m# When the function is just a wrapper around an estimator, we allow\u001b[39;00m\n\u001b[0;32m    216\u001b[0m     \u001b[38;5;66;03m# the function to delegate validation to the estimator, but we replace\u001b[39;00m\n\u001b[0;32m    217\u001b[0m     \u001b[38;5;66;03m# the name of the estimator by the name of the function in the error\u001b[39;00m\n\u001b[0;32m    218\u001b[0m     \u001b[38;5;66;03m# message to avoid confusion.\u001b[39;00m\n\u001b[0;32m    219\u001b[0m     msg \u001b[38;5;241m=\u001b[39m re\u001b[38;5;241m.\u001b[39msub(\n\u001b[0;32m    220\u001b[0m         \u001b[38;5;124mr\u001b[39m\u001b[38;5;124m\"\u001b[39m\u001b[38;5;124mparameter of \u001b[39m\u001b[38;5;124m\\\u001b[39m\u001b[38;5;124mw+ must be\u001b[39m\u001b[38;5;124m\"\u001b[39m,\n\u001b[0;32m    221\u001b[0m         \u001b[38;5;124mf\u001b[39m\u001b[38;5;124m\"\u001b[39m\u001b[38;5;124mparameter of \u001b[39m\u001b[38;5;132;01m{\u001b[39;00mfunc\u001b[38;5;241m.\u001b[39m\u001b[38;5;18m__qualname__\u001b[39m\u001b[38;5;132;01m}\u001b[39;00m\u001b[38;5;124m must be\u001b[39m\u001b[38;5;124m\"\u001b[39m,\n\u001b[0;32m    222\u001b[0m         \u001b[38;5;28mstr\u001b[39m(e),\n\u001b[0;32m    223\u001b[0m     )\n",
      "File \u001b[1;32mc:\\Users\\notei\\OneDrive\\Рабочий стол\\uni\\Year 3\\Datathon\\bdss-datathon\\.venv\\Lib\\site-packages\\sklearn\\model_selection\\_validation.py:719\u001b[0m, in \u001b[0;36mcross_val_score\u001b[1;34m(estimator, X, y, groups, scoring, cv, n_jobs, verbose, fit_params, params, pre_dispatch, error_score)\u001b[0m\n\u001b[0;32m    716\u001b[0m \u001b[38;5;66;03m# To ensure multimetric format is not supported\u001b[39;00m\n\u001b[0;32m    717\u001b[0m scorer \u001b[38;5;241m=\u001b[39m check_scoring(estimator, scoring\u001b[38;5;241m=\u001b[39mscoring)\n\u001b[1;32m--> 719\u001b[0m cv_results \u001b[38;5;241m=\u001b[39m \u001b[43mcross_validate\u001b[49m\u001b[43m(\u001b[49m\n\u001b[0;32m    720\u001b[0m \u001b[43m    \u001b[49m\u001b[43mestimator\u001b[49m\u001b[38;5;241;43m=\u001b[39;49m\u001b[43mestimator\u001b[49m\u001b[43m,\u001b[49m\n\u001b[0;32m    721\u001b[0m \u001b[43m    \u001b[49m\u001b[43mX\u001b[49m\u001b[38;5;241;43m=\u001b[39;49m\u001b[43mX\u001b[49m\u001b[43m,\u001b[49m\n\u001b[0;32m    722\u001b[0m \u001b[43m    \u001b[49m\u001b[43my\u001b[49m\u001b[38;5;241;43m=\u001b[39;49m\u001b[43my\u001b[49m\u001b[43m,\u001b[49m\n\u001b[0;32m    723\u001b[0m \u001b[43m    \u001b[49m\u001b[43mgroups\u001b[49m\u001b[38;5;241;43m=\u001b[39;49m\u001b[43mgroups\u001b[49m\u001b[43m,\u001b[49m\n\u001b[0;32m    724\u001b[0m \u001b[43m    \u001b[49m\u001b[43mscoring\u001b[49m\u001b[38;5;241;43m=\u001b[39;49m\u001b[43m{\u001b[49m\u001b[38;5;124;43m\"\u001b[39;49m\u001b[38;5;124;43mscore\u001b[39;49m\u001b[38;5;124;43m\"\u001b[39;49m\u001b[43m:\u001b[49m\u001b[43m \u001b[49m\u001b[43mscorer\u001b[49m\u001b[43m}\u001b[49m\u001b[43m,\u001b[49m\n\u001b[0;32m    725\u001b[0m \u001b[43m    \u001b[49m\u001b[43mcv\u001b[49m\u001b[38;5;241;43m=\u001b[39;49m\u001b[43mcv\u001b[49m\u001b[43m,\u001b[49m\n\u001b[0;32m    726\u001b[0m \u001b[43m    \u001b[49m\u001b[43mn_jobs\u001b[49m\u001b[38;5;241;43m=\u001b[39;49m\u001b[43mn_jobs\u001b[49m\u001b[43m,\u001b[49m\n\u001b[0;32m    727\u001b[0m \u001b[43m    \u001b[49m\u001b[43mverbose\u001b[49m\u001b[38;5;241;43m=\u001b[39;49m\u001b[43mverbose\u001b[49m\u001b[43m,\u001b[49m\n\u001b[0;32m    728\u001b[0m \u001b[43m    \u001b[49m\u001b[43mfit_params\u001b[49m\u001b[38;5;241;43m=\u001b[39;49m\u001b[43mfit_params\u001b[49m\u001b[43m,\u001b[49m\n\u001b[0;32m    729\u001b[0m \u001b[43m    \u001b[49m\u001b[43mparams\u001b[49m\u001b[38;5;241;43m=\u001b[39;49m\u001b[43mparams\u001b[49m\u001b[43m,\u001b[49m\n\u001b[0;32m    730\u001b[0m \u001b[43m    \u001b[49m\u001b[43mpre_dispatch\u001b[49m\u001b[38;5;241;43m=\u001b[39;49m\u001b[43mpre_dispatch\u001b[49m\u001b[43m,\u001b[49m\n\u001b[0;32m    731\u001b[0m \u001b[43m    \u001b[49m\u001b[43merror_score\u001b[49m\u001b[38;5;241;43m=\u001b[39;49m\u001b[43merror_score\u001b[49m\u001b[43m,\u001b[49m\n\u001b[0;32m    732\u001b[0m \u001b[43m\u001b[49m\u001b[43m)\u001b[49m\n\u001b[0;32m    733\u001b[0m \u001b[38;5;28;01mreturn\u001b[39;00m cv_results[\u001b[38;5;124m\"\u001b[39m\u001b[38;5;124mtest_score\u001b[39m\u001b[38;5;124m\"\u001b[39m]\n",
      "File \u001b[1;32mc:\\Users\\notei\\OneDrive\\Рабочий стол\\uni\\Year 3\\Datathon\\bdss-datathon\\.venv\\Lib\\site-packages\\sklearn\\utils\\_param_validation.py:213\u001b[0m, in \u001b[0;36mvalidate_params.<locals>.decorator.<locals>.wrapper\u001b[1;34m(*args, **kwargs)\u001b[0m\n\u001b[0;32m    207\u001b[0m \u001b[38;5;28;01mtry\u001b[39;00m:\n\u001b[0;32m    208\u001b[0m     \u001b[38;5;28;01mwith\u001b[39;00m config_context(\n\u001b[0;32m    209\u001b[0m         skip_parameter_validation\u001b[38;5;241m=\u001b[39m(\n\u001b[0;32m    210\u001b[0m             prefer_skip_nested_validation \u001b[38;5;129;01mor\u001b[39;00m global_skip_validation\n\u001b[0;32m    211\u001b[0m         )\n\u001b[0;32m    212\u001b[0m     ):\n\u001b[1;32m--> 213\u001b[0m         \u001b[38;5;28;01mreturn\u001b[39;00m \u001b[43mfunc\u001b[49m\u001b[43m(\u001b[49m\u001b[38;5;241;43m*\u001b[39;49m\u001b[43margs\u001b[49m\u001b[43m,\u001b[49m\u001b[43m \u001b[49m\u001b[38;5;241;43m*\u001b[39;49m\u001b[38;5;241;43m*\u001b[39;49m\u001b[43mkwargs\u001b[49m\u001b[43m)\u001b[49m\n\u001b[0;32m    214\u001b[0m \u001b[38;5;28;01mexcept\u001b[39;00m InvalidParameterError \u001b[38;5;28;01mas\u001b[39;00m e:\n\u001b[0;32m    215\u001b[0m     \u001b[38;5;66;03m# When the function is just a wrapper around an estimator, we allow\u001b[39;00m\n\u001b[0;32m    216\u001b[0m     \u001b[38;5;66;03m# the function to delegate validation to the estimator, but we replace\u001b[39;00m\n\u001b[0;32m    217\u001b[0m     \u001b[38;5;66;03m# the name of the estimator by the name of the function in the error\u001b[39;00m\n\u001b[0;32m    218\u001b[0m     \u001b[38;5;66;03m# message to avoid confusion.\u001b[39;00m\n\u001b[0;32m    219\u001b[0m     msg \u001b[38;5;241m=\u001b[39m re\u001b[38;5;241m.\u001b[39msub(\n\u001b[0;32m    220\u001b[0m         \u001b[38;5;124mr\u001b[39m\u001b[38;5;124m\"\u001b[39m\u001b[38;5;124mparameter of \u001b[39m\u001b[38;5;124m\\\u001b[39m\u001b[38;5;124mw+ must be\u001b[39m\u001b[38;5;124m\"\u001b[39m,\n\u001b[0;32m    221\u001b[0m         \u001b[38;5;124mf\u001b[39m\u001b[38;5;124m\"\u001b[39m\u001b[38;5;124mparameter of \u001b[39m\u001b[38;5;132;01m{\u001b[39;00mfunc\u001b[38;5;241m.\u001b[39m\u001b[38;5;18m__qualname__\u001b[39m\u001b[38;5;132;01m}\u001b[39;00m\u001b[38;5;124m must be\u001b[39m\u001b[38;5;124m\"\u001b[39m,\n\u001b[0;32m    222\u001b[0m         \u001b[38;5;28mstr\u001b[39m(e),\n\u001b[0;32m    223\u001b[0m     )\n",
      "File \u001b[1;32mc:\\Users\\notei\\OneDrive\\Рабочий стол\\uni\\Year 3\\Datathon\\bdss-datathon\\.venv\\Lib\\site-packages\\sklearn\\model_selection\\_validation.py:430\u001b[0m, in \u001b[0;36mcross_validate\u001b[1;34m(estimator, X, y, groups, scoring, cv, n_jobs, verbose, fit_params, params, pre_dispatch, return_train_score, return_estimator, return_indices, error_score)\u001b[0m\n\u001b[0;32m    427\u001b[0m \u001b[38;5;66;03m# We clone the estimator to make sure that all the folds are\u001b[39;00m\n\u001b[0;32m    428\u001b[0m \u001b[38;5;66;03m# independent, and that it is pickle-able.\u001b[39;00m\n\u001b[0;32m    429\u001b[0m parallel \u001b[38;5;241m=\u001b[39m Parallel(n_jobs\u001b[38;5;241m=\u001b[39mn_jobs, verbose\u001b[38;5;241m=\u001b[39mverbose, pre_dispatch\u001b[38;5;241m=\u001b[39mpre_dispatch)\n\u001b[1;32m--> 430\u001b[0m results \u001b[38;5;241m=\u001b[39m \u001b[43mparallel\u001b[49m\u001b[43m(\u001b[49m\n\u001b[0;32m    431\u001b[0m \u001b[43m    \u001b[49m\u001b[43mdelayed\u001b[49m\u001b[43m(\u001b[49m\u001b[43m_fit_and_score\u001b[49m\u001b[43m)\u001b[49m\u001b[43m(\u001b[49m\n\u001b[0;32m    432\u001b[0m \u001b[43m        \u001b[49m\u001b[43mclone\u001b[49m\u001b[43m(\u001b[49m\u001b[43mestimator\u001b[49m\u001b[43m)\u001b[49m\u001b[43m,\u001b[49m\n\u001b[0;32m    433\u001b[0m \u001b[43m        \u001b[49m\u001b[43mX\u001b[49m\u001b[43m,\u001b[49m\n\u001b[0;32m    434\u001b[0m \u001b[43m        \u001b[49m\u001b[43my\u001b[49m\u001b[43m,\u001b[49m\n\u001b[0;32m    435\u001b[0m \u001b[43m        \u001b[49m\u001b[43mscorer\u001b[49m\u001b[38;5;241;43m=\u001b[39;49m\u001b[43mscorers\u001b[49m\u001b[43m,\u001b[49m\n\u001b[0;32m    436\u001b[0m \u001b[43m        \u001b[49m\u001b[43mtrain\u001b[49m\u001b[38;5;241;43m=\u001b[39;49m\u001b[43mtrain\u001b[49m\u001b[43m,\u001b[49m\n\u001b[0;32m    437\u001b[0m \u001b[43m        \u001b[49m\u001b[43mtest\u001b[49m\u001b[38;5;241;43m=\u001b[39;49m\u001b[43mtest\u001b[49m\u001b[43m,\u001b[49m\n\u001b[0;32m    438\u001b[0m \u001b[43m        \u001b[49m\u001b[43mverbose\u001b[49m\u001b[38;5;241;43m=\u001b[39;49m\u001b[43mverbose\u001b[49m\u001b[43m,\u001b[49m\n\u001b[0;32m    439\u001b[0m \u001b[43m        \u001b[49m\u001b[43mparameters\u001b[49m\u001b[38;5;241;43m=\u001b[39;49m\u001b[38;5;28;43;01mNone\u001b[39;49;00m\u001b[43m,\u001b[49m\n\u001b[0;32m    440\u001b[0m \u001b[43m        \u001b[49m\u001b[43mfit_params\u001b[49m\u001b[38;5;241;43m=\u001b[39;49m\u001b[43mrouted_params\u001b[49m\u001b[38;5;241;43m.\u001b[39;49m\u001b[43mestimator\u001b[49m\u001b[38;5;241;43m.\u001b[39;49m\u001b[43mfit\u001b[49m\u001b[43m,\u001b[49m\n\u001b[0;32m    441\u001b[0m \u001b[43m        \u001b[49m\u001b[43mscore_params\u001b[49m\u001b[38;5;241;43m=\u001b[39;49m\u001b[43mrouted_params\u001b[49m\u001b[38;5;241;43m.\u001b[39;49m\u001b[43mscorer\u001b[49m\u001b[38;5;241;43m.\u001b[39;49m\u001b[43mscore\u001b[49m\u001b[43m,\u001b[49m\n\u001b[0;32m    442\u001b[0m \u001b[43m        \u001b[49m\u001b[43mreturn_train_score\u001b[49m\u001b[38;5;241;43m=\u001b[39;49m\u001b[43mreturn_train_score\u001b[49m\u001b[43m,\u001b[49m\n\u001b[0;32m    443\u001b[0m \u001b[43m        \u001b[49m\u001b[43mreturn_times\u001b[49m\u001b[38;5;241;43m=\u001b[39;49m\u001b[38;5;28;43;01mTrue\u001b[39;49;00m\u001b[43m,\u001b[49m\n\u001b[0;32m    444\u001b[0m \u001b[43m        \u001b[49m\u001b[43mreturn_estimator\u001b[49m\u001b[38;5;241;43m=\u001b[39;49m\u001b[43mreturn_estimator\u001b[49m\u001b[43m,\u001b[49m\n\u001b[0;32m    445\u001b[0m \u001b[43m        \u001b[49m\u001b[43merror_score\u001b[49m\u001b[38;5;241;43m=\u001b[39;49m\u001b[43merror_score\u001b[49m\u001b[43m,\u001b[49m\n\u001b[0;32m    446\u001b[0m \u001b[43m    \u001b[49m\u001b[43m)\u001b[49m\n\u001b[0;32m    447\u001b[0m \u001b[43m    \u001b[49m\u001b[38;5;28;43;01mfor\u001b[39;49;00m\u001b[43m \u001b[49m\u001b[43mtrain\u001b[49m\u001b[43m,\u001b[49m\u001b[43m \u001b[49m\u001b[43mtest\u001b[49m\u001b[43m \u001b[49m\u001b[38;5;129;43;01min\u001b[39;49;00m\u001b[43m \u001b[49m\u001b[43mindices\u001b[49m\n\u001b[0;32m    448\u001b[0m \u001b[43m\u001b[49m\u001b[43m)\u001b[49m\n\u001b[0;32m    450\u001b[0m _warn_or_raise_about_fit_failures(results, error_score)\n\u001b[0;32m    452\u001b[0m \u001b[38;5;66;03m# For callable scoring, the return type is only know after calling. If the\u001b[39;00m\n\u001b[0;32m    453\u001b[0m \u001b[38;5;66;03m# return type is a dictionary, the error scores can now be inserted with\u001b[39;00m\n\u001b[0;32m    454\u001b[0m \u001b[38;5;66;03m# the correct key.\u001b[39;00m\n",
      "File \u001b[1;32mc:\\Users\\notei\\OneDrive\\Рабочий стол\\uni\\Year 3\\Datathon\\bdss-datathon\\.venv\\Lib\\site-packages\\sklearn\\utils\\parallel.py:67\u001b[0m, in \u001b[0;36mParallel.__call__\u001b[1;34m(self, iterable)\u001b[0m\n\u001b[0;32m     62\u001b[0m config \u001b[38;5;241m=\u001b[39m get_config()\n\u001b[0;32m     63\u001b[0m iterable_with_config \u001b[38;5;241m=\u001b[39m (\n\u001b[0;32m     64\u001b[0m     (_with_config(delayed_func, config), args, kwargs)\n\u001b[0;32m     65\u001b[0m     \u001b[38;5;28;01mfor\u001b[39;00m delayed_func, args, kwargs \u001b[38;5;129;01min\u001b[39;00m iterable\n\u001b[0;32m     66\u001b[0m )\n\u001b[1;32m---> 67\u001b[0m \u001b[38;5;28;01mreturn\u001b[39;00m \u001b[38;5;28;43msuper\u001b[39;49m\u001b[43m(\u001b[49m\u001b[43m)\u001b[49m\u001b[38;5;241;43m.\u001b[39;49m\u001b[38;5;21;43m__call__\u001b[39;49m\u001b[43m(\u001b[49m\u001b[43miterable_with_config\u001b[49m\u001b[43m)\u001b[49m\n",
      "File \u001b[1;32mc:\\Users\\notei\\OneDrive\\Рабочий стол\\uni\\Year 3\\Datathon\\bdss-datathon\\.venv\\Lib\\site-packages\\joblib\\parallel.py:1918\u001b[0m, in \u001b[0;36mParallel.__call__\u001b[1;34m(self, iterable)\u001b[0m\n\u001b[0;32m   1916\u001b[0m     output \u001b[38;5;241m=\u001b[39m \u001b[38;5;28mself\u001b[39m\u001b[38;5;241m.\u001b[39m_get_sequential_output(iterable)\n\u001b[0;32m   1917\u001b[0m     \u001b[38;5;28mnext\u001b[39m(output)\n\u001b[1;32m-> 1918\u001b[0m     \u001b[38;5;28;01mreturn\u001b[39;00m output \u001b[38;5;28;01mif\u001b[39;00m \u001b[38;5;28mself\u001b[39m\u001b[38;5;241m.\u001b[39mreturn_generator \u001b[38;5;28;01melse\u001b[39;00m \u001b[38;5;28;43mlist\u001b[39;49m\u001b[43m(\u001b[49m\u001b[43moutput\u001b[49m\u001b[43m)\u001b[49m\n\u001b[0;32m   1920\u001b[0m \u001b[38;5;66;03m# Let's create an ID that uniquely identifies the current call. If the\u001b[39;00m\n\u001b[0;32m   1921\u001b[0m \u001b[38;5;66;03m# call is interrupted early and that the same instance is immediately\u001b[39;00m\n\u001b[0;32m   1922\u001b[0m \u001b[38;5;66;03m# re-used, this id will be used to prevent workers that were\u001b[39;00m\n\u001b[0;32m   1923\u001b[0m \u001b[38;5;66;03m# concurrently finalizing a task from the previous call to run the\u001b[39;00m\n\u001b[0;32m   1924\u001b[0m \u001b[38;5;66;03m# callback.\u001b[39;00m\n\u001b[0;32m   1925\u001b[0m \u001b[38;5;28;01mwith\u001b[39;00m \u001b[38;5;28mself\u001b[39m\u001b[38;5;241m.\u001b[39m_lock:\n",
      "File \u001b[1;32mc:\\Users\\notei\\OneDrive\\Рабочий стол\\uni\\Year 3\\Datathon\\bdss-datathon\\.venv\\Lib\\site-packages\\joblib\\parallel.py:1847\u001b[0m, in \u001b[0;36mParallel._get_sequential_output\u001b[1;34m(self, iterable)\u001b[0m\n\u001b[0;32m   1845\u001b[0m \u001b[38;5;28mself\u001b[39m\u001b[38;5;241m.\u001b[39mn_dispatched_batches \u001b[38;5;241m+\u001b[39m\u001b[38;5;241m=\u001b[39m \u001b[38;5;241m1\u001b[39m\n\u001b[0;32m   1846\u001b[0m \u001b[38;5;28mself\u001b[39m\u001b[38;5;241m.\u001b[39mn_dispatched_tasks \u001b[38;5;241m+\u001b[39m\u001b[38;5;241m=\u001b[39m \u001b[38;5;241m1\u001b[39m\n\u001b[1;32m-> 1847\u001b[0m res \u001b[38;5;241m=\u001b[39m \u001b[43mfunc\u001b[49m\u001b[43m(\u001b[49m\u001b[38;5;241;43m*\u001b[39;49m\u001b[43margs\u001b[49m\u001b[43m,\u001b[49m\u001b[43m \u001b[49m\u001b[38;5;241;43m*\u001b[39;49m\u001b[38;5;241;43m*\u001b[39;49m\u001b[43mkwargs\u001b[49m\u001b[43m)\u001b[49m\n\u001b[0;32m   1848\u001b[0m \u001b[38;5;28mself\u001b[39m\u001b[38;5;241m.\u001b[39mn_completed_tasks \u001b[38;5;241m+\u001b[39m\u001b[38;5;241m=\u001b[39m \u001b[38;5;241m1\u001b[39m\n\u001b[0;32m   1849\u001b[0m \u001b[38;5;28mself\u001b[39m\u001b[38;5;241m.\u001b[39mprint_progress()\n",
      "File \u001b[1;32mc:\\Users\\notei\\OneDrive\\Рабочий стол\\uni\\Year 3\\Datathon\\bdss-datathon\\.venv\\Lib\\site-packages\\sklearn\\utils\\parallel.py:129\u001b[0m, in \u001b[0;36m_FuncWrapper.__call__\u001b[1;34m(self, *args, **kwargs)\u001b[0m\n\u001b[0;32m    127\u001b[0m     config \u001b[38;5;241m=\u001b[39m {}\n\u001b[0;32m    128\u001b[0m \u001b[38;5;28;01mwith\u001b[39;00m config_context(\u001b[38;5;241m*\u001b[39m\u001b[38;5;241m*\u001b[39mconfig):\n\u001b[1;32m--> 129\u001b[0m     \u001b[38;5;28;01mreturn\u001b[39;00m \u001b[38;5;28;43mself\u001b[39;49m\u001b[38;5;241;43m.\u001b[39;49m\u001b[43mfunction\u001b[49m\u001b[43m(\u001b[49m\u001b[38;5;241;43m*\u001b[39;49m\u001b[43margs\u001b[49m\u001b[43m,\u001b[49m\u001b[43m \u001b[49m\u001b[38;5;241;43m*\u001b[39;49m\u001b[38;5;241;43m*\u001b[39;49m\u001b[43mkwargs\u001b[49m\u001b[43m)\u001b[49m\n",
      "File \u001b[1;32mc:\\Users\\notei\\OneDrive\\Рабочий стол\\uni\\Year 3\\Datathon\\bdss-datathon\\.venv\\Lib\\site-packages\\sklearn\\model_selection\\_validation.py:895\u001b[0m, in \u001b[0;36m_fit_and_score\u001b[1;34m(estimator, X, y, scorer, train, test, verbose, parameters, fit_params, score_params, return_train_score, return_parameters, return_n_test_samples, return_times, return_estimator, split_progress, candidate_progress, error_score)\u001b[0m\n\u001b[0;32m    893\u001b[0m         estimator\u001b[38;5;241m.\u001b[39mfit(X_train, \u001b[38;5;241m*\u001b[39m\u001b[38;5;241m*\u001b[39mfit_params)\n\u001b[0;32m    894\u001b[0m     \u001b[38;5;28;01melse\u001b[39;00m:\n\u001b[1;32m--> 895\u001b[0m         \u001b[43mestimator\u001b[49m\u001b[38;5;241;43m.\u001b[39;49m\u001b[43mfit\u001b[49m\u001b[43m(\u001b[49m\u001b[43mX_train\u001b[49m\u001b[43m,\u001b[49m\u001b[43m \u001b[49m\u001b[43my_train\u001b[49m\u001b[43m,\u001b[49m\u001b[43m \u001b[49m\u001b[38;5;241;43m*\u001b[39;49m\u001b[38;5;241;43m*\u001b[39;49m\u001b[43mfit_params\u001b[49m\u001b[43m)\u001b[49m\n\u001b[0;32m    897\u001b[0m \u001b[38;5;28;01mexcept\u001b[39;00m \u001b[38;5;167;01mException\u001b[39;00m:\n\u001b[0;32m    898\u001b[0m     \u001b[38;5;66;03m# Note fit time as time until error\u001b[39;00m\n\u001b[0;32m    899\u001b[0m     fit_time \u001b[38;5;241m=\u001b[39m time\u001b[38;5;241m.\u001b[39mtime() \u001b[38;5;241m-\u001b[39m start_time\n",
      "File \u001b[1;32mc:\\Users\\notei\\OneDrive\\Рабочий стол\\uni\\Year 3\\Datathon\\bdss-datathon\\.venv\\Lib\\site-packages\\sklearn\\base.py:1474\u001b[0m, in \u001b[0;36m_fit_context.<locals>.decorator.<locals>.wrapper\u001b[1;34m(estimator, *args, **kwargs)\u001b[0m\n\u001b[0;32m   1467\u001b[0m     estimator\u001b[38;5;241m.\u001b[39m_validate_params()\n\u001b[0;32m   1469\u001b[0m \u001b[38;5;28;01mwith\u001b[39;00m config_context(\n\u001b[0;32m   1470\u001b[0m     skip_parameter_validation\u001b[38;5;241m=\u001b[39m(\n\u001b[0;32m   1471\u001b[0m         prefer_skip_nested_validation \u001b[38;5;129;01mor\u001b[39;00m global_skip_validation\n\u001b[0;32m   1472\u001b[0m     )\n\u001b[0;32m   1473\u001b[0m ):\n\u001b[1;32m-> 1474\u001b[0m     \u001b[38;5;28;01mreturn\u001b[39;00m \u001b[43mfit_method\u001b[49m\u001b[43m(\u001b[49m\u001b[43mestimator\u001b[49m\u001b[43m,\u001b[49m\u001b[43m \u001b[49m\u001b[38;5;241;43m*\u001b[39;49m\u001b[43margs\u001b[49m\u001b[43m,\u001b[49m\u001b[43m \u001b[49m\u001b[38;5;241;43m*\u001b[39;49m\u001b[38;5;241;43m*\u001b[39;49m\u001b[43mkwargs\u001b[49m\u001b[43m)\u001b[49m\n",
      "File \u001b[1;32mc:\\Users\\notei\\OneDrive\\Рабочий стол\\uni\\Year 3\\Datathon\\bdss-datathon\\.venv\\Lib\\site-packages\\sklearn\\linear_model\\_coordinate_descent.py:1050\u001b[0m, in \u001b[0;36mElasticNet.fit\u001b[1;34m(self, X, y, sample_weight, check_input)\u001b[0m\n\u001b[0;32m   1048\u001b[0m \u001b[38;5;28;01melse\u001b[39;00m:\n\u001b[0;32m   1049\u001b[0m     this_Xy \u001b[38;5;241m=\u001b[39m \u001b[38;5;28;01mNone\u001b[39;00m\n\u001b[1;32m-> 1050\u001b[0m _, this_coef, this_dual_gap, this_iter \u001b[38;5;241m=\u001b[39m \u001b[38;5;28;43mself\u001b[39;49m\u001b[38;5;241;43m.\u001b[39;49m\u001b[43mpath\u001b[49m\u001b[43m(\u001b[49m\n\u001b[0;32m   1051\u001b[0m \u001b[43m    \u001b[49m\u001b[43mX\u001b[49m\u001b[43m,\u001b[49m\n\u001b[0;32m   1052\u001b[0m \u001b[43m    \u001b[49m\u001b[43my\u001b[49m\u001b[43m[\u001b[49m\u001b[43m:\u001b[49m\u001b[43m,\u001b[49m\u001b[43m \u001b[49m\u001b[43mk\u001b[49m\u001b[43m]\u001b[49m\u001b[43m,\u001b[49m\n\u001b[0;32m   1053\u001b[0m \u001b[43m    \u001b[49m\u001b[43ml1_ratio\u001b[49m\u001b[38;5;241;43m=\u001b[39;49m\u001b[38;5;28;43mself\u001b[39;49m\u001b[38;5;241;43m.\u001b[39;49m\u001b[43ml1_ratio\u001b[49m\u001b[43m,\u001b[49m\n\u001b[0;32m   1054\u001b[0m \u001b[43m    \u001b[49m\u001b[43meps\u001b[49m\u001b[38;5;241;43m=\u001b[39;49m\u001b[38;5;28;43;01mNone\u001b[39;49;00m\u001b[43m,\u001b[49m\n\u001b[0;32m   1055\u001b[0m \u001b[43m    \u001b[49m\u001b[43mn_alphas\u001b[49m\u001b[38;5;241;43m=\u001b[39;49m\u001b[38;5;28;43;01mNone\u001b[39;49;00m\u001b[43m,\u001b[49m\n\u001b[0;32m   1056\u001b[0m \u001b[43m    \u001b[49m\u001b[43malphas\u001b[49m\u001b[38;5;241;43m=\u001b[39;49m\u001b[43m[\u001b[49m\u001b[43malpha\u001b[49m\u001b[43m]\u001b[49m\u001b[43m,\u001b[49m\n\u001b[0;32m   1057\u001b[0m \u001b[43m    \u001b[49m\u001b[43mprecompute\u001b[49m\u001b[38;5;241;43m=\u001b[39;49m\u001b[43mprecompute\u001b[49m\u001b[43m,\u001b[49m\n\u001b[0;32m   1058\u001b[0m \u001b[43m    \u001b[49m\u001b[43mXy\u001b[49m\u001b[38;5;241;43m=\u001b[39;49m\u001b[43mthis_Xy\u001b[49m\u001b[43m,\u001b[49m\n\u001b[0;32m   1059\u001b[0m \u001b[43m    \u001b[49m\u001b[43mcopy_X\u001b[49m\u001b[38;5;241;43m=\u001b[39;49m\u001b[38;5;28;43;01mTrue\u001b[39;49;00m\u001b[43m,\u001b[49m\n\u001b[0;32m   1060\u001b[0m \u001b[43m    \u001b[49m\u001b[43mcoef_init\u001b[49m\u001b[38;5;241;43m=\u001b[39;49m\u001b[43mcoef_\u001b[49m\u001b[43m[\u001b[49m\u001b[43mk\u001b[49m\u001b[43m]\u001b[49m\u001b[43m,\u001b[49m\n\u001b[0;32m   1061\u001b[0m \u001b[43m    \u001b[49m\u001b[43mverbose\u001b[49m\u001b[38;5;241;43m=\u001b[39;49m\u001b[38;5;28;43;01mFalse\u001b[39;49;00m\u001b[43m,\u001b[49m\n\u001b[0;32m   1062\u001b[0m \u001b[43m    \u001b[49m\u001b[43mreturn_n_iter\u001b[49m\u001b[38;5;241;43m=\u001b[39;49m\u001b[38;5;28;43;01mTrue\u001b[39;49;00m\u001b[43m,\u001b[49m\n\u001b[0;32m   1063\u001b[0m \u001b[43m    \u001b[49m\u001b[43mpositive\u001b[49m\u001b[38;5;241;43m=\u001b[39;49m\u001b[38;5;28;43mself\u001b[39;49m\u001b[38;5;241;43m.\u001b[39;49m\u001b[43mpositive\u001b[49m\u001b[43m,\u001b[49m\n\u001b[0;32m   1064\u001b[0m \u001b[43m    \u001b[49m\u001b[43mcheck_input\u001b[49m\u001b[38;5;241;43m=\u001b[39;49m\u001b[38;5;28;43;01mFalse\u001b[39;49;00m\u001b[43m,\u001b[49m\n\u001b[0;32m   1065\u001b[0m \u001b[43m    \u001b[49m\u001b[38;5;66;43;03m# from here on **params\u001b[39;49;00m\n\u001b[0;32m   1066\u001b[0m \u001b[43m    \u001b[49m\u001b[43mtol\u001b[49m\u001b[38;5;241;43m=\u001b[39;49m\u001b[38;5;28;43mself\u001b[39;49m\u001b[38;5;241;43m.\u001b[39;49m\u001b[43mtol\u001b[49m\u001b[43m,\u001b[49m\n\u001b[0;32m   1067\u001b[0m \u001b[43m    \u001b[49m\u001b[43mX_offset\u001b[49m\u001b[38;5;241;43m=\u001b[39;49m\u001b[43mX_offset\u001b[49m\u001b[43m,\u001b[49m\n\u001b[0;32m   1068\u001b[0m \u001b[43m    \u001b[49m\u001b[43mX_scale\u001b[49m\u001b[38;5;241;43m=\u001b[39;49m\u001b[43mX_scale\u001b[49m\u001b[43m,\u001b[49m\n\u001b[0;32m   1069\u001b[0m \u001b[43m    \u001b[49m\u001b[43mmax_iter\u001b[49m\u001b[38;5;241;43m=\u001b[39;49m\u001b[38;5;28;43mself\u001b[39;49m\u001b[38;5;241;43m.\u001b[39;49m\u001b[43mmax_iter\u001b[49m\u001b[43m,\u001b[49m\n\u001b[0;32m   1070\u001b[0m \u001b[43m    \u001b[49m\u001b[43mrandom_state\u001b[49m\u001b[38;5;241;43m=\u001b[39;49m\u001b[38;5;28;43mself\u001b[39;49m\u001b[38;5;241;43m.\u001b[39;49m\u001b[43mrandom_state\u001b[49m\u001b[43m,\u001b[49m\n\u001b[0;32m   1071\u001b[0m \u001b[43m    \u001b[49m\u001b[43mselection\u001b[49m\u001b[38;5;241;43m=\u001b[39;49m\u001b[38;5;28;43mself\u001b[39;49m\u001b[38;5;241;43m.\u001b[39;49m\u001b[43mselection\u001b[49m\u001b[43m,\u001b[49m\n\u001b[0;32m   1072\u001b[0m \u001b[43m    \u001b[49m\u001b[43msample_weight\u001b[49m\u001b[38;5;241;43m=\u001b[39;49m\u001b[43msample_weight\u001b[49m\u001b[43m,\u001b[49m\n\u001b[0;32m   1073\u001b[0m \u001b[43m\u001b[49m\u001b[43m)\u001b[49m\n\u001b[0;32m   1074\u001b[0m coef_[k] \u001b[38;5;241m=\u001b[39m this_coef[:, \u001b[38;5;241m0\u001b[39m]\n\u001b[0;32m   1075\u001b[0m dual_gaps_[k] \u001b[38;5;241m=\u001b[39m this_dual_gap[\u001b[38;5;241m0\u001b[39m]\n",
      "File \u001b[1;32mc:\\Users\\notei\\OneDrive\\Рабочий стол\\uni\\Year 3\\Datathon\\bdss-datathon\\.venv\\Lib\\site-packages\\sklearn\\utils\\_param_validation.py:186\u001b[0m, in \u001b[0;36mvalidate_params.<locals>.decorator.<locals>.wrapper\u001b[1;34m(*args, **kwargs)\u001b[0m\n\u001b[0;32m    184\u001b[0m global_skip_validation \u001b[38;5;241m=\u001b[39m get_config()[\u001b[38;5;124m\"\u001b[39m\u001b[38;5;124mskip_parameter_validation\u001b[39m\u001b[38;5;124m\"\u001b[39m]\n\u001b[0;32m    185\u001b[0m \u001b[38;5;28;01mif\u001b[39;00m global_skip_validation:\n\u001b[1;32m--> 186\u001b[0m     \u001b[38;5;28;01mreturn\u001b[39;00m \u001b[43mfunc\u001b[49m\u001b[43m(\u001b[49m\u001b[38;5;241;43m*\u001b[39;49m\u001b[43margs\u001b[49m\u001b[43m,\u001b[49m\u001b[43m \u001b[49m\u001b[38;5;241;43m*\u001b[39;49m\u001b[38;5;241;43m*\u001b[39;49m\u001b[43mkwargs\u001b[49m\u001b[43m)\u001b[49m\n\u001b[0;32m    188\u001b[0m func_sig \u001b[38;5;241m=\u001b[39m signature(func)\n\u001b[0;32m    190\u001b[0m \u001b[38;5;66;03m# Map *args/**kwargs to the function signature\u001b[39;00m\n",
      "File \u001b[1;32mc:\\Users\\notei\\OneDrive\\Рабочий стол\\uni\\Year 3\\Datathon\\bdss-datathon\\.venv\\Lib\\site-packages\\sklearn\\linear_model\\_coordinate_descent.py:678\u001b[0m, in \u001b[0;36menet_path\u001b[1;34m(X, y, l1_ratio, eps, n_alphas, alphas, precompute, Xy, copy_X, coef_init, verbose, return_n_iter, positive, check_input, **params)\u001b[0m\n\u001b[0;32m    664\u001b[0m     model \u001b[38;5;241m=\u001b[39m cd_fast\u001b[38;5;241m.\u001b[39menet_coordinate_descent_gram(\n\u001b[0;32m    665\u001b[0m         coef_,\n\u001b[0;32m    666\u001b[0m         l1_reg,\n\u001b[1;32m   (...)\u001b[0m\n\u001b[0;32m    675\u001b[0m         positive,\n\u001b[0;32m    676\u001b[0m     )\n\u001b[0;32m    677\u001b[0m \u001b[38;5;28;01melif\u001b[39;00m precompute \u001b[38;5;129;01mis\u001b[39;00m \u001b[38;5;28;01mFalse\u001b[39;00m:\n\u001b[1;32m--> 678\u001b[0m     model \u001b[38;5;241m=\u001b[39m \u001b[43mcd_fast\u001b[49m\u001b[38;5;241;43m.\u001b[39;49m\u001b[43menet_coordinate_descent\u001b[49m\u001b[43m(\u001b[49m\n\u001b[0;32m    679\u001b[0m \u001b[43m        \u001b[49m\u001b[43mcoef_\u001b[49m\u001b[43m,\u001b[49m\u001b[43m \u001b[49m\u001b[43ml1_reg\u001b[49m\u001b[43m,\u001b[49m\u001b[43m \u001b[49m\u001b[43ml2_reg\u001b[49m\u001b[43m,\u001b[49m\u001b[43m \u001b[49m\u001b[43mX\u001b[49m\u001b[43m,\u001b[49m\u001b[43m \u001b[49m\u001b[43my\u001b[49m\u001b[43m,\u001b[49m\u001b[43m \u001b[49m\u001b[43mmax_iter\u001b[49m\u001b[43m,\u001b[49m\u001b[43m \u001b[49m\u001b[43mtol\u001b[49m\u001b[43m,\u001b[49m\u001b[43m \u001b[49m\u001b[43mrng\u001b[49m\u001b[43m,\u001b[49m\u001b[43m \u001b[49m\u001b[43mrandom\u001b[49m\u001b[43m,\u001b[49m\u001b[43m \u001b[49m\u001b[43mpositive\u001b[49m\n\u001b[0;32m    680\u001b[0m \u001b[43m    \u001b[49m\u001b[43m)\u001b[49m\n\u001b[0;32m    681\u001b[0m \u001b[38;5;28;01melse\u001b[39;00m:\n\u001b[0;32m    682\u001b[0m     \u001b[38;5;28;01mraise\u001b[39;00m \u001b[38;5;167;01mValueError\u001b[39;00m(\n\u001b[0;32m    683\u001b[0m         \u001b[38;5;124m\"\u001b[39m\u001b[38;5;124mPrecompute should be one of True, False, \u001b[39m\u001b[38;5;124m'\u001b[39m\u001b[38;5;124mauto\u001b[39m\u001b[38;5;124m'\u001b[39m\u001b[38;5;124m or array-like. Got \u001b[39m\u001b[38;5;132;01m%r\u001b[39;00m\u001b[38;5;124m\"\u001b[39m\n\u001b[0;32m    684\u001b[0m         \u001b[38;5;241m%\u001b[39m precompute\n\u001b[0;32m    685\u001b[0m     )\n",
      "\u001b[1;31mKeyboardInterrupt\u001b[0m: "
     ]
    },
    {
     "data": {
      "text/plain": [
       "<Figure size 500x300 with 0 Axes>"
      ]
     },
     "metadata": {},
     "output_type": "display_data"
    }
   ],
   "source": [
    "from matplotlib import pyplot as plt\n",
    "\n",
    "alphas = np.logspace(-3, -1, 30)\n",
    "\n",
    "plt.figure(figsize=(5, 3))\n",
    "\n",
    "for Model in [Lasso]:\n",
    "    scores = [cross_val_score(Model(alpha), X, y, cv=3).mean()\n",
    "            for alpha in alphas]\n",
    "    plt.plot(alphas, scores, label=Model.__name__)\n",
    "\n",
    "plt.legend(loc='lower left')\n",
    "plt.xlabel('alpha')\n",
    "plt.ylabel('cross validation score')\n",
    "plt.tight_layout()\n",
    "plt.show()"
   ]
  },
  {
   "cell_type": "code",
   "execution_count": 30,
   "metadata": {},
   "outputs": [
    {
     "name": "stderr",
     "output_type": "stream",
     "text": [
      "c:\\Users\\notei\\OneDrive\\Рабочий стол\\uni\\Year 3\\Datathon\\bdss-datathon\\.venv\\Lib\\site-packages\\sklearn\\linear_model\\_coordinate_descent.py:664: ConvergenceWarning: Objective did not converge. You might want to increase the number of iterations. Duality gap: 1.7272317249153275, tolerance: 1.604791609810938\n",
      "  model = cd_fast.enet_coordinate_descent_gram(\n",
      "c:\\Users\\notei\\OneDrive\\Рабочий стол\\uni\\Year 3\\Datathon\\bdss-datathon\\.venv\\Lib\\site-packages\\sklearn\\linear_model\\_coordinate_descent.py:664: ConvergenceWarning: Objective did not converge. You might want to increase the number of iterations. Duality gap: 2.057455381658656, tolerance: 1.604791609810938\n",
      "  model = cd_fast.enet_coordinate_descent_gram(\n",
      "c:\\Users\\notei\\OneDrive\\Рабочий стол\\uni\\Year 3\\Datathon\\bdss-datathon\\.venv\\Lib\\site-packages\\sklearn\\linear_model\\_coordinate_descent.py:664: ConvergenceWarning: Objective did not converge. You might want to increase the number of iterations. Duality gap: 2.3105918847704743, tolerance: 1.604791609810938\n",
      "  model = cd_fast.enet_coordinate_descent_gram(\n",
      "c:\\Users\\notei\\OneDrive\\Рабочий стол\\uni\\Year 3\\Datathon\\bdss-datathon\\.venv\\Lib\\site-packages\\sklearn\\linear_model\\_coordinate_descent.py:664: ConvergenceWarning: Objective did not converge. You might want to increase the number of iterations. Duality gap: 2.708184933240773, tolerance: 1.604791609810938\n",
      "  model = cd_fast.enet_coordinate_descent_gram(\n",
      "c:\\Users\\notei\\OneDrive\\Рабочий стол\\uni\\Year 3\\Datathon\\bdss-datathon\\.venv\\Lib\\site-packages\\sklearn\\linear_model\\_coordinate_descent.py:664: ConvergenceWarning: Objective did not converge. You might want to increase the number of iterations. Duality gap: 7.775409412481167, tolerance: 1.604791609810938\n",
      "  model = cd_fast.enet_coordinate_descent_gram(\n",
      "c:\\Users\\notei\\OneDrive\\Рабочий стол\\uni\\Year 3\\Datathon\\bdss-datathon\\.venv\\Lib\\site-packages\\sklearn\\linear_model\\_coordinate_descent.py:664: ConvergenceWarning: Objective did not converge. You might want to increase the number of iterations. Duality gap: 34.18076745697181, tolerance: 1.604791609810938\n",
      "  model = cd_fast.enet_coordinate_descent_gram(\n",
      "c:\\Users\\notei\\OneDrive\\Рабочий стол\\uni\\Year 3\\Datathon\\bdss-datathon\\.venv\\Lib\\site-packages\\sklearn\\linear_model\\_coordinate_descent.py:664: ConvergenceWarning: Objective did not converge. You might want to increase the number of iterations. Duality gap: 45.13457434860902, tolerance: 1.604791609810938\n",
      "  model = cd_fast.enet_coordinate_descent_gram(\n",
      "c:\\Users\\notei\\OneDrive\\Рабочий стол\\uni\\Year 3\\Datathon\\bdss-datathon\\.venv\\Lib\\site-packages\\sklearn\\linear_model\\_coordinate_descent.py:678: ConvergenceWarning: Objective did not converge. You might want to increase the number of iterations, check the scale of the features or consider increasing regularisation. Duality gap: 6.037e+03, tolerance: 2.495e+00\n",
      "  model = cd_fast.enet_coordinate_descent(\n"
     ]
    }
   ],
   "source": [
    "from sklearn.linear_model import LassoCV\n",
    "reg=LassoCV(cv=3, random_state=0).fit(X,y)"
   ]
  },
  {
   "cell_type": "code",
   "execution_count": 31,
   "metadata": {},
   "outputs": [
    {
     "data": {
      "text/plain": [
       "0.021827095585489675"
      ]
     },
     "execution_count": 31,
     "metadata": {},
     "output_type": "execute_result"
    }
   ],
   "source": [
    "reg.score(X, y)"
   ]
  },
  {
   "cell_type": "code",
   "execution_count": 32,
   "metadata": {},
   "outputs": [
    {
     "name": "stderr",
     "output_type": "stream",
     "text": [
      "c:\\Users\\notei\\OneDrive\\Рабочий стол\\uni\\Year 3\\Datathon\\bdss-datathon\\.venv\\Lib\\site-packages\\sklearn\\linear_model\\_coordinate_descent.py:664: ConvergenceWarning: Objective did not converge. You might want to increase the number of iterations. Duality gap: 1.7272317249153275, tolerance: 1.604791609810938\n",
      "  model = cd_fast.enet_coordinate_descent_gram(\n",
      "c:\\Users\\notei\\OneDrive\\Рабочий стол\\uni\\Year 3\\Datathon\\bdss-datathon\\.venv\\Lib\\site-packages\\sklearn\\linear_model\\_coordinate_descent.py:664: ConvergenceWarning: Objective did not converge. You might want to increase the number of iterations. Duality gap: 2.057455381658656, tolerance: 1.604791609810938\n",
      "  model = cd_fast.enet_coordinate_descent_gram(\n",
      "c:\\Users\\notei\\OneDrive\\Рабочий стол\\uni\\Year 3\\Datathon\\bdss-datathon\\.venv\\Lib\\site-packages\\sklearn\\linear_model\\_coordinate_descent.py:664: ConvergenceWarning: Objective did not converge. You might want to increase the number of iterations. Duality gap: 2.3105918847704743, tolerance: 1.604791609810938\n",
      "  model = cd_fast.enet_coordinate_descent_gram(\n",
      "c:\\Users\\notei\\OneDrive\\Рабочий стол\\uni\\Year 3\\Datathon\\bdss-datathon\\.venv\\Lib\\site-packages\\sklearn\\linear_model\\_coordinate_descent.py:664: ConvergenceWarning: Objective did not converge. You might want to increase the number of iterations. Duality gap: 2.708184933240773, tolerance: 1.604791609810938\n",
      "  model = cd_fast.enet_coordinate_descent_gram(\n",
      "c:\\Users\\notei\\OneDrive\\Рабочий стол\\uni\\Year 3\\Datathon\\bdss-datathon\\.venv\\Lib\\site-packages\\sklearn\\linear_model\\_coordinate_descent.py:664: ConvergenceWarning: Objective did not converge. You might want to increase the number of iterations. Duality gap: 7.775409412481167, tolerance: 1.604791609810938\n",
      "  model = cd_fast.enet_coordinate_descent_gram(\n",
      "c:\\Users\\notei\\OneDrive\\Рабочий стол\\uni\\Year 3\\Datathon\\bdss-datathon\\.venv\\Lib\\site-packages\\sklearn\\linear_model\\_coordinate_descent.py:664: ConvergenceWarning: Objective did not converge. You might want to increase the number of iterations. Duality gap: 34.18076745697181, tolerance: 1.604791609810938\n",
      "  model = cd_fast.enet_coordinate_descent_gram(\n",
      "c:\\Users\\notei\\OneDrive\\Рабочий стол\\uni\\Year 3\\Datathon\\bdss-datathon\\.venv\\Lib\\site-packages\\sklearn\\linear_model\\_coordinate_descent.py:664: ConvergenceWarning: Objective did not converge. You might want to increase the number of iterations. Duality gap: 45.13457434860902, tolerance: 1.604791609810938\n",
      "  model = cd_fast.enet_coordinate_descent_gram(\n",
      "c:\\Users\\notei\\OneDrive\\Рабочий стол\\uni\\Year 3\\Datathon\\bdss-datathon\\.venv\\Lib\\site-packages\\sklearn\\linear_model\\_coordinate_descent.py:678: ConvergenceWarning: Objective did not converge. You might want to increase the number of iterations, check the scale of the features or consider increasing regularisation. Duality gap: 6.037e+03, tolerance: 2.495e+00\n",
      "  model = cd_fast.enet_coordinate_descent(\n"
     ]
    },
    {
     "data": {
      "text/plain": [
       "0.021827095585489675"
      ]
     },
     "execution_count": 32,
     "metadata": {},
     "output_type": "execute_result"
    }
   ],
   "source": [
    "from sklearn.linear_model import LassoCV\n",
    "reg=LassoCV(cv=3).fit(X,y)\n",
    "reg.score(X,y)"
   ]
  },
  {
   "cell_type": "code",
   "execution_count": 33,
   "metadata": {},
   "outputs": [
    {
     "data": {
      "text/plain": [
       "5.495578175952406e-05"
      ]
     },
     "execution_count": 33,
     "metadata": {},
     "output_type": "execute_result"
    }
   ],
   "source": [
    "reg.alpha_"
   ]
  },
  {
   "cell_type": "code",
   "execution_count": 34,
   "metadata": {},
   "outputs": [
    {
     "name": "stdout",
     "output_type": "stream",
     "text": [
      "Mean Squared Error: 0.042555140029382925\n"
     ]
    },
    {
     "name": "stderr",
     "output_type": "stream",
     "text": [
      "c:\\Users\\notei\\OneDrive\\Рабочий стол\\uni\\Year 3\\Datathon\\bdss-datathon\\.venv\\Lib\\site-packages\\sklearn\\linear_model\\_coordinate_descent.py:678: ConvergenceWarning: Objective did not converge. You might want to increase the number of iterations, check the scale of the features or consider increasing regularisation. Duality gap: 6.354e+01, tolerance: 1.998e+00\n",
      "  model = cd_fast.enet_coordinate_descent(\n"
     ]
    }
   ],
   "source": [
    "from sklearn.model_selection import train_test_split\n",
    "from sklearn.linear_model import Lasso\n",
    "from sklearn.preprocessing import StandardScaler\n",
    "from sklearn.metrics import mean_squared_error\n",
    "\n",
    "\n",
    "# Drop 'id' and 'flag' columns from X\n",
    "X = merged_df.drop(['id', 'flag'])\n",
    "\n",
    "# Convert 'flag' column to numpy array\n",
    "y = merged_df['flag'].to_numpy()\n",
    "\n",
    "# Split the data into training and testing sets\n",
    "X_train, X_test, y_train, y_test = train_test_split(X, y, test_size=0.2, random_state=42)\n",
    "\n",
    "# Convert Polars DataFrames to numpy arrays\n",
    "X_train_np = X_train.to_numpy()\n",
    "X_test_np = X_test.to_numpy()\n",
    "\n",
    "# Standardize features\n",
    "scaler = StandardScaler()\n",
    "X_train_scaled = scaler.fit_transform(X_train_np)\n",
    "X_test_scaled = scaler.transform(X_test_np)\n",
    "\n",
    "# Create and fit Lasso regression model\n",
    "lasso = Lasso(alpha=5.495578175952406e-05)  # You can adjust the alpha parameter for regularization strength\n",
    "lasso.fit(X_train_scaled, y_train)\n",
    "\n",
    "# Predict on the testing set\n",
    "y_pred = lasso.predict(X_test_scaled)\n",
    "\n",
    "# Calculate mean squared error\n",
    "mse = mean_squared_error(y_test, y_pred)\n",
    "print(\"Mean Squared Error:\", mse)"
   ]
  },
  {
   "cell_type": "code",
   "execution_count": 35,
   "metadata": {},
   "outputs": [
    {
     "name": "stdout",
     "output_type": "stream",
     "text": [
      "Variable Coefficients: [ 1.13837843e-03  1.79423313e-03  0.00000000e+00 -5.89530329e-04\n",
      "  7.52808711e-05  1.03521636e-04 -4.38392647e-04 -5.78387253e-05\n",
      " -7.90961176e-04 -4.66710809e-04 -2.15249771e-04  1.83220162e-03\n",
      " -3.03693598e-04  0.00000000e+00  3.03953663e-04 -1.38338134e-03\n",
      " -2.14569151e-03 -4.06763629e-03  1.06148678e-03  8.65428817e-04\n",
      "  1.52286790e-03 -0.00000000e+00 -0.00000000e+00 -0.00000000e+00\n",
      "  2.98236411e-03  3.15752430e-03  1.90017012e-03  1.38801732e-03\n",
      "  0.00000000e+00  0.00000000e+00 -4.82973946e-04 -5.55791007e-04\n",
      " -1.01981593e-03  7.17837496e-05  2.55930930e-04  0.00000000e+00\n",
      " -9.12674371e-04  0.00000000e+00  1.23625373e-03  6.44070933e-04\n",
      "  5.67147194e-03  1.04521432e-02  3.09042798e-04  1.60273604e-04\n",
      "  8.81172961e-03  4.44535082e-04  0.00000000e+00  0.00000000e+00\n",
      "  4.47812592e-04  0.00000000e+00  0.00000000e+00 -2.98726504e-03\n",
      " -6.74960371e-03 -6.15808731e-03 -6.03607673e-03 -1.05585692e-02\n",
      " -6.91825634e-03 -2.77745339e-03 -8.70111442e-03 -7.79768313e-03\n",
      " -7.66394874e-04 -0.00000000e+00 -7.66001364e-03 -2.58832102e-03\n",
      " -4.09881372e-03 -1.13816353e-03 -2.19913107e-03 -3.01328547e-03\n",
      " -2.65595956e-03  1.99107185e-03  3.66595119e-03  2.29142983e-04\n",
      " -2.01031514e-03 -1.66397530e-03 -0.00000000e+00 -6.16166926e-03\n",
      " -5.61429169e-03 -3.93019548e-03  4.92538076e-03  8.35242293e-03\n",
      "  1.11883778e-03  2.78693379e-05  0.00000000e+00 -9.64512363e-04\n",
      "  1.82062624e-03  2.54693333e-03  1.34012534e-03  4.61641130e-03\n",
      "  1.05396399e-03  2.31161588e-03  3.69975757e-04  2.81506175e-03\n",
      "  6.35987104e-04  3.36766148e-03  3.41049322e-04  7.46709492e-04\n",
      "  2.12500196e-03  1.83281820e-03  8.54491960e-04  1.52863838e-04\n",
      "  8.81300303e-05  0.00000000e+00  2.66264427e-04  1.52105586e-04\n",
      "  1.10723837e-03  3.84686912e-04  1.30247958e-03  1.29341561e-04\n",
      "  1.29431868e-03  0.00000000e+00  8.96943185e-04  5.69386902e-04\n",
      "  1.05400407e-03  8.47299792e-05  0.00000000e+00 -0.00000000e+00\n",
      " -0.00000000e+00  0.00000000e+00 -2.03669744e-04  1.76420831e-04\n",
      " -5.97024563e-05  0.00000000e+00  5.86851555e-04  1.29131289e-03\n",
      "  0.00000000e+00  0.00000000e+00  4.51117575e-04  8.53596256e-04\n",
      "  6.17342675e-04  0.00000000e+00  0.00000000e+00  0.00000000e+00\n",
      "  5.04381711e-04  1.31613518e-03  0.00000000e+00 -0.00000000e+00\n",
      "  3.22222119e-04  1.55212679e-03  8.32378054e-04  2.02176518e-04\n",
      "  0.00000000e+00  6.61764457e-04  4.03932848e-04  0.00000000e+00\n",
      "  7.22576968e-04  0.00000000e+00  0.00000000e+00  0.00000000e+00\n",
      "  0.00000000e+00  0.00000000e+00  0.00000000e+00  0.00000000e+00\n",
      "  0.00000000e+00  1.37784687e-03  2.44462722e-03  1.11354490e-03\n",
      " -8.60680451e-04 -2.18565368e-03  1.22033174e-03 -1.18257571e-03\n",
      " -2.33774645e-03 -2.10079452e-03 -0.00000000e+00  3.04564747e-03\n",
      "  4.35817498e-03  4.26920758e-03  5.25326687e-03  2.88602307e-03\n",
      " -3.00661689e-04  0.00000000e+00  0.00000000e+00 -5.85250987e-04\n",
      "  2.45006290e-04 -0.00000000e+00  7.95137050e-04  1.63352596e-03\n",
      "  6.24310686e-04]\n"
     ]
    }
   ],
   "source": [
    "coefficients = lasso.coef_\n",
    "print(\"Variable Coefficients:\", coefficients)"
   ]
  },
  {
   "cell_type": "code",
   "execution_count": 36,
   "metadata": {},
   "outputs": [
    {
     "name": "stdout",
     "output_type": "stream",
     "text": [
      "Indices of coefficients set to non-zero: [0, 1, 3, 4, 5, 6, 7, 8, 9, 10, 11, 12, 14, 15, 16, 17, 18, 19, 20, 24, 25, 26, 27, 30, 31, 32, 33, 34, 36, 38, 39, 40, 41, 42, 43, 44, 45, 48, 51, 52, 53, 54, 55, 56, 57, 58, 59, 60, 62, 63, 64, 65, 66, 67, 68, 69, 70, 71, 72, 73, 75, 76, 77, 78, 79, 80, 81, 83, 84, 85, 86, 87, 88, 89, 90, 91, 92, 93, 94, 95, 96, 97, 98, 99, 100, 102, 103, 104, 105, 106, 107, 108, 110, 111, 112, 113, 118, 119, 120, 122, 123, 126, 127, 128, 132, 133, 136, 137, 138, 139, 141, 142, 144, 153, 154, 155, 156, 157, 158, 159, 160, 161, 163, 164, 165, 166, 167, 168, 171, 172, 174, 175, 176]\n"
     ]
    }
   ],
   "source": [
    "# Get the indices of coefficients that are non-zero\n",
    "nonzero_coefficient_indices = [i for i, coef in enumerate(coefficients) if coef != 0]\n",
    "\n",
    "print(\"Indices of coefficients set to non-zero:\", nonzero_coefficient_indices)"
   ]
  },
  {
   "cell_type": "code",
   "execution_count": 37,
   "metadata": {},
   "outputs": [
    {
     "data": {
      "text/plain": [
       "(570524, 179)"
      ]
     },
     "execution_count": 37,
     "metadata": {},
     "output_type": "execute_result"
    }
   ],
   "source": [
    "merged_df.shape"
   ]
  },
  {
   "cell_type": "code",
   "execution_count": null,
   "metadata": {},
   "outputs": [],
   "source": []
  }
 ],
 "metadata": {
  "kernelspec": {
   "display_name": ".venv",
   "language": "python",
   "name": "python3"
  },
  "language_info": {
   "codemirror_mode": {
    "name": "ipython",
    "version": 3
   },
   "file_extension": ".py",
   "mimetype": "text/x-python",
   "name": "python",
   "nbconvert_exporter": "python",
   "pygments_lexer": "ipython3",
   "version": "3.12.0"
  }
 },
 "nbformat": 4,
 "nbformat_minor": 2
}
