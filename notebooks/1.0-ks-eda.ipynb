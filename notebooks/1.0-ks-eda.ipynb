{
 "cells": [
  {
   "cell_type": "code",
   "execution_count": 43,
   "metadata": {},
   "outputs": [],
   "source": [
    "import pandas as pd\n",
    "import numpy as np\n",
    "import polars as pl"
   ]
  },
  {
   "cell_type": "code",
   "execution_count": 24,
   "metadata": {},
   "outputs": [],
   "source": [
    "train_data_0=pd.read_csv(\"C:/Users/notei/OneDrive/Рабочий стол/uni/Year 3/Datathon/bdss-datathon/data/raw/train_data_0.csv\")\n",
    "train_data_1=pd.read_csv(\"C:/Users/notei/OneDrive/Рабочий стол/uni/Year 3/Datathon/bdss-datathon/data/raw/train_data_1.csv\")\n",
    "train_data_2=pd.read_csv(\"C:/Users/notei/OneDrive/Рабочий стол/uni/Year 3/Datathon/bdss-datathon/data/raw/train_data_2.csv\")\n",
    "train_data_3=pd.read_csv(\"C:/Users/notei/OneDrive/Рабочий стол/uni/Year 3/Datathon/bdss-datathon/data/raw/train_data_3.csv\")\n",
    "train_data_4=pd.read_csv(\"C:/Users/notei/OneDrive/Рабочий стол/uni/Year 3/Datathon/bdss-datathon/data/raw/train_data_4.csv\")\n",
    "train_data_5=pd.read_csv(\"C:/Users/notei/OneDrive/Рабочий стол/uni/Year 3/Datathon/bdss-datathon/data/raw/train_data_5.csv\")\n",
    "train_data_6=pd.read_csv(\"C:/Users/notei/OneDrive/Рабочий стол/uni/Year 3/Datathon/bdss-datathon/data/raw/train_data_6.csv\")\n",
    "train_data_7=pd.read_csv(\"C:/Users/notei/OneDrive/Рабочий стол/uni/Year 3/Datathon/bdss-datathon/data/raw/train_data_7.csv\")\n",
    "train_data_8=pd.read_csv(\"C:/Users/notei/OneDrive/Рабочий стол/uni/Year 3/Datathon/bdss-datathon/data/raw/train_data_8.csv\")\n",
    "train_data_9=pd.read_csv(\"C:/Users/notei/OneDrive/Рабочий стол/uni/Year 3/Datathon/bdss-datathon/data/raw/train_data_9.csv\")\n",
    "train_data_10=pd.read_csv(\"C:/Users/notei/OneDrive/Рабочий стол/uni/Year 3/Datathon/bdss-datathon/data/raw/train_data_10.csv\")"
   ]
  },
  {
   "cell_type": "code",
   "execution_count": 38,
   "metadata": {},
   "outputs": [],
   "source": [
    "combined_train_data = pd.concat([train_data_1, train_data_2, train_data_3, train_data_4, train_data_5, train_data_6, train_data_7, train_data_8, train_data_9, train_data_10], ignore_index=True)"
   ]
  },
  {
   "cell_type": "code",
   "execution_count": 40,
   "metadata": {},
   "outputs": [
    {
     "name": "stdout",
     "output_type": "stream",
     "text": [
      "id\n",
      "1782755    55\n",
      "1658519    54\n",
      "508303     51\n",
      "755726     50\n",
      "318999     50\n",
      "           ..\n",
      "1351668     1\n",
      "2207624     1\n",
      "2207623     1\n",
      "2207620     1\n",
      "506320      1\n",
      "Name: count, Length: 2500000, dtype: int64\n"
     ]
    }
   ],
   "source": [
    "\n",
    "\n",
    "# Assuming combined_train_data is a pandas DataFrame with the ID column\n",
    "\n",
    "# Count occurrences of each unique ID\n",
    "id_counts = combined_train_data['id'].value_counts()\n",
    "\n",
    "# Display the count of occurrences for each ID\n",
    "print(id_counts)\n"
   ]
  },
  {
   "cell_type": "code",
   "execution_count": 52,
   "metadata": {},
   "outputs": [],
   "source": [
    "df=pl.from_pandas(combined_train_data)"
   ]
  },
  {
   "cell_type": "code",
   "execution_count": 53,
   "metadata": {},
   "outputs": [
    {
     "name": "stderr",
     "output_type": "stream",
     "text": [
      "C:\\Users\\notei\\AppData\\Local\\Temp\\ipykernel_38948\\1122097467.py:2: DeprecationWarning: `groupby` is deprecated. It has been renamed to `group_by`.\n",
      "  filtered_ids_data = df.groupby('id').count().filter(pl.col(\"count\") <= 3)\n",
      "C:\\Users\\notei\\AppData\\Local\\Temp\\ipykernel_38948\\1122097467.py:2: DeprecationWarning: `count` is deprecated. It has been renamed to `len`.\n",
      "  filtered_ids_data = df.groupby('id').count().filter(pl.col(\"count\") <= 3)\n"
     ]
    }
   ],
   "source": [
    "# Group by the 'id' column, count occurrences, and filter to keep only those with count <= 3\n",
    "filtered_ids_data = df.groupby('id').count().filter(pl.col(\"count\") <= 3)\n",
    "\n",
    "# Join the filtered DataFrame with the original DataFrame on the 'id' column\n",
    "filtered_ids = df.join(filtered_ids_data, on='id', how='inner')"
   ]
  },
  {
   "cell_type": "code",
   "execution_count": 61,
   "metadata": {},
   "outputs": [
    {
     "data": {
      "text/plain": [
       "['id',\n",
       " 'rn',\n",
       " 'pre_since_opened',\n",
       " 'pre_since_confirmed',\n",
       " 'pre_pterm',\n",
       " 'pre_fterm',\n",
       " 'pre_till_pclose',\n",
       " 'pre_till_fclose',\n",
       " 'pre_loans_credit_limit',\n",
       " 'pre_loans_next_pay_summ',\n",
       " 'pre_loans_outstanding',\n",
       " 'pre_loans_total_overdue',\n",
       " 'pre_loans_max_overdue_sum',\n",
       " 'pre_loans_credit_cost_rate',\n",
       " 'pre_loans5',\n",
       " 'pre_loans530',\n",
       " 'pre_loans3060',\n",
       " 'pre_loans6090',\n",
       " 'pre_loans90',\n",
       " 'is_zero_loans5',\n",
       " 'is_zero_loans530',\n",
       " 'is_zero_loans3060',\n",
       " 'is_zero_loans6090',\n",
       " 'is_zero_loans90',\n",
       " 'pre_util',\n",
       " 'pre_over2limit',\n",
       " 'pre_maxover2limit',\n",
       " 'is_zero_util',\n",
       " 'is_zero_over2limit',\n",
       " 'is_zero_maxover2limit',\n",
       " 'enc_paym_0',\n",
       " 'enc_paym_1',\n",
       " 'enc_paym_2',\n",
       " 'enc_paym_3',\n",
       " 'enc_paym_4',\n",
       " 'enc_paym_5',\n",
       " 'enc_paym_6',\n",
       " 'enc_paym_7',\n",
       " 'enc_paym_8',\n",
       " 'enc_paym_9',\n",
       " 'enc_paym_10',\n",
       " 'enc_paym_11',\n",
       " 'enc_paym_12',\n",
       " 'enc_paym_13',\n",
       " 'enc_paym_14',\n",
       " 'enc_paym_15',\n",
       " 'enc_paym_16',\n",
       " 'enc_paym_17',\n",
       " 'enc_paym_18',\n",
       " 'enc_paym_19',\n",
       " 'enc_paym_20',\n",
       " 'enc_paym_21',\n",
       " 'enc_paym_22',\n",
       " 'enc_paym_23',\n",
       " 'enc_paym_24',\n",
       " 'enc_loans_account_holder_type',\n",
       " 'enc_loans_credit_status',\n",
       " 'enc_loans_credit_type',\n",
       " 'enc_loans_account_cur',\n",
       " 'pclose_flag',\n",
       " 'fclose_flag']"
      ]
     },
     "execution_count": 61,
     "metadata": {},
     "output_type": "execute_result"
    }
   ],
   "source": [
    "filtered_ids=filtered_ids.drop('count')\n",
    "filtered_ids.columns"
   ]
  },
  {
   "cell_type": "code",
   "execution_count": 72,
   "metadata": {},
   "outputs": [
    {
     "data": {
      "text/html": [
       "<div><style>\n",
       ".dataframe > thead > tr,\n",
       ".dataframe > tbody > tr {\n",
       "  text-align: right;\n",
       "  white-space: pre-wrap;\n",
       "}\n",
       "</style>\n",
       "<small>shape: (1_147_120, 3)</small><table border=\"1\" class=\"dataframe\"><thead><tr><th>id</th><th>rn</th><th>pre_since_opened</th></tr><tr><td>i64</td><td>i64</td><td>i64</td></tr></thead><tbody><tr><td>250002</td><td>1</td><td>15</td></tr><tr><td>250002</td><td>2</td><td>0</td></tr><tr><td>250002</td><td>3</td><td>9</td></tr><tr><td>250003</td><td>1</td><td>8</td></tr><tr><td>250003</td><td>2</td><td>10</td></tr><tr><td>&hellip;</td><td>&hellip;</td><td>&hellip;</td></tr><tr><td>2749993</td><td>1</td><td>16</td></tr><tr><td>2749993</td><td>2</td><td>19</td></tr><tr><td>2749997</td><td>1</td><td>15</td></tr><tr><td>2749997</td><td>2</td><td>15</td></tr><tr><td>2749997</td><td>3</td><td>14</td></tr></tbody></table></div>"
      ],
      "text/plain": [
       "shape: (1_147_120, 3)\n",
       "┌─────────┬─────┬──────────────────┐\n",
       "│ id      ┆ rn  ┆ pre_since_opened │\n",
       "│ ---     ┆ --- ┆ ---              │\n",
       "│ i64     ┆ i64 ┆ i64              │\n",
       "╞═════════╪═════╪══════════════════╡\n",
       "│ 250002  ┆ 1   ┆ 15               │\n",
       "│ 250002  ┆ 2   ┆ 0                │\n",
       "│ 250002  ┆ 3   ┆ 9                │\n",
       "│ 250003  ┆ 1   ┆ 8                │\n",
       "│ 250003  ┆ 2   ┆ 10               │\n",
       "│ …       ┆ …   ┆ …                │\n",
       "│ 2749993 ┆ 1   ┆ 16               │\n",
       "│ 2749993 ┆ 2   ┆ 19               │\n",
       "│ 2749997 ┆ 1   ┆ 15               │\n",
       "│ 2749997 ┆ 2   ┆ 15               │\n",
       "│ 2749997 ┆ 3   ┆ 14               │\n",
       "└─────────┴─────┴──────────────────┘"
      ]
     },
     "execution_count": 72,
     "metadata": {},
     "output_type": "execute_result"
    }
   ],
   "source": [
    "\n",
    "\n",
    "\n",
    "a=filtered_ids.select([\"id\", \"rn\", \"pre_since_opened\"])\n",
    "a"
   ]
  },
  {
   "cell_type": "code",
   "execution_count": 69,
   "metadata": {},
   "outputs": [],
   "source": [
    "b=a.pivot(index='id', values=\"pre_since_opened\", columns='rn', aggregate_function=None)"
   ]
  },
  {
   "cell_type": "code",
   "execution_count": 70,
   "metadata": {},
   "outputs": [
    {
     "data": {
      "text/html": [
       "<div><style>\n",
       ".dataframe > thead > tr,\n",
       ".dataframe > tbody > tr {\n",
       "  text-align: right;\n",
       "  white-space: pre-wrap;\n",
       "}\n",
       "</style>\n",
       "<small>shape: (5, 4)</small><table border=\"1\" class=\"dataframe\"><thead><tr><th>id</th><th>1</th><th>2</th><th>3</th></tr><tr><td>i64</td><td>i64</td><td>i64</td><td>i64</td></tr></thead><tbody><tr><td>250002</td><td>15</td><td>0</td><td>9</td></tr><tr><td>250003</td><td>8</td><td>10</td><td>null</td></tr><tr><td>250004</td><td>4</td><td>19</td><td>null</td></tr><tr><td>250006</td><td>3</td><td>null</td><td>null</td></tr><tr><td>250007</td><td>7</td><td>null</td><td>null</td></tr></tbody></table></div>"
      ],
      "text/plain": [
       "shape: (5, 4)\n",
       "┌────────┬─────┬──────┬──────┐\n",
       "│ id     ┆ 1   ┆ 2    ┆ 3    │\n",
       "│ ---    ┆ --- ┆ ---  ┆ ---  │\n",
       "│ i64    ┆ i64 ┆ i64  ┆ i64  │\n",
       "╞════════╪═════╪══════╪══════╡\n",
       "│ 250002 ┆ 15  ┆ 0    ┆ 9    │\n",
       "│ 250003 ┆ 8   ┆ 10   ┆ null │\n",
       "│ 250004 ┆ 4   ┆ 19   ┆ null │\n",
       "│ 250006 ┆ 3   ┆ null ┆ null │\n",
       "│ 250007 ┆ 7   ┆ null ┆ null │\n",
       "└────────┴─────┴──────┴──────┘"
      ]
     },
     "execution_count": 70,
     "metadata": {},
     "output_type": "execute_result"
    }
   ],
   "source": [
    "b.head()"
   ]
  },
  {
   "cell_type": "code",
   "execution_count": 93,
   "metadata": {},
   "outputs": [],
   "source": [
    "columnnames=filtered_ids.columns\n",
    "columnnames = [name for name in columnnames if name not in ['id', 'rn']]"
   ]
  },
  {
   "cell_type": "code",
   "execution_count": 96,
   "metadata": {},
   "outputs": [],
   "source": [
    "pivoted_df=filtered_ids.pivot(index='id', values=None, columns='rn', aggregate_function=None)"
   ]
  },
  {
   "cell_type": "code",
   "execution_count": 98,
   "metadata": {},
   "outputs": [
    {
     "data": {
      "text/html": [
       "<div><style>\n",
       ".dataframe > thead > tr,\n",
       ".dataframe > tbody > tr {\n",
       "  text-align: right;\n",
       "  white-space: pre-wrap;\n",
       "}\n",
       "</style>\n",
       "<small>shape: (5, 178)</small><table border=\"1\" class=\"dataframe\"><thead><tr><th>id</th><th>pre_since_opened_rn_1</th><th>pre_since_opened_rn_2</th><th>pre_since_opened_rn_3</th><th>pre_since_confirmed_rn_1</th><th>pre_since_confirmed_rn_2</th><th>pre_since_confirmed_rn_3</th><th>pre_pterm_rn_1</th><th>pre_pterm_rn_2</th><th>pre_pterm_rn_3</th><th>pre_fterm_rn_1</th><th>pre_fterm_rn_2</th><th>pre_fterm_rn_3</th><th>pre_till_pclose_rn_1</th><th>pre_till_pclose_rn_2</th><th>pre_till_pclose_rn_3</th><th>pre_till_fclose_rn_1</th><th>pre_till_fclose_rn_2</th><th>pre_till_fclose_rn_3</th><th>pre_loans_credit_limit_rn_1</th><th>pre_loans_credit_limit_rn_2</th><th>pre_loans_credit_limit_rn_3</th><th>pre_loans_next_pay_summ_rn_1</th><th>pre_loans_next_pay_summ_rn_2</th><th>pre_loans_next_pay_summ_rn_3</th><th>pre_loans_outstanding_rn_1</th><th>pre_loans_outstanding_rn_2</th><th>pre_loans_outstanding_rn_3</th><th>pre_loans_total_overdue_rn_1</th><th>pre_loans_total_overdue_rn_2</th><th>pre_loans_total_overdue_rn_3</th><th>pre_loans_max_overdue_sum_rn_1</th><th>pre_loans_max_overdue_sum_rn_2</th><th>pre_loans_max_overdue_sum_rn_3</th><th>pre_loans_credit_cost_rate_rn_1</th><th>pre_loans_credit_cost_rate_rn_2</th><th>pre_loans_credit_cost_rate_rn_3</th><th>&hellip;</th><th>enc_paym_18_rn_3</th><th>enc_paym_19_rn_1</th><th>enc_paym_19_rn_2</th><th>enc_paym_19_rn_3</th><th>enc_paym_20_rn_1</th><th>enc_paym_20_rn_2</th><th>enc_paym_20_rn_3</th><th>enc_paym_21_rn_1</th><th>enc_paym_21_rn_2</th><th>enc_paym_21_rn_3</th><th>enc_paym_22_rn_1</th><th>enc_paym_22_rn_2</th><th>enc_paym_22_rn_3</th><th>enc_paym_23_rn_1</th><th>enc_paym_23_rn_2</th><th>enc_paym_23_rn_3</th><th>enc_paym_24_rn_1</th><th>enc_paym_24_rn_2</th><th>enc_paym_24_rn_3</th><th>enc_loans_account_holder_type_rn_1</th><th>enc_loans_account_holder_type_rn_2</th><th>enc_loans_account_holder_type_rn_3</th><th>enc_loans_credit_status_rn_1</th><th>enc_loans_credit_status_rn_2</th><th>enc_loans_credit_status_rn_3</th><th>enc_loans_credit_type_rn_1</th><th>enc_loans_credit_type_rn_2</th><th>enc_loans_credit_type_rn_3</th><th>enc_loans_account_cur_rn_1</th><th>enc_loans_account_cur_rn_2</th><th>enc_loans_account_cur_rn_3</th><th>pclose_flag_rn_1</th><th>pclose_flag_rn_2</th><th>pclose_flag_rn_3</th><th>fclose_flag_rn_1</th><th>fclose_flag_rn_2</th><th>fclose_flag_rn_3</th></tr><tr><td>i64</td><td>i64</td><td>i64</td><td>i64</td><td>i64</td><td>i64</td><td>i64</td><td>i64</td><td>i64</td><td>i64</td><td>i64</td><td>i64</td><td>i64</td><td>i64</td><td>i64</td><td>i64</td><td>i64</td><td>i64</td><td>i64</td><td>i64</td><td>i64</td><td>i64</td><td>i64</td><td>i64</td><td>i64</td><td>i64</td><td>i64</td><td>i64</td><td>i64</td><td>i64</td><td>i64</td><td>i64</td><td>i64</td><td>i64</td><td>i64</td><td>i64</td><td>i64</td><td>&hellip;</td><td>i64</td><td>i64</td><td>i64</td><td>i64</td><td>i64</td><td>i64</td><td>i64</td><td>i64</td><td>i64</td><td>i64</td><td>i64</td><td>i64</td><td>i64</td><td>i64</td><td>i64</td><td>i64</td><td>i64</td><td>i64</td><td>i64</td><td>i64</td><td>i64</td><td>i64</td><td>i64</td><td>i64</td><td>i64</td><td>i64</td><td>i64</td><td>i64</td><td>i64</td><td>i64</td><td>i64</td><td>i64</td><td>i64</td><td>i64</td><td>i64</td><td>i64</td><td>i64</td></tr></thead><tbody><tr><td>250002</td><td>15</td><td>0</td><td>9</td><td>1</td><td>5</td><td>6</td><td>9</td><td>0</td><td>4</td><td>9</td><td>7</td><td>8</td><td>9</td><td>2</td><td>1</td><td>1</td><td>6</td><td>11</td><td>19</td><td>14</td><td>1</td><td>2</td><td>2</td><td>1</td><td>3</td><td>3</td><td>4</td><td>0</td><td>0</td><td>0</td><td>2</td><td>2</td><td>2</td><td>2</td><td>2</td><td>9</td><td>&hellip;</td><td>3</td><td>3</td><td>0</td><td>3</td><td>4</td><td>1</td><td>4</td><td>3</td><td>0</td><td>3</td><td>3</td><td>0</td><td>3</td><td>3</td><td>0</td><td>3</td><td>4</td><td>1</td><td>4</td><td>1</td><td>1</td><td>1</td><td>3</td><td>3</td><td>2</td><td>1</td><td>3</td><td>3</td><td>1</td><td>1</td><td>1</td><td>0</td><td>0</td><td>1</td><td>0</td><td>0</td><td>1</td></tr><tr><td>250003</td><td>8</td><td>10</td><td>null</td><td>6</td><td>12</td><td>null</td><td>6</td><td>4</td><td>null</td><td>1</td><td>13</td><td>null</td><td>8</td><td>1</td><td>null</td><td>8</td><td>7</td><td>null</td><td>15</td><td>14</td><td>null</td><td>3</td><td>2</td><td>null</td><td>1</td><td>3</td><td>null</td><td>0</td><td>0</td><td>null</td><td>2</td><td>2</td><td>null</td><td>2</td><td>2</td><td>null</td><td>&hellip;</td><td>null</td><td>0</td><td>3</td><td>null</td><td>1</td><td>4</td><td>null</td><td>0</td><td>3</td><td>null</td><td>0</td><td>3</td><td>null</td><td>0</td><td>3</td><td>null</td><td>1</td><td>4</td><td>null</td><td>1</td><td>1</td><td>null</td><td>2</td><td>3</td><td>null</td><td>3</td><td>1</td><td>null</td><td>1</td><td>1</td><td>null</td><td>0</td><td>1</td><td>null</td><td>0</td><td>0</td><td>null</td></tr><tr><td>250004</td><td>4</td><td>19</td><td>null</td><td>8</td><td>0</td><td>null</td><td>15</td><td>1</td><td>null</td><td>9</td><td>8</td><td>null</td><td>5</td><td>14</td><td>null</td><td>7</td><td>11</td><td>null</td><td>19</td><td>8</td><td>null</td><td>2</td><td>2</td><td>null</td><td>3</td><td>5</td><td>null</td><td>0</td><td>0</td><td>null</td><td>2</td><td>2</td><td>null</td><td>10</td><td>0</td><td>null</td><td>&hellip;</td><td>null</td><td>3</td><td>3</td><td>null</td><td>4</td><td>4</td><td>null</td><td>3</td><td>3</td><td>null</td><td>3</td><td>3</td><td>null</td><td>3</td><td>3</td><td>null</td><td>4</td><td>4</td><td>null</td><td>1</td><td>1</td><td>null</td><td>3</td><td>2</td><td>null</td><td>4</td><td>4</td><td>null</td><td>1</td><td>1</td><td>null</td><td>0</td><td>0</td><td>null</td><td>0</td><td>1</td><td>null</td></tr><tr><td>250006</td><td>3</td><td>null</td><td>null</td><td>10</td><td>null</td><td>null</td><td>6</td><td>null</td><td>null</td><td>8</td><td>null</td><td>null</td><td>0</td><td>null</td><td>null</td><td>11</td><td>null</td><td>null</td><td>2</td><td>null</td><td>null</td><td>5</td><td>null</td><td>null</td><td>1</td><td>null</td><td>null</td><td>0</td><td>null</td><td>null</td><td>2</td><td>null</td><td>null</td><td>4</td><td>null</td><td>null</td><td>&hellip;</td><td>null</td><td>3</td><td>null</td><td>null</td><td>4</td><td>null</td><td>null</td><td>3</td><td>null</td><td>null</td><td>3</td><td>null</td><td>null</td><td>3</td><td>null</td><td>null</td><td>4</td><td>null</td><td>null</td><td>1</td><td>null</td><td>null</td><td>2</td><td>null</td><td>null</td><td>0</td><td>null</td><td>null</td><td>1</td><td>null</td><td>null</td><td>0</td><td>null</td><td>null</td><td>1</td><td>null</td><td>null</td></tr><tr><td>250007</td><td>7</td><td>null</td><td>null</td><td>9</td><td>null</td><td>null</td><td>4</td><td>null</td><td>null</td><td>8</td><td>null</td><td>null</td><td>1</td><td>null</td><td>null</td><td>11</td><td>null</td><td>null</td><td>1</td><td>null</td><td>null</td><td>6</td><td>null</td><td>null</td><td>4</td><td>null</td><td>null</td><td>0</td><td>null</td><td>null</td><td>2</td><td>null</td><td>null</td><td>7</td><td>null</td><td>null</td><td>&hellip;</td><td>null</td><td>3</td><td>null</td><td>null</td><td>4</td><td>null</td><td>null</td><td>3</td><td>null</td><td>null</td><td>3</td><td>null</td><td>null</td><td>3</td><td>null</td><td>null</td><td>4</td><td>null</td><td>null</td><td>1</td><td>null</td><td>null</td><td>2</td><td>null</td><td>null</td><td>4</td><td>null</td><td>null</td><td>1</td><td>null</td><td>null</td><td>1</td><td>null</td><td>null</td><td>1</td><td>null</td><td>null</td></tr></tbody></table></div>"
      ],
      "text/plain": [
       "shape: (5, 178)\n",
       "┌────────┬────────────┬────────────┬───────────┬───┬───────────┬───────────┬───────────┬───────────┐\n",
       "│ id     ┆ pre_since_ ┆ pre_since_ ┆ pre_since ┆ … ┆ pclose_fl ┆ fclose_fl ┆ fclose_fl ┆ fclose_fl │\n",
       "│ ---    ┆ opened_rn_ ┆ opened_rn_ ┆ _opened_r ┆   ┆ ag_rn_3   ┆ ag_rn_1   ┆ ag_rn_2   ┆ ag_rn_3   │\n",
       "│ i64    ┆ 1          ┆ 2          ┆ n_3       ┆   ┆ ---       ┆ ---       ┆ ---       ┆ ---       │\n",
       "│        ┆ ---        ┆ ---        ┆ ---       ┆   ┆ i64       ┆ i64       ┆ i64       ┆ i64       │\n",
       "│        ┆ i64        ┆ i64        ┆ i64       ┆   ┆           ┆           ┆           ┆           │\n",
       "╞════════╪════════════╪════════════╪═══════════╪═══╪═══════════╪═══════════╪═══════════╪═══════════╡\n",
       "│ 250002 ┆ 15         ┆ 0          ┆ 9         ┆ … ┆ 1         ┆ 0         ┆ 0         ┆ 1         │\n",
       "│ 250003 ┆ 8          ┆ 10         ┆ null      ┆ … ┆ null      ┆ 0         ┆ 0         ┆ null      │\n",
       "│ 250004 ┆ 4          ┆ 19         ┆ null      ┆ … ┆ null      ┆ 0         ┆ 1         ┆ null      │\n",
       "│ 250006 ┆ 3          ┆ null       ┆ null      ┆ … ┆ null      ┆ 1         ┆ null      ┆ null      │\n",
       "│ 250007 ┆ 7          ┆ null       ┆ null      ┆ … ┆ null      ┆ 1         ┆ null      ┆ null      │\n",
       "└────────┴────────────┴────────────┴───────────┴───┴───────────┴───────────┴───────────┴───────────┘"
      ]
     },
     "execution_count": 98,
     "metadata": {},
     "output_type": "execute_result"
    }
   ],
   "source": [
    "pivoted_df.head()"
   ]
  },
  {
   "cell_type": "code",
   "execution_count": 99,
   "metadata": {},
   "outputs": [],
   "source": [
    "train_target=pl.read_csv(\"C:/Users/notei/OneDrive/Рабочий стол/uni/Year 3/Datathon/bdss-datathon/data/raw/train_target.csv\")"
   ]
  },
  {
   "cell_type": "code",
   "execution_count": 105,
   "metadata": {},
   "outputs": [],
   "source": [
    "merged_df = train_target.join(pivoted_df, on='id', how='inner')"
   ]
  },
  {
   "cell_type": "code",
   "execution_count": 107,
   "metadata": {},
   "outputs": [
    {
     "data": {
      "text/html": [
       "<div><style>\n",
       ".dataframe > thead > tr,\n",
       ".dataframe > tbody > tr {\n",
       "  text-align: right;\n",
       "  white-space: pre-wrap;\n",
       "}\n",
       "</style>\n",
       "<small>shape: (5, 179)</small><table border=\"1\" class=\"dataframe\"><thead><tr><th>id</th><th>flag</th><th>pre_since_opened_rn_1</th><th>pre_since_opened_rn_2</th><th>pre_since_opened_rn_3</th><th>pre_since_confirmed_rn_1</th><th>pre_since_confirmed_rn_2</th><th>pre_since_confirmed_rn_3</th><th>pre_pterm_rn_1</th><th>pre_pterm_rn_2</th><th>pre_pterm_rn_3</th><th>pre_fterm_rn_1</th><th>pre_fterm_rn_2</th><th>pre_fterm_rn_3</th><th>pre_till_pclose_rn_1</th><th>pre_till_pclose_rn_2</th><th>pre_till_pclose_rn_3</th><th>pre_till_fclose_rn_1</th><th>pre_till_fclose_rn_2</th><th>pre_till_fclose_rn_3</th><th>pre_loans_credit_limit_rn_1</th><th>pre_loans_credit_limit_rn_2</th><th>pre_loans_credit_limit_rn_3</th><th>pre_loans_next_pay_summ_rn_1</th><th>pre_loans_next_pay_summ_rn_2</th><th>pre_loans_next_pay_summ_rn_3</th><th>pre_loans_outstanding_rn_1</th><th>pre_loans_outstanding_rn_2</th><th>pre_loans_outstanding_rn_3</th><th>pre_loans_total_overdue_rn_1</th><th>pre_loans_total_overdue_rn_2</th><th>pre_loans_total_overdue_rn_3</th><th>pre_loans_max_overdue_sum_rn_1</th><th>pre_loans_max_overdue_sum_rn_2</th><th>pre_loans_max_overdue_sum_rn_3</th><th>pre_loans_credit_cost_rate_rn_1</th><th>pre_loans_credit_cost_rate_rn_2</th><th>&hellip;</th><th>enc_paym_18_rn_3</th><th>enc_paym_19_rn_1</th><th>enc_paym_19_rn_2</th><th>enc_paym_19_rn_3</th><th>enc_paym_20_rn_1</th><th>enc_paym_20_rn_2</th><th>enc_paym_20_rn_3</th><th>enc_paym_21_rn_1</th><th>enc_paym_21_rn_2</th><th>enc_paym_21_rn_3</th><th>enc_paym_22_rn_1</th><th>enc_paym_22_rn_2</th><th>enc_paym_22_rn_3</th><th>enc_paym_23_rn_1</th><th>enc_paym_23_rn_2</th><th>enc_paym_23_rn_3</th><th>enc_paym_24_rn_1</th><th>enc_paym_24_rn_2</th><th>enc_paym_24_rn_3</th><th>enc_loans_account_holder_type_rn_1</th><th>enc_loans_account_holder_type_rn_2</th><th>enc_loans_account_holder_type_rn_3</th><th>enc_loans_credit_status_rn_1</th><th>enc_loans_credit_status_rn_2</th><th>enc_loans_credit_status_rn_3</th><th>enc_loans_credit_type_rn_1</th><th>enc_loans_credit_type_rn_2</th><th>enc_loans_credit_type_rn_3</th><th>enc_loans_account_cur_rn_1</th><th>enc_loans_account_cur_rn_2</th><th>enc_loans_account_cur_rn_3</th><th>pclose_flag_rn_1</th><th>pclose_flag_rn_2</th><th>pclose_flag_rn_3</th><th>fclose_flag_rn_1</th><th>fclose_flag_rn_2</th><th>fclose_flag_rn_3</th></tr><tr><td>i64</td><td>i64</td><td>i64</td><td>i64</td><td>i64</td><td>i64</td><td>i64</td><td>i64</td><td>i64</td><td>i64</td><td>i64</td><td>i64</td><td>i64</td><td>i64</td><td>i64</td><td>i64</td><td>i64</td><td>i64</td><td>i64</td><td>i64</td><td>i64</td><td>i64</td><td>i64</td><td>i64</td><td>i64</td><td>i64</td><td>i64</td><td>i64</td><td>i64</td><td>i64</td><td>i64</td><td>i64</td><td>i64</td><td>i64</td><td>i64</td><td>i64</td><td>i64</td><td>&hellip;</td><td>i64</td><td>i64</td><td>i64</td><td>i64</td><td>i64</td><td>i64</td><td>i64</td><td>i64</td><td>i64</td><td>i64</td><td>i64</td><td>i64</td><td>i64</td><td>i64</td><td>i64</td><td>i64</td><td>i64</td><td>i64</td><td>i64</td><td>i64</td><td>i64</td><td>i64</td><td>i64</td><td>i64</td><td>i64</td><td>i64</td><td>i64</td><td>i64</td><td>i64</td><td>i64</td><td>i64</td><td>i64</td><td>i64</td><td>i64</td><td>i64</td><td>i64</td><td>i64</td></tr></thead><tbody><tr><td>250002</td><td>0</td><td>15</td><td>0</td><td>9</td><td>1</td><td>5</td><td>6</td><td>9</td><td>0</td><td>4</td><td>9</td><td>7</td><td>8</td><td>9</td><td>2</td><td>1</td><td>1</td><td>6</td><td>11</td><td>19</td><td>14</td><td>1</td><td>2</td><td>2</td><td>1</td><td>3</td><td>3</td><td>4</td><td>0</td><td>0</td><td>0</td><td>2</td><td>2</td><td>2</td><td>2</td><td>2</td><td>&hellip;</td><td>3</td><td>3</td><td>0</td><td>3</td><td>4</td><td>1</td><td>4</td><td>3</td><td>0</td><td>3</td><td>3</td><td>0</td><td>3</td><td>3</td><td>0</td><td>3</td><td>4</td><td>1</td><td>4</td><td>1</td><td>1</td><td>1</td><td>3</td><td>3</td><td>2</td><td>1</td><td>3</td><td>3</td><td>1</td><td>1</td><td>1</td><td>0</td><td>0</td><td>1</td><td>0</td><td>0</td><td>1</td></tr><tr><td>250003</td><td>0</td><td>8</td><td>10</td><td>null</td><td>6</td><td>12</td><td>null</td><td>6</td><td>4</td><td>null</td><td>1</td><td>13</td><td>null</td><td>8</td><td>1</td><td>null</td><td>8</td><td>7</td><td>null</td><td>15</td><td>14</td><td>null</td><td>3</td><td>2</td><td>null</td><td>1</td><td>3</td><td>null</td><td>0</td><td>0</td><td>null</td><td>2</td><td>2</td><td>null</td><td>2</td><td>2</td><td>&hellip;</td><td>null</td><td>0</td><td>3</td><td>null</td><td>1</td><td>4</td><td>null</td><td>0</td><td>3</td><td>null</td><td>0</td><td>3</td><td>null</td><td>0</td><td>3</td><td>null</td><td>1</td><td>4</td><td>null</td><td>1</td><td>1</td><td>null</td><td>2</td><td>3</td><td>null</td><td>3</td><td>1</td><td>null</td><td>1</td><td>1</td><td>null</td><td>0</td><td>1</td><td>null</td><td>0</td><td>0</td><td>null</td></tr><tr><td>250004</td><td>0</td><td>4</td><td>19</td><td>null</td><td>8</td><td>0</td><td>null</td><td>15</td><td>1</td><td>null</td><td>9</td><td>8</td><td>null</td><td>5</td><td>14</td><td>null</td><td>7</td><td>11</td><td>null</td><td>19</td><td>8</td><td>null</td><td>2</td><td>2</td><td>null</td><td>3</td><td>5</td><td>null</td><td>0</td><td>0</td><td>null</td><td>2</td><td>2</td><td>null</td><td>10</td><td>0</td><td>&hellip;</td><td>null</td><td>3</td><td>3</td><td>null</td><td>4</td><td>4</td><td>null</td><td>3</td><td>3</td><td>null</td><td>3</td><td>3</td><td>null</td><td>3</td><td>3</td><td>null</td><td>4</td><td>4</td><td>null</td><td>1</td><td>1</td><td>null</td><td>3</td><td>2</td><td>null</td><td>4</td><td>4</td><td>null</td><td>1</td><td>1</td><td>null</td><td>0</td><td>0</td><td>null</td><td>0</td><td>1</td><td>null</td></tr><tr><td>250006</td><td>0</td><td>3</td><td>null</td><td>null</td><td>10</td><td>null</td><td>null</td><td>6</td><td>null</td><td>null</td><td>8</td><td>null</td><td>null</td><td>0</td><td>null</td><td>null</td><td>11</td><td>null</td><td>null</td><td>2</td><td>null</td><td>null</td><td>5</td><td>null</td><td>null</td><td>1</td><td>null</td><td>null</td><td>0</td><td>null</td><td>null</td><td>2</td><td>null</td><td>null</td><td>4</td><td>null</td><td>&hellip;</td><td>null</td><td>3</td><td>null</td><td>null</td><td>4</td><td>null</td><td>null</td><td>3</td><td>null</td><td>null</td><td>3</td><td>null</td><td>null</td><td>3</td><td>null</td><td>null</td><td>4</td><td>null</td><td>null</td><td>1</td><td>null</td><td>null</td><td>2</td><td>null</td><td>null</td><td>0</td><td>null</td><td>null</td><td>1</td><td>null</td><td>null</td><td>0</td><td>null</td><td>null</td><td>1</td><td>null</td><td>null</td></tr><tr><td>250007</td><td>0</td><td>7</td><td>null</td><td>null</td><td>9</td><td>null</td><td>null</td><td>4</td><td>null</td><td>null</td><td>8</td><td>null</td><td>null</td><td>1</td><td>null</td><td>null</td><td>11</td><td>null</td><td>null</td><td>1</td><td>null</td><td>null</td><td>6</td><td>null</td><td>null</td><td>4</td><td>null</td><td>null</td><td>0</td><td>null</td><td>null</td><td>2</td><td>null</td><td>null</td><td>7</td><td>null</td><td>&hellip;</td><td>null</td><td>3</td><td>null</td><td>null</td><td>4</td><td>null</td><td>null</td><td>3</td><td>null</td><td>null</td><td>3</td><td>null</td><td>null</td><td>3</td><td>null</td><td>null</td><td>4</td><td>null</td><td>null</td><td>1</td><td>null</td><td>null</td><td>2</td><td>null</td><td>null</td><td>4</td><td>null</td><td>null</td><td>1</td><td>null</td><td>null</td><td>1</td><td>null</td><td>null</td><td>1</td><td>null</td><td>null</td></tr></tbody></table></div>"
      ],
      "text/plain": [
       "shape: (5, 179)\n",
       "┌────────┬──────┬─────────────┬────────────┬───┬────────────┬────────────┬────────────┬────────────┐\n",
       "│ id     ┆ flag ┆ pre_since_o ┆ pre_since_ ┆ … ┆ pclose_fla ┆ fclose_fla ┆ fclose_fla ┆ fclose_fla │\n",
       "│ ---    ┆ ---  ┆ pened_rn_1  ┆ opened_rn_ ┆   ┆ g_rn_3     ┆ g_rn_1     ┆ g_rn_2     ┆ g_rn_3     │\n",
       "│ i64    ┆ i64  ┆ ---         ┆ 2          ┆   ┆ ---        ┆ ---        ┆ ---        ┆ ---        │\n",
       "│        ┆      ┆ i64         ┆ ---        ┆   ┆ i64        ┆ i64        ┆ i64        ┆ i64        │\n",
       "│        ┆      ┆             ┆ i64        ┆   ┆            ┆            ┆            ┆            │\n",
       "╞════════╪══════╪═════════════╪════════════╪═══╪════════════╪════════════╪════════════╪════════════╡\n",
       "│ 250002 ┆ 0    ┆ 15          ┆ 0          ┆ … ┆ 1          ┆ 0          ┆ 0          ┆ 1          │\n",
       "│ 250003 ┆ 0    ┆ 8           ┆ 10         ┆ … ┆ null       ┆ 0          ┆ 0          ┆ null       │\n",
       "│ 250004 ┆ 0    ┆ 4           ┆ 19         ┆ … ┆ null       ┆ 0          ┆ 1          ┆ null       │\n",
       "│ 250006 ┆ 0    ┆ 3           ┆ null       ┆ … ┆ null       ┆ 1          ┆ null       ┆ null       │\n",
       "│ 250007 ┆ 0    ┆ 7           ┆ null       ┆ … ┆ null       ┆ 1          ┆ null       ┆ null       │\n",
       "└────────┴──────┴─────────────┴────────────┴───┴────────────┴────────────┴────────────┴────────────┘"
      ]
     },
     "execution_count": 107,
     "metadata": {},
     "output_type": "execute_result"
    }
   ],
   "source": [
    "merged_df.head()"
   ]
  },
  {
   "cell_type": "code",
   "execution_count": 108,
   "metadata": {},
   "outputs": [
    {
     "data": {
      "text/plain": [
       "['id',\n",
       " 'flag',\n",
       " 'pre_since_opened_rn_1',\n",
       " 'pre_since_opened_rn_2',\n",
       " 'pre_since_opened_rn_3',\n",
       " 'pre_since_confirmed_rn_1',\n",
       " 'pre_since_confirmed_rn_2',\n",
       " 'pre_since_confirmed_rn_3',\n",
       " 'pre_pterm_rn_1',\n",
       " 'pre_pterm_rn_2',\n",
       " 'pre_pterm_rn_3',\n",
       " 'pre_fterm_rn_1',\n",
       " 'pre_fterm_rn_2',\n",
       " 'pre_fterm_rn_3',\n",
       " 'pre_till_pclose_rn_1',\n",
       " 'pre_till_pclose_rn_2',\n",
       " 'pre_till_pclose_rn_3',\n",
       " 'pre_till_fclose_rn_1',\n",
       " 'pre_till_fclose_rn_2',\n",
       " 'pre_till_fclose_rn_3',\n",
       " 'pre_loans_credit_limit_rn_1',\n",
       " 'pre_loans_credit_limit_rn_2',\n",
       " 'pre_loans_credit_limit_rn_3',\n",
       " 'pre_loans_next_pay_summ_rn_1',\n",
       " 'pre_loans_next_pay_summ_rn_2',\n",
       " 'pre_loans_next_pay_summ_rn_3',\n",
       " 'pre_loans_outstanding_rn_1',\n",
       " 'pre_loans_outstanding_rn_2',\n",
       " 'pre_loans_outstanding_rn_3',\n",
       " 'pre_loans_total_overdue_rn_1',\n",
       " 'pre_loans_total_overdue_rn_2',\n",
       " 'pre_loans_total_overdue_rn_3',\n",
       " 'pre_loans_max_overdue_sum_rn_1',\n",
       " 'pre_loans_max_overdue_sum_rn_2',\n",
       " 'pre_loans_max_overdue_sum_rn_3',\n",
       " 'pre_loans_credit_cost_rate_rn_1',\n",
       " 'pre_loans_credit_cost_rate_rn_2',\n",
       " 'pre_loans_credit_cost_rate_rn_3',\n",
       " 'pre_loans5_rn_1',\n",
       " 'pre_loans5_rn_2',\n",
       " 'pre_loans5_rn_3',\n",
       " 'pre_loans530_rn_1',\n",
       " 'pre_loans530_rn_2',\n",
       " 'pre_loans530_rn_3',\n",
       " 'pre_loans3060_rn_1',\n",
       " 'pre_loans3060_rn_2',\n",
       " 'pre_loans3060_rn_3',\n",
       " 'pre_loans6090_rn_1',\n",
       " 'pre_loans6090_rn_2',\n",
       " 'pre_loans6090_rn_3',\n",
       " 'pre_loans90_rn_1',\n",
       " 'pre_loans90_rn_2',\n",
       " 'pre_loans90_rn_3',\n",
       " 'is_zero_loans5_rn_1',\n",
       " 'is_zero_loans5_rn_2',\n",
       " 'is_zero_loans5_rn_3',\n",
       " 'is_zero_loans530_rn_1',\n",
       " 'is_zero_loans530_rn_2',\n",
       " 'is_zero_loans530_rn_3',\n",
       " 'is_zero_loans3060_rn_1',\n",
       " 'is_zero_loans3060_rn_2',\n",
       " 'is_zero_loans3060_rn_3',\n",
       " 'is_zero_loans6090_rn_1',\n",
       " 'is_zero_loans6090_rn_2',\n",
       " 'is_zero_loans6090_rn_3',\n",
       " 'is_zero_loans90_rn_1',\n",
       " 'is_zero_loans90_rn_2',\n",
       " 'is_zero_loans90_rn_3',\n",
       " 'pre_util_rn_1',\n",
       " 'pre_util_rn_2',\n",
       " 'pre_util_rn_3',\n",
       " 'pre_over2limit_rn_1',\n",
       " 'pre_over2limit_rn_2',\n",
       " 'pre_over2limit_rn_3',\n",
       " 'pre_maxover2limit_rn_1',\n",
       " 'pre_maxover2limit_rn_2',\n",
       " 'pre_maxover2limit_rn_3',\n",
       " 'is_zero_util_rn_1',\n",
       " 'is_zero_util_rn_2',\n",
       " 'is_zero_util_rn_3',\n",
       " 'is_zero_over2limit_rn_1',\n",
       " 'is_zero_over2limit_rn_2',\n",
       " 'is_zero_over2limit_rn_3',\n",
       " 'is_zero_maxover2limit_rn_1',\n",
       " 'is_zero_maxover2limit_rn_2',\n",
       " 'is_zero_maxover2limit_rn_3',\n",
       " 'enc_paym_0_rn_1',\n",
       " 'enc_paym_0_rn_2',\n",
       " 'enc_paym_0_rn_3',\n",
       " 'enc_paym_1_rn_1',\n",
       " 'enc_paym_1_rn_2',\n",
       " 'enc_paym_1_rn_3',\n",
       " 'enc_paym_2_rn_1',\n",
       " 'enc_paym_2_rn_2',\n",
       " 'enc_paym_2_rn_3',\n",
       " 'enc_paym_3_rn_1',\n",
       " 'enc_paym_3_rn_2',\n",
       " 'enc_paym_3_rn_3',\n",
       " 'enc_paym_4_rn_1',\n",
       " 'enc_paym_4_rn_2',\n",
       " 'enc_paym_4_rn_3',\n",
       " 'enc_paym_5_rn_1',\n",
       " 'enc_paym_5_rn_2',\n",
       " 'enc_paym_5_rn_3',\n",
       " 'enc_paym_6_rn_1',\n",
       " 'enc_paym_6_rn_2',\n",
       " 'enc_paym_6_rn_3',\n",
       " 'enc_paym_7_rn_1',\n",
       " 'enc_paym_7_rn_2',\n",
       " 'enc_paym_7_rn_3',\n",
       " 'enc_paym_8_rn_1',\n",
       " 'enc_paym_8_rn_2',\n",
       " 'enc_paym_8_rn_3',\n",
       " 'enc_paym_9_rn_1',\n",
       " 'enc_paym_9_rn_2',\n",
       " 'enc_paym_9_rn_3',\n",
       " 'enc_paym_10_rn_1',\n",
       " 'enc_paym_10_rn_2',\n",
       " 'enc_paym_10_rn_3',\n",
       " 'enc_paym_11_rn_1',\n",
       " 'enc_paym_11_rn_2',\n",
       " 'enc_paym_11_rn_3',\n",
       " 'enc_paym_12_rn_1',\n",
       " 'enc_paym_12_rn_2',\n",
       " 'enc_paym_12_rn_3',\n",
       " 'enc_paym_13_rn_1',\n",
       " 'enc_paym_13_rn_2',\n",
       " 'enc_paym_13_rn_3',\n",
       " 'enc_paym_14_rn_1',\n",
       " 'enc_paym_14_rn_2',\n",
       " 'enc_paym_14_rn_3',\n",
       " 'enc_paym_15_rn_1',\n",
       " 'enc_paym_15_rn_2',\n",
       " 'enc_paym_15_rn_3',\n",
       " 'enc_paym_16_rn_1',\n",
       " 'enc_paym_16_rn_2',\n",
       " 'enc_paym_16_rn_3',\n",
       " 'enc_paym_17_rn_1',\n",
       " 'enc_paym_17_rn_2',\n",
       " 'enc_paym_17_rn_3',\n",
       " 'enc_paym_18_rn_1',\n",
       " 'enc_paym_18_rn_2',\n",
       " 'enc_paym_18_rn_3',\n",
       " 'enc_paym_19_rn_1',\n",
       " 'enc_paym_19_rn_2',\n",
       " 'enc_paym_19_rn_3',\n",
       " 'enc_paym_20_rn_1',\n",
       " 'enc_paym_20_rn_2',\n",
       " 'enc_paym_20_rn_3',\n",
       " 'enc_paym_21_rn_1',\n",
       " 'enc_paym_21_rn_2',\n",
       " 'enc_paym_21_rn_3',\n",
       " 'enc_paym_22_rn_1',\n",
       " 'enc_paym_22_rn_2',\n",
       " 'enc_paym_22_rn_3',\n",
       " 'enc_paym_23_rn_1',\n",
       " 'enc_paym_23_rn_2',\n",
       " 'enc_paym_23_rn_3',\n",
       " 'enc_paym_24_rn_1',\n",
       " 'enc_paym_24_rn_2',\n",
       " 'enc_paym_24_rn_3',\n",
       " 'enc_loans_account_holder_type_rn_1',\n",
       " 'enc_loans_account_holder_type_rn_2',\n",
       " 'enc_loans_account_holder_type_rn_3',\n",
       " 'enc_loans_credit_status_rn_1',\n",
       " 'enc_loans_credit_status_rn_2',\n",
       " 'enc_loans_credit_status_rn_3',\n",
       " 'enc_loans_credit_type_rn_1',\n",
       " 'enc_loans_credit_type_rn_2',\n",
       " 'enc_loans_credit_type_rn_3',\n",
       " 'enc_loans_account_cur_rn_1',\n",
       " 'enc_loans_account_cur_rn_2',\n",
       " 'enc_loans_account_cur_rn_3',\n",
       " 'pclose_flag_rn_1',\n",
       " 'pclose_flag_rn_2',\n",
       " 'pclose_flag_rn_3',\n",
       " 'fclose_flag_rn_1',\n",
       " 'fclose_flag_rn_2',\n",
       " 'fclose_flag_rn_3']"
      ]
     },
     "execution_count": 108,
     "metadata": {},
     "output_type": "execute_result"
    }
   ],
   "source": [
    "merged_df.columns"
   ]
  },
  {
   "cell_type": "code",
   "execution_count": 125,
   "metadata": {},
   "outputs": [],
   "source": [
    "merged_df=merged_df.fill_null(0)"
   ]
  },
  {
   "cell_type": "code",
   "execution_count": 129,
   "metadata": {},
   "outputs": [
    {
     "name": "stderr",
     "output_type": "stream",
     "text": [
      "c:\\Users\\notei\\OneDrive\\Рабочий стол\\uni\\Year 3\\Datathon\\bdss-datathon\\.venv\\Lib\\site-packages\\sklearn\\base.py:1474: UserWarning: With alpha=0, this algorithm does not converge well. You are advised to use the LinearRegression estimator\n",
      "  return fit_method(estimator, *args, **kwargs)\n",
      "c:\\Users\\notei\\OneDrive\\Рабочий стол\\uni\\Year 3\\Datathon\\bdss-datathon\\.venv\\Lib\\site-packages\\sklearn\\linear_model\\_coordinate_descent.py:678: UserWarning: Coordinate descent with no regularization may lead to unexpected results and is discouraged.\n",
      "  model = cd_fast.enet_coordinate_descent(\n"
     ]
    },
    {
     "name": "stdout",
     "output_type": "stream",
     "text": [
      "Mean Squared Error: 0.04255693451859437\n"
     ]
    },
    {
     "name": "stderr",
     "output_type": "stream",
     "text": [
      "c:\\Users\\notei\\OneDrive\\Рабочий стол\\uni\\Year 3\\Datathon\\bdss-datathon\\.venv\\Lib\\site-packages\\sklearn\\linear_model\\_coordinate_descent.py:678: ConvergenceWarning: Objective did not converge. You might want to increase the number of iterations, check the scale of the features or consider increasing regularisation. Duality gap: 9.773e+03, tolerance: 1.998e+00 Linear regression models with null weight for the l1 regularization term are more efficiently fitted using one of the solvers implemented in sklearn.linear_model.Ridge/RidgeCV instead.\n",
      "  model = cd_fast.enet_coordinate_descent(\n"
     ]
    }
   ],
   "source": [
    "from sklearn.model_selection import train_test_split\n",
    "from sklearn.linear_model import Lasso\n",
    "from sklearn.preprocessing import StandardScaler\n",
    "from sklearn.metrics import mean_squared_error\n",
    "\n",
    "\n",
    "# Drop 'id' and 'flag' columns from X\n",
    "X = merged_df.drop(['id', 'flag'])\n",
    "\n",
    "# Convert 'flag' column to numpy array\n",
    "y = merged_df['flag'].to_numpy()\n",
    "\n",
    "# Split the data into training and testing sets\n",
    "X_train, X_test, y_train, y_test = train_test_split(X, y, test_size=0.2, random_state=42)\n",
    "\n",
    "# Convert Polars DataFrames to numpy arrays\n",
    "X_train_np = X_train.to_numpy()\n",
    "X_test_np = X_test.to_numpy()\n",
    "\n",
    "# Standardize features\n",
    "scaler = StandardScaler()\n",
    "X_train_scaled = scaler.fit_transform(X_train_np)\n",
    "X_test_scaled = scaler.transform(X_test_np)\n",
    "\n",
    "# Create and fit Lasso regression model\n",
    "lasso = Lasso(alpha=0)  # You can adjust the alpha parameter for regularization strength\n",
    "lasso.fit(X_train_scaled, y_train)\n",
    "\n",
    "# Predict on the testing set\n",
    "y_pred = lasso.predict(X_test_scaled)\n",
    "\n",
    "# Calculate mean squared error\n",
    "mse = mean_squared_error(y_test, y_pred)\n",
    "print(\"Mean Squared Error:\", mse)\n"
   ]
  },
  {
   "cell_type": "code",
   "execution_count": null,
   "metadata": {},
   "outputs": [],
   "source": []
  },
  {
   "cell_type": "code",
   "execution_count": 130,
   "metadata": {},
   "outputs": [
    {
     "name": "stdout",
     "output_type": "stream",
     "text": [
      "Variable Coefficients: [ 1.16917631e-03  1.91968373e-03  9.38143941e-05 -6.40100244e-04\n",
      "  1.36091842e-04  1.82012963e-04 -5.41901195e-04 -1.84375805e-04\n",
      " -1.02265069e-03 -4.95781432e-04 -4.75172636e-04  2.09291877e-03\n",
      " -4.52589134e-04  1.58281560e-04  4.17247918e-04 -1.47586778e-03\n",
      " -2.40526825e-03 -4.79197152e-03  1.11536186e-03  9.49161207e-04\n",
      "  1.67701834e-03  4.62854968e-06 -5.88956187e-05 -1.59444368e-05\n",
      "  3.03554638e-03  3.26312666e-03  2.11012930e-03  1.45070425e-03\n",
      "  0.00000000e+00  0.00000000e+00 -4.81085535e-04 -1.38062435e-03\n",
      " -3.11435718e-03  1.49002262e-04  3.41758100e-04 -6.20843204e-06\n",
      " -9.46178735e-04  1.82275341e-03  9.38653270e-03  7.01216207e-04\n",
      "  9.78213815e-03  1.53596044e-02  3.58689429e-04  9.09613237e-04\n",
      "  4.15457495e-03  4.96290729e-04 -2.50007201e-02 -1.93654864e-02\n",
      "  4.83853088e-04  1.13003080e-02 -1.05006498e-02 -2.96466343e-03\n",
      " -7.01882027e-03 -7.43776847e-03 -6.11656822e-03 -1.09503734e-02\n",
      " -6.29530398e-03 -2.72849484e-03 -8.90393506e-03 -8.68170818e-03\n",
      " -7.70437191e-04 -7.96504988e-05 -9.99494801e-03 -2.52246209e-03\n",
      " -3.97653108e-03 -2.04212827e-03 -2.22128865e-03 -3.16970632e-03\n",
      " -2.88754993e-03  2.41543971e-03  4.17240627e-03  1.31558002e-03\n",
      " -2.32465124e-03 -3.74182419e-03 -3.74522429e-04 -6.25837611e-03\n",
      " -5.97544167e-03 -4.21232224e-03  5.45870227e-03  1.04462592e-02\n",
      "  5.79964917e-03  2.74895916e-04  7.92820881e-04 -2.60777948e-03\n",
      "  1.86017164e-03  2.50260600e-03  1.29274244e-03  4.60571812e-03\n",
      "  1.03103545e-03  2.29272224e-03  3.89599969e-04  2.82805026e-03\n",
      "  6.47538302e-04  3.37365847e-03  3.51818610e-04  7.57948016e-04\n",
      "  2.13090693e-03  1.82276883e-03  1.05253592e-03  1.65247653e-04\n",
      "  7.80125243e-05 -4.68108235e-04  2.82741539e-04  1.60185653e-04\n",
      "  1.31876666e-03  3.90406056e-04  1.40238143e-03  1.41559079e-04\n",
      "  1.28588474e-03 -1.95217992e-04  9.16613266e-04  6.16816166e-04\n",
      "  1.71881887e-03  8.24137130e-04  8.18203100e-05 -1.01159645e-04\n",
      " -1.73567819e-03  1.37962474e-04 -1.66252775e-03  1.80231536e-03\n",
      " -8.90279272e-04  2.45759296e-04  6.23542118e-04  1.80199671e-03\n",
      "  2.47366775e-04 -6.00186467e-04  6.94934245e-04  9.61332616e-04\n",
      "  2.64156637e-03 -4.83272954e-04 -8.84479279e-05 -1.89483356e-03\n",
      "  1.34851742e-03  1.37428190e-03 -1.54872625e-03 -1.18114117e-03\n",
      "  3.49676094e-04  5.62565740e-03  1.38287414e-03  2.04568162e-04\n",
      " -2.24587018e-03  7.27627478e-04  1.58335627e-03 -1.18113568e-03\n",
      "  1.18402716e-03 -2.09861537e-03 -2.35733781e-04 -6.40512182e-04\n",
      " -1.22154824e-04  1.64772381e-03 -1.63464777e-04  2.03726643e-04\n",
      " -1.48668320e-03  1.87997307e-03  3.72263919e-03  2.15120159e-03\n",
      " -1.04644242e-03 -3.75434476e-03  2.33754326e-03 -1.22059526e-03\n",
      " -2.49524275e-03 -2.33315616e-03  4.19212717e-05  4.14906380e-03\n",
      "  5.91318973e-03  4.31038093e-03  5.32226017e-03  2.92375712e-03\n",
      " -4.35873145e-04  8.58300336e-03  2.21410594e-02 -7.63370860e-04\n",
      "  5.33032999e-04 -9.85589632e-05  9.33077863e-04  1.80223276e-03\n",
      "  1.09203733e-03]\n"
     ]
    }
   ],
   "source": [
    "coefficients = lasso.coef_\n",
    "print(\"Variable Coefficients:\", coefficients)"
   ]
  },
  {
   "cell_type": "code",
   "execution_count": 135,
   "metadata": {},
   "outputs": [
    {
     "ename": "TypeError",
     "evalue": "GridSearchCV.__init__() got an unexpected keyword argument 'prefer'",
     "output_type": "error",
     "traceback": [
      "\u001b[1;31m---------------------------------------------------------------------------\u001b[0m",
      "\u001b[1;31mTypeError\u001b[0m                                 Traceback (most recent call last)",
      "Cell \u001b[1;32mIn[135], line 18\u001b[0m\n\u001b[0;32m     16\u001b[0m grid[\u001b[38;5;124m'\u001b[39m\u001b[38;5;124malpha\u001b[39m\u001b[38;5;124m'\u001b[39m] \u001b[38;5;241m=\u001b[39m np\u001b[38;5;241m.\u001b[39marange(\u001b[38;5;241m0\u001b[39m, \u001b[38;5;241m1\u001b[39m, \u001b[38;5;241m0.01\u001b[39m)\n\u001b[0;32m     17\u001b[0m \u001b[38;5;66;03m# define search\u001b[39;00m\n\u001b[1;32m---> 18\u001b[0m search \u001b[38;5;241m=\u001b[39m \u001b[43mGridSearchCV\u001b[49m\u001b[43m(\u001b[49m\u001b[43mmodel\u001b[49m\u001b[43m,\u001b[49m\u001b[43m \u001b[49m\u001b[43mgrid\u001b[49m\u001b[43m,\u001b[49m\u001b[43m \u001b[49m\u001b[43mscoring\u001b[49m\u001b[38;5;241;43m=\u001b[39;49m\u001b[38;5;124;43m'\u001b[39;49m\u001b[38;5;124;43mneg_mean_absolute_error\u001b[39;49m\u001b[38;5;124;43m'\u001b[39;49m\u001b[43m,\u001b[49m\u001b[43m \u001b[49m\u001b[43mcv\u001b[49m\u001b[38;5;241;43m=\u001b[39;49m\u001b[43mcv\u001b[49m\u001b[43m,\u001b[49m\u001b[43m \u001b[49m\u001b[43mn_jobs\u001b[49m\u001b[38;5;241;43m=\u001b[39;49m\u001b[38;5;241;43m-\u001b[39;49m\u001b[38;5;241;43m1\u001b[39;49m\u001b[43m,\u001b[49m\u001b[43m \u001b[49m\u001b[43mprefer\u001b[49m\u001b[38;5;241;43m=\u001b[39;49m\u001b[38;5;124;43m'\u001b[39;49m\u001b[38;5;124;43mthreads\u001b[39;49m\u001b[38;5;124;43m'\u001b[39;49m\u001b[43m)\u001b[49m\n\u001b[0;32m     19\u001b[0m \u001b[38;5;66;03m# perform the search\u001b[39;00m\n\u001b[0;32m     20\u001b[0m results \u001b[38;5;241m=\u001b[39m search\u001b[38;5;241m.\u001b[39mfit(X, Y)\n",
      "\u001b[1;31mTypeError\u001b[0m: GridSearchCV.__init__() got an unexpected keyword argument 'prefer'"
     ]
    }
   ],
   "source": [
    "# grid search hyperparameters for lasso regression\n",
    "from sklearn.model_selection import GridSearchCV\n",
    "from sklearn.model_selection import RepeatedKFold\n",
    "from sklearn.linear_model import Lasso\n",
    "\n",
    "# load the dataset\n",
    "X = merged_df.drop(['id', 'flag'])\n",
    "Y = merged_df['flag'].to_numpy()\n",
    "\n",
    "# define model\n",
    "model = Lasso()\n",
    "# define model evaluation method\n",
    "cv = RepeatedKFold(n_splits=10, n_repeats=3, random_state=1)\n",
    "# define grid\n",
    "grid = dict()\n",
    "grid['alpha'] = np.arange(0, 1, 0.01)\n",
    "# define search\n",
    "search = GridSearchCV(model, grid, scoring='neg_mean_absolute_error', cv=cv, n_jobs=-1)\n",
    "# perform the search\n",
    "results = search.fit(X, Y)\n",
    "# summarize\n",
    "print('MAE: %.3f' % results.best_score_)\n",
    "print('Config: %s' % results.best_params_)"
   ]
  },
  {
   "cell_type": "code",
   "execution_count": null,
   "metadata": {},
   "outputs": [],
   "source": []
  }
 ],
 "metadata": {
  "kernelspec": {
   "display_name": ".venv",
   "language": "python",
   "name": "python3"
  },
  "language_info": {
   "codemirror_mode": {
    "name": "ipython",
    "version": 3
   },
   "file_extension": ".py",
   "mimetype": "text/x-python",
   "name": "python",
   "nbconvert_exporter": "python",
   "pygments_lexer": "ipython3",
   "version": "3.12.0"
  }
 },
 "nbformat": 4,
 "nbformat_minor": 2
}
