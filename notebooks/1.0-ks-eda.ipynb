{
 "cells": [
  {
   "cell_type": "code",
   "execution_count": 43,
   "metadata": {},
   "outputs": [],
   "source": [
    "import pandas as pd\n",
    "import numpy as np\n",
    "import polars as pl"
   ]
  },
  {
   "cell_type": "code",
   "execution_count": 24,
   "metadata": {},
   "outputs": [],
   "source": [
    "train_data_0=pd.read_csv(\"C:/Users/notei/OneDrive/Рабочий стол/uni/Year 3/Datathon/bdss-datathon/data/raw/train_data_0.csv\")\n",
    "train_data_1=pd.read_csv(\"C:/Users/notei/OneDrive/Рабочий стол/uni/Year 3/Datathon/bdss-datathon/data/raw/train_data_1.csv\")\n",
    "train_data_2=pd.read_csv(\"C:/Users/notei/OneDrive/Рабочий стол/uni/Year 3/Datathon/bdss-datathon/data/raw/train_data_2.csv\")\n",
    "train_data_3=pd.read_csv(\"C:/Users/notei/OneDrive/Рабочий стол/uni/Year 3/Datathon/bdss-datathon/data/raw/train_data_3.csv\")\n",
    "train_data_4=pd.read_csv(\"C:/Users/notei/OneDrive/Рабочий стол/uni/Year 3/Datathon/bdss-datathon/data/raw/train_data_4.csv\")\n",
    "train_data_5=pd.read_csv(\"C:/Users/notei/OneDrive/Рабочий стол/uni/Year 3/Datathon/bdss-datathon/data/raw/train_data_5.csv\")\n",
    "train_data_6=pd.read_csv(\"C:/Users/notei/OneDrive/Рабочий стол/uni/Year 3/Datathon/bdss-datathon/data/raw/train_data_6.csv\")\n",
    "train_data_7=pd.read_csv(\"C:/Users/notei/OneDrive/Рабочий стол/uni/Year 3/Datathon/bdss-datathon/data/raw/train_data_7.csv\")\n",
    "train_data_8=pd.read_csv(\"C:/Users/notei/OneDrive/Рабочий стол/uni/Year 3/Datathon/bdss-datathon/data/raw/train_data_8.csv\")\n",
    "train_data_9=pd.read_csv(\"C:/Users/notei/OneDrive/Рабочий стол/uni/Year 3/Datathon/bdss-datathon/data/raw/train_data_9.csv\")\n",
    "train_data_10=pd.read_csv(\"C:/Users/notei/OneDrive/Рабочий стол/uni/Year 3/Datathon/bdss-datathon/data/raw/train_data_10.csv\")"
   ]
  },
  {
   "cell_type": "code",
   "execution_count": 38,
   "metadata": {},
   "outputs": [],
   "source": [
    "combined_train_data = pd.concat([train_data_1, train_data_2, train_data_3, train_data_4, train_data_5, train_data_6, train_data_7, train_data_8, train_data_9, train_data_10], ignore_index=True)"
   ]
  },
  {
   "cell_type": "code",
   "execution_count": 40,
   "metadata": {},
   "outputs": [
    {
     "name": "stdout",
     "output_type": "stream",
     "text": [
      "id\n",
      "1782755    55\n",
      "1658519    54\n",
      "508303     51\n",
      "755726     50\n",
      "318999     50\n",
      "           ..\n",
      "1351668     1\n",
      "2207624     1\n",
      "2207623     1\n",
      "2207620     1\n",
      "506320      1\n",
      "Name: count, Length: 2500000, dtype: int64\n"
     ]
    }
   ],
   "source": [
    "\n",
    "\n",
    "# Assuming combined_train_data is a pandas DataFrame with the ID column\n",
    "\n",
    "# Count occurrences of each unique ID\n",
    "id_counts = combined_train_data['id'].value_counts()\n",
    "\n",
    "# Display the count of occurrences for each ID\n",
    "print(id_counts)\n"
   ]
  },
  {
   "cell_type": "code",
   "execution_count": 52,
   "metadata": {},
   "outputs": [],
   "source": [
    "df=pl.from_pandas(combined_train_data)"
   ]
  },
  {
   "cell_type": "code",
   "execution_count": 53,
   "metadata": {},
   "outputs": [
    {
     "name": "stderr",
     "output_type": "stream",
     "text": [
      "C:\\Users\\notei\\AppData\\Local\\Temp\\ipykernel_38948\\1122097467.py:2: DeprecationWarning: `groupby` is deprecated. It has been renamed to `group_by`.\n",
      "  filtered_ids_data = df.groupby('id').count().filter(pl.col(\"count\") <= 3)\n",
      "C:\\Users\\notei\\AppData\\Local\\Temp\\ipykernel_38948\\1122097467.py:2: DeprecationWarning: `count` is deprecated. It has been renamed to `len`.\n",
      "  filtered_ids_data = df.groupby('id').count().filter(pl.col(\"count\") <= 3)\n"
     ]
    }
   ],
   "source": [
    "# Group by the 'id' column, count occurrences, and filter to keep only those with count <= 3\n",
    "filtered_ids_data = df.groupby('id').count().filter(pl.col(\"count\") <= 3)\n",
    "\n",
    "# Join the filtered DataFrame with the original DataFrame on the 'id' column\n",
    "filtered_ids = df.join(filtered_ids_data, on='id', how='inner')"
   ]
  },
  {
   "cell_type": "code",
   "execution_count": 61,
   "metadata": {},
   "outputs": [
    {
     "data": {
      "text/plain": [
       "['id',\n",
       " 'rn',\n",
       " 'pre_since_opened',\n",
       " 'pre_since_confirmed',\n",
       " 'pre_pterm',\n",
       " 'pre_fterm',\n",
       " 'pre_till_pclose',\n",
       " 'pre_till_fclose',\n",
       " 'pre_loans_credit_limit',\n",
       " 'pre_loans_next_pay_summ',\n",
       " 'pre_loans_outstanding',\n",
       " 'pre_loans_total_overdue',\n",
       " 'pre_loans_max_overdue_sum',\n",
       " 'pre_loans_credit_cost_rate',\n",
       " 'pre_loans5',\n",
       " 'pre_loans530',\n",
       " 'pre_loans3060',\n",
       " 'pre_loans6090',\n",
       " 'pre_loans90',\n",
       " 'is_zero_loans5',\n",
       " 'is_zero_loans530',\n",
       " 'is_zero_loans3060',\n",
       " 'is_zero_loans6090',\n",
       " 'is_zero_loans90',\n",
       " 'pre_util',\n",
       " 'pre_over2limit',\n",
       " 'pre_maxover2limit',\n",
       " 'is_zero_util',\n",
       " 'is_zero_over2limit',\n",
       " 'is_zero_maxover2limit',\n",
       " 'enc_paym_0',\n",
       " 'enc_paym_1',\n",
       " 'enc_paym_2',\n",
       " 'enc_paym_3',\n",
       " 'enc_paym_4',\n",
       " 'enc_paym_5',\n",
       " 'enc_paym_6',\n",
       " 'enc_paym_7',\n",
       " 'enc_paym_8',\n",
       " 'enc_paym_9',\n",
       " 'enc_paym_10',\n",
       " 'enc_paym_11',\n",
       " 'enc_paym_12',\n",
       " 'enc_paym_13',\n",
       " 'enc_paym_14',\n",
       " 'enc_paym_15',\n",
       " 'enc_paym_16',\n",
       " 'enc_paym_17',\n",
       " 'enc_paym_18',\n",
       " 'enc_paym_19',\n",
       " 'enc_paym_20',\n",
       " 'enc_paym_21',\n",
       " 'enc_paym_22',\n",
       " 'enc_paym_23',\n",
       " 'enc_paym_24',\n",
       " 'enc_loans_account_holder_type',\n",
       " 'enc_loans_credit_status',\n",
       " 'enc_loans_credit_type',\n",
       " 'enc_loans_account_cur',\n",
       " 'pclose_flag',\n",
       " 'fclose_flag']"
      ]
     },
     "execution_count": 61,
     "metadata": {},
     "output_type": "execute_result"
    }
   ],
   "source": [
    "filtered_ids=filtered_ids.drop('count')\n",
    "filtered_ids.columns"
   ]
  },
  {
   "cell_type": "code",
   "execution_count": 72,
   "metadata": {},
   "outputs": [
    {
     "data": {
      "text/html": [
       "<div><style>\n",
       ".dataframe > thead > tr,\n",
       ".dataframe > tbody > tr {\n",
       "  text-align: right;\n",
       "  white-space: pre-wrap;\n",
       "}\n",
       "</style>\n",
       "<small>shape: (1_147_120, 3)</small><table border=\"1\" class=\"dataframe\"><thead><tr><th>id</th><th>rn</th><th>pre_since_opened</th></tr><tr><td>i64</td><td>i64</td><td>i64</td></tr></thead><tbody><tr><td>250002</td><td>1</td><td>15</td></tr><tr><td>250002</td><td>2</td><td>0</td></tr><tr><td>250002</td><td>3</td><td>9</td></tr><tr><td>250003</td><td>1</td><td>8</td></tr><tr><td>250003</td><td>2</td><td>10</td></tr><tr><td>&hellip;</td><td>&hellip;</td><td>&hellip;</td></tr><tr><td>2749993</td><td>1</td><td>16</td></tr><tr><td>2749993</td><td>2</td><td>19</td></tr><tr><td>2749997</td><td>1</td><td>15</td></tr><tr><td>2749997</td><td>2</td><td>15</td></tr><tr><td>2749997</td><td>3</td><td>14</td></tr></tbody></table></div>"
      ],
      "text/plain": [
       "shape: (1_147_120, 3)\n",
       "┌─────────┬─────┬──────────────────┐\n",
       "│ id      ┆ rn  ┆ pre_since_opened │\n",
       "│ ---     ┆ --- ┆ ---              │\n",
       "│ i64     ┆ i64 ┆ i64              │\n",
       "╞═════════╪═════╪══════════════════╡\n",
       "│ 250002  ┆ 1   ┆ 15               │\n",
       "│ 250002  ┆ 2   ┆ 0                │\n",
       "│ 250002  ┆ 3   ┆ 9                │\n",
       "│ 250003  ┆ 1   ┆ 8                │\n",
       "│ 250003  ┆ 2   ┆ 10               │\n",
       "│ …       ┆ …   ┆ …                │\n",
       "│ 2749993 ┆ 1   ┆ 16               │\n",
       "│ 2749993 ┆ 2   ┆ 19               │\n",
       "│ 2749997 ┆ 1   ┆ 15               │\n",
       "│ 2749997 ┆ 2   ┆ 15               │\n",
       "│ 2749997 ┆ 3   ┆ 14               │\n",
       "└─────────┴─────┴──────────────────┘"
      ]
     },
     "execution_count": 72,
     "metadata": {},
     "output_type": "execute_result"
    }
   ],
   "source": [
    "\n",
    "\n",
    "\n",
    "a=filtered_ids.select([\"id\", \"rn\", \"pre_since_opened\"])\n",
    "a"
   ]
  },
  {
   "cell_type": "code",
   "execution_count": 69,
   "metadata": {},
   "outputs": [],
   "source": [
    "b=a.pivot(index='id', values=\"pre_since_opened\", columns='rn', aggregate_function=None)"
   ]
  },
  {
   "cell_type": "code",
   "execution_count": 70,
   "metadata": {},
   "outputs": [
    {
     "data": {
      "text/html": [
       "<div><style>\n",
       ".dataframe > thead > tr,\n",
       ".dataframe > tbody > tr {\n",
       "  text-align: right;\n",
       "  white-space: pre-wrap;\n",
       "}\n",
       "</style>\n",
       "<small>shape: (5, 4)</small><table border=\"1\" class=\"dataframe\"><thead><tr><th>id</th><th>1</th><th>2</th><th>3</th></tr><tr><td>i64</td><td>i64</td><td>i64</td><td>i64</td></tr></thead><tbody><tr><td>250002</td><td>15</td><td>0</td><td>9</td></tr><tr><td>250003</td><td>8</td><td>10</td><td>null</td></tr><tr><td>250004</td><td>4</td><td>19</td><td>null</td></tr><tr><td>250006</td><td>3</td><td>null</td><td>null</td></tr><tr><td>250007</td><td>7</td><td>null</td><td>null</td></tr></tbody></table></div>"
      ],
      "text/plain": [
       "shape: (5, 4)\n",
       "┌────────┬─────┬──────┬──────┐\n",
       "│ id     ┆ 1   ┆ 2    ┆ 3    │\n",
       "│ ---    ┆ --- ┆ ---  ┆ ---  │\n",
       "│ i64    ┆ i64 ┆ i64  ┆ i64  │\n",
       "╞════════╪═════╪══════╪══════╡\n",
       "│ 250002 ┆ 15  ┆ 0    ┆ 9    │\n",
       "│ 250003 ┆ 8   ┆ 10   ┆ null │\n",
       "│ 250004 ┆ 4   ┆ 19   ┆ null │\n",
       "│ 250006 ┆ 3   ┆ null ┆ null │\n",
       "│ 250007 ┆ 7   ┆ null ┆ null │\n",
       "└────────┴─────┴──────┴──────┘"
      ]
     },
     "execution_count": 70,
     "metadata": {},
     "output_type": "execute_result"
    }
   ],
   "source": [
    "b.head()"
   ]
  },
  {
   "cell_type": "code",
   "execution_count": 93,
   "metadata": {},
   "outputs": [],
   "source": [
    "columnnames=filtered_ids.columns\n",
    "columnnames = [name for name in columnnames if name not in ['id', 'rn']]"
   ]
  },
  {
   "cell_type": "code",
   "execution_count": 96,
   "metadata": {},
   "outputs": [],
   "source": [
    "pivoted_df=filtered_ids.pivot(index='id', values=None, columns='rn', aggregate_function=None)"
   ]
  },
  {
   "cell_type": "code",
   "execution_count": 98,
   "metadata": {},
   "outputs": [
    {
     "data": {
      "text/html": [
       "<div><style>\n",
       ".dataframe > thead > tr,\n",
       ".dataframe > tbody > tr {\n",
       "  text-align: right;\n",
       "  white-space: pre-wrap;\n",
       "}\n",
       "</style>\n",
       "<small>shape: (5, 178)</small><table border=\"1\" class=\"dataframe\"><thead><tr><th>id</th><th>pre_since_opened_rn_1</th><th>pre_since_opened_rn_2</th><th>pre_since_opened_rn_3</th><th>pre_since_confirmed_rn_1</th><th>pre_since_confirmed_rn_2</th><th>pre_since_confirmed_rn_3</th><th>pre_pterm_rn_1</th><th>pre_pterm_rn_2</th><th>pre_pterm_rn_3</th><th>pre_fterm_rn_1</th><th>pre_fterm_rn_2</th><th>pre_fterm_rn_3</th><th>pre_till_pclose_rn_1</th><th>pre_till_pclose_rn_2</th><th>pre_till_pclose_rn_3</th><th>pre_till_fclose_rn_1</th><th>pre_till_fclose_rn_2</th><th>pre_till_fclose_rn_3</th><th>pre_loans_credit_limit_rn_1</th><th>pre_loans_credit_limit_rn_2</th><th>pre_loans_credit_limit_rn_3</th><th>pre_loans_next_pay_summ_rn_1</th><th>pre_loans_next_pay_summ_rn_2</th><th>pre_loans_next_pay_summ_rn_3</th><th>pre_loans_outstanding_rn_1</th><th>pre_loans_outstanding_rn_2</th><th>pre_loans_outstanding_rn_3</th><th>pre_loans_total_overdue_rn_1</th><th>pre_loans_total_overdue_rn_2</th><th>pre_loans_total_overdue_rn_3</th><th>pre_loans_max_overdue_sum_rn_1</th><th>pre_loans_max_overdue_sum_rn_2</th><th>pre_loans_max_overdue_sum_rn_3</th><th>pre_loans_credit_cost_rate_rn_1</th><th>pre_loans_credit_cost_rate_rn_2</th><th>pre_loans_credit_cost_rate_rn_3</th><th>&hellip;</th><th>enc_paym_18_rn_3</th><th>enc_paym_19_rn_1</th><th>enc_paym_19_rn_2</th><th>enc_paym_19_rn_3</th><th>enc_paym_20_rn_1</th><th>enc_paym_20_rn_2</th><th>enc_paym_20_rn_3</th><th>enc_paym_21_rn_1</th><th>enc_paym_21_rn_2</th><th>enc_paym_21_rn_3</th><th>enc_paym_22_rn_1</th><th>enc_paym_22_rn_2</th><th>enc_paym_22_rn_3</th><th>enc_paym_23_rn_1</th><th>enc_paym_23_rn_2</th><th>enc_paym_23_rn_3</th><th>enc_paym_24_rn_1</th><th>enc_paym_24_rn_2</th><th>enc_paym_24_rn_3</th><th>enc_loans_account_holder_type_rn_1</th><th>enc_loans_account_holder_type_rn_2</th><th>enc_loans_account_holder_type_rn_3</th><th>enc_loans_credit_status_rn_1</th><th>enc_loans_credit_status_rn_2</th><th>enc_loans_credit_status_rn_3</th><th>enc_loans_credit_type_rn_1</th><th>enc_loans_credit_type_rn_2</th><th>enc_loans_credit_type_rn_3</th><th>enc_loans_account_cur_rn_1</th><th>enc_loans_account_cur_rn_2</th><th>enc_loans_account_cur_rn_3</th><th>pclose_flag_rn_1</th><th>pclose_flag_rn_2</th><th>pclose_flag_rn_3</th><th>fclose_flag_rn_1</th><th>fclose_flag_rn_2</th><th>fclose_flag_rn_3</th></tr><tr><td>i64</td><td>i64</td><td>i64</td><td>i64</td><td>i64</td><td>i64</td><td>i64</td><td>i64</td><td>i64</td><td>i64</td><td>i64</td><td>i64</td><td>i64</td><td>i64</td><td>i64</td><td>i64</td><td>i64</td><td>i64</td><td>i64</td><td>i64</td><td>i64</td><td>i64</td><td>i64</td><td>i64</td><td>i64</td><td>i64</td><td>i64</td><td>i64</td><td>i64</td><td>i64</td><td>i64</td><td>i64</td><td>i64</td><td>i64</td><td>i64</td><td>i64</td><td>i64</td><td>&hellip;</td><td>i64</td><td>i64</td><td>i64</td><td>i64</td><td>i64</td><td>i64</td><td>i64</td><td>i64</td><td>i64</td><td>i64</td><td>i64</td><td>i64</td><td>i64</td><td>i64</td><td>i64</td><td>i64</td><td>i64</td><td>i64</td><td>i64</td><td>i64</td><td>i64</td><td>i64</td><td>i64</td><td>i64</td><td>i64</td><td>i64</td><td>i64</td><td>i64</td><td>i64</td><td>i64</td><td>i64</td><td>i64</td><td>i64</td><td>i64</td><td>i64</td><td>i64</td><td>i64</td></tr></thead><tbody><tr><td>250002</td><td>15</td><td>0</td><td>9</td><td>1</td><td>5</td><td>6</td><td>9</td><td>0</td><td>4</td><td>9</td><td>7</td><td>8</td><td>9</td><td>2</td><td>1</td><td>1</td><td>6</td><td>11</td><td>19</td><td>14</td><td>1</td><td>2</td><td>2</td><td>1</td><td>3</td><td>3</td><td>4</td><td>0</td><td>0</td><td>0</td><td>2</td><td>2</td><td>2</td><td>2</td><td>2</td><td>9</td><td>&hellip;</td><td>3</td><td>3</td><td>0</td><td>3</td><td>4</td><td>1</td><td>4</td><td>3</td><td>0</td><td>3</td><td>3</td><td>0</td><td>3</td><td>3</td><td>0</td><td>3</td><td>4</td><td>1</td><td>4</td><td>1</td><td>1</td><td>1</td><td>3</td><td>3</td><td>2</td><td>1</td><td>3</td><td>3</td><td>1</td><td>1</td><td>1</td><td>0</td><td>0</td><td>1</td><td>0</td><td>0</td><td>1</td></tr><tr><td>250003</td><td>8</td><td>10</td><td>null</td><td>6</td><td>12</td><td>null</td><td>6</td><td>4</td><td>null</td><td>1</td><td>13</td><td>null</td><td>8</td><td>1</td><td>null</td><td>8</td><td>7</td><td>null</td><td>15</td><td>14</td><td>null</td><td>3</td><td>2</td><td>null</td><td>1</td><td>3</td><td>null</td><td>0</td><td>0</td><td>null</td><td>2</td><td>2</td><td>null</td><td>2</td><td>2</td><td>null</td><td>&hellip;</td><td>null</td><td>0</td><td>3</td><td>null</td><td>1</td><td>4</td><td>null</td><td>0</td><td>3</td><td>null</td><td>0</td><td>3</td><td>null</td><td>0</td><td>3</td><td>null</td><td>1</td><td>4</td><td>null</td><td>1</td><td>1</td><td>null</td><td>2</td><td>3</td><td>null</td><td>3</td><td>1</td><td>null</td><td>1</td><td>1</td><td>null</td><td>0</td><td>1</td><td>null</td><td>0</td><td>0</td><td>null</td></tr><tr><td>250004</td><td>4</td><td>19</td><td>null</td><td>8</td><td>0</td><td>null</td><td>15</td><td>1</td><td>null</td><td>9</td><td>8</td><td>null</td><td>5</td><td>14</td><td>null</td><td>7</td><td>11</td><td>null</td><td>19</td><td>8</td><td>null</td><td>2</td><td>2</td><td>null</td><td>3</td><td>5</td><td>null</td><td>0</td><td>0</td><td>null</td><td>2</td><td>2</td><td>null</td><td>10</td><td>0</td><td>null</td><td>&hellip;</td><td>null</td><td>3</td><td>3</td><td>null</td><td>4</td><td>4</td><td>null</td><td>3</td><td>3</td><td>null</td><td>3</td><td>3</td><td>null</td><td>3</td><td>3</td><td>null</td><td>4</td><td>4</td><td>null</td><td>1</td><td>1</td><td>null</td><td>3</td><td>2</td><td>null</td><td>4</td><td>4</td><td>null</td><td>1</td><td>1</td><td>null</td><td>0</td><td>0</td><td>null</td><td>0</td><td>1</td><td>null</td></tr><tr><td>250006</td><td>3</td><td>null</td><td>null</td><td>10</td><td>null</td><td>null</td><td>6</td><td>null</td><td>null</td><td>8</td><td>null</td><td>null</td><td>0</td><td>null</td><td>null</td><td>11</td><td>null</td><td>null</td><td>2</td><td>null</td><td>null</td><td>5</td><td>null</td><td>null</td><td>1</td><td>null</td><td>null</td><td>0</td><td>null</td><td>null</td><td>2</td><td>null</td><td>null</td><td>4</td><td>null</td><td>null</td><td>&hellip;</td><td>null</td><td>3</td><td>null</td><td>null</td><td>4</td><td>null</td><td>null</td><td>3</td><td>null</td><td>null</td><td>3</td><td>null</td><td>null</td><td>3</td><td>null</td><td>null</td><td>4</td><td>null</td><td>null</td><td>1</td><td>null</td><td>null</td><td>2</td><td>null</td><td>null</td><td>0</td><td>null</td><td>null</td><td>1</td><td>null</td><td>null</td><td>0</td><td>null</td><td>null</td><td>1</td><td>null</td><td>null</td></tr><tr><td>250007</td><td>7</td><td>null</td><td>null</td><td>9</td><td>null</td><td>null</td><td>4</td><td>null</td><td>null</td><td>8</td><td>null</td><td>null</td><td>1</td><td>null</td><td>null</td><td>11</td><td>null</td><td>null</td><td>1</td><td>null</td><td>null</td><td>6</td><td>null</td><td>null</td><td>4</td><td>null</td><td>null</td><td>0</td><td>null</td><td>null</td><td>2</td><td>null</td><td>null</td><td>7</td><td>null</td><td>null</td><td>&hellip;</td><td>null</td><td>3</td><td>null</td><td>null</td><td>4</td><td>null</td><td>null</td><td>3</td><td>null</td><td>null</td><td>3</td><td>null</td><td>null</td><td>3</td><td>null</td><td>null</td><td>4</td><td>null</td><td>null</td><td>1</td><td>null</td><td>null</td><td>2</td><td>null</td><td>null</td><td>4</td><td>null</td><td>null</td><td>1</td><td>null</td><td>null</td><td>1</td><td>null</td><td>null</td><td>1</td><td>null</td><td>null</td></tr></tbody></table></div>"
      ],
      "text/plain": [
       "shape: (5, 178)\n",
       "┌────────┬────────────┬────────────┬───────────┬───┬───────────┬───────────┬───────────┬───────────┐\n",
       "│ id     ┆ pre_since_ ┆ pre_since_ ┆ pre_since ┆ … ┆ pclose_fl ┆ fclose_fl ┆ fclose_fl ┆ fclose_fl │\n",
       "│ ---    ┆ opened_rn_ ┆ opened_rn_ ┆ _opened_r ┆   ┆ ag_rn_3   ┆ ag_rn_1   ┆ ag_rn_2   ┆ ag_rn_3   │\n",
       "│ i64    ┆ 1          ┆ 2          ┆ n_3       ┆   ┆ ---       ┆ ---       ┆ ---       ┆ ---       │\n",
       "│        ┆ ---        ┆ ---        ┆ ---       ┆   ┆ i64       ┆ i64       ┆ i64       ┆ i64       │\n",
       "│        ┆ i64        ┆ i64        ┆ i64       ┆   ┆           ┆           ┆           ┆           │\n",
       "╞════════╪════════════╪════════════╪═══════════╪═══╪═══════════╪═══════════╪═══════════╪═══════════╡\n",
       "│ 250002 ┆ 15         ┆ 0          ┆ 9         ┆ … ┆ 1         ┆ 0         ┆ 0         ┆ 1         │\n",
       "│ 250003 ┆ 8          ┆ 10         ┆ null      ┆ … ┆ null      ┆ 0         ┆ 0         ┆ null      │\n",
       "│ 250004 ┆ 4          ┆ 19         ┆ null      ┆ … ┆ null      ┆ 0         ┆ 1         ┆ null      │\n",
       "│ 250006 ┆ 3          ┆ null       ┆ null      ┆ … ┆ null      ┆ 1         ┆ null      ┆ null      │\n",
       "│ 250007 ┆ 7          ┆ null       ┆ null      ┆ … ┆ null      ┆ 1         ┆ null      ┆ null      │\n",
       "└────────┴────────────┴────────────┴───────────┴───┴───────────┴───────────┴───────────┴───────────┘"
      ]
     },
     "execution_count": 98,
     "metadata": {},
     "output_type": "execute_result"
    }
   ],
   "source": [
    "pivoted_df.head()"
   ]
  },
  {
   "cell_type": "code",
   "execution_count": 99,
   "metadata": {},
   "outputs": [],
   "source": [
    "train_target=pl.read_csv(\"C:/Users/notei/OneDrive/Рабочий стол/uni/Year 3/Datathon/bdss-datathon/data/raw/train_target.csv\")"
   ]
  },
  {
   "cell_type": "code",
   "execution_count": 105,
   "metadata": {},
   "outputs": [],
   "source": [
    "merged_df = train_target.join(pivoted_df, on='id', how='inner')"
   ]
  },
  {
   "cell_type": "code",
   "execution_count": 107,
   "metadata": {},
   "outputs": [
    {
     "data": {
      "text/html": [
       "<div><style>\n",
       ".dataframe > thead > tr,\n",
       ".dataframe > tbody > tr {\n",
       "  text-align: right;\n",
       "  white-space: pre-wrap;\n",
       "}\n",
       "</style>\n",
       "<small>shape: (5, 179)</small><table border=\"1\" class=\"dataframe\"><thead><tr><th>id</th><th>flag</th><th>pre_since_opened_rn_1</th><th>pre_since_opened_rn_2</th><th>pre_since_opened_rn_3</th><th>pre_since_confirmed_rn_1</th><th>pre_since_confirmed_rn_2</th><th>pre_since_confirmed_rn_3</th><th>pre_pterm_rn_1</th><th>pre_pterm_rn_2</th><th>pre_pterm_rn_3</th><th>pre_fterm_rn_1</th><th>pre_fterm_rn_2</th><th>pre_fterm_rn_3</th><th>pre_till_pclose_rn_1</th><th>pre_till_pclose_rn_2</th><th>pre_till_pclose_rn_3</th><th>pre_till_fclose_rn_1</th><th>pre_till_fclose_rn_2</th><th>pre_till_fclose_rn_3</th><th>pre_loans_credit_limit_rn_1</th><th>pre_loans_credit_limit_rn_2</th><th>pre_loans_credit_limit_rn_3</th><th>pre_loans_next_pay_summ_rn_1</th><th>pre_loans_next_pay_summ_rn_2</th><th>pre_loans_next_pay_summ_rn_3</th><th>pre_loans_outstanding_rn_1</th><th>pre_loans_outstanding_rn_2</th><th>pre_loans_outstanding_rn_3</th><th>pre_loans_total_overdue_rn_1</th><th>pre_loans_total_overdue_rn_2</th><th>pre_loans_total_overdue_rn_3</th><th>pre_loans_max_overdue_sum_rn_1</th><th>pre_loans_max_overdue_sum_rn_2</th><th>pre_loans_max_overdue_sum_rn_3</th><th>pre_loans_credit_cost_rate_rn_1</th><th>pre_loans_credit_cost_rate_rn_2</th><th>&hellip;</th><th>enc_paym_18_rn_3</th><th>enc_paym_19_rn_1</th><th>enc_paym_19_rn_2</th><th>enc_paym_19_rn_3</th><th>enc_paym_20_rn_1</th><th>enc_paym_20_rn_2</th><th>enc_paym_20_rn_3</th><th>enc_paym_21_rn_1</th><th>enc_paym_21_rn_2</th><th>enc_paym_21_rn_3</th><th>enc_paym_22_rn_1</th><th>enc_paym_22_rn_2</th><th>enc_paym_22_rn_3</th><th>enc_paym_23_rn_1</th><th>enc_paym_23_rn_2</th><th>enc_paym_23_rn_3</th><th>enc_paym_24_rn_1</th><th>enc_paym_24_rn_2</th><th>enc_paym_24_rn_3</th><th>enc_loans_account_holder_type_rn_1</th><th>enc_loans_account_holder_type_rn_2</th><th>enc_loans_account_holder_type_rn_3</th><th>enc_loans_credit_status_rn_1</th><th>enc_loans_credit_status_rn_2</th><th>enc_loans_credit_status_rn_3</th><th>enc_loans_credit_type_rn_1</th><th>enc_loans_credit_type_rn_2</th><th>enc_loans_credit_type_rn_3</th><th>enc_loans_account_cur_rn_1</th><th>enc_loans_account_cur_rn_2</th><th>enc_loans_account_cur_rn_3</th><th>pclose_flag_rn_1</th><th>pclose_flag_rn_2</th><th>pclose_flag_rn_3</th><th>fclose_flag_rn_1</th><th>fclose_flag_rn_2</th><th>fclose_flag_rn_3</th></tr><tr><td>i64</td><td>i64</td><td>i64</td><td>i64</td><td>i64</td><td>i64</td><td>i64</td><td>i64</td><td>i64</td><td>i64</td><td>i64</td><td>i64</td><td>i64</td><td>i64</td><td>i64</td><td>i64</td><td>i64</td><td>i64</td><td>i64</td><td>i64</td><td>i64</td><td>i64</td><td>i64</td><td>i64</td><td>i64</td><td>i64</td><td>i64</td><td>i64</td><td>i64</td><td>i64</td><td>i64</td><td>i64</td><td>i64</td><td>i64</td><td>i64</td><td>i64</td><td>i64</td><td>&hellip;</td><td>i64</td><td>i64</td><td>i64</td><td>i64</td><td>i64</td><td>i64</td><td>i64</td><td>i64</td><td>i64</td><td>i64</td><td>i64</td><td>i64</td><td>i64</td><td>i64</td><td>i64</td><td>i64</td><td>i64</td><td>i64</td><td>i64</td><td>i64</td><td>i64</td><td>i64</td><td>i64</td><td>i64</td><td>i64</td><td>i64</td><td>i64</td><td>i64</td><td>i64</td><td>i64</td><td>i64</td><td>i64</td><td>i64</td><td>i64</td><td>i64</td><td>i64</td><td>i64</td></tr></thead><tbody><tr><td>250002</td><td>0</td><td>15</td><td>0</td><td>9</td><td>1</td><td>5</td><td>6</td><td>9</td><td>0</td><td>4</td><td>9</td><td>7</td><td>8</td><td>9</td><td>2</td><td>1</td><td>1</td><td>6</td><td>11</td><td>19</td><td>14</td><td>1</td><td>2</td><td>2</td><td>1</td><td>3</td><td>3</td><td>4</td><td>0</td><td>0</td><td>0</td><td>2</td><td>2</td><td>2</td><td>2</td><td>2</td><td>&hellip;</td><td>3</td><td>3</td><td>0</td><td>3</td><td>4</td><td>1</td><td>4</td><td>3</td><td>0</td><td>3</td><td>3</td><td>0</td><td>3</td><td>3</td><td>0</td><td>3</td><td>4</td><td>1</td><td>4</td><td>1</td><td>1</td><td>1</td><td>3</td><td>3</td><td>2</td><td>1</td><td>3</td><td>3</td><td>1</td><td>1</td><td>1</td><td>0</td><td>0</td><td>1</td><td>0</td><td>0</td><td>1</td></tr><tr><td>250003</td><td>0</td><td>8</td><td>10</td><td>null</td><td>6</td><td>12</td><td>null</td><td>6</td><td>4</td><td>null</td><td>1</td><td>13</td><td>null</td><td>8</td><td>1</td><td>null</td><td>8</td><td>7</td><td>null</td><td>15</td><td>14</td><td>null</td><td>3</td><td>2</td><td>null</td><td>1</td><td>3</td><td>null</td><td>0</td><td>0</td><td>null</td><td>2</td><td>2</td><td>null</td><td>2</td><td>2</td><td>&hellip;</td><td>null</td><td>0</td><td>3</td><td>null</td><td>1</td><td>4</td><td>null</td><td>0</td><td>3</td><td>null</td><td>0</td><td>3</td><td>null</td><td>0</td><td>3</td><td>null</td><td>1</td><td>4</td><td>null</td><td>1</td><td>1</td><td>null</td><td>2</td><td>3</td><td>null</td><td>3</td><td>1</td><td>null</td><td>1</td><td>1</td><td>null</td><td>0</td><td>1</td><td>null</td><td>0</td><td>0</td><td>null</td></tr><tr><td>250004</td><td>0</td><td>4</td><td>19</td><td>null</td><td>8</td><td>0</td><td>null</td><td>15</td><td>1</td><td>null</td><td>9</td><td>8</td><td>null</td><td>5</td><td>14</td><td>null</td><td>7</td><td>11</td><td>null</td><td>19</td><td>8</td><td>null</td><td>2</td><td>2</td><td>null</td><td>3</td><td>5</td><td>null</td><td>0</td><td>0</td><td>null</td><td>2</td><td>2</td><td>null</td><td>10</td><td>0</td><td>&hellip;</td><td>null</td><td>3</td><td>3</td><td>null</td><td>4</td><td>4</td><td>null</td><td>3</td><td>3</td><td>null</td><td>3</td><td>3</td><td>null</td><td>3</td><td>3</td><td>null</td><td>4</td><td>4</td><td>null</td><td>1</td><td>1</td><td>null</td><td>3</td><td>2</td><td>null</td><td>4</td><td>4</td><td>null</td><td>1</td><td>1</td><td>null</td><td>0</td><td>0</td><td>null</td><td>0</td><td>1</td><td>null</td></tr><tr><td>250006</td><td>0</td><td>3</td><td>null</td><td>null</td><td>10</td><td>null</td><td>null</td><td>6</td><td>null</td><td>null</td><td>8</td><td>null</td><td>null</td><td>0</td><td>null</td><td>null</td><td>11</td><td>null</td><td>null</td><td>2</td><td>null</td><td>null</td><td>5</td><td>null</td><td>null</td><td>1</td><td>null</td><td>null</td><td>0</td><td>null</td><td>null</td><td>2</td><td>null</td><td>null</td><td>4</td><td>null</td><td>&hellip;</td><td>null</td><td>3</td><td>null</td><td>null</td><td>4</td><td>null</td><td>null</td><td>3</td><td>null</td><td>null</td><td>3</td><td>null</td><td>null</td><td>3</td><td>null</td><td>null</td><td>4</td><td>null</td><td>null</td><td>1</td><td>null</td><td>null</td><td>2</td><td>null</td><td>null</td><td>0</td><td>null</td><td>null</td><td>1</td><td>null</td><td>null</td><td>0</td><td>null</td><td>null</td><td>1</td><td>null</td><td>null</td></tr><tr><td>250007</td><td>0</td><td>7</td><td>null</td><td>null</td><td>9</td><td>null</td><td>null</td><td>4</td><td>null</td><td>null</td><td>8</td><td>null</td><td>null</td><td>1</td><td>null</td><td>null</td><td>11</td><td>null</td><td>null</td><td>1</td><td>null</td><td>null</td><td>6</td><td>null</td><td>null</td><td>4</td><td>null</td><td>null</td><td>0</td><td>null</td><td>null</td><td>2</td><td>null</td><td>null</td><td>7</td><td>null</td><td>&hellip;</td><td>null</td><td>3</td><td>null</td><td>null</td><td>4</td><td>null</td><td>null</td><td>3</td><td>null</td><td>null</td><td>3</td><td>null</td><td>null</td><td>3</td><td>null</td><td>null</td><td>4</td><td>null</td><td>null</td><td>1</td><td>null</td><td>null</td><td>2</td><td>null</td><td>null</td><td>4</td><td>null</td><td>null</td><td>1</td><td>null</td><td>null</td><td>1</td><td>null</td><td>null</td><td>1</td><td>null</td><td>null</td></tr></tbody></table></div>"
      ],
      "text/plain": [
       "shape: (5, 179)\n",
       "┌────────┬──────┬─────────────┬────────────┬───┬────────────┬────────────┬────────────┬────────────┐\n",
       "│ id     ┆ flag ┆ pre_since_o ┆ pre_since_ ┆ … ┆ pclose_fla ┆ fclose_fla ┆ fclose_fla ┆ fclose_fla │\n",
       "│ ---    ┆ ---  ┆ pened_rn_1  ┆ opened_rn_ ┆   ┆ g_rn_3     ┆ g_rn_1     ┆ g_rn_2     ┆ g_rn_3     │\n",
       "│ i64    ┆ i64  ┆ ---         ┆ 2          ┆   ┆ ---        ┆ ---        ┆ ---        ┆ ---        │\n",
       "│        ┆      ┆ i64         ┆ ---        ┆   ┆ i64        ┆ i64        ┆ i64        ┆ i64        │\n",
       "│        ┆      ┆             ┆ i64        ┆   ┆            ┆            ┆            ┆            │\n",
       "╞════════╪══════╪═════════════╪════════════╪═══╪════════════╪════════════╪════════════╪════════════╡\n",
       "│ 250002 ┆ 0    ┆ 15          ┆ 0          ┆ … ┆ 1          ┆ 0          ┆ 0          ┆ 1          │\n",
       "│ 250003 ┆ 0    ┆ 8           ┆ 10         ┆ … ┆ null       ┆ 0          ┆ 0          ┆ null       │\n",
       "│ 250004 ┆ 0    ┆ 4           ┆ 19         ┆ … ┆ null       ┆ 0          ┆ 1          ┆ null       │\n",
       "│ 250006 ┆ 0    ┆ 3           ┆ null       ┆ … ┆ null       ┆ 1          ┆ null       ┆ null       │\n",
       "│ 250007 ┆ 0    ┆ 7           ┆ null       ┆ … ┆ null       ┆ 1          ┆ null       ┆ null       │\n",
       "└────────┴──────┴─────────────┴────────────┴───┴────────────┴────────────┴────────────┴────────────┘"
      ]
     },
     "execution_count": 107,
     "metadata": {},
     "output_type": "execute_result"
    }
   ],
   "source": [
    "merged_df.head()"
   ]
  },
  {
   "cell_type": "code",
   "execution_count": 108,
   "metadata": {},
   "outputs": [
    {
     "data": {
      "text/plain": [
       "['id',\n",
       " 'flag',\n",
       " 'pre_since_opened_rn_1',\n",
       " 'pre_since_opened_rn_2',\n",
       " 'pre_since_opened_rn_3',\n",
       " 'pre_since_confirmed_rn_1',\n",
       " 'pre_since_confirmed_rn_2',\n",
       " 'pre_since_confirmed_rn_3',\n",
       " 'pre_pterm_rn_1',\n",
       " 'pre_pterm_rn_2',\n",
       " 'pre_pterm_rn_3',\n",
       " 'pre_fterm_rn_1',\n",
       " 'pre_fterm_rn_2',\n",
       " 'pre_fterm_rn_3',\n",
       " 'pre_till_pclose_rn_1',\n",
       " 'pre_till_pclose_rn_2',\n",
       " 'pre_till_pclose_rn_3',\n",
       " 'pre_till_fclose_rn_1',\n",
       " 'pre_till_fclose_rn_2',\n",
       " 'pre_till_fclose_rn_3',\n",
       " 'pre_loans_credit_limit_rn_1',\n",
       " 'pre_loans_credit_limit_rn_2',\n",
       " 'pre_loans_credit_limit_rn_3',\n",
       " 'pre_loans_next_pay_summ_rn_1',\n",
       " 'pre_loans_next_pay_summ_rn_2',\n",
       " 'pre_loans_next_pay_summ_rn_3',\n",
       " 'pre_loans_outstanding_rn_1',\n",
       " 'pre_loans_outstanding_rn_2',\n",
       " 'pre_loans_outstanding_rn_3',\n",
       " 'pre_loans_total_overdue_rn_1',\n",
       " 'pre_loans_total_overdue_rn_2',\n",
       " 'pre_loans_total_overdue_rn_3',\n",
       " 'pre_loans_max_overdue_sum_rn_1',\n",
       " 'pre_loans_max_overdue_sum_rn_2',\n",
       " 'pre_loans_max_overdue_sum_rn_3',\n",
       " 'pre_loans_credit_cost_rate_rn_1',\n",
       " 'pre_loans_credit_cost_rate_rn_2',\n",
       " 'pre_loans_credit_cost_rate_rn_3',\n",
       " 'pre_loans5_rn_1',\n",
       " 'pre_loans5_rn_2',\n",
       " 'pre_loans5_rn_3',\n",
       " 'pre_loans530_rn_1',\n",
       " 'pre_loans530_rn_2',\n",
       " 'pre_loans530_rn_3',\n",
       " 'pre_loans3060_rn_1',\n",
       " 'pre_loans3060_rn_2',\n",
       " 'pre_loans3060_rn_3',\n",
       " 'pre_loans6090_rn_1',\n",
       " 'pre_loans6090_rn_2',\n",
       " 'pre_loans6090_rn_3',\n",
       " 'pre_loans90_rn_1',\n",
       " 'pre_loans90_rn_2',\n",
       " 'pre_loans90_rn_3',\n",
       " 'is_zero_loans5_rn_1',\n",
       " 'is_zero_loans5_rn_2',\n",
       " 'is_zero_loans5_rn_3',\n",
       " 'is_zero_loans530_rn_1',\n",
       " 'is_zero_loans530_rn_2',\n",
       " 'is_zero_loans530_rn_3',\n",
       " 'is_zero_loans3060_rn_1',\n",
       " 'is_zero_loans3060_rn_2',\n",
       " 'is_zero_loans3060_rn_3',\n",
       " 'is_zero_loans6090_rn_1',\n",
       " 'is_zero_loans6090_rn_2',\n",
       " 'is_zero_loans6090_rn_3',\n",
       " 'is_zero_loans90_rn_1',\n",
       " 'is_zero_loans90_rn_2',\n",
       " 'is_zero_loans90_rn_3',\n",
       " 'pre_util_rn_1',\n",
       " 'pre_util_rn_2',\n",
       " 'pre_util_rn_3',\n",
       " 'pre_over2limit_rn_1',\n",
       " 'pre_over2limit_rn_2',\n",
       " 'pre_over2limit_rn_3',\n",
       " 'pre_maxover2limit_rn_1',\n",
       " 'pre_maxover2limit_rn_2',\n",
       " 'pre_maxover2limit_rn_3',\n",
       " 'is_zero_util_rn_1',\n",
       " 'is_zero_util_rn_2',\n",
       " 'is_zero_util_rn_3',\n",
       " 'is_zero_over2limit_rn_1',\n",
       " 'is_zero_over2limit_rn_2',\n",
       " 'is_zero_over2limit_rn_3',\n",
       " 'is_zero_maxover2limit_rn_1',\n",
       " 'is_zero_maxover2limit_rn_2',\n",
       " 'is_zero_maxover2limit_rn_3',\n",
       " 'enc_paym_0_rn_1',\n",
       " 'enc_paym_0_rn_2',\n",
       " 'enc_paym_0_rn_3',\n",
       " 'enc_paym_1_rn_1',\n",
       " 'enc_paym_1_rn_2',\n",
       " 'enc_paym_1_rn_3',\n",
       " 'enc_paym_2_rn_1',\n",
       " 'enc_paym_2_rn_2',\n",
       " 'enc_paym_2_rn_3',\n",
       " 'enc_paym_3_rn_1',\n",
       " 'enc_paym_3_rn_2',\n",
       " 'enc_paym_3_rn_3',\n",
       " 'enc_paym_4_rn_1',\n",
       " 'enc_paym_4_rn_2',\n",
       " 'enc_paym_4_rn_3',\n",
       " 'enc_paym_5_rn_1',\n",
       " 'enc_paym_5_rn_2',\n",
       " 'enc_paym_5_rn_3',\n",
       " 'enc_paym_6_rn_1',\n",
       " 'enc_paym_6_rn_2',\n",
       " 'enc_paym_6_rn_3',\n",
       " 'enc_paym_7_rn_1',\n",
       " 'enc_paym_7_rn_2',\n",
       " 'enc_paym_7_rn_3',\n",
       " 'enc_paym_8_rn_1',\n",
       " 'enc_paym_8_rn_2',\n",
       " 'enc_paym_8_rn_3',\n",
       " 'enc_paym_9_rn_1',\n",
       " 'enc_paym_9_rn_2',\n",
       " 'enc_paym_9_rn_3',\n",
       " 'enc_paym_10_rn_1',\n",
       " 'enc_paym_10_rn_2',\n",
       " 'enc_paym_10_rn_3',\n",
       " 'enc_paym_11_rn_1',\n",
       " 'enc_paym_11_rn_2',\n",
       " 'enc_paym_11_rn_3',\n",
       " 'enc_paym_12_rn_1',\n",
       " 'enc_paym_12_rn_2',\n",
       " 'enc_paym_12_rn_3',\n",
       " 'enc_paym_13_rn_1',\n",
       " 'enc_paym_13_rn_2',\n",
       " 'enc_paym_13_rn_3',\n",
       " 'enc_paym_14_rn_1',\n",
       " 'enc_paym_14_rn_2',\n",
       " 'enc_paym_14_rn_3',\n",
       " 'enc_paym_15_rn_1',\n",
       " 'enc_paym_15_rn_2',\n",
       " 'enc_paym_15_rn_3',\n",
       " 'enc_paym_16_rn_1',\n",
       " 'enc_paym_16_rn_2',\n",
       " 'enc_paym_16_rn_3',\n",
       " 'enc_paym_17_rn_1',\n",
       " 'enc_paym_17_rn_2',\n",
       " 'enc_paym_17_rn_3',\n",
       " 'enc_paym_18_rn_1',\n",
       " 'enc_paym_18_rn_2',\n",
       " 'enc_paym_18_rn_3',\n",
       " 'enc_paym_19_rn_1',\n",
       " 'enc_paym_19_rn_2',\n",
       " 'enc_paym_19_rn_3',\n",
       " 'enc_paym_20_rn_1',\n",
       " 'enc_paym_20_rn_2',\n",
       " 'enc_paym_20_rn_3',\n",
       " 'enc_paym_21_rn_1',\n",
       " 'enc_paym_21_rn_2',\n",
       " 'enc_paym_21_rn_3',\n",
       " 'enc_paym_22_rn_1',\n",
       " 'enc_paym_22_rn_2',\n",
       " 'enc_paym_22_rn_3',\n",
       " 'enc_paym_23_rn_1',\n",
       " 'enc_paym_23_rn_2',\n",
       " 'enc_paym_23_rn_3',\n",
       " 'enc_paym_24_rn_1',\n",
       " 'enc_paym_24_rn_2',\n",
       " 'enc_paym_24_rn_3',\n",
       " 'enc_loans_account_holder_type_rn_1',\n",
       " 'enc_loans_account_holder_type_rn_2',\n",
       " 'enc_loans_account_holder_type_rn_3',\n",
       " 'enc_loans_credit_status_rn_1',\n",
       " 'enc_loans_credit_status_rn_2',\n",
       " 'enc_loans_credit_status_rn_3',\n",
       " 'enc_loans_credit_type_rn_1',\n",
       " 'enc_loans_credit_type_rn_2',\n",
       " 'enc_loans_credit_type_rn_3',\n",
       " 'enc_loans_account_cur_rn_1',\n",
       " 'enc_loans_account_cur_rn_2',\n",
       " 'enc_loans_account_cur_rn_3',\n",
       " 'pclose_flag_rn_1',\n",
       " 'pclose_flag_rn_2',\n",
       " 'pclose_flag_rn_3',\n",
       " 'fclose_flag_rn_1',\n",
       " 'fclose_flag_rn_2',\n",
       " 'fclose_flag_rn_3']"
      ]
     },
     "execution_count": 108,
     "metadata": {},
     "output_type": "execute_result"
    }
   ],
   "source": [
    "merged_df.columns"
   ]
  },
  {
   "cell_type": "code",
   "execution_count": null,
   "metadata": {},
   "outputs": [],
   "source": []
  }
 ],
 "metadata": {
  "kernelspec": {
   "display_name": ".venv",
   "language": "python",
   "name": "python3"
  },
  "language_info": {
   "codemirror_mode": {
    "name": "ipython",
    "version": 3
   },
   "file_extension": ".py",
   "mimetype": "text/x-python",
   "name": "python",
   "nbconvert_exporter": "python",
   "pygments_lexer": "ipython3",
   "version": "3.12.0"
  }
 },
 "nbformat": 4,
 "nbformat_minor": 2
}
