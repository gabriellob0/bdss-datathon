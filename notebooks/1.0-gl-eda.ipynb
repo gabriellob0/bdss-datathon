{
 "cells": [
  {
   "cell_type": "code",
   "execution_count": 8,
   "metadata": {},
   "outputs": [
    {
     "name": "stdout",
     "output_type": "stream",
     "text": [
      "d:\\OneDrive\\Documentos\\Bristol\\bdss-datathon\\notebooks\n"
     ]
    }
   ],
   "source": [
    "import os\n",
    "print(os.getcwd())"
   ]
  },
  {
   "cell_type": "code",
   "execution_count": 1,
   "metadata": {},
   "outputs": [],
   "source": [
    "import polars as pl"
   ]
  },
  {
   "cell_type": "code",
   "execution_count": 9,
   "metadata": {},
   "outputs": [],
   "source": [
    "raw_data = pl.read_csv(source=\"../data/raw/train_data_0.csv\")"
   ]
  },
  {
   "cell_type": "code",
   "execution_count": 10,
   "metadata": {},
   "outputs": [
    {
     "data": {
      "text/plain": [
       "['id',\n",
       " 'rn',\n",
       " 'pre_since_opened',\n",
       " 'pre_since_confirmed',\n",
       " 'pre_pterm',\n",
       " 'pre_fterm',\n",
       " 'pre_till_pclose',\n",
       " 'pre_till_fclose',\n",
       " 'pre_loans_credit_limit',\n",
       " 'pre_loans_next_pay_summ',\n",
       " 'pre_loans_outstanding',\n",
       " 'pre_loans_total_overdue',\n",
       " 'pre_loans_max_overdue_sum',\n",
       " 'pre_loans_credit_cost_rate',\n",
       " 'pre_loans5',\n",
       " 'pre_loans530',\n",
       " 'pre_loans3060',\n",
       " 'pre_loans6090',\n",
       " 'pre_loans90',\n",
       " 'is_zero_loans5',\n",
       " 'is_zero_loans530',\n",
       " 'is_zero_loans3060',\n",
       " 'is_zero_loans6090',\n",
       " 'is_zero_loans90',\n",
       " 'pre_util',\n",
       " 'pre_over2limit',\n",
       " 'pre_maxover2limit',\n",
       " 'is_zero_util',\n",
       " 'is_zero_over2limit',\n",
       " 'is_zero_maxover2limit',\n",
       " 'enc_paym_0',\n",
       " 'enc_paym_1',\n",
       " 'enc_paym_2',\n",
       " 'enc_paym_3',\n",
       " 'enc_paym_4',\n",
       " 'enc_paym_5',\n",
       " 'enc_paym_6',\n",
       " 'enc_paym_7',\n",
       " 'enc_paym_8',\n",
       " 'enc_paym_9',\n",
       " 'enc_paym_10',\n",
       " 'enc_paym_11',\n",
       " 'enc_paym_12',\n",
       " 'enc_paym_13',\n",
       " 'enc_paym_14',\n",
       " 'enc_paym_15',\n",
       " 'enc_paym_16',\n",
       " 'enc_paym_17',\n",
       " 'enc_paym_18',\n",
       " 'enc_paym_19',\n",
       " 'enc_paym_20',\n",
       " 'enc_paym_21',\n",
       " 'enc_paym_22',\n",
       " 'enc_paym_23',\n",
       " 'enc_paym_24',\n",
       " 'enc_loans_account_holder_type',\n",
       " 'enc_loans_credit_status',\n",
       " 'enc_loans_credit_type',\n",
       " 'enc_loans_account_cur',\n",
       " 'pclose_flag',\n",
       " 'fclose_flag']"
      ]
     },
     "execution_count": 10,
     "metadata": {},
     "output_type": "execute_result"
    }
   ],
   "source": [
    "raw_data.columns"
   ]
  },
  {
   "cell_type": "code",
   "execution_count": 11,
   "metadata": {},
   "outputs": [
    {
     "data": {
      "text/html": [
       "<div><style>\n",
       ".dataframe > thead > tr,\n",
       ".dataframe > tbody > tr {\n",
       "  text-align: right;\n",
       "  white-space: pre-wrap;\n",
       "}\n",
       "</style>\n",
       "<small>shape: (5, 61)</small><table border=\"1\" class=\"dataframe\"><thead><tr><th>id</th><th>rn</th><th>pre_since_opened</th><th>pre_since_confirmed</th><th>pre_pterm</th><th>pre_fterm</th><th>pre_till_pclose</th><th>pre_till_fclose</th><th>pre_loans_credit_limit</th><th>pre_loans_next_pay_summ</th><th>pre_loans_outstanding</th><th>pre_loans_total_overdue</th><th>pre_loans_max_overdue_sum</th><th>pre_loans_credit_cost_rate</th><th>pre_loans5</th><th>pre_loans530</th><th>pre_loans3060</th><th>pre_loans6090</th><th>pre_loans90</th><th>is_zero_loans5</th><th>is_zero_loans530</th><th>is_zero_loans3060</th><th>is_zero_loans6090</th><th>is_zero_loans90</th><th>pre_util</th><th>pre_over2limit</th><th>pre_maxover2limit</th><th>is_zero_util</th><th>is_zero_over2limit</th><th>is_zero_maxover2limit</th><th>enc_paym_0</th><th>enc_paym_1</th><th>enc_paym_2</th><th>enc_paym_3</th><th>enc_paym_4</th><th>enc_paym_5</th><th>enc_paym_6</th><th>enc_paym_7</th><th>enc_paym_8</th><th>enc_paym_9</th><th>enc_paym_10</th><th>enc_paym_11</th><th>enc_paym_12</th><th>enc_paym_13</th><th>enc_paym_14</th><th>enc_paym_15</th><th>enc_paym_16</th><th>enc_paym_17</th><th>enc_paym_18</th><th>enc_paym_19</th><th>enc_paym_20</th><th>enc_paym_21</th><th>enc_paym_22</th><th>enc_paym_23</th><th>enc_paym_24</th><th>enc_loans_account_holder_type</th><th>enc_loans_credit_status</th><th>enc_loans_credit_type</th><th>enc_loans_account_cur</th><th>pclose_flag</th><th>fclose_flag</th></tr><tr><td>i64</td><td>i64</td><td>i64</td><td>i64</td><td>i64</td><td>i64</td><td>i64</td><td>i64</td><td>i64</td><td>i64</td><td>i64</td><td>i64</td><td>i64</td><td>i64</td><td>i64</td><td>i64</td><td>i64</td><td>i64</td><td>i64</td><td>i64</td><td>i64</td><td>i64</td><td>i64</td><td>i64</td><td>i64</td><td>i64</td><td>i64</td><td>i64</td><td>i64</td><td>i64</td><td>i64</td><td>i64</td><td>i64</td><td>i64</td><td>i64</td><td>i64</td><td>i64</td><td>i64</td><td>i64</td><td>i64</td><td>i64</td><td>i64</td><td>i64</td><td>i64</td><td>i64</td><td>i64</td><td>i64</td><td>i64</td><td>i64</td><td>i64</td><td>i64</td><td>i64</td><td>i64</td><td>i64</td><td>i64</td><td>i64</td><td>i64</td><td>i64</td><td>i64</td><td>i64</td><td>i64</td></tr></thead><tbody><tr><td>0</td><td>1</td><td>18</td><td>9</td><td>2</td><td>3</td><td>16</td><td>10</td><td>11</td><td>3</td><td>3</td><td>0</td><td>2</td><td>11</td><td>6</td><td>16</td><td>5</td><td>4</td><td>8</td><td>1</td><td>1</td><td>1</td><td>1</td><td>1</td><td>16</td><td>2</td><td>17</td><td>1</td><td>1</td><td>1</td><td>0</td><td>0</td><td>3</td><td>3</td><td>3</td><td>3</td><td>3</td><td>3</td><td>3</td><td>3</td><td>3</td><td>4</td><td>3</td><td>3</td><td>3</td><td>3</td><td>3</td><td>3</td><td>3</td><td>3</td><td>4</td><td>3</td><td>3</td><td>3</td><td>4</td><td>1</td><td>3</td><td>4</td><td>1</td><td>0</td><td>0</td></tr><tr><td>0</td><td>2</td><td>18</td><td>9</td><td>14</td><td>14</td><td>12</td><td>12</td><td>0</td><td>3</td><td>3</td><td>0</td><td>2</td><td>11</td><td>6</td><td>16</td><td>5</td><td>4</td><td>8</td><td>1</td><td>1</td><td>1</td><td>1</td><td>1</td><td>16</td><td>2</td><td>17</td><td>1</td><td>1</td><td>1</td><td>0</td><td>0</td><td>0</td><td>0</td><td>0</td><td>0</td><td>0</td><td>0</td><td>0</td><td>0</td><td>0</td><td>1</td><td>0</td><td>0</td><td>0</td><td>0</td><td>0</td><td>0</td><td>0</td><td>0</td><td>1</td><td>0</td><td>0</td><td>0</td><td>4</td><td>1</td><td>3</td><td>4</td><td>1</td><td>0</td><td>0</td></tr><tr><td>0</td><td>3</td><td>18</td><td>9</td><td>4</td><td>8</td><td>1</td><td>11</td><td>11</td><td>0</td><td>5</td><td>0</td><td>2</td><td>8</td><td>6</td><td>16</td><td>5</td><td>4</td><td>8</td><td>1</td><td>1</td><td>1</td><td>1</td><td>1</td><td>15</td><td>2</td><td>17</td><td>0</td><td>1</td><td>1</td><td>0</td><td>0</td><td>0</td><td>0</td><td>0</td><td>0</td><td>0</td><td>0</td><td>0</td><td>0</td><td>0</td><td>1</td><td>0</td><td>0</td><td>0</td><td>0</td><td>0</td><td>0</td><td>0</td><td>0</td><td>1</td><td>0</td><td>0</td><td>0</td><td>4</td><td>1</td><td>2</td><td>3</td><td>1</td><td>1</td><td>1</td></tr><tr><td>0</td><td>4</td><td>4</td><td>1</td><td>9</td><td>12</td><td>16</td><td>7</td><td>12</td><td>2</td><td>3</td><td>0</td><td>2</td><td>4</td><td>6</td><td>16</td><td>5</td><td>4</td><td>8</td><td>0</td><td>1</td><td>1</td><td>1</td><td>1</td><td>16</td><td>2</td><td>17</td><td>1</td><td>1</td><td>1</td><td>1</td><td>0</td><td>0</td><td>0</td><td>0</td><td>0</td><td>0</td><td>0</td><td>0</td><td>0</td><td>0</td><td>1</td><td>3</td><td>3</td><td>3</td><td>3</td><td>3</td><td>3</td><td>3</td><td>3</td><td>4</td><td>3</td><td>3</td><td>3</td><td>4</td><td>1</td><td>3</td><td>1</td><td>1</td><td>0</td><td>0</td></tr><tr><td>0</td><td>5</td><td>5</td><td>12</td><td>15</td><td>2</td><td>11</td><td>12</td><td>10</td><td>2</td><td>3</td><td>0</td><td>2</td><td>4</td><td>6</td><td>16</td><td>5</td><td>4</td><td>8</td><td>1</td><td>1</td><td>1</td><td>1</td><td>1</td><td>16</td><td>2</td><td>17</td><td>1</td><td>1</td><td>1</td><td>0</td><td>0</td><td>0</td><td>0</td><td>0</td><td>0</td><td>0</td><td>3</td><td>3</td><td>3</td><td>3</td><td>4</td><td>3</td><td>3</td><td>3</td><td>3</td><td>3</td><td>3</td><td>3</td><td>3</td><td>4</td><td>3</td><td>3</td><td>3</td><td>4</td><td>1</td><td>3</td><td>4</td><td>1</td><td>0</td><td>0</td></tr></tbody></table></div>"
      ],
      "text/plain": [
       "shape: (5, 61)\n",
       "┌─────┬─────┬─────────────┬─────────────┬───┬─────────────┬─────────────┬─────────────┬────────────┐\n",
       "│ id  ┆ rn  ┆ pre_since_o ┆ pre_since_c ┆ … ┆ enc_loans_c ┆ enc_loans_a ┆ pclose_flag ┆ fclose_fla │\n",
       "│ --- ┆ --- ┆ pened       ┆ onfirmed    ┆   ┆ redit_type  ┆ ccount_cur  ┆ ---         ┆ g          │\n",
       "│ i64 ┆ i64 ┆ ---         ┆ ---         ┆   ┆ ---         ┆ ---         ┆ i64         ┆ ---        │\n",
       "│     ┆     ┆ i64         ┆ i64         ┆   ┆ i64         ┆ i64         ┆             ┆ i64        │\n",
       "╞═════╪═════╪═════════════╪═════════════╪═══╪═════════════╪═════════════╪═════════════╪════════════╡\n",
       "│ 0   ┆ 1   ┆ 18          ┆ 9           ┆ … ┆ 4           ┆ 1           ┆ 0           ┆ 0          │\n",
       "│ 0   ┆ 2   ┆ 18          ┆ 9           ┆ … ┆ 4           ┆ 1           ┆ 0           ┆ 0          │\n",
       "│ 0   ┆ 3   ┆ 18          ┆ 9           ┆ … ┆ 3           ┆ 1           ┆ 1           ┆ 1          │\n",
       "│ 0   ┆ 4   ┆ 4           ┆ 1           ┆ … ┆ 1           ┆ 1           ┆ 0           ┆ 0          │\n",
       "│ 0   ┆ 5   ┆ 5           ┆ 12          ┆ … ┆ 4           ┆ 1           ┆ 0           ┆ 0          │\n",
       "└─────┴─────┴─────────────┴─────────────┴───┴─────────────┴─────────────┴─────────────┴────────────┘"
      ]
     },
     "execution_count": 11,
     "metadata": {},
     "output_type": "execute_result"
    }
   ],
   "source": [
    "raw_data.head()"
   ]
  },
  {
   "cell_type": "code",
   "execution_count": 13,
   "metadata": {},
   "outputs": [
    {
     "data": {
      "text/html": [
       "<div><style>\n",
       ".dataframe > thead > tr,\n",
       ".dataframe > tbody > tr {\n",
       "  text-align: right;\n",
       "  white-space: pre-wrap;\n",
       "}\n",
       "</style>\n",
       "<small>shape: (5, 61)</small><table border=\"1\" class=\"dataframe\"><thead><tr><th>id</th><th>rn</th><th>pre_since_opened</th><th>pre_since_confirmed</th><th>pre_pterm</th><th>pre_fterm</th><th>pre_till_pclose</th><th>pre_till_fclose</th><th>pre_loans_credit_limit</th><th>pre_loans_next_pay_summ</th><th>pre_loans_outstanding</th><th>pre_loans_total_overdue</th><th>pre_loans_max_overdue_sum</th><th>pre_loans_credit_cost_rate</th><th>pre_loans5</th><th>pre_loans530</th><th>pre_loans3060</th><th>pre_loans6090</th><th>pre_loans90</th><th>is_zero_loans5</th><th>is_zero_loans530</th><th>is_zero_loans3060</th><th>is_zero_loans6090</th><th>is_zero_loans90</th><th>pre_util</th><th>pre_over2limit</th><th>pre_maxover2limit</th><th>is_zero_util</th><th>is_zero_over2limit</th><th>is_zero_maxover2limit</th><th>enc_paym_0</th><th>enc_paym_1</th><th>enc_paym_2</th><th>enc_paym_3</th><th>enc_paym_4</th><th>enc_paym_5</th><th>enc_paym_6</th><th>enc_paym_7</th><th>enc_paym_8</th><th>enc_paym_9</th><th>enc_paym_10</th><th>enc_paym_11</th><th>enc_paym_12</th><th>enc_paym_13</th><th>enc_paym_14</th><th>enc_paym_15</th><th>enc_paym_16</th><th>enc_paym_17</th><th>enc_paym_18</th><th>enc_paym_19</th><th>enc_paym_20</th><th>enc_paym_21</th><th>enc_paym_22</th><th>enc_paym_23</th><th>enc_paym_24</th><th>enc_loans_account_holder_type</th><th>enc_loans_credit_status</th><th>enc_loans_credit_type</th><th>enc_loans_account_cur</th><th>pclose_flag</th><th>fclose_flag</th></tr><tr><td>i64</td><td>i64</td><td>i64</td><td>i64</td><td>i64</td><td>i64</td><td>i64</td><td>i64</td><td>i64</td><td>i64</td><td>i64</td><td>i64</td><td>i64</td><td>i64</td><td>i64</td><td>i64</td><td>i64</td><td>i64</td><td>i64</td><td>i64</td><td>i64</td><td>i64</td><td>i64</td><td>i64</td><td>i64</td><td>i64</td><td>i64</td><td>i64</td><td>i64</td><td>i64</td><td>i64</td><td>i64</td><td>i64</td><td>i64</td><td>i64</td><td>i64</td><td>i64</td><td>i64</td><td>i64</td><td>i64</td><td>i64</td><td>i64</td><td>i64</td><td>i64</td><td>i64</td><td>i64</td><td>i64</td><td>i64</td><td>i64</td><td>i64</td><td>i64</td><td>i64</td><td>i64</td><td>i64</td><td>i64</td><td>i64</td><td>i64</td><td>i64</td><td>i64</td><td>i64</td><td>i64</td></tr></thead><tbody><tr><td>249998</td><td>4</td><td>1</td><td>9</td><td>14</td><td>8</td><td>10</td><td>11</td><td>8</td><td>4</td><td>2</td><td>0</td><td>2</td><td>4</td><td>6</td><td>16</td><td>5</td><td>4</td><td>8</td><td>1</td><td>1</td><td>1</td><td>1</td><td>1</td><td>11</td><td>2</td><td>17</td><td>0</td><td>1</td><td>1</td><td>0</td><td>0</td><td>0</td><td>0</td><td>0</td><td>0</td><td>0</td><td>0</td><td>0</td><td>0</td><td>0</td><td>1</td><td>0</td><td>3</td><td>3</td><td>3</td><td>3</td><td>3</td><td>3</td><td>3</td><td>4</td><td>3</td><td>3</td><td>3</td><td>4</td><td>1</td><td>2</td><td>3</td><td>1</td><td>0</td><td>1</td></tr><tr><td>249998</td><td>5</td><td>7</td><td>9</td><td>4</td><td>8</td><td>1</td><td>11</td><td>19</td><td>1</td><td>4</td><td>0</td><td>2</td><td>7</td><td>6</td><td>16</td><td>5</td><td>4</td><td>8</td><td>1</td><td>1</td><td>1</td><td>1</td><td>1</td><td>7</td><td>2</td><td>17</td><td>0</td><td>1</td><td>1</td><td>0</td><td>0</td><td>0</td><td>0</td><td>0</td><td>3</td><td>3</td><td>3</td><td>3</td><td>3</td><td>3</td><td>4</td><td>3</td><td>3</td><td>3</td><td>3</td><td>3</td><td>3</td><td>3</td><td>3</td><td>4</td><td>3</td><td>3</td><td>3</td><td>4</td><td>1</td><td>2</td><td>4</td><td>1</td><td>1</td><td>1</td></tr><tr><td>249999</td><td>1</td><td>9</td><td>0</td><td>10</td><td>8</td><td>10</td><td>11</td><td>16</td><td>2</td><td>3</td><td>0</td><td>2</td><td>7</td><td>6</td><td>16</td><td>5</td><td>4</td><td>8</td><td>1</td><td>1</td><td>1</td><td>1</td><td>1</td><td>16</td><td>2</td><td>17</td><td>1</td><td>1</td><td>1</td><td>0</td><td>0</td><td>0</td><td>0</td><td>0</td><td>0</td><td>0</td><td>0</td><td>3</td><td>3</td><td>3</td><td>4</td><td>3</td><td>3</td><td>3</td><td>3</td><td>3</td><td>3</td><td>3</td><td>3</td><td>4</td><td>3</td><td>3</td><td>3</td><td>4</td><td>1</td><td>2</td><td>3</td><td>1</td><td>0</td><td>1</td></tr><tr><td>249999</td><td>2</td><td>9</td><td>16</td><td>10</td><td>13</td><td>10</td><td>4</td><td>12</td><td>2</td><td>3</td><td>0</td><td>2</td><td>7</td><td>6</td><td>16</td><td>5</td><td>4</td><td>8</td><td>1</td><td>1</td><td>1</td><td>1</td><td>1</td><td>16</td><td>2</td><td>17</td><td>1</td><td>1</td><td>1</td><td>0</td><td>0</td><td>0</td><td>0</td><td>0</td><td>0</td><td>0</td><td>0</td><td>0</td><td>3</td><td>3</td><td>4</td><td>3</td><td>3</td><td>3</td><td>3</td><td>3</td><td>3</td><td>3</td><td>3</td><td>4</td><td>3</td><td>3</td><td>3</td><td>4</td><td>1</td><td>2</td><td>3</td><td>1</td><td>0</td><td>0</td></tr><tr><td>249999</td><td>3</td><td>9</td><td>9</td><td>6</td><td>1</td><td>0</td><td>4</td><td>16</td><td>2</td><td>4</td><td>0</td><td>2</td><td>2</td><td>6</td><td>16</td><td>5</td><td>4</td><td>8</td><td>1</td><td>1</td><td>1</td><td>1</td><td>1</td><td>5</td><td>2</td><td>17</td><td>0</td><td>1</td><td>1</td><td>0</td><td>0</td><td>0</td><td>0</td><td>0</td><td>0</td><td>0</td><td>0</td><td>0</td><td>3</td><td>3</td><td>4</td><td>3</td><td>3</td><td>3</td><td>3</td><td>3</td><td>3</td><td>3</td><td>3</td><td>4</td><td>3</td><td>3</td><td>3</td><td>4</td><td>1</td><td>2</td><td>3</td><td>1</td><td>0</td><td>0</td></tr></tbody></table></div>"
      ],
      "text/plain": [
       "shape: (5, 61)\n",
       "┌────────┬─────┬─────────────┬─────────────┬───┬────────────┬────────────┬────────────┬────────────┐\n",
       "│ id     ┆ rn  ┆ pre_since_o ┆ pre_since_c ┆ … ┆ enc_loans_ ┆ enc_loans_ ┆ pclose_fla ┆ fclose_fla │\n",
       "│ ---    ┆ --- ┆ pened       ┆ onfirmed    ┆   ┆ credit_typ ┆ account_cu ┆ g          ┆ g          │\n",
       "│ i64    ┆ i64 ┆ ---         ┆ ---         ┆   ┆ e          ┆ r          ┆ ---        ┆ ---        │\n",
       "│        ┆     ┆ i64         ┆ i64         ┆   ┆ ---        ┆ ---        ┆ i64        ┆ i64        │\n",
       "│        ┆     ┆             ┆             ┆   ┆ i64        ┆ i64        ┆            ┆            │\n",
       "╞════════╪═════╪═════════════╪═════════════╪═══╪════════════╪════════════╪════════════╪════════════╡\n",
       "│ 249998 ┆ 4   ┆ 1           ┆ 9           ┆ … ┆ 3          ┆ 1          ┆ 0          ┆ 1          │\n",
       "│ 249998 ┆ 5   ┆ 7           ┆ 9           ┆ … ┆ 4          ┆ 1          ┆ 1          ┆ 1          │\n",
       "│ 249999 ┆ 1   ┆ 9           ┆ 0           ┆ … ┆ 3          ┆ 1          ┆ 0          ┆ 1          │\n",
       "│ 249999 ┆ 2   ┆ 9           ┆ 16          ┆ … ┆ 3          ┆ 1          ┆ 0          ┆ 0          │\n",
       "│ 249999 ┆ 3   ┆ 9           ┆ 9           ┆ … ┆ 3          ┆ 1          ┆ 0          ┆ 0          │\n",
       "└────────┴─────┴─────────────┴─────────────┴───┴────────────┴────────────┴────────────┴────────────┘"
      ]
     },
     "execution_count": 13,
     "metadata": {},
     "output_type": "execute_result"
    }
   ],
   "source": [
    "raw_data.tail()"
   ]
  },
  {
   "cell_type": "code",
   "execution_count": 14,
   "metadata": {},
   "outputs": [
    {
     "data": {
      "text/html": [
       "<div><style>\n",
       ".dataframe > thead > tr,\n",
       ".dataframe > tbody > tr {\n",
       "  text-align: right;\n",
       "  white-space: pre-wrap;\n",
       "}\n",
       "</style>\n",
       "<small>shape: (9, 62)</small><table border=\"1\" class=\"dataframe\"><thead><tr><th>statistic</th><th>id</th><th>rn</th><th>pre_since_opened</th><th>pre_since_confirmed</th><th>pre_pterm</th><th>pre_fterm</th><th>pre_till_pclose</th><th>pre_till_fclose</th><th>pre_loans_credit_limit</th><th>pre_loans_next_pay_summ</th><th>pre_loans_outstanding</th><th>pre_loans_total_overdue</th><th>pre_loans_max_overdue_sum</th><th>pre_loans_credit_cost_rate</th><th>pre_loans5</th><th>pre_loans530</th><th>pre_loans3060</th><th>pre_loans6090</th><th>pre_loans90</th><th>is_zero_loans5</th><th>is_zero_loans530</th><th>is_zero_loans3060</th><th>is_zero_loans6090</th><th>is_zero_loans90</th><th>pre_util</th><th>pre_over2limit</th><th>pre_maxover2limit</th><th>is_zero_util</th><th>is_zero_over2limit</th><th>is_zero_maxover2limit</th><th>enc_paym_0</th><th>enc_paym_1</th><th>enc_paym_2</th><th>enc_paym_3</th><th>enc_paym_4</th><th>enc_paym_5</th><th>enc_paym_6</th><th>enc_paym_7</th><th>enc_paym_8</th><th>enc_paym_9</th><th>enc_paym_10</th><th>enc_paym_11</th><th>enc_paym_12</th><th>enc_paym_13</th><th>enc_paym_14</th><th>enc_paym_15</th><th>enc_paym_16</th><th>enc_paym_17</th><th>enc_paym_18</th><th>enc_paym_19</th><th>enc_paym_20</th><th>enc_paym_21</th><th>enc_paym_22</th><th>enc_paym_23</th><th>enc_paym_24</th><th>enc_loans_account_holder_type</th><th>enc_loans_credit_status</th><th>enc_loans_credit_type</th><th>enc_loans_account_cur</th><th>pclose_flag</th><th>fclose_flag</th></tr><tr><td>str</td><td>f64</td><td>f64</td><td>f64</td><td>f64</td><td>f64</td><td>f64</td><td>f64</td><td>f64</td><td>f64</td><td>f64</td><td>f64</td><td>f64</td><td>f64</td><td>f64</td><td>f64</td><td>f64</td><td>f64</td><td>f64</td><td>f64</td><td>f64</td><td>f64</td><td>f64</td><td>f64</td><td>f64</td><td>f64</td><td>f64</td><td>f64</td><td>f64</td><td>f64</td><td>f64</td><td>f64</td><td>f64</td><td>f64</td><td>f64</td><td>f64</td><td>f64</td><td>f64</td><td>f64</td><td>f64</td><td>f64</td><td>f64</td><td>f64</td><td>f64</td><td>f64</td><td>f64</td><td>f64</td><td>f64</td><td>f64</td><td>f64</td><td>f64</td><td>f64</td><td>f64</td><td>f64</td><td>f64</td><td>f64</td><td>f64</td><td>f64</td><td>f64</td><td>f64</td><td>f64</td><td>f64</td></tr></thead><tbody><tr><td>&quot;count&quot;</td><td>1.974724e6</td><td>1.974724e6</td><td>1.974724e6</td><td>1.974724e6</td><td>1.974724e6</td><td>1.974724e6</td><td>1.974724e6</td><td>1.974724e6</td><td>1.974724e6</td><td>1.974724e6</td><td>1.974724e6</td><td>1.974724e6</td><td>1.974724e6</td><td>1.974724e6</td><td>1.974724e6</td><td>1.974724e6</td><td>1.974724e6</td><td>1.974724e6</td><td>1.974724e6</td><td>1.974724e6</td><td>1.974724e6</td><td>1.974724e6</td><td>1.974724e6</td><td>1.974724e6</td><td>1.974724e6</td><td>1.974724e6</td><td>1.974724e6</td><td>1.974724e6</td><td>1.974724e6</td><td>1.974724e6</td><td>1.974724e6</td><td>1.974724e6</td><td>1.974724e6</td><td>1.974724e6</td><td>1.974724e6</td><td>1.974724e6</td><td>1.974724e6</td><td>1.974724e6</td><td>1.974724e6</td><td>1.974724e6</td><td>1.974724e6</td><td>1.974724e6</td><td>1.974724e6</td><td>1.974724e6</td><td>1.974724e6</td><td>1.974724e6</td><td>1.974724e6</td><td>1.974724e6</td><td>1.974724e6</td><td>1.974724e6</td><td>1.974724e6</td><td>1.974724e6</td><td>1.974724e6</td><td>1.974724e6</td><td>1.974724e6</td><td>1.974724e6</td><td>1.974724e6</td><td>1.974724e6</td><td>1.974724e6</td><td>1.974724e6</td><td>1.974724e6</td></tr><tr><td>&quot;null_count&quot;</td><td>0.0</td><td>0.0</td><td>0.0</td><td>0.0</td><td>0.0</td><td>0.0</td><td>0.0</td><td>0.0</td><td>0.0</td><td>0.0</td><td>0.0</td><td>0.0</td><td>0.0</td><td>0.0</td><td>0.0</td><td>0.0</td><td>0.0</td><td>0.0</td><td>0.0</td><td>0.0</td><td>0.0</td><td>0.0</td><td>0.0</td><td>0.0</td><td>0.0</td><td>0.0</td><td>0.0</td><td>0.0</td><td>0.0</td><td>0.0</td><td>0.0</td><td>0.0</td><td>0.0</td><td>0.0</td><td>0.0</td><td>0.0</td><td>0.0</td><td>0.0</td><td>0.0</td><td>0.0</td><td>0.0</td><td>0.0</td><td>0.0</td><td>0.0</td><td>0.0</td><td>0.0</td><td>0.0</td><td>0.0</td><td>0.0</td><td>0.0</td><td>0.0</td><td>0.0</td><td>0.0</td><td>0.0</td><td>0.0</td><td>0.0</td><td>0.0</td><td>0.0</td><td>0.0</td><td>0.0</td><td>0.0</td></tr><tr><td>&quot;mean&quot;</td><td>125946.473431</td><td>6.537471</td><td>9.271325</td><td>8.330264</td><td>8.299071</td><td>8.309444</td><td>6.991781</td><td>8.337011</td><td>9.740888</td><td>2.399848</td><td>3.012951</td><td>0.0</td><td>2.012115</td><td>4.595422</td><td>5.979092</td><td>15.870375</td><td>5.000825</td><td>3.999941</td><td>8.001086</td><td>0.904919</td><td>0.831691</td><td>0.958742</td><td>0.978611</td><td>0.979307</td><td>13.934713</td><td>2.173915</td><td>15.587733</td><td>0.711307</td><td>0.943326</td><td>0.836109</td><td>0.185721</td><td>0.384327</td><td>0.519536</td><td>0.649384</td><td>0.795605</td><td>0.929301</td><td>1.118293</td><td>1.258795</td><td>1.375658</td><td>1.485436</td><td>1.62849</td><td>2.745407</td><td>1.89864</td><td>1.994735</td><td>2.050834</td><td>2.095171</td><td>2.135815</td><td>2.174022</td><td>2.217775</td><td>2.252719</td><td>3.283859</td><td>2.313242</td><td>2.343014</td><td>2.376717</td><td>3.576724</td><td>1.027562</td><td>2.694898</td><td>3.353936</td><td>1.002386</td><td>0.172138</td><td>0.223934</td></tr><tr><td>&quot;std&quot;</td><td>72269.808269</td><td>5.121167</td><td>5.773757</td><td>4.593511</td><td>5.245598</td><td>4.464844</td><td>5.184165</td><td>4.233992</td><td>5.799625</td><td>1.376391</td><td>0.683844</td><td>0.0</td><td>0.334817</td><td>3.121979</td><td>0.345904</td><td>1.196644</td><td>0.055655</td><td>0.013237</td><td>0.081298</td><td>0.293327</td><td>0.374141</td><td>0.198887</td><td>0.144677</td><td>0.142353</td><td>4.335488</td><td>0.823838</td><td>4.151471</td><td>0.453155</td><td>0.231218</td><td>0.370177</td><td>0.653317</td><td>0.932502</td><td>1.080758</td><td>1.188198</td><td>1.283382</td><td>1.351175</td><td>1.41944</td><td>1.452223</td><td>1.469482</td><td>1.476794</td><td>1.473651</td><td>1.460947</td><td>1.428584</td><td>1.399418</td><td>1.379008</td><td>1.361148</td><td>1.343358</td><td>1.325238</td><td>1.302779</td><td>1.283559</td><td>1.26559</td><td>1.247674</td><td>1.228473</td><td>1.205555</td><td>1.035586</td><td>0.276702</td><td>0.489136</td><td>1.057304</td><td>0.059093</td><td>0.377501</td><td>0.416878</td></tr><tr><td>&quot;min&quot;</td><td>0.0</td><td>1.0</td><td>0.0</td><td>0.0</td><td>0.0</td><td>0.0</td><td>0.0</td><td>0.0</td><td>0.0</td><td>0.0</td><td>1.0</td><td>0.0</td><td>1.0</td><td>0.0</td><td>0.0</td><td>0.0</td><td>2.0</td><td>1.0</td><td>8.0</td><td>0.0</td><td>0.0</td><td>0.0</td><td>0.0</td><td>0.0</td><td>0.0</td><td>0.0</td><td>0.0</td><td>0.0</td><td>0.0</td><td>0.0</td><td>0.0</td><td>0.0</td><td>0.0</td><td>0.0</td><td>0.0</td><td>0.0</td><td>0.0</td><td>0.0</td><td>0.0</td><td>0.0</td><td>0.0</td><td>1.0</td><td>0.0</td><td>0.0</td><td>0.0</td><td>0.0</td><td>0.0</td><td>0.0</td><td>0.0</td><td>0.0</td><td>1.0</td><td>0.0</td><td>0.0</td><td>0.0</td><td>1.0</td><td>0.0</td><td>0.0</td><td>0.0</td><td>0.0</td><td>0.0</td><td>0.0</td></tr><tr><td>&quot;25%&quot;</td><td>63441.0</td><td>3.0</td><td>4.0</td><td>5.0</td><td>4.0</td><td>6.0</td><td>1.0</td><td>5.0</td><td>5.0</td><td>2.0</td><td>3.0</td><td>0.0</td><td>2.0</td><td>2.0</td><td>6.0</td><td>16.0</td><td>5.0</td><td>4.0</td><td>8.0</td><td>1.0</td><td>1.0</td><td>1.0</td><td>1.0</td><td>1.0</td><td>16.0</td><td>2.0</td><td>17.0</td><td>0.0</td><td>1.0</td><td>1.0</td><td>0.0</td><td>0.0</td><td>0.0</td><td>0.0</td><td>0.0</td><td>0.0</td><td>0.0</td><td>0.0</td><td>0.0</td><td>0.0</td><td>0.0</td><td>1.0</td><td>0.0</td><td>0.0</td><td>0.0</td><td>0.0</td><td>0.0</td><td>0.0</td><td>1.0</td><td>1.0</td><td>4.0</td><td>3.0</td><td>3.0</td><td>3.0</td><td>4.0</td><td>1.0</td><td>2.0</td><td>3.0</td><td>1.0</td><td>0.0</td><td>0.0</td></tr><tr><td>&quot;50%&quot;</td><td>126375.0</td><td>5.0</td><td>9.0</td><td>9.0</td><td>8.0</td><td>8.0</td><td>6.0</td><td>10.0</td><td>10.0</td><td>2.0</td><td>3.0</td><td>0.0</td><td>2.0</td><td>4.0</td><td>6.0</td><td>16.0</td><td>5.0</td><td>4.0</td><td>8.0</td><td>1.0</td><td>1.0</td><td>1.0</td><td>1.0</td><td>1.0</td><td>16.0</td><td>2.0</td><td>17.0</td><td>1.0</td><td>1.0</td><td>1.0</td><td>0.0</td><td>0.0</td><td>0.0</td><td>0.0</td><td>0.0</td><td>0.0</td><td>0.0</td><td>0.0</td><td>0.0</td><td>1.0</td><td>3.0</td><td>4.0</td><td>3.0</td><td>3.0</td><td>3.0</td><td>3.0</td><td>3.0</td><td>3.0</td><td>3.0</td><td>3.0</td><td>4.0</td><td>3.0</td><td>3.0</td><td>3.0</td><td>4.0</td><td>1.0</td><td>3.0</td><td>4.0</td><td>1.0</td><td>0.0</td><td>0.0</td></tr><tr><td>&quot;75%&quot;</td><td>188997.0</td><td>9.0</td><td>14.0</td><td>11.0</td><td>13.0</td><td>12.0</td><td>12.0</td><td>11.0</td><td>15.0</td><td>2.0</td><td>3.0</td><td>0.0</td><td>2.0</td><td>6.0</td><td>6.0</td><td>16.0</td><td>5.0</td><td>4.0</td><td>8.0</td><td>1.0</td><td>1.0</td><td>1.0</td><td>1.0</td><td>1.0</td><td>16.0</td><td>2.0</td><td>17.0</td><td>1.0</td><td>1.0</td><td>1.0</td><td>0.0</td><td>0.0</td><td>0.0</td><td>1.0</td><td>1.0</td><td>3.0</td><td>3.0</td><td>3.0</td><td>3.0</td><td>3.0</td><td>3.0</td><td>4.0</td><td>3.0</td><td>3.0</td><td>3.0</td><td>3.0</td><td>3.0</td><td>3.0</td><td>3.0</td><td>3.0</td><td>4.0</td><td>3.0</td><td>3.0</td><td>3.0</td><td>4.0</td><td>1.0</td><td>3.0</td><td>4.0</td><td>1.0</td><td>0.0</td><td>0.0</td></tr><tr><td>&quot;max&quot;</td><td>249999.0</td><td>51.0</td><td>19.0</td><td>17.0</td><td>17.0</td><td>16.0</td><td>16.0</td><td>15.0</td><td>19.0</td><td>6.0</td><td>5.0</td><td>0.0</td><td>3.0</td><td>13.0</td><td>16.0</td><td>18.0</td><td>9.0</td><td>4.0</td><td>19.0</td><td>1.0</td><td>1.0</td><td>1.0</td><td>1.0</td><td>1.0</td><td>19.0</td><td>19.0</td><td>19.0</td><td>1.0</td><td>1.0</td><td>1.0</td><td>3.0</td><td>3.0</td><td>3.0</td><td>3.0</td><td>3.0</td><td>3.0</td><td>3.0</td><td>3.0</td><td>3.0</td><td>3.0</td><td>3.0</td><td>4.0</td><td>3.0</td><td>3.0</td><td>3.0</td><td>3.0</td><td>3.0</td><td>3.0</td><td>3.0</td><td>3.0</td><td>4.0</td><td>3.0</td><td>3.0</td><td>3.0</td><td>4.0</td><td>6.0</td><td>6.0</td><td>5.0</td><td>3.0</td><td>1.0</td><td>1.0</td></tr></tbody></table></div>"
      ],
      "text/plain": [
       "shape: (9, 62)\n",
       "┌───────────┬───────────┬───────────┬───────────┬───┬───────────┬───────────┬───────────┬──────────┐\n",
       "│ statistic ┆ id        ┆ rn        ┆ pre_since ┆ … ┆ enc_loans ┆ enc_loans ┆ pclose_fl ┆ fclose_f │\n",
       "│ ---       ┆ ---       ┆ ---       ┆ _opened   ┆   ┆ _credit_t ┆ _account_ ┆ ag        ┆ lag      │\n",
       "│ str       ┆ f64       ┆ f64       ┆ ---       ┆   ┆ ype       ┆ cur       ┆ ---       ┆ ---      │\n",
       "│           ┆           ┆           ┆ f64       ┆   ┆ ---       ┆ ---       ┆ f64       ┆ f64      │\n",
       "│           ┆           ┆           ┆           ┆   ┆ f64       ┆ f64       ┆           ┆          │\n",
       "╞═══════════╪═══════════╪═══════════╪═══════════╪═══╪═══════════╪═══════════╪═══════════╪══════════╡\n",
       "│ count     ┆ 1.974724e ┆ 1.974724e ┆ 1.974724e ┆ … ┆ 1.974724e ┆ 1.974724e ┆ 1.974724e ┆ 1.974724 │\n",
       "│           ┆ 6         ┆ 6         ┆ 6         ┆   ┆ 6         ┆ 6         ┆ 6         ┆ e6       │\n",
       "│ null_coun ┆ 0.0       ┆ 0.0       ┆ 0.0       ┆ … ┆ 0.0       ┆ 0.0       ┆ 0.0       ┆ 0.0      │\n",
       "│ t         ┆           ┆           ┆           ┆   ┆           ┆           ┆           ┆          │\n",
       "│ mean      ┆ 125946.47 ┆ 6.537471  ┆ 9.271325  ┆ … ┆ 3.353936  ┆ 1.002386  ┆ 0.172138  ┆ 0.223934 │\n",
       "│           ┆ 3431      ┆           ┆           ┆   ┆           ┆           ┆           ┆          │\n",
       "│ std       ┆ 72269.808 ┆ 5.121167  ┆ 5.773757  ┆ … ┆ 1.057304  ┆ 0.059093  ┆ 0.377501  ┆ 0.416878 │\n",
       "│           ┆ 269       ┆           ┆           ┆   ┆           ┆           ┆           ┆          │\n",
       "│ min       ┆ 0.0       ┆ 1.0       ┆ 0.0       ┆ … ┆ 0.0       ┆ 0.0       ┆ 0.0       ┆ 0.0      │\n",
       "│ 25%       ┆ 63441.0   ┆ 3.0       ┆ 4.0       ┆ … ┆ 3.0       ┆ 1.0       ┆ 0.0       ┆ 0.0      │\n",
       "│ 50%       ┆ 126375.0  ┆ 5.0       ┆ 9.0       ┆ … ┆ 4.0       ┆ 1.0       ┆ 0.0       ┆ 0.0      │\n",
       "│ 75%       ┆ 188997.0  ┆ 9.0       ┆ 14.0      ┆ … ┆ 4.0       ┆ 1.0       ┆ 0.0       ┆ 0.0      │\n",
       "│ max       ┆ 249999.0  ┆ 51.0      ┆ 19.0      ┆ … ┆ 5.0       ┆ 3.0       ┆ 1.0       ┆ 1.0      │\n",
       "└───────────┴───────────┴───────────┴───────────┴───┴───────────┴───────────┴───────────┴──────────┘"
      ]
     },
     "execution_count": 14,
     "metadata": {},
     "output_type": "execute_result"
    }
   ],
   "source": [
    "raw_data.describe()"
   ]
  },
  {
   "cell_type": "code",
   "execution_count": 17,
   "metadata": {},
   "outputs": [],
   "source": [
    "raw_data2 = pl.read_csv(source=\"../data/raw/train_data_1.csv\")"
   ]
  },
  {
   "cell_type": "code",
   "execution_count": 18,
   "metadata": {},
   "outputs": [
    {
     "data": {
      "text/html": [
       "<div><style>\n",
       ".dataframe > thead > tr,\n",
       ".dataframe > tbody > tr {\n",
       "  text-align: right;\n",
       "  white-space: pre-wrap;\n",
       "}\n",
       "</style>\n",
       "<small>shape: (5, 61)</small><table border=\"1\" class=\"dataframe\"><thead><tr><th>id</th><th>rn</th><th>pre_since_opened</th><th>pre_since_confirmed</th><th>pre_pterm</th><th>pre_fterm</th><th>pre_till_pclose</th><th>pre_till_fclose</th><th>pre_loans_credit_limit</th><th>pre_loans_next_pay_summ</th><th>pre_loans_outstanding</th><th>pre_loans_total_overdue</th><th>pre_loans_max_overdue_sum</th><th>pre_loans_credit_cost_rate</th><th>pre_loans5</th><th>pre_loans530</th><th>pre_loans3060</th><th>pre_loans6090</th><th>pre_loans90</th><th>is_zero_loans5</th><th>is_zero_loans530</th><th>is_zero_loans3060</th><th>is_zero_loans6090</th><th>is_zero_loans90</th><th>pre_util</th><th>pre_over2limit</th><th>pre_maxover2limit</th><th>is_zero_util</th><th>is_zero_over2limit</th><th>is_zero_maxover2limit</th><th>enc_paym_0</th><th>enc_paym_1</th><th>enc_paym_2</th><th>enc_paym_3</th><th>enc_paym_4</th><th>enc_paym_5</th><th>enc_paym_6</th><th>enc_paym_7</th><th>enc_paym_8</th><th>enc_paym_9</th><th>enc_paym_10</th><th>enc_paym_11</th><th>enc_paym_12</th><th>enc_paym_13</th><th>enc_paym_14</th><th>enc_paym_15</th><th>enc_paym_16</th><th>enc_paym_17</th><th>enc_paym_18</th><th>enc_paym_19</th><th>enc_paym_20</th><th>enc_paym_21</th><th>enc_paym_22</th><th>enc_paym_23</th><th>enc_paym_24</th><th>enc_loans_account_holder_type</th><th>enc_loans_credit_status</th><th>enc_loans_credit_type</th><th>enc_loans_account_cur</th><th>pclose_flag</th><th>fclose_flag</th></tr><tr><td>i64</td><td>i64</td><td>i64</td><td>i64</td><td>i64</td><td>i64</td><td>i64</td><td>i64</td><td>i64</td><td>i64</td><td>i64</td><td>i64</td><td>i64</td><td>i64</td><td>i64</td><td>i64</td><td>i64</td><td>i64</td><td>i64</td><td>i64</td><td>i64</td><td>i64</td><td>i64</td><td>i64</td><td>i64</td><td>i64</td><td>i64</td><td>i64</td><td>i64</td><td>i64</td><td>i64</td><td>i64</td><td>i64</td><td>i64</td><td>i64</td><td>i64</td><td>i64</td><td>i64</td><td>i64</td><td>i64</td><td>i64</td><td>i64</td><td>i64</td><td>i64</td><td>i64</td><td>i64</td><td>i64</td><td>i64</td><td>i64</td><td>i64</td><td>i64</td><td>i64</td><td>i64</td><td>i64</td><td>i64</td><td>i64</td><td>i64</td><td>i64</td><td>i64</td><td>i64</td><td>i64</td></tr></thead><tbody><tr><td>250000</td><td>1</td><td>8</td><td>7</td><td>7</td><td>2</td><td>4</td><td>9</td><td>5</td><td>2</td><td>3</td><td>0</td><td>3</td><td>4</td><td>6</td><td>16</td><td>5</td><td>4</td><td>8</td><td>1</td><td>0</td><td>1</td><td>0</td><td>0</td><td>16</td><td>2</td><td>8</td><td>1</td><td>1</td><td>0</td><td>3</td><td>3</td><td>3</td><td>2</td><td>1</td><td>1</td><td>0</td><td>0</td><td>0</td><td>3</td><td>3</td><td>4</td><td>3</td><td>3</td><td>3</td><td>3</td><td>3</td><td>3</td><td>3</td><td>3</td><td>4</td><td>3</td><td>3</td><td>3</td><td>4</td><td>1</td><td>3</td><td>4</td><td>1</td><td>0</td><td>0</td></tr><tr><td>250000</td><td>2</td><td>14</td><td>8</td><td>12</td><td>10</td><td>6</td><td>3</td><td>12</td><td>6</td><td>3</td><td>0</td><td>2</td><td>4</td><td>6</td><td>16</td><td>5</td><td>4</td><td>8</td><td>1</td><td>1</td><td>0</td><td>0</td><td>1</td><td>16</td><td>2</td><td>17</td><td>1</td><td>1</td><td>1</td><td>3</td><td>2</td><td>0</td><td>0</td><td>0</td><td>0</td><td>0</td><td>0</td><td>0</td><td>0</td><td>0</td><td>1</td><td>0</td><td>0</td><td>0</td><td>0</td><td>0</td><td>0</td><td>0</td><td>3</td><td>4</td><td>3</td><td>3</td><td>3</td><td>4</td><td>1</td><td>3</td><td>4</td><td>1</td><td>0</td><td>0</td></tr><tr><td>250000</td><td>3</td><td>10</td><td>4</td><td>8</td><td>11</td><td>6</td><td>13</td><td>5</td><td>2</td><td>3</td><td>0</td><td>2</td><td>4</td><td>6</td><td>16</td><td>5</td><td>4</td><td>8</td><td>1</td><td>0</td><td>0</td><td>1</td><td>1</td><td>16</td><td>2</td><td>17</td><td>1</td><td>1</td><td>1</td><td>0</td><td>2</td><td>1</td><td>0</td><td>0</td><td>0</td><td>3</td><td>3</td><td>3</td><td>3</td><td>3</td><td>4</td><td>3</td><td>3</td><td>3</td><td>3</td><td>3</td><td>3</td><td>3</td><td>3</td><td>4</td><td>3</td><td>3</td><td>3</td><td>4</td><td>1</td><td>3</td><td>4</td><td>1</td><td>0</td><td>0</td></tr><tr><td>250000</td><td>4</td><td>13</td><td>12</td><td>8</td><td>6</td><td>13</td><td>5</td><td>12</td><td>2</td><td>3</td><td>0</td><td>2</td><td>10</td><td>6</td><td>16</td><td>5</td><td>4</td><td>8</td><td>1</td><td>0</td><td>0</td><td>0</td><td>0</td><td>16</td><td>2</td><td>17</td><td>1</td><td>1</td><td>1</td><td>0</td><td>3</td><td>3</td><td>3</td><td>3</td><td>3</td><td>3</td><td>3</td><td>3</td><td>3</td><td>3</td><td>4</td><td>3</td><td>3</td><td>3</td><td>3</td><td>3</td><td>3</td><td>3</td><td>3</td><td>4</td><td>3</td><td>3</td><td>3</td><td>4</td><td>1</td><td>3</td><td>4</td><td>1</td><td>0</td><td>0</td></tr><tr><td>250000</td><td>5</td><td>6</td><td>12</td><td>4</td><td>14</td><td>1</td><td>7</td><td>4</td><td>2</td><td>3</td><td>0</td><td>2</td><td>4</td><td>6</td><td>16</td><td>5</td><td>4</td><td>8</td><td>1</td><td>1</td><td>1</td><td>1</td><td>0</td><td>9</td><td>5</td><td>4</td><td>0</td><td>0</td><td>0</td><td>0</td><td>3</td><td>3</td><td>3</td><td>3</td><td>3</td><td>3</td><td>3</td><td>3</td><td>3</td><td>3</td><td>4</td><td>3</td><td>3</td><td>3</td><td>3</td><td>3</td><td>3</td><td>3</td><td>3</td><td>4</td><td>3</td><td>3</td><td>3</td><td>4</td><td>1</td><td>3</td><td>1</td><td>1</td><td>1</td><td>0</td></tr></tbody></table></div>"
      ],
      "text/plain": [
       "shape: (5, 61)\n",
       "┌────────┬─────┬─────────────┬─────────────┬───┬────────────┬────────────┬────────────┬────────────┐\n",
       "│ id     ┆ rn  ┆ pre_since_o ┆ pre_since_c ┆ … ┆ enc_loans_ ┆ enc_loans_ ┆ pclose_fla ┆ fclose_fla │\n",
       "│ ---    ┆ --- ┆ pened       ┆ onfirmed    ┆   ┆ credit_typ ┆ account_cu ┆ g          ┆ g          │\n",
       "│ i64    ┆ i64 ┆ ---         ┆ ---         ┆   ┆ e          ┆ r          ┆ ---        ┆ ---        │\n",
       "│        ┆     ┆ i64         ┆ i64         ┆   ┆ ---        ┆ ---        ┆ i64        ┆ i64        │\n",
       "│        ┆     ┆             ┆             ┆   ┆ i64        ┆ i64        ┆            ┆            │\n",
       "╞════════╪═════╪═════════════╪═════════════╪═══╪════════════╪════════════╪════════════╪════════════╡\n",
       "│ 250000 ┆ 1   ┆ 8           ┆ 7           ┆ … ┆ 4          ┆ 1          ┆ 0          ┆ 0          │\n",
       "│ 250000 ┆ 2   ┆ 14          ┆ 8           ┆ … ┆ 4          ┆ 1          ┆ 0          ┆ 0          │\n",
       "│ 250000 ┆ 3   ┆ 10          ┆ 4           ┆ … ┆ 4          ┆ 1          ┆ 0          ┆ 0          │\n",
       "│ 250000 ┆ 4   ┆ 13          ┆ 12          ┆ … ┆ 4          ┆ 1          ┆ 0          ┆ 0          │\n",
       "│ 250000 ┆ 5   ┆ 6           ┆ 12          ┆ … ┆ 1          ┆ 1          ┆ 1          ┆ 0          │\n",
       "└────────┴─────┴─────────────┴─────────────┴───┴────────────┴────────────┴────────────┴────────────┘"
      ]
     },
     "execution_count": 18,
     "metadata": {},
     "output_type": "execute_result"
    }
   ],
   "source": [
    "raw_data2.head()"
   ]
  },
  {
   "cell_type": "code",
   "execution_count": 20,
   "metadata": {},
   "outputs": [],
   "source": [
    "indep_variables = pl.read_csv(source=\"../data/raw/train_target.csv\")"
   ]
  },
  {
   "cell_type": "code",
   "execution_count": 21,
   "metadata": {},
   "outputs": [
    {
     "data": {
      "text/html": [
       "<div><style>\n",
       ".dataframe > thead > tr,\n",
       ".dataframe > tbody > tr {\n",
       "  text-align: right;\n",
       "  white-space: pre-wrap;\n",
       "}\n",
       "</style>\n",
       "<small>shape: (5, 2)</small><table border=\"1\" class=\"dataframe\"><thead><tr><th>id</th><th>flag</th></tr><tr><td>i64</td><td>i64</td></tr></thead><tbody><tr><td>0</td><td>0</td></tr><tr><td>1</td><td>0</td></tr><tr><td>2</td><td>0</td></tr><tr><td>3</td><td>0</td></tr><tr><td>4</td><td>0</td></tr></tbody></table></div>"
      ],
      "text/plain": [
       "shape: (5, 2)\n",
       "┌─────┬──────┐\n",
       "│ id  ┆ flag │\n",
       "│ --- ┆ ---  │\n",
       "│ i64 ┆ i64  │\n",
       "╞═════╪══════╡\n",
       "│ 0   ┆ 0    │\n",
       "│ 1   ┆ 0    │\n",
       "│ 2   ┆ 0    │\n",
       "│ 3   ┆ 0    │\n",
       "│ 4   ┆ 0    │\n",
       "└─────┴──────┘"
      ]
     },
     "execution_count": 21,
     "metadata": {},
     "output_type": "execute_result"
    }
   ],
   "source": [
    "indep_variables.head()"
   ]
  },
  {
   "cell_type": "code",
   "execution_count": 22,
   "metadata": {},
   "outputs": [],
   "source": [
    "joined_df = indep_variables.join(raw_data, on=\"id\", how=\"left\")"
   ]
  },
  {
   "cell_type": "code",
   "execution_count": 23,
   "metadata": {},
   "outputs": [
    {
     "data": {
      "text/html": [
       "<div><style>\n",
       ".dataframe > thead > tr,\n",
       ".dataframe > tbody > tr {\n",
       "  text-align: right;\n",
       "  white-space: pre-wrap;\n",
       "}\n",
       "</style>\n",
       "<small>shape: (5, 62)</small><table border=\"1\" class=\"dataframe\"><thead><tr><th>id</th><th>flag</th><th>rn</th><th>pre_since_opened</th><th>pre_since_confirmed</th><th>pre_pterm</th><th>pre_fterm</th><th>pre_till_pclose</th><th>pre_till_fclose</th><th>pre_loans_credit_limit</th><th>pre_loans_next_pay_summ</th><th>pre_loans_outstanding</th><th>pre_loans_total_overdue</th><th>pre_loans_max_overdue_sum</th><th>pre_loans_credit_cost_rate</th><th>pre_loans5</th><th>pre_loans530</th><th>pre_loans3060</th><th>pre_loans6090</th><th>pre_loans90</th><th>is_zero_loans5</th><th>is_zero_loans530</th><th>is_zero_loans3060</th><th>is_zero_loans6090</th><th>is_zero_loans90</th><th>pre_util</th><th>pre_over2limit</th><th>pre_maxover2limit</th><th>is_zero_util</th><th>is_zero_over2limit</th><th>is_zero_maxover2limit</th><th>enc_paym_0</th><th>enc_paym_1</th><th>enc_paym_2</th><th>enc_paym_3</th><th>enc_paym_4</th><th>enc_paym_5</th><th>enc_paym_6</th><th>enc_paym_7</th><th>enc_paym_8</th><th>enc_paym_9</th><th>enc_paym_10</th><th>enc_paym_11</th><th>enc_paym_12</th><th>enc_paym_13</th><th>enc_paym_14</th><th>enc_paym_15</th><th>enc_paym_16</th><th>enc_paym_17</th><th>enc_paym_18</th><th>enc_paym_19</th><th>enc_paym_20</th><th>enc_paym_21</th><th>enc_paym_22</th><th>enc_paym_23</th><th>enc_paym_24</th><th>enc_loans_account_holder_type</th><th>enc_loans_credit_status</th><th>enc_loans_credit_type</th><th>enc_loans_account_cur</th><th>pclose_flag</th><th>fclose_flag</th></tr><tr><td>i64</td><td>i64</td><td>i64</td><td>i64</td><td>i64</td><td>i64</td><td>i64</td><td>i64</td><td>i64</td><td>i64</td><td>i64</td><td>i64</td><td>i64</td><td>i64</td><td>i64</td><td>i64</td><td>i64</td><td>i64</td><td>i64</td><td>i64</td><td>i64</td><td>i64</td><td>i64</td><td>i64</td><td>i64</td><td>i64</td><td>i64</td><td>i64</td><td>i64</td><td>i64</td><td>i64</td><td>i64</td><td>i64</td><td>i64</td><td>i64</td><td>i64</td><td>i64</td><td>i64</td><td>i64</td><td>i64</td><td>i64</td><td>i64</td><td>i64</td><td>i64</td><td>i64</td><td>i64</td><td>i64</td><td>i64</td><td>i64</td><td>i64</td><td>i64</td><td>i64</td><td>i64</td><td>i64</td><td>i64</td><td>i64</td><td>i64</td><td>i64</td><td>i64</td><td>i64</td><td>i64</td><td>i64</td></tr></thead><tbody><tr><td>0</td><td>0</td><td>1</td><td>18</td><td>9</td><td>2</td><td>3</td><td>16</td><td>10</td><td>11</td><td>3</td><td>3</td><td>0</td><td>2</td><td>11</td><td>6</td><td>16</td><td>5</td><td>4</td><td>8</td><td>1</td><td>1</td><td>1</td><td>1</td><td>1</td><td>16</td><td>2</td><td>17</td><td>1</td><td>1</td><td>1</td><td>0</td><td>0</td><td>3</td><td>3</td><td>3</td><td>3</td><td>3</td><td>3</td><td>3</td><td>3</td><td>3</td><td>4</td><td>3</td><td>3</td><td>3</td><td>3</td><td>3</td><td>3</td><td>3</td><td>3</td><td>4</td><td>3</td><td>3</td><td>3</td><td>4</td><td>1</td><td>3</td><td>4</td><td>1</td><td>0</td><td>0</td></tr><tr><td>0</td><td>0</td><td>2</td><td>18</td><td>9</td><td>14</td><td>14</td><td>12</td><td>12</td><td>0</td><td>3</td><td>3</td><td>0</td><td>2</td><td>11</td><td>6</td><td>16</td><td>5</td><td>4</td><td>8</td><td>1</td><td>1</td><td>1</td><td>1</td><td>1</td><td>16</td><td>2</td><td>17</td><td>1</td><td>1</td><td>1</td><td>0</td><td>0</td><td>0</td><td>0</td><td>0</td><td>0</td><td>0</td><td>0</td><td>0</td><td>0</td><td>0</td><td>1</td><td>0</td><td>0</td><td>0</td><td>0</td><td>0</td><td>0</td><td>0</td><td>0</td><td>1</td><td>0</td><td>0</td><td>0</td><td>4</td><td>1</td><td>3</td><td>4</td><td>1</td><td>0</td><td>0</td></tr><tr><td>0</td><td>0</td><td>3</td><td>18</td><td>9</td><td>4</td><td>8</td><td>1</td><td>11</td><td>11</td><td>0</td><td>5</td><td>0</td><td>2</td><td>8</td><td>6</td><td>16</td><td>5</td><td>4</td><td>8</td><td>1</td><td>1</td><td>1</td><td>1</td><td>1</td><td>15</td><td>2</td><td>17</td><td>0</td><td>1</td><td>1</td><td>0</td><td>0</td><td>0</td><td>0</td><td>0</td><td>0</td><td>0</td><td>0</td><td>0</td><td>0</td><td>0</td><td>1</td><td>0</td><td>0</td><td>0</td><td>0</td><td>0</td><td>0</td><td>0</td><td>0</td><td>1</td><td>0</td><td>0</td><td>0</td><td>4</td><td>1</td><td>2</td><td>3</td><td>1</td><td>1</td><td>1</td></tr><tr><td>0</td><td>0</td><td>4</td><td>4</td><td>1</td><td>9</td><td>12</td><td>16</td><td>7</td><td>12</td><td>2</td><td>3</td><td>0</td><td>2</td><td>4</td><td>6</td><td>16</td><td>5</td><td>4</td><td>8</td><td>0</td><td>1</td><td>1</td><td>1</td><td>1</td><td>16</td><td>2</td><td>17</td><td>1</td><td>1</td><td>1</td><td>1</td><td>0</td><td>0</td><td>0</td><td>0</td><td>0</td><td>0</td><td>0</td><td>0</td><td>0</td><td>0</td><td>1</td><td>3</td><td>3</td><td>3</td><td>3</td><td>3</td><td>3</td><td>3</td><td>3</td><td>4</td><td>3</td><td>3</td><td>3</td><td>4</td><td>1</td><td>3</td><td>1</td><td>1</td><td>0</td><td>0</td></tr><tr><td>0</td><td>0</td><td>5</td><td>5</td><td>12</td><td>15</td><td>2</td><td>11</td><td>12</td><td>10</td><td>2</td><td>3</td><td>0</td><td>2</td><td>4</td><td>6</td><td>16</td><td>5</td><td>4</td><td>8</td><td>1</td><td>1</td><td>1</td><td>1</td><td>1</td><td>16</td><td>2</td><td>17</td><td>1</td><td>1</td><td>1</td><td>0</td><td>0</td><td>0</td><td>0</td><td>0</td><td>0</td><td>0</td><td>3</td><td>3</td><td>3</td><td>3</td><td>4</td><td>3</td><td>3</td><td>3</td><td>3</td><td>3</td><td>3</td><td>3</td><td>3</td><td>4</td><td>3</td><td>3</td><td>3</td><td>4</td><td>1</td><td>3</td><td>4</td><td>1</td><td>0</td><td>0</td></tr></tbody></table></div>"
      ],
      "text/plain": [
       "shape: (5, 62)\n",
       "┌─────┬──────┬─────┬───────────────┬───┬───────────────┬───────────────┬─────────────┬─────────────┐\n",
       "│ id  ┆ flag ┆ rn  ┆ pre_since_ope ┆ … ┆ enc_loans_cre ┆ enc_loans_acc ┆ pclose_flag ┆ fclose_flag │\n",
       "│ --- ┆ ---  ┆ --- ┆ ned           ┆   ┆ dit_type      ┆ ount_cur      ┆ ---         ┆ ---         │\n",
       "│ i64 ┆ i64  ┆ i64 ┆ ---           ┆   ┆ ---           ┆ ---           ┆ i64         ┆ i64         │\n",
       "│     ┆      ┆     ┆ i64           ┆   ┆ i64           ┆ i64           ┆             ┆             │\n",
       "╞═════╪══════╪═════╪═══════════════╪═══╪═══════════════╪═══════════════╪═════════════╪═════════════╡\n",
       "│ 0   ┆ 0    ┆ 1   ┆ 18            ┆ … ┆ 4             ┆ 1             ┆ 0           ┆ 0           │\n",
       "│ 0   ┆ 0    ┆ 2   ┆ 18            ┆ … ┆ 4             ┆ 1             ┆ 0           ┆ 0           │\n",
       "│ 0   ┆ 0    ┆ 3   ┆ 18            ┆ … ┆ 3             ┆ 1             ┆ 1           ┆ 1           │\n",
       "│ 0   ┆ 0    ┆ 4   ┆ 4             ┆ … ┆ 1             ┆ 1             ┆ 0           ┆ 0           │\n",
       "│ 0   ┆ 0    ┆ 5   ┆ 5             ┆ … ┆ 4             ┆ 1             ┆ 0           ┆ 0           │\n",
       "└─────┴──────┴─────┴───────────────┴───┴───────────────┴───────────────┴─────────────┴─────────────┘"
      ]
     },
     "execution_count": 23,
     "metadata": {},
     "output_type": "execute_result"
    }
   ],
   "source": [
    "joined_df.head()"
   ]
  },
  {
   "cell_type": "code",
   "execution_count": 24,
   "metadata": {},
   "outputs": [
    {
     "data": {
      "text/html": [
       "<div><style>\n",
       ".dataframe > thead > tr,\n",
       ".dataframe > tbody > tr {\n",
       "  text-align: right;\n",
       "  white-space: pre-wrap;\n",
       "}\n",
       "</style>\n",
       "<small>shape: (250_000, 62)</small><table border=\"1\" class=\"dataframe\"><thead><tr><th>id</th><th>flag</th><th>rn</th><th>pre_since_opened</th><th>pre_since_confirmed</th><th>pre_pterm</th><th>pre_fterm</th><th>pre_till_pclose</th><th>pre_till_fclose</th><th>pre_loans_credit_limit</th><th>pre_loans_next_pay_summ</th><th>pre_loans_outstanding</th><th>pre_loans_total_overdue</th><th>pre_loans_max_overdue_sum</th><th>pre_loans_credit_cost_rate</th><th>pre_loans5</th><th>pre_loans530</th><th>pre_loans3060</th><th>pre_loans6090</th><th>pre_loans90</th><th>is_zero_loans5</th><th>is_zero_loans530</th><th>is_zero_loans3060</th><th>is_zero_loans6090</th><th>is_zero_loans90</th><th>pre_util</th><th>pre_over2limit</th><th>pre_maxover2limit</th><th>is_zero_util</th><th>is_zero_over2limit</th><th>is_zero_maxover2limit</th><th>enc_paym_0</th><th>enc_paym_1</th><th>enc_paym_2</th><th>enc_paym_3</th><th>enc_paym_4</th><th>enc_paym_5</th><th>enc_paym_6</th><th>enc_paym_7</th><th>enc_paym_8</th><th>enc_paym_9</th><th>enc_paym_10</th><th>enc_paym_11</th><th>enc_paym_12</th><th>enc_paym_13</th><th>enc_paym_14</th><th>enc_paym_15</th><th>enc_paym_16</th><th>enc_paym_17</th><th>enc_paym_18</th><th>enc_paym_19</th><th>enc_paym_20</th><th>enc_paym_21</th><th>enc_paym_22</th><th>enc_paym_23</th><th>enc_paym_24</th><th>enc_loans_account_holder_type</th><th>enc_loans_credit_status</th><th>enc_loans_credit_type</th><th>enc_loans_account_cur</th><th>pclose_flag</th><th>fclose_flag</th></tr><tr><td>i64</td><td>i64</td><td>i64</td><td>i64</td><td>i64</td><td>i64</td><td>i64</td><td>i64</td><td>i64</td><td>i64</td><td>i64</td><td>i64</td><td>i64</td><td>i64</td><td>i64</td><td>i64</td><td>i64</td><td>i64</td><td>i64</td><td>i64</td><td>i64</td><td>i64</td><td>i64</td><td>i64</td><td>i64</td><td>i64</td><td>i64</td><td>i64</td><td>i64</td><td>i64</td><td>i64</td><td>i64</td><td>i64</td><td>i64</td><td>i64</td><td>i64</td><td>i64</td><td>i64</td><td>i64</td><td>i64</td><td>i64</td><td>i64</td><td>i64</td><td>i64</td><td>i64</td><td>i64</td><td>i64</td><td>i64</td><td>i64</td><td>i64</td><td>i64</td><td>i64</td><td>i64</td><td>i64</td><td>i64</td><td>i64</td><td>i64</td><td>i64</td><td>i64</td><td>i64</td><td>i64</td><td>i64</td></tr></thead><tbody><tr><td>0</td><td>0</td><td>1</td><td>18</td><td>9</td><td>2</td><td>3</td><td>16</td><td>10</td><td>11</td><td>3</td><td>3</td><td>0</td><td>2</td><td>11</td><td>6</td><td>16</td><td>5</td><td>4</td><td>8</td><td>1</td><td>1</td><td>1</td><td>1</td><td>1</td><td>16</td><td>2</td><td>17</td><td>1</td><td>1</td><td>1</td><td>0</td><td>0</td><td>3</td><td>3</td><td>3</td><td>3</td><td>3</td><td>3</td><td>3</td><td>3</td><td>3</td><td>4</td><td>3</td><td>3</td><td>3</td><td>3</td><td>3</td><td>3</td><td>3</td><td>3</td><td>4</td><td>3</td><td>3</td><td>3</td><td>4</td><td>1</td><td>3</td><td>4</td><td>1</td><td>0</td><td>0</td></tr><tr><td>1</td><td>0</td><td>1</td><td>8</td><td>7</td><td>12</td><td>15</td><td>9</td><td>1</td><td>1</td><td>2</td><td>4</td><td>0</td><td>1</td><td>4</td><td>6</td><td>16</td><td>5</td><td>4</td><td>8</td><td>1</td><td>1</td><td>0</td><td>0</td><td>0</td><td>2</td><td>10</td><td>8</td><td>0</td><td>0</td><td>0</td><td>0</td><td>3</td><td>3</td><td>3</td><td>3</td><td>3</td><td>3</td><td>3</td><td>3</td><td>2</td><td>0</td><td>1</td><td>0</td><td>0</td><td>0</td><td>0</td><td>0</td><td>0</td><td>0</td><td>0</td><td>1</td><td>0</td><td>3</td><td>3</td><td>4</td><td>1</td><td>3</td><td>4</td><td>1</td><td>0</td><td>0</td></tr><tr><td>2</td><td>0</td><td>1</td><td>0</td><td>9</td><td>4</td><td>8</td><td>1</td><td>11</td><td>1</td><td>1</td><td>2</td><td>0</td><td>1</td><td>3</td><td>6</td><td>2</td><td>5</td><td>4</td><td>8</td><td>1</td><td>0</td><td>0</td><td>0</td><td>1</td><td>6</td><td>2</td><td>11</td><td>0</td><td>1</td><td>0</td><td>0</td><td>0</td><td>0</td><td>0</td><td>0</td><td>0</td><td>0</td><td>0</td><td>0</td><td>0</td><td>0</td><td>2</td><td>1</td><td>1</td><td>1</td><td>3</td><td>2</td><td>1</td><td>2</td><td>1</td><td>2</td><td>1</td><td>1</td><td>1</td><td>4</td><td>1</td><td>2</td><td>3</td><td>1</td><td>1</td><td>1</td></tr><tr><td>3</td><td>0</td><td>1</td><td>13</td><td>14</td><td>9</td><td>0</td><td>13</td><td>5</td><td>13</td><td>2</td><td>3</td><td>0</td><td>2</td><td>4</td><td>6</td><td>16</td><td>5</td><td>4</td><td>8</td><td>1</td><td>1</td><td>1</td><td>1</td><td>1</td><td>16</td><td>2</td><td>17</td><td>1</td><td>1</td><td>1</td><td>0</td><td>0</td><td>0</td><td>0</td><td>0</td><td>0</td><td>0</td><td>0</td><td>0</td><td>3</td><td>3</td><td>4</td><td>3</td><td>3</td><td>3</td><td>3</td><td>3</td><td>3</td><td>3</td><td>3</td><td>4</td><td>3</td><td>3</td><td>3</td><td>4</td><td>1</td><td>2</td><td>4</td><td>1</td><td>0</td><td>0</td></tr><tr><td>4</td><td>0</td><td>1</td><td>12</td><td>9</td><td>4</td><td>8</td><td>1</td><td>11</td><td>12</td><td>1</td><td>3</td><td>0</td><td>2</td><td>0</td><td>6</td><td>16</td><td>5</td><td>4</td><td>8</td><td>1</td><td>1</td><td>1</td><td>1</td><td>1</td><td>16</td><td>2</td><td>17</td><td>1</td><td>1</td><td>1</td><td>3</td><td>3</td><td>3</td><td>3</td><td>3</td><td>3</td><td>3</td><td>3</td><td>3</td><td>3</td><td>3</td><td>4</td><td>3</td><td>3</td><td>3</td><td>3</td><td>3</td><td>3</td><td>3</td><td>3</td><td>4</td><td>3</td><td>3</td><td>3</td><td>4</td><td>1</td><td>2</td><td>3</td><td>1</td><td>1</td><td>1</td></tr><tr><td>&hellip;</td><td>&hellip;</td><td>&hellip;</td><td>&hellip;</td><td>&hellip;</td><td>&hellip;</td><td>&hellip;</td><td>&hellip;</td><td>&hellip;</td><td>&hellip;</td><td>&hellip;</td><td>&hellip;</td><td>&hellip;</td><td>&hellip;</td><td>&hellip;</td><td>&hellip;</td><td>&hellip;</td><td>&hellip;</td><td>&hellip;</td><td>&hellip;</td><td>&hellip;</td><td>&hellip;</td><td>&hellip;</td><td>&hellip;</td><td>&hellip;</td><td>&hellip;</td><td>&hellip;</td><td>&hellip;</td><td>&hellip;</td><td>&hellip;</td><td>&hellip;</td><td>&hellip;</td><td>&hellip;</td><td>&hellip;</td><td>&hellip;</td><td>&hellip;</td><td>&hellip;</td><td>&hellip;</td><td>&hellip;</td><td>&hellip;</td><td>&hellip;</td><td>&hellip;</td><td>&hellip;</td><td>&hellip;</td><td>&hellip;</td><td>&hellip;</td><td>&hellip;</td><td>&hellip;</td><td>&hellip;</td><td>&hellip;</td><td>&hellip;</td><td>&hellip;</td><td>&hellip;</td><td>&hellip;</td><td>&hellip;</td><td>&hellip;</td><td>&hellip;</td><td>&hellip;</td><td>&hellip;</td><td>&hellip;</td><td>&hellip;</td><td>&hellip;</td></tr><tr><td>249995</td><td>0</td><td>1</td><td>0</td><td>4</td><td>3</td><td>5</td><td>13</td><td>3</td><td>5</td><td>2</td><td>3</td><td>0</td><td>2</td><td>4</td><td>6</td><td>16</td><td>5</td><td>4</td><td>8</td><td>1</td><td>1</td><td>1</td><td>1</td><td>1</td><td>16</td><td>2</td><td>17</td><td>1</td><td>1</td><td>1</td><td>0</td><td>0</td><td>0</td><td>3</td><td>3</td><td>3</td><td>3</td><td>3</td><td>3</td><td>3</td><td>3</td><td>4</td><td>3</td><td>3</td><td>3</td><td>3</td><td>3</td><td>3</td><td>3</td><td>3</td><td>4</td><td>3</td><td>3</td><td>3</td><td>4</td><td>1</td><td>3</td><td>4</td><td>1</td><td>0</td><td>0</td></tr><tr><td>249996</td><td>0</td><td>1</td><td>16</td><td>11</td><td>8</td><td>11</td><td>4</td><td>9</td><td>5</td><td>2</td><td>3</td><td>0</td><td>2</td><td>4</td><td>6</td><td>16</td><td>5</td><td>4</td><td>8</td><td>1</td><td>1</td><td>1</td><td>1</td><td>1</td><td>16</td><td>2</td><td>17</td><td>1</td><td>1</td><td>1</td><td>0</td><td>0</td><td>3</td><td>3</td><td>3</td><td>3</td><td>3</td><td>3</td><td>3</td><td>3</td><td>3</td><td>4</td><td>3</td><td>3</td><td>3</td><td>3</td><td>3</td><td>3</td><td>3</td><td>3</td><td>4</td><td>3</td><td>3</td><td>3</td><td>4</td><td>1</td><td>3</td><td>4</td><td>1</td><td>0</td><td>0</td></tr><tr><td>249997</td><td>0</td><td>1</td><td>8</td><td>4</td><td>17</td><td>16</td><td>9</td><td>1</td><td>1</td><td>2</td><td>3</td><td>0</td><td>2</td><td>2</td><td>6</td><td>16</td><td>5</td><td>4</td><td>8</td><td>1</td><td>0</td><td>1</td><td>1</td><td>1</td><td>16</td><td>2</td><td>17</td><td>1</td><td>1</td><td>1</td><td>1</td><td>0</td><td>0</td><td>3</td><td>3</td><td>3</td><td>3</td><td>3</td><td>3</td><td>3</td><td>3</td><td>4</td><td>3</td><td>3</td><td>3</td><td>3</td><td>3</td><td>3</td><td>3</td><td>3</td><td>4</td><td>3</td><td>3</td><td>3</td><td>4</td><td>1</td><td>4</td><td>2</td><td>2</td><td>0</td><td>0</td></tr><tr><td>249998</td><td>0</td><td>1</td><td>15</td><td>8</td><td>12</td><td>10</td><td>6</td><td>13</td><td>19</td><td>2</td><td>3</td><td>0</td><td>1</td><td>4</td><td>6</td><td>16</td><td>5</td><td>4</td><td>8</td><td>1</td><td>0</td><td>1</td><td>0</td><td>0</td><td>16</td><td>18</td><td>12</td><td>1</td><td>0</td><td>0</td><td>3</td><td>0</td><td>3</td><td>3</td><td>3</td><td>3</td><td>3</td><td>3</td><td>3</td><td>3</td><td>3</td><td>4</td><td>3</td><td>3</td><td>3</td><td>3</td><td>3</td><td>3</td><td>3</td><td>3</td><td>4</td><td>3</td><td>3</td><td>3</td><td>4</td><td>1</td><td>4</td><td>4</td><td>1</td><td>0</td><td>0</td></tr><tr><td>249999</td><td>0</td><td>1</td><td>9</td><td>0</td><td>10</td><td>8</td><td>10</td><td>11</td><td>16</td><td>2</td><td>3</td><td>0</td><td>2</td><td>7</td><td>6</td><td>16</td><td>5</td><td>4</td><td>8</td><td>1</td><td>1</td><td>1</td><td>1</td><td>1</td><td>16</td><td>2</td><td>17</td><td>1</td><td>1</td><td>1</td><td>0</td><td>0</td><td>0</td><td>0</td><td>0</td><td>0</td><td>0</td><td>0</td><td>3</td><td>3</td><td>3</td><td>4</td><td>3</td><td>3</td><td>3</td><td>3</td><td>3</td><td>3</td><td>3</td><td>3</td><td>4</td><td>3</td><td>3</td><td>3</td><td>4</td><td>1</td><td>2</td><td>3</td><td>1</td><td>0</td><td>1</td></tr></tbody></table></div>"
      ],
      "text/plain": [
       "shape: (250_000, 62)\n",
       "┌────────┬──────┬─────┬──────────────┬───┬──────────────┬──────────────┬─────────────┬─────────────┐\n",
       "│ id     ┆ flag ┆ rn  ┆ pre_since_op ┆ … ┆ enc_loans_cr ┆ enc_loans_ac ┆ pclose_flag ┆ fclose_flag │\n",
       "│ ---    ┆ ---  ┆ --- ┆ ened         ┆   ┆ edit_type    ┆ count_cur    ┆ ---         ┆ ---         │\n",
       "│ i64    ┆ i64  ┆ i64 ┆ ---          ┆   ┆ ---          ┆ ---          ┆ i64         ┆ i64         │\n",
       "│        ┆      ┆     ┆ i64          ┆   ┆ i64          ┆ i64          ┆             ┆             │\n",
       "╞════════╪══════╪═════╪══════════════╪═══╪══════════════╪══════════════╪═════════════╪═════════════╡\n",
       "│ 0      ┆ 0    ┆ 1   ┆ 18           ┆ … ┆ 4            ┆ 1            ┆ 0           ┆ 0           │\n",
       "│ 1      ┆ 0    ┆ 1   ┆ 8            ┆ … ┆ 4            ┆ 1            ┆ 0           ┆ 0           │\n",
       "│ 2      ┆ 0    ┆ 1   ┆ 0            ┆ … ┆ 3            ┆ 1            ┆ 1           ┆ 1           │\n",
       "│ 3      ┆ 0    ┆ 1   ┆ 13           ┆ … ┆ 4            ┆ 1            ┆ 0           ┆ 0           │\n",
       "│ 4      ┆ 0    ┆ 1   ┆ 12           ┆ … ┆ 3            ┆ 1            ┆ 1           ┆ 1           │\n",
       "│ …      ┆ …    ┆ …   ┆ …            ┆ … ┆ …            ┆ …            ┆ …           ┆ …           │\n",
       "│ 249995 ┆ 0    ┆ 1   ┆ 0            ┆ … ┆ 4            ┆ 1            ┆ 0           ┆ 0           │\n",
       "│ 249996 ┆ 0    ┆ 1   ┆ 16           ┆ … ┆ 4            ┆ 1            ┆ 0           ┆ 0           │\n",
       "│ 249997 ┆ 0    ┆ 1   ┆ 8            ┆ … ┆ 2            ┆ 2            ┆ 0           ┆ 0           │\n",
       "│ 249998 ┆ 0    ┆ 1   ┆ 15           ┆ … ┆ 4            ┆ 1            ┆ 0           ┆ 0           │\n",
       "│ 249999 ┆ 0    ┆ 1   ┆ 9            ┆ … ┆ 3            ┆ 1            ┆ 0           ┆ 1           │\n",
       "└────────┴──────┴─────┴──────────────┴───┴──────────────┴──────────────┴─────────────┴─────────────┘"
      ]
     },
     "execution_count": 24,
     "metadata": {},
     "output_type": "execute_result"
    }
   ],
   "source": [
    "joined_df.filter(pl.col(\"rn\") == 1)"
   ]
  }
 ],
 "metadata": {
  "kernelspec": {
   "display_name": ".venv",
   "language": "python",
   "name": "python3"
  },
  "language_info": {
   "codemirror_mode": {
    "name": "ipython",
    "version": 3
   },
   "file_extension": ".py",
   "mimetype": "text/x-python",
   "name": "python",
   "nbconvert_exporter": "python",
   "pygments_lexer": "ipython3",
   "version": "3.12.1"
  }
 },
 "nbformat": 4,
 "nbformat_minor": 2
}
